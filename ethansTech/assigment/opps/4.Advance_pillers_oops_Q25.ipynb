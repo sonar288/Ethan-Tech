{
 "cells": [
  {
   "cell_type": "markdown",
   "metadata": {},
   "source": [
    "# Practice Questions: Advanced OOP Pillars\n",
    "\n",
    "**Instructions:** Solve the following 25 questions. This set explores more advanced and practical applications of Encapsulation, Inheritance, Polymorphism, and Abstraction, including Pythonic features like properties and multiple inheritance."
   ]
  },
  {
   "cell_type": "markdown",
   "metadata": {},
   "source": [
    "### Part 1: Advanced Encapsulation with Properties\n",
    "*Focus: Using `@property` decorators for Pythonic getters and setters.*"
   ]
  },
  {
   "cell_type": "markdown",
   "metadata": {},
   "source": [
    "**Q1:** Define a class `Product` with a private attribute `__price`. Use the `@property` decorator to create a getter for `price` that allows you to access it like a public attribute (e.g., `product.price`)."
   ]
  },
  {
   "cell_type": "code",
   "execution_count": 1,
   "metadata": {},
   "outputs": [],
   "source": [
    "class Product():\n",
    "    def __init__(self,price):\n",
    "        self.__price = price\n",
    "\n",
    "    @property\n",
    "    def get_price(self):\n",
    "        return self.__price\n",
    "    "
   ]
  },
  {
   "cell_type": "markdown",
   "metadata": {},
   "source": [
    "**Q2:** Create a `Product` object with a price of 500 and print its price using the property you created."
   ]
  },
  {
   "cell_type": "code",
   "execution_count": 2,
   "metadata": {},
   "outputs": [
    {
     "name": "stdout",
     "output_type": "stream",
     "text": [
      "500\n"
     ]
    }
   ],
   "source": [
    "my_product = Product(price= 500)\n",
    "print(my_product.get_price)"
   ]
  },
  {
   "cell_type": "markdown",
   "metadata": {},
   "source": [
    "**Q3:** In the `Product` class, add a setter property for `price` (using `@price.setter`). The setter should only allow the price to be set if the new value is a positive number."
   ]
  },
  {
   "cell_type": "code",
   "execution_count": 3,
   "metadata": {},
   "outputs": [],
   "source": [
    "class Product():\n",
    "    def __init__(self,price):\n",
    "        self.__price = price\n",
    "\n",
    "    @property\n",
    "    def price(self):\n",
    "        return self.__price\n",
    "    \n",
    "\n",
    "    @price.setter\n",
    "    def price(self,new_price):\n",
    "        if(new_price > 0):\n",
    "            self.__price = new_price\n",
    "        else:\n",
    "            return print(\"give Valid price\")\n",
    "        return self.__price\n",
    "        \n"
   ]
  },
  {
   "cell_type": "markdown",
   "metadata": {},
   "source": [
    "**Q4:** Create a `Product` object. Try to set its price to -50, then to 1000 using the property (e.g., `product.price = 1000`). Print the final price."
   ]
  },
  {
   "cell_type": "code",
   "execution_count": 4,
   "metadata": {},
   "outputs": [
    {
     "name": "stdout",
     "output_type": "stream",
     "text": [
      "500\n",
      "50\n"
     ]
    }
   ],
   "source": [
    "my_product = Product(price= 500)\n",
    "print(my_product.price)\n",
    "\n",
    "my_product.price = 50\n",
    "print(my_product.price)"
   ]
  },
  {
   "cell_type": "markdown",
   "metadata": {},
   "source": [
    "**Q5:** Define a class `Circle` that takes a `radius` in its `__init__`. Create a **read-only** property called `area` that calculates and returns the area (`3.14 * radius * radius`). A read-only property has a getter but no setter."
   ]
  },
  {
   "cell_type": "code",
   "execution_count": 5,
   "metadata": {},
   "outputs": [
    {
     "data": {
      "text/plain": [
       "12.56"
      ]
     },
     "execution_count": 5,
     "metadata": {},
     "output_type": "execute_result"
    }
   ],
   "source": [
    "class Circle():\n",
    "    def __init__(self,radius):\n",
    "        self.__radius = radius\n",
    "    @property\n",
    "    def area(self):\n",
    "        return (3.14*self.__radius**2)\n",
    "    \n",
    "my_circle = Circle(radius=2)\n",
    "\n",
    "my_circle.area\n"
   ]
  },
  {
   "cell_type": "markdown",
   "metadata": {},
   "source": [
    "### Part 2: Advanced Inheritance\n",
    "*Focus: Multiple inheritance, Method Resolution Order (MRO), and Mixins.*"
   ]
  },
  {
   "cell_type": "markdown",
   "metadata": {},
   "source": [
    "**Q6:** Create a parent class `CanFly` with a method `fly()` that prints \"Flying high!\". Create another parent class `CanSwim` with a method `swim()` that prints \"Swimming deep!\""
   ]
  },
  {
   "cell_type": "code",
   "execution_count": 6,
   "metadata": {},
   "outputs": [],
   "source": [
    "class CanFly():\n",
    "\n",
    "    def fly(self):\n",
    "        print(\"Flying High\")\n",
    "\n",
    "class CanSwim():\n",
    "    def swim(self):\n",
    "        print(\"Swimming deep!\")\n"
   ]
  },
  {
   "cell_type": "markdown",
   "metadata": {},
   "source": [
    "**Q7:** Create a child class `Duck` that inherits from **both** `CanFly` and `CanSwim` (this is multiple inheritance)."
   ]
  },
  {
   "cell_type": "code",
   "execution_count": 7,
   "metadata": {},
   "outputs": [],
   "source": [
    "class Duck(CanFly,CanSwim):\n",
    "    pass"
   ]
  },
  {
   "cell_type": "markdown",
   "metadata": {},
   "source": [
    "**Q8:** Create a `Duck` object and call both its `fly()` and `swim()` methods."
   ]
  },
  {
   "cell_type": "code",
   "execution_count": 8,
   "metadata": {},
   "outputs": [
    {
     "name": "stdout",
     "output_type": "stream",
     "text": [
      "Flying High\n",
      "Swimming deep!\n"
     ]
    }
   ],
   "source": [
    "my_Duck = Duck()\n",
    "my_Duck.fly()\n",
    "my_Duck.swim()"
   ]
  },
  {
   "cell_type": "markdown",
   "metadata": {},
   "source": [
    "**Q9:** Create a **Mixin** class called `LoggerMixin` with a method `log(message)` that prints the message with a \"LOG:\" prefix."
   ]
  },
  {
   "cell_type": "code",
   "execution_count": 9,
   "metadata": {},
   "outputs": [],
   "source": [
    "class LoggerMixin:\n",
    "    def log(self,message):\n",
    "        print(f\"Log {message}\")"
   ]
  },
  {
   "cell_type": "markdown",
   "id": "d2411365",
   "metadata": {},
   "source": [
    "**Q10:** Create a class `DatabaseConnection` that inherits from `LoggerMixin`. Add a `connect()` method that calls `self.log(\"Connecting to database...\")`."
   ]
  },
  {
   "cell_type": "code",
   "execution_count": 10,
   "metadata": {},
   "outputs": [],
   "source": [
    "class DatabaseConnection(LoggerMixin):\n",
    "    def connect(self):\n",
    "        self.log(\"Connecting to database...\")"
   ]
  },
  {
   "cell_type": "code",
   "execution_count": 11,
   "id": "890a6121",
   "metadata": {},
   "outputs": [
    {
     "name": "stdout",
     "output_type": "stream",
     "text": [
      "Log Connecting to database...\n"
     ]
    }
   ],
   "source": [
    "my_data = DatabaseConnection() \n",
    "\n",
    "my_data.connect()\n"
   ]
  },
  {
   "cell_type": "markdown",
   "metadata": {},
   "source": [
    "### Part 3: Advanced Polymorphism\n",
    "*Focus: Duck typing and polymorphism with abstract classes.*"
   ]
  },
  {
   "cell_type": "markdown",
   "metadata": {},
   "source": [
    "**Q11:** Create a class `Document` with a method `render()` that returns \"Rendering a document.\""
   ]
  },
  {
   "cell_type": "code",
   "execution_count": 12,
   "metadata": {},
   "outputs": [],
   "source": [
    "class Document():\n",
    "    def render(self):\n",
    "        return (\"Rendering the documnet\")"
   ]
  },
  {
   "cell_type": "markdown",
   "metadata": {},
   "source": [
    "**Q12:** Create a class `WebPage` with a method `render()` that returns \"Rendering a web page.\""
   ]
  },
  {
   "cell_type": "code",
   "execution_count": 13,
   "metadata": {},
   "outputs": [],
   "source": [
    "class WebPage():\n",
    "    def render(self):\n",
    "        return (\"Rendering the webpage\")"
   ]
  },
  {
   "cell_type": "markdown",
   "metadata": {},
   "source": [
    "**Q13:** Create a function `render_item(item)` that takes an object and calls its `render()` method. This function doesn't care about the object's class, only that it has a `render` method (this is duck typing)."
   ]
  },
  {
   "cell_type": "code",
   "execution_count": 14,
   "metadata": {},
   "outputs": [],
   "source": [
    "def render_item(item):\n",
    "    print(item.render())"
   ]
  },
  {
   "cell_type": "markdown",
   "metadata": {},
   "source": [
    "**Q14:** Create a `Document` object and a `WebPage` object. Pass both to your `render_item()` function."
   ]
  },
  {
   "cell_type": "code",
   "execution_count": 15,
   "metadata": {},
   "outputs": [
    {
     "name": "stdout",
     "output_type": "stream",
     "text": [
      "Rendering the documnet\n",
      "Rendering the webpage\n"
     ]
    }
   ],
   "source": [
    "my_doc = Document()\n",
    "my_web = WebPage()\n",
    "render_item(my_doc)\n",
    "render_item(my_web)"
   ]
  },
  {
   "cell_type": "markdown",
   "metadata": {},
   "source": [
    "**Q15:** Create a class `Book` with a `__len__` method that returns 250. Create a class `Shelf` with a `__len__` method that returns 10. Write a function `print_length(obj)` that prints the length of any object passed to it."
   ]
  },
  {
   "cell_type": "code",
   "execution_count": 16,
   "metadata": {},
   "outputs": [
    {
     "data": {
      "text/plain": [
       "10"
      ]
     },
     "execution_count": 16,
     "metadata": {},
     "output_type": "execute_result"
    }
   ],
   "source": [
    "class Book():\n",
    "    def __len__(self):\n",
    "        return 250\n",
    "\n",
    "class Shelf():\n",
    "    def __len__(self):\n",
    "        return 10\n",
    "def print_length(obj):\n",
    "    return (len(obj))\n",
    "my_book = Book() \n",
    "my_shelf = Shelf()\n",
    "\n",
    "print_length(my_shelf)"
   ]
  },
  {
   "cell_type": "markdown",
   "metadata": {},
   "source": [
    "### Part 4: Advanced Abstraction\n",
    "*Focus: Combining abstract and concrete methods, and abstract properties.*"
   ]
  },
  {
   "cell_type": "markdown",
   "metadata": {},
   "source": [
    "**Q16:** Import `ABC` and `abstractmethod`. Create an abstract class `Employee`."
   ]
  },
  {
   "cell_type": "code",
   "execution_count": 17,
   "metadata": {},
   "outputs": [],
   "source": [
    "from abc import ABC, abstractmethod\n",
    "\n",
    "class Employee(ABC):\n",
    "    pass\n"
   ]
  },
  {
   "cell_type": "markdown",
   "metadata": {},
   "source": [
    "**Q17:** In the `Employee` class, add an abstract method `calculate_bonus()` and a **concrete** (normal) method `get_info()` that prints \"I am an employee.\""
   ]
  },
  {
   "cell_type": "code",
   "execution_count": 18,
   "metadata": {},
   "outputs": [],
   "source": [
    "class Employee(ABC):\n",
    "    @abstractmethod\n",
    "    def calculate_bonus():\n",
    "        pass\n",
    "    def get_info():\n",
    "        print(\"I am an employee\")"
   ]
  },
  {
   "cell_type": "markdown",
   "metadata": {},
   "source": [
    "**Q18:** Create a child class `Manager` that inherits from `Employee`. Implement the `calculate_bonus()` method to return a fixed value of 10000."
   ]
  },
  {
   "cell_type": "code",
   "execution_count": 19,
   "metadata": {},
   "outputs": [],
   "source": [
    "class Manager(Employee):\n",
    "    def calculate_bonus(self):\n",
    "        return 10000"
   ]
  },
  {
   "cell_type": "markdown",
   "metadata": {},
   "source": [
    "**Q19:** Create another child class `Developer` that inherits from `Employee`. Implement the `calculate_bonus()` method to return a fixed value of 5000."
   ]
  },
  {
   "cell_type": "code",
   "execution_count": 20,
   "metadata": {},
   "outputs": [],
   "source": [
    "class Developer(Employee):\n",
    "    def calculate_bonus(self):\n",
    "        return 5000"
   ]
  },
  {
   "cell_type": "markdown",
   "metadata": {},
   "source": [
    "**Q20:** Create an abstract class `Asset` with an **abstract property** called `value`. (Hint: use `@property` on top of `@abstractmethod`)."
   ]
  },
  {
   "cell_type": "code",
   "execution_count": 21,
   "metadata": {},
   "outputs": [],
   "source": [
    "class Asset(ABC):\n",
    "    @property\n",
    "    @abstractmethod\n",
    "    def value(self):\n",
    "        pass\n"
   ]
  },
  {
   "cell_type": "markdown",
   "metadata": {},
   "source": [
    "**Q21:** Create a child class `Stock` that inherits from `Asset`. In its `__init__`, take `ticker` and `price`. Implement the `value` property to return the `price`."
   ]
  },
  {
   "cell_type": "code",
   "execution_count": 22,
   "metadata": {},
   "outputs": [
    {
     "name": "stdout",
     "output_type": "stream",
     "text": [
      "100\n"
     ]
    }
   ],
   "source": [
    "class Stock(Asset):\n",
    "    def __init__(self,ticker,price):\n",
    "        self.ticker = ticker\n",
    "        self.price = price\n",
    "    @property\n",
    "    def value(self):\n",
    "        return self.price\n",
    "    @value.setter\n",
    "    def value(self,new_price):\n",
    "        self.price = new_price\n",
    "    @value.deleter\n",
    "    def value(self):\n",
    "        del value\n",
    "my_stock = Stock(ticker=5, price=50)\n",
    "\n",
    "my_stock.value = 100\n",
    "\n",
    "print(my_stock.value)\n",
    "\n",
    "\n"
   ]
  },
  {
   "cell_type": "markdown",
   "metadata": {},
   "source": [
    "### Part 5: Combined Concepts"
   ]
  },
  {
   "cell_type": "markdown",
   "metadata": {},
   "source": [
    "**Q22:** Create a parent class `File` with a private `__filename`. It should have a public getter property `filename`."
   ]
  },
  {
   "cell_type": "code",
   "execution_count": 23,
   "metadata": {},
   "outputs": [],
   "source": [
    "class File():\n",
    "    def __init__(self,filename):\n",
    "        self.__filename = filename\n",
    "    @property\n",
    "    def filename(self):\n",
    "        return self.__filename\n",
    "\n"
   ]
  },
  {
   "cell_type": "markdown",
   "metadata": {},
   "source": [
    "**Q23:** Create an abstract class `Parser` that inherits from `ABC` and has an abstract method `parse()`."
   ]
  },
  {
   "cell_type": "code",
   "execution_count": 24,
   "metadata": {},
   "outputs": [],
   "source": [
    "from abc import ABC, abstractmethod\n",
    "\n",
    "class Parser(ABC):\n",
    "    @abstractmethod\n",
    "    def parse():\n",
    "        pass"
   ]
  },
  {
   "cell_type": "markdown",
   "metadata": {},
   "source": [
    "**Q24:** Create a class `TextFile` that uses **multiple inheritance** from both `File` and `Parser`. Implement the `parse()` method to print \"Parsing text file: [filename]\"."
   ]
  },
  {
   "cell_type": "code",
   "execution_count": 25,
   "metadata": {},
   "outputs": [],
   "source": [
    "class TextFile(File,Parser):\n",
    "    def parse(self):\n",
    "        print(f\"Parsing text file: {self.filename}\")"
   ]
  },
  {
   "cell_type": "markdown",
   "metadata": {},
   "source": [
    "**Q25:** Create a `TextFile` object with a filename. Then create a function `process_file(file_to_process)` that takes any object that has a `parse()` method and calls it. Pass your `TextFile` object to this function."
   ]
  },
  {
   "cell_type": "code",
   "execution_count": 26,
   "metadata": {},
   "outputs": [
    {
     "name": "stdout",
     "output_type": "stream",
     "text": [
      "Parsing text file: file.txt\n"
     ]
    }
   ],
   "source": [
    "_my_text = TextFile(filename= \"file.txt\")\n",
    "\n",
    "\n",
    "def process_file(file_to_proccess):\n",
    "    file_to_proccess.parse()\n",
    "\n",
    "process_file(_my_text)"
   ]
  },
  {
   "cell_type": "code",
   "execution_count": null,
   "id": "9aca3151",
   "metadata": {},
   "outputs": [],
   "source": []
  }
 ],
 "metadata": {
  "kernelspec": {
   "display_name": "Python 3",
   "language": "python",
   "name": "python3"
  },
  "language_info": {
   "codemirror_mode": {
    "name": "ipython",
    "version": 3
   },
   "file_extension": ".py",
   "mimetype": "text/x-python",
   "name": "python",
   "nbconvert_exporter": "python",
   "pygments_lexer": "ipython3",
   "version": "3.13.5"
  }
 },
 "nbformat": 4,
 "nbformat_minor": 5
}
