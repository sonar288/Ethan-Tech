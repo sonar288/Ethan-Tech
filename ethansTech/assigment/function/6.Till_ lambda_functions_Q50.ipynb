{
 "cells": [
  {
   "cell_type": "markdown",
   "metadata": {},
   "source": [
    "# Practice Questions: Lambda Functions\n",
    "\n",
    "**Instructions:** Solve the following 50 questions. This set introduces lambda functions, starting with basic syntax and moving to practical uses with built-in functions like `sorted`, `map`, and `filter`."
   ]
  },
  {
   "cell_type": "markdown",
   "metadata": {},
   "source": [
    "### Part 1: Basic Lambda Syntax"
   ]
  },
  {
   "cell_type": "markdown",
   "metadata": {},
   "source": [
    "**Q1:** Create a lambda function that takes one argument `x` and returns `x + 1`. Assign it to a variable called `add_one` and test it."
   ]
  },
  {
   "cell_type": "code",
   "execution_count": 1,
   "metadata": {},
   "outputs": [
    {
     "name": "stdout",
     "output_type": "stream",
     "text": [
      "6\n"
     ]
    }
   ],
   "source": [
    "# Your code here\n",
    "add_one = lambda x: x+1\n",
    "\n",
    "print(add_one(5))\n"
   ]
  },
  {
   "cell_type": "markdown",
   "metadata": {},
   "source": [
    "**Q2:** Create a lambda function that takes one argument `x` and returns its square. Assign it to a variable `square`."
   ]
  },
  {
   "cell_type": "code",
   "execution_count": 3,
   "metadata": {},
   "outputs": [
    {
     "name": "stdout",
     "output_type": "stream",
     "text": [
      "4\n"
     ]
    }
   ],
   "source": [
    "square = lambda x: x**2\n",
    "\n",
    "print(square(2))"
   ]
  },
  {
   "cell_type": "markdown",
   "metadata": {},
   "source": [
    "**Q3:** Create a lambda function that takes two arguments, `a` and `b`, and returns their product. Assign it to `multiply`."
   ]
  },
  {
   "cell_type": "code",
   "execution_count": 4,
   "metadata": {},
   "outputs": [
    {
     "name": "stdout",
     "output_type": "stream",
     "text": [
      "6\n"
     ]
    }
   ],
   "source": [
    "multiply = lambda a,b: a*b\n",
    "\n",
    "print(multiply(2,3))"
   ]
  },
  {
   "cell_type": "markdown",
   "metadata": {},
   "source": [
    "**Q4:** Create a lambda function that takes a string `s` and returns it in uppercase. Assign it to `make_upper`."
   ]
  },
  {
   "cell_type": "code",
   "execution_count": 5,
   "metadata": {},
   "outputs": [
    {
     "data": {
      "text/plain": [
       "'RAHUL'"
      ]
     },
     "execution_count": 5,
     "metadata": {},
     "output_type": "execute_result"
    }
   ],
   "source": [
    "make_upper = lambda s: s.upper()\n",
    "\n",
    "make_upper(\"rahul\")"
   ]
  },
  {
   "cell_type": "markdown",
   "metadata": {},
   "source": [
    "**Q5:** Create a lambda function that takes a number `n` and returns `True` if it's even, `False` otherwise. Assign it to `is_even`."
   ]
  },
  {
   "cell_type": "code",
   "execution_count": 8,
   "metadata": {},
   "outputs": [
    {
     "data": {
      "text/plain": [
       "True"
      ]
     },
     "execution_count": 8,
     "metadata": {},
     "output_type": "execute_result"
    }
   ],
   "source": [
    "is_even = lambda n: n % 2 == 0\n",
    "\n",
    "is_even(4)"
   ]
  },
  {
   "cell_type": "markdown",
   "metadata": {},
   "source": [
    "**Q6:** Create a lambda function that takes three arguments `x`, `y`, and `z`, and returns their sum."
   ]
  },
  {
   "cell_type": "code",
   "execution_count": 9,
   "metadata": {},
   "outputs": [
    {
     "data": {
      "text/plain": [
       "90"
      ]
     },
     "execution_count": 9,
     "metadata": {},
     "output_type": "execute_result"
    }
   ],
   "source": [
    "three_sum = lambda x,y,z: x+y+z\n",
    "\n",
    "three_sum(20,30,40)"
   ]
  },
  {
   "cell_type": "markdown",
   "metadata": {},
   "source": [
    "**Q7:** Create a lambda function that takes a string and returns its first character."
   ]
  },
  {
   "cell_type": "code",
   "execution_count": 10,
   "metadata": {},
   "outputs": [
    {
     "data": {
      "text/plain": [
       "'R'"
      ]
     },
     "execution_count": 10,
     "metadata": {},
     "output_type": "execute_result"
    }
   ],
   "source": [
    "first_char = lambda s : s[0]\n",
    "\n",
    "first_char(\"Rahul\")"
   ]
  },
  {
   "cell_type": "markdown",
   "metadata": {},
   "source": [
    "**Q8:** Create a lambda function that takes a list and returns its length."
   ]
  },
  {
   "cell_type": "code",
   "execution_count": 12,
   "metadata": {},
   "outputs": [
    {
     "data": {
      "text/plain": [
       "5"
      ]
     },
     "execution_count": 12,
     "metadata": {},
     "output_type": "execute_result"
    }
   ],
   "source": [
    "length = lambda s : len(s)\n",
    "\n",
    "length(\"Rahul\")"
   ]
  },
  {
   "cell_type": "markdown",
   "metadata": {},
   "source": [
    "**Q9:** Create a lambda function that takes a number and returns `True` if it's positive, `False` otherwise."
   ]
  },
  {
   "cell_type": "code",
   "execution_count": 14,
   "metadata": {},
   "outputs": [
    {
     "data": {
      "text/plain": [
       "False"
      ]
     },
     "execution_count": 14,
     "metadata": {},
     "output_type": "execute_result"
    }
   ],
   "source": [
    "postive = lambda x : x > 0\n",
    "\n",
    "postive(-1)"
   ]
  },
  {
   "cell_type": "markdown",
   "metadata": {},
   "source": [
    "**Q10:** Create a lambda function that takes two numbers `a` and `b` and returns `True` if `a` is greater than `b`."
   ]
  },
  {
   "cell_type": "code",
   "execution_count": 16,
   "metadata": {},
   "outputs": [
    {
     "data": {
      "text/plain": [
       "True"
      ]
     },
     "execution_count": 16,
     "metadata": {},
     "output_type": "execute_result"
    }
   ],
   "source": [
    "greater = lambda a,b : a > b\n",
    "\n",
    "greater(100,20)"
   ]
  },
  {
   "cell_type": "markdown",
   "metadata": {},
   "source": [
    "### Part 2: Using `map()` with Lambda"
   ]
  },
  {
   "cell_type": "markdown",
   "metadata": {},
   "source": [
    "**Q11:** The list `numbers` is given. Use `map()` and a lambda function to create a new list where each number is doubled. Convert the map object to a list to see the result."
   ]
  },
  {
   "cell_type": "code",
   "execution_count": 19,
   "metadata": {},
   "outputs": [
    {
     "data": {
      "text/plain": [
       "[2, 4, 6, 8, 10]"
      ]
     },
     "execution_count": 19,
     "metadata": {},
     "output_type": "execute_result"
    }
   ],
   "source": [
    "numbers = [1, 2, 3, 4, 5]\n",
    "# Your code here\n",
    "list( map(lambda x: x*2,numbers) )"
   ]
  },
  {
   "cell_type": "markdown",
   "metadata": {},
   "source": [
    "**Q12:** The list `numbers` is given. Use `map()` and a lambda to create a new list containing the square of each number."
   ]
  },
  {
   "cell_type": "code",
   "execution_count": 20,
   "metadata": {},
   "outputs": [
    {
     "data": {
      "text/plain": [
       "[1, 4, 9, 16, 25]"
      ]
     },
     "execution_count": 20,
     "metadata": {},
     "output_type": "execute_result"
    }
   ],
   "source": [
    "numbers = [1, 2, 3, 4, 5]\n",
    "# Your code here\n",
    "list(map(lambda x : x**2,numbers))"
   ]
  },
  {
   "cell_type": "markdown",
   "metadata": {},
   "source": [
    "**Q13:** The list `words` is given. Use `map()` and a lambda to create a new list containing the length of each word."
   ]
  },
  {
   "cell_type": "code",
   "execution_count": 21,
   "metadata": {},
   "outputs": [
    {
     "data": {
      "text/plain": [
       "[5, 6, 6]"
      ]
     },
     "execution_count": 21,
     "metadata": {},
     "output_type": "execute_result"
    }
   ],
   "source": [
    "words = ['apple', 'banana', 'cherry']\n",
    "# Your code here\n",
    "\n",
    "list(map(lambda x : len(x),words))"
   ]
  },
  {
   "cell_type": "markdown",
   "metadata": {},
   "source": [
    "**Q14:** The list `names` is given. Use `map()` and a lambda to create a new list where each name is converted to uppercase."
   ]
  },
  {
   "cell_type": "code",
   "execution_count": 22,
   "metadata": {},
   "outputs": [
    {
     "data": {
      "text/plain": [
       "['RAJ', 'PRIYA', 'AMIT']"
      ]
     },
     "execution_count": 22,
     "metadata": {},
     "output_type": "execute_result"
    }
   ],
   "source": [
    "names = ['raj', 'priya', 'amit']\n",
    "# Your code here\n",
    "\n",
    "list(map(lambda x: x.upper(),names))"
   ]
  },
  {
   "cell_type": "markdown",
   "metadata": {},
   "source": [
    "**Q15:** The list `numbers` is given. Use `map()` and a lambda to create a new list where each number is converted to a string."
   ]
  },
  {
   "cell_type": "code",
   "execution_count": 23,
   "metadata": {},
   "outputs": [
    {
     "data": {
      "text/plain": [
       "['10', '20', '30']"
      ]
     },
     "execution_count": 23,
     "metadata": {},
     "output_type": "execute_result"
    }
   ],
   "source": [
    "numbers = [10, 20, 30]\n",
    "# Your code here\n",
    "list(map(lambda x : str(x),numbers))"
   ]
  },
  {
   "cell_type": "markdown",
   "metadata": {},
   "source": [
    "### Part 3: Using `filter()` with Lambda"
   ]
  },
  {
   "cell_type": "markdown",
   "metadata": {},
   "source": [
    "**Q16:** The list `numbers` is given. Use `filter()` and a lambda function to create a new list containing only the even numbers."
   ]
  },
  {
   "cell_type": "code",
   "execution_count": 24,
   "metadata": {},
   "outputs": [
    {
     "data": {
      "text/plain": [
       "[2, 4, 6, 8, 10]"
      ]
     },
     "execution_count": 24,
     "metadata": {},
     "output_type": "execute_result"
    }
   ],
   "source": [
    "numbers = [1, 2, 3, 4, 5, 6, 7, 8, 9, 10]\n",
    "# Your code here\n",
    "list(filter(lambda x : x%2 ==0, numbers))"
   ]
  },
  {
   "cell_type": "markdown",
   "metadata": {},
   "source": [
    "**Q17:** The list `numbers` is given. Use `filter()` and a lambda to create a new list containing only the numbers greater than 10."
   ]
  },
  {
   "cell_type": "code",
   "execution_count": 25,
   "metadata": {},
   "outputs": [
    {
     "data": {
      "text/plain": [
       "[12, 15, 20]"
      ]
     },
     "execution_count": 25,
     "metadata": {},
     "output_type": "execute_result"
    }
   ],
   "source": [
    "numbers = [5, 12, 8, 15, 3, 20]\n",
    "# Your code here\n",
    "list(filter(lambda x : x > 10, numbers ))"
   ]
  },
  {
   "cell_type": "markdown",
   "metadata": {},
   "source": [
    "**Q18:** The list `words` is given. Use `filter()` and a lambda to create a new list containing only the words that start with the letter 'a'."
   ]
  },
  {
   "cell_type": "code",
   "execution_count": 27,
   "metadata": {},
   "outputs": [
    {
     "data": {
      "text/plain": [
       "['apple', 'Apricot']"
      ]
     },
     "execution_count": 27,
     "metadata": {},
     "output_type": "execute_result"
    }
   ],
   "source": [
    "words = ['apple', 'banana', 'Apricot', 'cherry']\n",
    "# Your code here\n",
    "list(filter(lambda x: x[0].lower() == \"a\", words))"
   ]
  },
  {
   "cell_type": "markdown",
   "metadata": {},
   "source": [
    "**Q19:** The list `data` is given. Use `filter()` and a lambda to create a new list containing only the positive numbers."
   ]
  },
  {
   "cell_type": "code",
   "execution_count": 28,
   "metadata": {},
   "outputs": [
    {
     "data": {
      "text/plain": [
       "[10, 8, 3]"
      ]
     },
     "execution_count": 28,
     "metadata": {},
     "output_type": "execute_result"
    }
   ],
   "source": [
    "data = [10, -5, 8, 0, -12, 3]\n",
    "# Your code here\n",
    "list(filter(lambda x: x > 0, data))"
   ]
  },
  {
   "cell_type": "markdown",
   "metadata": {},
   "source": [
    "**Q20:** The list `words` is given. Use `filter()` and a lambda to create a list of words with a length of exactly 5."
   ]
  },
  {
   "cell_type": "code",
   "execution_count": 29,
   "metadata": {},
   "outputs": [
    {
     "data": {
      "text/plain": [
       "['apple', 'grape', 'lemon', 'mango']"
      ]
     },
     "execution_count": 29,
     "metadata": {},
     "output_type": "execute_result"
    }
   ],
   "source": [
    "words = ['apple', 'kiwi', 'grape', 'lemon', 'mango']\n",
    "# Your code here\n",
    "list(filter(lambda x: len(x) == 5, words))"
   ]
  },
  {
   "cell_type": "markdown",
   "metadata": {},
   "source": [
    "**Q21:** The list `data` is given. Use `filter()` and a lambda to remove all `None` values."
   ]
  },
  {
   "cell_type": "code",
   "execution_count": 30,
   "metadata": {},
   "outputs": [
    {
     "data": {
      "text/plain": [
       "[1, 2, 3, 4]"
      ]
     },
     "execution_count": 30,
     "metadata": {},
     "output_type": "execute_result"
    }
   ],
   "source": [
    "data = [1, None, 2, 3, None, 4]\n",
    "# Your code here\n",
    "\n",
    "list(filter(lambda x : x != None, data))"
   ]
  },
  {
   "cell_type": "markdown",
   "metadata": {},
   "source": [
    "**Q22:** Use `filter()` and a lambda to get all numbers from 1 to 20 that are divisible by 3."
   ]
  },
  {
   "cell_type": "code",
   "execution_count": 31,
   "metadata": {},
   "outputs": [
    {
     "data": {
      "text/plain": [
       "[3, 6, 9, 12, 15, 18]"
      ]
     },
     "execution_count": 31,
     "metadata": {},
     "output_type": "execute_result"
    }
   ],
   "source": [
    "numbers = range(1, 21)\n",
    "# Your code here\n",
    "list(filter(lambda x: x%3 == 0,numbers))"
   ]
  },
  {
   "cell_type": "markdown",
   "metadata": {},
   "source": [
    "**Q23:** The list `mixed` is given. Use `filter()` and a lambda to create a new list containing only the integers."
   ]
  },
  {
   "cell_type": "code",
   "execution_count": 32,
   "metadata": {},
   "outputs": [
    {
     "data": {
      "text/plain": [
       "[10, 30]"
      ]
     },
     "execution_count": 32,
     "metadata": {},
     "output_type": "execute_result"
    }
   ],
   "source": [
    "mixed = [10, 'hello', 20.5, 30, True]\n",
    "# Your code here\n",
    "list(filter(lambda x: type(x)==int,mixed))"
   ]
  },
  {
   "cell_type": "markdown",
   "metadata": {},
   "source": [
    "**Q24:** The list `names` is given. Use `filter()` and a lambda to get a list of names that contain the letter 'i'."
   ]
  },
  {
   "cell_type": "code",
   "execution_count": 33,
   "metadata": {},
   "outputs": [
    {
     "data": {
      "text/plain": [
       "['Amit', 'Ravi', 'Priya']"
      ]
     },
     "execution_count": 33,
     "metadata": {},
     "output_type": "execute_result"
    }
   ],
   "source": [
    "names = [\"Amit\", \"Ravi\", \"Asha\", \"Priya\"]\n",
    "# Your code here\n",
    "\n",
    "list(filter(lambda x: \"i\" in  x, names))"
   ]
  },
  {
   "cell_type": "markdown",
   "metadata": {},
   "source": [
    "**Q25:** Use `filter()` and a lambda to get all numbers from 1 to 30 that are divisible by both 2 and 3."
   ]
  },
  {
   "cell_type": "code",
   "execution_count": 34,
   "metadata": {},
   "outputs": [
    {
     "data": {
      "text/plain": [
       "[6, 12, 18, 24, 30]"
      ]
     },
     "execution_count": 34,
     "metadata": {},
     "output_type": "execute_result"
    }
   ],
   "source": [
    "numbers = range(1, 31)\n",
    "# Your code here\n",
    "list(filter(lambda x: x%2 ==0 and x%3 ==0,numbers))"
   ]
  },
  {
   "cell_type": "markdown",
   "metadata": {},
   "source": [
    "### Part 4: Using `sorted()` with Lambda"
   ]
  },
  {
   "cell_type": "markdown",
   "metadata": {},
   "source": [
    "**Q26:** The list `words` is given. Use `sorted()` and a lambda function to sort the list by the length of each word."
   ]
  },
  {
   "cell_type": "code",
   "execution_count": 35,
   "metadata": {},
   "outputs": [
    {
     "data": {
      "text/plain": [
       "['kiwi', 'apple', 'grape', 'banana']"
      ]
     },
     "execution_count": 35,
     "metadata": {},
     "output_type": "execute_result"
    }
   ],
   "source": [
    "words = ['apple', 'kiwi', 'banana', 'grape']\n",
    "# Your code here\n",
    "sorted(words,key=len)"
   ]
  },
  {
   "cell_type": "markdown",
   "metadata": {},
   "source": [
    "**Q27:** The list `words` is given. Use `sorted()` and a lambda to sort the list by the last character of each word."
   ]
  },
  {
   "cell_type": "code",
   "execution_count": 38,
   "metadata": {},
   "outputs": [
    {
     "data": {
      "text/plain": [
       "['banana', 'apple', 'grape', 'kiwi']"
      ]
     },
     "execution_count": 38,
     "metadata": {},
     "output_type": "execute_result"
    }
   ],
   "source": [
    "words = ['apple', 'kiwi', 'banana', 'grape']\n",
    "# Your code here\n",
    "sorted(words,key=lambda i : i[-1])"
   ]
  },
  {
   "cell_type": "markdown",
   "metadata": {},
   "source": [
    "**Q28:** The list of tuples `people` is given. Sort the list based on the age (the second element of the tuple)."
   ]
  },
  {
   "cell_type": "code",
   "execution_count": 39,
   "metadata": {},
   "outputs": [
    {
     "data": {
      "text/plain": [
       "[('Sonia', 22), ('Amit', 26), ('Raj', 30)]"
      ]
     },
     "execution_count": 39,
     "metadata": {},
     "output_type": "execute_result"
    }
   ],
   "source": [
    "people = [('Raj', 30), ('Sonia', 22), ('Amit', 26)]\n",
    "# Your code here\n",
    "sorted(people,key = lambda x: x[1])"
   ]
  },
  {
   "cell_type": "markdown",
   "metadata": {},
   "source": [
    "**Q29:** The list of tuples `people` is given. Sort the list based on the name (the first element of the tuple)."
   ]
  },
  {
   "cell_type": "code",
   "execution_count": 41,
   "metadata": {},
   "outputs": [
    {
     "data": {
      "text/plain": [
       "[('Amit', 26), ('Raj', 30), ('Sonia', 22)]"
      ]
     },
     "execution_count": 41,
     "metadata": {},
     "output_type": "execute_result"
    }
   ],
   "source": [
    "people = [('Raj', 30), ('Sonia', 22), ('Amit', 26)]\n",
    "# Your code here\n",
    "sorted(people,key= lambda x: x[0])"
   ]
  },
  {
   "cell_type": "markdown",
   "metadata": {},
   "source": [
    "**Q30:** The list of dictionaries `students` is given. Sort the list based on the `score` of each student."
   ]
  },
  {
   "cell_type": "code",
   "execution_count": 42,
   "metadata": {},
   "outputs": [
    {
     "data": {
      "text/plain": [
       "[{'name': 'Amit', 'score': 75},\n",
       " {'name': 'Raj', 'score': 82},\n",
       " {'name': 'Priya', 'score': 91}]"
      ]
     },
     "execution_count": 42,
     "metadata": {},
     "output_type": "execute_result"
    }
   ],
   "source": [
    "students = [{'name': 'Raj', 'score': 82}, {'name': 'Priya', 'score': 91}, {'name': 'Amit', 'score': 75}]\n",
    "# Your code here\n",
    "sorted(students,key= lambda x: x[\"score\"])"
   ]
  },
  {
   "cell_type": "markdown",
   "metadata": {},
   "source": [
    "**Q31:** The list of dictionaries `students` is given. Sort the list based on the length of each student's `name`."
   ]
  },
  {
   "cell_type": "code",
   "execution_count": 43,
   "metadata": {},
   "outputs": [
    {
     "data": {
      "text/plain": [
       "[{'name': 'Raj', 'score': 82},\n",
       " {'name': 'Priya', 'score': 91},\n",
       " {'name': 'Amitabh', 'score': 75}]"
      ]
     },
     "execution_count": 43,
     "metadata": {},
     "output_type": "execute_result"
    }
   ],
   "source": [
    "students = [{'name': 'Raj', 'score': 82}, {'name': 'Priya', 'score': 91}, {'name': 'Amitabh', 'score': 75}]\n",
    "# Your code here\n",
    "sorted(students, key= lambda x: len(x[\"name\"]))"
   ]
  },
  {
   "cell_type": "markdown",
   "metadata": {},
   "source": [
    "**Q32:** The list `numbers` is given. Sort it based on the remainder when each number is divided by 5."
   ]
  },
  {
   "cell_type": "code",
   "execution_count": null,
   "metadata": {},
   "outputs": [
    {
     "data": {
      "text/plain": [
       "[1, 6, 2, 7, 3, 8]"
      ]
     },
     "execution_count": 51,
     "metadata": {},
     "output_type": "execute_result"
    }
   ],
   "source": [
    "numbers = [1, 6, 2, 7, 3, 8]\n",
    "# Your code here\n",
    "sorted(numbers, key = lambda x: x % 5)"
   ]
  },
  {
   "cell_type": "markdown",
   "metadata": {},
   "source": [
    "**Q33:** The list of dictionaries `products` is given. Sort the list in descending order based on the `price`."
   ]
  },
  {
   "cell_type": "code",
   "execution_count": 54,
   "metadata": {},
   "outputs": [
    {
     "data": {
      "text/plain": [
       "[{'name': 'Book', 'price': 900},\n",
       " {'name': 'Mouse', 'price': 750},\n",
       " {'name': 'Mug', 'price': 400}]"
      ]
     },
     "execution_count": 54,
     "metadata": {},
     "output_type": "execute_result"
    }
   ],
   "source": [
    "products = [{'name': 'Mouse', 'price': 750}, {'name': 'Book', 'price': 900}, {'name': 'Mug', 'price': 400}]\n",
    "# Hint: use the reverse=True argument in sorted()\n",
    "sorted(products,key = lambda x: x[\"price\"],reverse=True)"
   ]
  },
  {
   "cell_type": "markdown",
   "metadata": {},
   "source": [
    "**Q34:** The list of tuples `points` is given. Sort the list based on the sum of the x and y coordinates."
   ]
  },
  {
   "cell_type": "code",
   "execution_count": 55,
   "metadata": {},
   "outputs": [
    {
     "data": {
      "text/plain": [
       "[(3, 2), (1, 5), (2, 4)]"
      ]
     },
     "execution_count": 55,
     "metadata": {},
     "output_type": "execute_result"
    }
   ],
   "source": [
    "points = [(1, 5), (3, 2), (2, 4)] # Sums are 6, 5, 6\n",
    "# Your code here\n",
    "sorted(points,key= lambda x: x[0]+x[1])\n"
   ]
  },
  {
   "cell_type": "markdown",
   "metadata": {},
   "source": [
    "**Q35:** The dictionary `data` is given. Sort its items based on the values (the numbers)."
   ]
  },
  {
   "cell_type": "code",
   "execution_count": 57,
   "metadata": {},
   "outputs": [
    {
     "data": {
      "text/plain": [
       "[('b', 1), ('c', 2), ('a', 3)]"
      ]
     },
     "execution_count": 57,
     "metadata": {},
     "output_type": "execute_result"
    }
   ],
   "source": [
    "data = {'a': 3, 'b': 1, 'c': 2}\n",
    "# Hint: use data.items()\n",
    "# Your code here\n",
    "sorted(data.items(), key= lambda x : x[1] )"
   ]
  },
  {
   "cell_type": "markdown",
   "metadata": {},
   "source": [
    "### Part 5: Medium Level Combination Problems"
   ]
  },
  {
   "cell_type": "markdown",
   "metadata": {},
   "source": [
    "**Q36:** The list `numbers` is given. First, use `filter()` to get only the even numbers, then use `map()` to square them."
   ]
  },
  {
   "cell_type": "code",
   "execution_count": 60,
   "metadata": {},
   "outputs": [
    {
     "data": {
      "text/plain": [
       "[4, 16, 36]"
      ]
     },
     "execution_count": 60,
     "metadata": {},
     "output_type": "execute_result"
    }
   ],
   "source": [
    "numbers = [1, 2, 3, 4, 5, 6]\n",
    "# Your code here\n",
    "even_num = list(filter(lambda x : x%2==0,numbers))\n",
    "\n",
    "list(map(lambda x: x**2, even_num))"
   ]
  },
  {
   "cell_type": "markdown",
   "metadata": {},
   "source": [
    "**Q37:** The list `names` is given. First, filter the list to get names longer than 3 characters, then convert them to uppercase."
   ]
  },
  {
   "cell_type": "code",
   "execution_count": 61,
   "metadata": {},
   "outputs": [
    {
     "data": {
      "text/plain": [
       "['PRIYA', 'AMIT']"
      ]
     },
     "execution_count": 61,
     "metadata": {},
     "output_type": "execute_result"
    }
   ],
   "source": [
    "names = ['Raj', 'Priya', 'Al', 'Amit']\n",
    "# Your code here\n",
    "list(map(lambda x:x.upper(),list(filter(lambda x: len(x) > 3,names))))"
   ]
  },
  {
   "cell_type": "markdown",
   "metadata": {},
   "source": [
    "**Q38:** The list of dictionaries `products` is given. Find the product with the highest price."
   ]
  },
  {
   "cell_type": "code",
   "execution_count": 62,
   "metadata": {},
   "outputs": [
    {
     "data": {
      "text/plain": [
       "{'name': 'Book', 'price': 900}"
      ]
     },
     "execution_count": 62,
     "metadata": {},
     "output_type": "execute_result"
    }
   ],
   "source": [
    "products = [{'name': 'Mouse', 'price': 750}, {'name': 'Book', 'price': 900}, {'name': 'Mug', 'price': 400}]\n",
    "# Hint: use the max() function with a lambda key\n",
    "\n",
    "max(products,key=lambda x: x[\"price\"])"
   ]
  },
  {
   "cell_type": "markdown",
   "metadata": {},
   "source": [
    "**Q39:** The list of dictionaries `products` is given. Find the product with the lowest price."
   ]
  },
  {
   "cell_type": "code",
   "execution_count": 63,
   "metadata": {},
   "outputs": [
    {
     "data": {
      "text/plain": [
       "{'name': 'Mug', 'price': 400}"
      ]
     },
     "execution_count": 63,
     "metadata": {},
     "output_type": "execute_result"
    }
   ],
   "source": [
    "products = [{'name': 'Mouse', 'price': 750}, {'name': 'Book', 'price': 900}, {'name': 'Mug', 'price': 400}]\n",
    "# Hint: use the min() function with a lambda key\n",
    "min(products,key=lambda x: x[\"price\"])"
   ]
  },
  {
   "cell_type": "markdown",
   "metadata": {},
   "source": [
    "**Q40:** A dictionary has functions stored as values. Call the 'add' function with arguments 10 and 5."
   ]
  },
  {
   "cell_type": "code",
   "execution_count": 64,
   "metadata": {},
   "outputs": [
    {
     "data": {
      "text/plain": [
       "15"
      ]
     },
     "execution_count": 64,
     "metadata": {},
     "output_type": "execute_result"
    }
   ],
   "source": [
    "operations = {\n",
    "    'add': lambda x, y: x + y,\n",
    "    'subtract': lambda x, y: x - y\n",
    "}\n",
    "# Your code here\n",
    "operations[\"add\"](10,5)"
   ]
  },
  {
   "cell_type": "markdown",
   "metadata": {},
   "source": [
    "**Q41:** The list `numbers` is given. Use `map()` and a lambda to create a list of strings saying \"Even\" or \"Odd\" for each number."
   ]
  },
  {
   "cell_type": "code",
   "execution_count": 65,
   "metadata": {},
   "outputs": [
    {
     "data": {
      "text/plain": [
       "['odd', 'even', 'odd', 'even', 'odd']"
      ]
     },
     "execution_count": 65,
     "metadata": {},
     "output_type": "execute_result"
    }
   ],
   "source": [
    "numbers = [1, 2, 3, 4, 5]\n",
    "# Your code here\n",
    "list(map(lambda x: \"even\" if x%2==0 else \"odd\",numbers))"
   ]
  },
  {
   "cell_type": "markdown",
   "metadata": {},
   "source": [
    "**Q42:** The list of dictionaries `users` is given. Use `filter()` and a lambda to get a list of users whose name starts with 'P'."
   ]
  },
  {
   "cell_type": "code",
   "execution_count": 67,
   "metadata": {},
   "outputs": [
    {
     "data": {
      "text/plain": [
       "[{'name': 'Priya'}, {'name': 'Pooja'}]"
      ]
     },
     "execution_count": 67,
     "metadata": {},
     "output_type": "execute_result"
    }
   ],
   "source": [
    "users = [{'name': 'Raj'}, {'name': 'Priya'}, {'name': 'Pooja'}]\n",
    "# Your code here\n",
    "list(filter(lambda x: x[\"name\"][0] == \"P\",users))"
   ]
  },
  {
   "cell_type": "markdown",
   "metadata": {},
   "source": [
    "**Q43:** The list of tuples `data` is given. Sort the list based on the second item of each tuple in descending order."
   ]
  },
  {
   "cell_type": "code",
   "execution_count": 68,
   "metadata": {},
   "outputs": [
    {
     "data": {
      "text/plain": [
       "[('B', 30), ('C', 20), ('A', 10)]"
      ]
     },
     "execution_count": 68,
     "metadata": {},
     "output_type": "execute_result"
    }
   ],
   "source": [
    "data = [('A', 10), ('B', 30), ('C', 20)]\n",
    "# Your code here\n",
    "sorted(data,key= lambda x : x[1],reverse=True)"
   ]
  },
  {
   "cell_type": "markdown",
   "metadata": {},
   "source": [
    "**Q44:** The list `numbers` is given. Use `map()` and a lambda to create a new list where each number is clamped between 0 and 100 (i.e., if a number is > 100, it becomes 100; if < 0, it becomes 0)."
   ]
  },
  {
   "cell_type": "code",
   "execution_count": 69,
   "metadata": {},
   "outputs": [
    {
     "data": {
      "text/plain": [
       "[0, 50, 100, 25]"
      ]
     },
     "execution_count": 69,
     "metadata": {},
     "output_type": "execute_result"
    }
   ],
   "source": [
    "numbers = [-10, 50, 110, 25]\n",
    "# Your code here (Hint: use if/else inside the lambda)\n",
    "list(map(lambda x : 100 if(x > 100) else (0 if(x < 0) else x), numbers))"
   ]
  },
  {
   "cell_type": "markdown",
   "metadata": {},
   "source": [
    "**Q45:** The list of dictionaries `students` is given. Find the student with the longest name."
   ]
  },
  {
   "cell_type": "code",
   "execution_count": 70,
   "metadata": {},
   "outputs": [
    {
     "data": {
      "text/plain": [
       "{'name': 'Priyanka'}"
      ]
     },
     "execution_count": 70,
     "metadata": {},
     "output_type": "execute_result"
    }
   ],
   "source": [
    "students = [{'name': 'Raj'}, {'name': 'Priyanka'}, {'name': 'Amit'}]\n",
    "# Hint: use max() with a lambda key\n",
    "max(students, key= lambda x:len(x[\"name\"]))"
   ]
  },
  {
   "cell_type": "markdown",
   "metadata": {},
   "source": [
    "**Q46:** Create a lambda function that takes a dictionary and returns the value of the 'id' key. Use this lambda to map the `data` list to a new list of IDs."
   ]
  },
  {
   "cell_type": "code",
   "execution_count": 73,
   "metadata": {},
   "outputs": [
    {
     "data": {
      "text/plain": [
       "[{1: 'A'}, {2: 'B'}]"
      ]
     },
     "execution_count": 73,
     "metadata": {},
     "output_type": "execute_result"
    }
   ],
   "source": [
    "data = [{'id': 1, 'val': 'A'}, {'id': 2, 'val': 'B'}]\n",
    "# Your code here\n",
    "list(map(lambda x: {x[\"id\"]:x[\"val\"] } , data))"
   ]
  },
  {
   "cell_type": "markdown",
   "metadata": {},
   "source": [
    "**Q47:** The list `data` is given. Use `filter()` and a lambda to get a list of all items that are not `None` and not an empty string."
   ]
  },
  {
   "cell_type": "code",
   "execution_count": 72,
   "metadata": {},
   "outputs": [
    {
     "data": {
      "text/plain": [
       "[1, '', 'hello', 2, '']"
      ]
     },
     "execution_count": 72,
     "metadata": {},
     "output_type": "execute_result"
    }
   ],
   "source": [
    "data = [1, '', 'hello', None, 2, '']\n",
    "# Your code here\n",
    "\n",
    "list(filter(lambda x : x != None, data))"
   ]
  },
  {
   "cell_type": "markdown",
   "metadata": {},
   "source": [
    "**Q48:** The list of dictionaries `events` is given. Sort the events based on their `timestamp`."
   ]
  },
  {
   "cell_type": "code",
   "execution_count": 74,
   "metadata": {},
   "outputs": [
    {
     "data": {
      "text/plain": [
       "[{'ts': 100, 'event': 'load'},\n",
       " {'ts': 101, 'event': 'hover'},\n",
       " {'ts': 102, 'event': 'click'}]"
      ]
     },
     "execution_count": 74,
     "metadata": {},
     "output_type": "execute_result"
    }
   ],
   "source": [
    "events = [{'ts': 102, 'event': 'click'}, {'ts': 100, 'event': 'load'}, {'ts': 101, 'event': 'hover'}]\n",
    "# Your code here\n",
    "\n",
    "sorted(events, key= lambda x: x[\"ts\"])"
   ]
  },
  {
   "cell_type": "markdown",
   "metadata": {},
   "source": [
    "**Q49:** The list `numbers` is given. Use `map()` to add 5 to each number, then use `filter()` to keep only the numbers that are now greater than 10."
   ]
  },
  {
   "cell_type": "code",
   "execution_count": 75,
   "metadata": {},
   "outputs": [
    {
     "data": {
      "text/plain": [
       "[11, 12]"
      ]
     },
     "execution_count": 75,
     "metadata": {},
     "output_type": "execute_result"
    }
   ],
   "source": [
    "numbers = [1, 2, 3, 4, 5, 6, 7]\n",
    "# Your code here\n",
    "list(filter(lambda x: x > 10, map(lambda x: x+5,numbers)))"
   ]
  },
  {
   "cell_type": "markdown",
   "metadata": {},
   "source": [
    "**Q50:** The list of dictionaries `users` is given. Find the user with the highest `age`."
   ]
  },
  {
   "cell_type": "code",
   "execution_count": 76,
   "metadata": {},
   "outputs": [
    {
     "data": {
      "text/plain": [
       "{'name': 'Priya', 'age': 32}"
      ]
     },
     "execution_count": 76,
     "metadata": {},
     "output_type": "execute_result"
    }
   ],
   "source": [
    "users = [{'name': 'Raj', 'age': 28}, {'name': 'Priya', 'age': 32}, {'name': 'Amit', 'age': 30}]\n",
    "# Hint: use max()\n",
    "max(users,key= lambda x:x[\"age\"])"
   ]
  },
  {
   "cell_type": "code",
   "execution_count": null,
   "id": "2db0d7a9",
   "metadata": {},
   "outputs": [],
   "source": []
  }
 ],
 "metadata": {
  "kernelspec": {
   "display_name": "Python 3",
   "language": "python",
   "name": "python3"
  },
  "language_info": {
   "codemirror_mode": {
    "name": "ipython",
    "version": 3
   },
   "file_extension": ".py",
   "mimetype": "text/x-python",
   "name": "python",
   "nbconvert_exporter": "python",
   "pygments_lexer": "ipython3",
   "version": "3.13.5"
  }
 },
 "nbformat": 4,
 "nbformat_minor": 5
}
