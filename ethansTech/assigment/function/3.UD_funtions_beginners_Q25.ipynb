{
 "cells": [
  {
   "cell_type": "markdown",
   "metadata": {},
   "source": [
    "# Practice Questions: Intermediate Functions (Part 2)\n",
    "\n",
    "**Instructions:** Solve the following 25 questions. This set requires you to write functions that handle more complex data and logic, combining data types, conditionals, and loops. Write your code in the empty cell below each question."
   ]
  },
  {
   "cell_type": "markdown",
   "metadata": {},
   "source": [
    "**Q51:** Define a function `get_active_users(users_list)` that takes a list of user dictionaries and **returns** a new list containing only the dictionaries of active users (`is_active` is `True`)."
   ]
  },
  {
   "cell_type": "code",
   "execution_count": null,
   "metadata": {},
   "outputs": [
    {
     "data": {
      "text/plain": [
       "[{'name': 'Raj', 'is_active': True}, {'name': 'Amit', 'is_active': True}]"
      ]
     },
     "execution_count": 2,
     "metadata": {},
     "output_type": "execute_result"
    }
   ],
   "source": [
    "users = [{'name': 'Raj', 'is_active': True}, {'name': 'Priya', 'is_active': False}, {'name': 'Amit', 'is_active': True}]\n",
    "# Your code here\n",
    "def get_active_users(users_list):\n",
    "    return [i for i in users if i[\"is_active\"]]\n",
    "get_active_users(users)\n"
   ]
  },
  {
   "cell_type": "markdown",
   "metadata": {},
   "source": [
    "**Q52:** Define a function `format_product_list(products_list)` that takes a list of product dictionaries and **returns** a list of formatted strings, e.g., `[\"Mouse (Price: ₹750)\", ...]`."
   ]
  },
  {
   "cell_type": "code",
   "execution_count": 5,
   "metadata": {},
   "outputs": [
    {
     "data": {
      "text/plain": [
       "['Mouse (Price: 750)', 'Book (Price: 900)']"
      ]
     },
     "execution_count": 5,
     "metadata": {},
     "output_type": "execute_result"
    }
   ],
   "source": [
    "products = [{'name': 'Mouse', 'price': 750}, {'name': 'Book', 'price': 900}]\n",
    "# Your code here\n",
    "def format_product_list(product_list):\n",
    "    return [f\"{i[\"name\"]} (Price: {i[\"price\"]})\" for i in product_list]\n",
    "format_product_list(products)\n"
   ]
  },
  {
   "cell_type": "markdown",
   "metadata": {},
   "source": [
    "**Q53:** Define a function `calculate_total_stock(inventory_list)` that takes a list of product dictionaries and **returns** the sum of all `stock_quantity` values."
   ]
  },
  {
   "cell_type": "code",
   "execution_count": 7,
   "metadata": {},
   "outputs": [
    {
     "data": {
      "text/plain": [
       "15"
      ]
     },
     "execution_count": 7,
     "metadata": {},
     "output_type": "execute_result"
    }
   ],
   "source": [
    "inventory = [{'name': 'Pen', 'stock_quantity': 10}, {'name': 'Book', 'stock_quantity': 5}]\n",
    "# Your code here\n",
    "def calculate_total_stock(inventory):\n",
    "    return sum(i[\"stock_quantity\"] for i in inventory )\n",
    "\n",
    "calculate_total_stock(inventory)"
   ]
  },
  {
   "cell_type": "markdown",
   "metadata": {},
   "source": [
    "**Q54:** Define a function `find_word_with_char(words_list, char)` that takes a list of words and a character, and **returns** the first word in the list that contains that character."
   ]
  },
  {
   "cell_type": "code",
   "execution_count": 14,
   "metadata": {},
   "outputs": [
    {
     "name": "stdout",
     "output_type": "stream",
     "text": [
      "banana\n"
     ]
    }
   ],
   "source": [
    "words = ['apple', 'banana', 'cherry', 'date']\n",
    "# Your code here\n",
    "def find_word_with_char(word,char):\n",
    "    for i in word:\n",
    "        if char in i:\n",
    "            return i\n",
    "    return False\n",
    "        \n",
    "print(find_word_with_char(words, 'n'))\n"
   ]
  },
  {
   "cell_type": "markdown",
   "metadata": {},
   "source": [
    "**Q55:** Define a function `summarize_grades(grades_dict)` that takes a dictionary of grades and **returns** a new dictionary with the count of passing grades (>= 70) and failing grades."
   ]
  },
  {
   "cell_type": "code",
   "execution_count": 19,
   "metadata": {},
   "outputs": [
    {
     "data": {
      "text/plain": [
       "{'passing': 2, 'fail': 2}"
      ]
     },
     "execution_count": 19,
     "metadata": {},
     "output_type": "execute_result"
    }
   ],
   "source": [
    "grades = {'Math': 85, 'Science': 65, 'History': 92, 'Art': 58}\n",
    "# Your code here\n",
    "def summarize_grades(grades_dict):\n",
    "    count = 0\n",
    "    for i in grades.values():\n",
    "        if(i >=70):\n",
    "            count +=1\n",
    "    return { \"passing\": count, \"fail\": len(grades)-count}\n",
    "         \n",
    "\n",
    "summarize_grades(grades)"
   ]
  },
  {
   "cell_type": "markdown",
   "metadata": {},
   "source": [
    "**Q56:** Define a function `get_initials(name_string)` that takes a full name (e.g., \"Yashwant Bhosle\") and **returns** the initials (e.g., \"YB\")."
   ]
  },
  {
   "cell_type": "code",
   "execution_count": 20,
   "metadata": {},
   "outputs": [
    {
     "data": {
      "text/plain": [
       "'YB'"
      ]
     },
     "execution_count": 20,
     "metadata": {},
     "output_type": "execute_result"
    }
   ],
   "source": [
    "full_name = \"Yashwant Bhosle\"\n",
    "# Your code here\n",
    "def get_intials(name):\n",
    "    intial = \"\"\n",
    "    for i in name.split():\n",
    "        intial += i[0]\n",
    "    return intial\n",
    "get_intials(full_name)                 "
   ]
  },
  {
   "cell_type": "markdown",
   "metadata": {},
   "source": [
    "**Q57:** Define a function `get_data_types(data_list)` that takes a list of mixed data and **returns** a list of strings representing the type of each element (e.g., `['int', 'str', ...]`)."
   ]
  },
  {
   "cell_type": "code",
   "execution_count": 24,
   "metadata": {},
   "outputs": [
    {
     "data": {
      "text/plain": [
       "[int, str, float, bool]"
      ]
     },
     "execution_count": 24,
     "metadata": {},
     "output_type": "execute_result"
    }
   ],
   "source": [
    "data = [10, 'hello', 3.14, True]\n",
    "# Your code here\n",
    "def get_data_types(data_list):\n",
    "    return [type(i) for i in data_list]\n",
    "get_data_types(data)"
   ]
  },
  {
   "cell_type": "markdown",
   "metadata": {},
   "source": [
    "**Q58:** Define a function `get_sale_price(product_dict)` that takes a product dictionary. If `is_on_sale` is `True`, it should **return** the price with a 10% discount. Otherwise, it should return the original price."
   ]
  },
  {
   "cell_type": "code",
   "execution_count": 28,
   "metadata": {},
   "outputs": [
    {
     "data": {
      "text/plain": [
       "900"
      ]
     },
     "execution_count": 28,
     "metadata": {},
     "output_type": "execute_result"
    }
   ],
   "source": [
    "product = {'name': 'Keyboard', 'price': 1000, 'is_on_sale': True}\n",
    "# Your code here\n",
    "def get_sale_price(product_dict):\n",
    "    # if product_dict[\"is_on_sale\"]:\n",
    "    #     return (product_dict[\"price\"] - product_dict[\"price\"]//10)\n",
    "    # else:\n",
    "    #     return product_dict[\"price\"]\n",
    "    return ((product_dict[\"price\"] - product_dict[\"price\"]//10) if product_dict[\"is_on_sale\"] else product_dict[\"price\"] )\n",
    "get_sale_price(product)"
   ]
  },
  {
   "cell_type": "markdown",
   "metadata": {},
   "source": [
    "**Q59:** Define a function `find_longest_word(words_list)` that takes a list of words and **returns** the longest word in the list."
   ]
  },
  {
   "cell_type": "code",
   "execution_count": 38,
   "metadata": {},
   "outputs": [
    {
     "data": {
      "text/plain": [
       "'longerssdsd'"
      ]
     },
     "execution_count": 38,
     "metadata": {},
     "output_type": "execute_result"
    }
   ],
   "source": [
    "words = ['short', 'longerssdsd', 'longest']\n",
    "# Your code here\n",
    "def find_longest_word(words_list):\n",
    "    maxismum = 0\n",
    "    name =None\n",
    "    for i in words_list:\n",
    "        if len(i) > maxismum:\n",
    "            maxismum = len(i)\n",
    "            name = i\n",
    "\n",
    "    return name\n",
    "find_longest_word(words)\n",
    "             \n"
   ]
  },
  {
   "cell_type": "markdown",
   "metadata": {},
   "source": [
    "**Q60:** Define a function `get_products_in_price_range(products_list, min_price, max_price)` that **returns** a list of product names within the given price range (inclusive)."
   ]
  },
  {
   "cell_type": "code",
   "execution_count": 39,
   "metadata": {},
   "outputs": [
    {
     "data": {
      "text/plain": [
       "['Mouse', 'Mug']"
      ]
     },
     "execution_count": 39,
     "metadata": {},
     "output_type": "execute_result"
    }
   ],
   "source": [
    "products = [\n",
    "    {'name': 'Mouse', 'price': 750},\n",
    "    {'name': 'Book', 'price': 900},\n",
    "    {'name': 'Mug', 'price': 400}\n",
    "]\n",
    "# Your code here\n",
    "def get_products_in_price_range(products_list, min_price, max_price):\n",
    "    return [i[\"name\"] for i in products_list if i[\"price\"]> min_price and i[\"price\"]< max_price]\n",
    "get_products_in_price_range(products,300,800)"
   ]
  },
  {
   "cell_type": "markdown",
   "metadata": {},
   "source": [
    "**Q61:** Define a function `contains_digit(text)` that takes a string and **returns** `True` if it contains at least one digit, and `False` otherwise."
   ]
  },
  {
   "cell_type": "code",
   "execution_count": 10,
   "metadata": {},
   "outputs": [
    {
     "data": {
      "text/plain": [
       "True"
      ]
     },
     "execution_count": 10,
     "metadata": {},
     "output_type": "execute_result"
    }
   ],
   "source": [
    "def contains_digit(text):\n",
    "    for i in str(text):\n",
    "        if i in \"1234567890\":\n",
    "            return True \n",
    "        \n",
    "    else:\n",
    "        False \n",
    "\n",
    "contains_digit(123456789)"
   ]
  },
  {
   "cell_type": "markdown",
   "metadata": {},
   "source": [
    "**Q62:** Define a function `get_highest_score(student_dict)` that takes a student's dictionary and **returns** their highest score from the `scores` list."
   ]
  },
  {
   "cell_type": "code",
   "execution_count": 12,
   "metadata": {},
   "outputs": [
    {
     "data": {
      "text/plain": [
       "95"
      ]
     },
     "execution_count": 12,
     "metadata": {},
     "output_type": "execute_result"
    }
   ],
   "source": [
    "student = {'name': 'Priya', 'scores': [88, 95, 91]}\n",
    "# Your code here\n",
    "def get_highest_score(student_dict):\n",
    "    return max(student_dict[\"scores\"])\n",
    "\n",
    "\n",
    "get_highest_score(student)\n"
   ]
  },
  {
   "cell_type": "markdown",
   "metadata": {},
   "source": [
    "**Q63:** Define a function `print_user_info(users_list)` that takes a list of dictionaries and prints a formatted string for each user, e.g., \"User Raj is from Mumbai.\""
   ]
  },
  {
   "cell_type": "code",
   "execution_count": 14,
   "metadata": {},
   "outputs": [
    {
     "name": "stdout",
     "output_type": "stream",
     "text": [
      "User Raj is from Mumbai.\n",
      "User Sonia is from Pune.\n"
     ]
    }
   ],
   "source": [
    "users = [{'name': 'Raj', 'city': 'Mumbai'}, {'name': 'Sonia', 'city': 'Pune'}]\n",
    "# Your code here\n",
    "def print_user_info(users_list):\n",
    "    for i in users_list:\n",
    "        print(f\"User {i[\"name\"]} is from {i[\"city\"]}.\")\n",
    "\n",
    "print_user_info(users)"
   ]
  },
  {
   "cell_type": "markdown",
   "metadata": {},
   "source": [
    "**Q64:** Define a function `remove_first_and_last(data_list)` that takes a list and **returns** a new list with the first and last elements removed."
   ]
  },
  {
   "cell_type": "code",
   "execution_count": 26,
   "metadata": {},
   "outputs": [
    {
     "data": {
      "text/plain": [
       "[1, 6]"
      ]
     },
     "execution_count": 26,
     "metadata": {},
     "output_type": "execute_result"
    }
   ],
   "source": [
    "data = [1,2,3,4,5,6]\n",
    "# Your code here\n",
    "def remove_first_and_last(data_list):\n",
    "    \n",
    "   return[data_list.pop(0), data_list.pop()]\n",
    "  \n",
    "    \n",
    "\n",
    "remove_first_and_last(data)"
   ]
  },
  {
   "cell_type": "markdown",
   "metadata": {},
   "source": [
    "**Q65:** Define a function `get_city_from_address(user_dict)` that takes a nested user dictionary and **returns** the city. If the 'address' or 'city' key is missing, it should return \"City not found.\""
   ]
  },
  {
   "cell_type": "code",
   "execution_count": 28,
   "metadata": {},
   "outputs": [
    {
     "data": {
      "text/plain": [
       "'City not found'"
      ]
     },
     "execution_count": 28,
     "metadata": {},
     "output_type": "execute_result"
    }
   ],
   "source": [
    "user1 = {\"name\": \"Anjali\", \"address\": {\"city\": \"Mumbai\"}}\n",
    "user2 = {\"name\": \"Amit\"}\n",
    "# Your code here\\\n",
    "def get_city_from_address(user_dict):\n",
    "    return(user_dict[\"address\"][\"city\"] if \"address\" in user_dict and \"city\" in user_dict[\"address\"] else \"City not found\" )\n",
    "\n",
    "get_city_from_address(user2)"
   ]
  },
  {
   "cell_type": "markdown",
   "metadata": {},
   "source": [
    "**Q66:** Define a function `count_words(sentence)` that takes a sentence and **returns** the number of words in it."
   ]
  },
  {
   "cell_type": "code",
   "execution_count": 30,
   "metadata": {},
   "outputs": [
    {
     "data": {
      "text/plain": [
       "5"
      ]
     },
     "execution_count": 30,
     "metadata": {},
     "output_type": "execute_result"
    }
   ],
   "source": [
    "sentence = \"python is a fun language\"\n",
    "# Your code here\n",
    "def count_words(sentence):\n",
    "    return len(sentence.split())\n",
    "\n",
    "count_words(sentence)"
   ]
  },
  {
   "cell_type": "markdown",
   "metadata": {},
   "source": [
    "**Q67:** Define a function `filter_by_key_presence(data_list, key_name)` that takes a list of dictionaries and a key, and **returns** a new list containing only the dictionaries that have that key."
   ]
  },
  {
   "cell_type": "code",
   "execution_count": 32,
   "metadata": {},
   "outputs": [
    {
     "data": {
      "text/plain": [
       "[{'id': 3, 'name': 'C'}]"
      ]
     },
     "execution_count": 32,
     "metadata": {},
     "output_type": "execute_result"
    }
   ],
   "source": [
    "data = [{'id': 1, 'name': 'A'}, {'id': 2}, {'id': 3, 'name': 'C'}]\n",
    "# Your code here\n",
    "def filter_by_key_presence(data_list, key_name):\n",
    "    return[i for i in data_list if i[\"id\"] == key_name]\n",
    "\n",
    "filter_by_key_presence(data, 3)"
   ]
  },
  {
   "cell_type": "markdown",
   "metadata": {},
   "source": [
    "**Q68:** Define a function `is_sorted(numbers_list)` that takes a list of numbers and **returns** `True` if the list is sorted in ascending order, and `False` otherwise."
   ]
  },
  {
   "cell_type": "code",
   "execution_count": 34,
   "metadata": {},
   "outputs": [
    {
     "data": {
      "text/plain": [
       "False"
      ]
     },
     "execution_count": 34,
     "metadata": {},
     "output_type": "execute_result"
    }
   ],
   "source": [
    "list1 = [1, 2, 3, 4]\n",
    "list2 = [1, 3, 2, 4]\n",
    "# Your code here\n",
    "def is_sorted(num_list):\n",
    "    for i in range(len(num_list)-1):\n",
    "        if(not num_list[i] < num_list[i+1]):\n",
    "            return False\n",
    "    return True\n",
    "is_sorted(list2)\n",
    "\n"
   ]
  },
  {
   "cell_type": "markdown",
   "metadata": {},
   "source": [
    "**Q69:** Define a function `get_second_elements(nested_list)` that takes a list of lists and **returns** a new list containing the second element of each inner list."
   ]
  },
  {
   "cell_type": "code",
   "execution_count": null,
   "metadata": {},
   "outputs": [
    {
     "data": {
      "text/plain": [
       "[2, 4, 6]"
      ]
     },
     "execution_count": 36,
     "metadata": {},
     "output_type": "execute_result"
    }
   ],
   "source": [
    "data = [[1, 2], [3, 4], [5, 6]]\n",
    "# Your code here\n",
    "def get_second_elements(nested_list):\n",
    "    \n",
    "        return [i[1] for i in data]\n",
    "\n",
    "get_second_elements(data)"
   ]
  },
  {
   "cell_type": "markdown",
   "metadata": {},
   "source": [
    "**Q70:** Define a function `swap_keys_and_values(data_dict)` that takes a dictionary and **returns** a new dictionary where the keys and values have been swapped."
   ]
  },
  {
   "cell_type": "code",
   "execution_count": 37,
   "metadata": {},
   "outputs": [
    {
     "data": {
      "text/plain": [
       "{1: 'a', 2: 'b'}"
      ]
     },
     "execution_count": 37,
     "metadata": {},
     "output_type": "execute_result"
    }
   ],
   "source": [
    "data = {'a': 1, 'b': 2}\n",
    "# Your code here\n",
    "def swap_keys_and_values(data_dict):\n",
    "    return {value :key  for key,value in data_dict.items()}\n",
    "\n",
    "swap_keys_and_values(data)"
   ]
  },
  {
   "cell_type": "markdown",
   "metadata": {},
   "source": [
    "**Q71:** Define a function `get_unique_sorted_list(data_list)` that takes a list with duplicates and **returns** a new list with unique elements, sorted in ascending order."
   ]
  },
  {
   "cell_type": "code",
   "execution_count": 39,
   "metadata": {},
   "outputs": [
    {
     "data": {
      "text/plain": [
       "[1, 2, 3, 4, 5]"
      ]
     },
     "execution_count": 39,
     "metadata": {},
     "output_type": "execute_result"
    }
   ],
   "source": [
    "data = [3, 1, 2, 2, 4, 3, 5]\n",
    "# Your code here\n",
    "def get_unique_sorted_list(data_list):\n",
    "    return list(set(data_list))\n",
    "\n",
    "get_unique_sorted_list(data)"
   ]
  },
  {
   "cell_type": "markdown",
   "metadata": {},
   "source": [
    "**Q72:** Define a function `get_value_from_path(data_dict, path_list)` that takes a nested dictionary and a list of keys (a path), and **returns** the value at that path. For `path=['a', 'b']`, it should return `data_dict['a']['b']`."
   ]
  },
  {
   "cell_type": "code",
   "execution_count": 45,
   "metadata": {},
   "outputs": [
    {
     "name": "stdout",
     "output_type": "stream",
     "text": [
      "100\n"
     ]
    }
   ],
   "source": [
    "data = {'a': {'b': {'c': 100}}}\n",
    "# Your code here\n",
    "def get_value_from_path(data,path):\n",
    "    current = data\n",
    "    for i in path:\n",
    "        current = current[i]\n",
    "    return current\n",
    "    \n",
    "\n",
    "print(get_value_from_path(data, ['a', 'b', 'c'])) # Should print 100"
   ]
  },
  {
   "cell_type": "markdown",
   "metadata": {},
   "source": [
    "**Q73:** Define a function `create_contact_list(users_list)` that takes a list of user dictionaries and **returns** a list of formatted strings: `[\"Raj (raj@a.com)\", ...]`."
   ]
  },
  {
   "cell_type": "code",
   "execution_count": 47,
   "metadata": {},
   "outputs": [
    {
     "data": {
      "text/plain": [
       "['Raj(raj@a.com)', 'Priya(priya@b.com)']"
      ]
     },
     "execution_count": 47,
     "metadata": {},
     "output_type": "execute_result"
    }
   ],
   "source": [
    "users = [{'name': 'Raj', 'email': 'raj@a.com'}, {'name': 'Priya', 'email': 'priya@b.com'}]\n",
    "# Your code here\n",
    "def create_contact_list(users_list):\n",
    "    return [f\"{i[\"name\"]}({i[\"email\"]})\" for i in users]\n",
    "\n",
    "create_contact_list(users)\n"
   ]
  },
  {
   "cell_type": "markdown",
   "metadata": {},
   "source": [
    "**Q74:** Define a function `find_first_admin(users_list)` that takes a list of user dictionaries and **returns** the dictionary of the first user who is an admin (`is_admin` is `True`)."
   ]
  },
  {
   "cell_type": "code",
   "execution_count": 50,
   "metadata": {},
   "outputs": [
    {
     "data": {
      "text/plain": [
       "{'name': 'Admin1', 'is_admin': True}"
      ]
     },
     "execution_count": 50,
     "metadata": {},
     "output_type": "execute_result"
    }
   ],
   "source": [
    "users = [\n",
    "    {'name': 'User1', 'is_admin': False},\n",
    "    {'name': 'Admin1', 'is_admin': True},\n",
    "    {'name': 'Admin2', 'is_admin': True}\n",
    "]\n",
    "# Your code here\n",
    "def find_first_admin(users_list):\n",
    "    return next((i for i in users if i[\"is_admin\"]),None)\n",
    "\n",
    "find_first_admin(users)"
   ]
  },
  {
   "cell_type": "markdown",
   "metadata": {},
   "source": [
    "**Q75:** Define a function `analyze_sentence(sentence)` that takes a sentence and **returns** a dictionary with the number of words and the total number of characters (excluding spaces)."
   ]
  },
  {
   "cell_type": "code",
   "execution_count": 52,
   "metadata": {},
   "outputs": [
    {
     "data": {
      "text/plain": [
       "{'total number of words': 3, 'total number of character': 11}"
      ]
     },
     "execution_count": 52,
     "metadata": {},
     "output_type": "execute_result"
    }
   ],
   "source": [
    "sentence = \"python is fun\"\n",
    "# Your code here\n",
    "def analyze_sentence(sentence):\n",
    "\n",
    "    return{\"total number of words\": len(sentence.split()), \"total number of character\": len(sentence)-(len(sentence.split())-1)}\n",
    "\n",
    "analyze_sentence(sentence)"
   ]
  },
  {
   "cell_type": "code",
   "execution_count": null,
   "id": "23b36eda",
   "metadata": {},
   "outputs": [],
   "source": []
  }
 ],
 "metadata": {
  "kernelspec": {
   "display_name": "Python 3",
   "language": "python",
   "name": "python3"
  },
  "language_info": {
   "codemirror_mode": {
    "name": "ipython",
    "version": 3
   },
   "file_extension": ".py",
   "mimetype": "text/x-python",
   "name": "python",
   "nbconvert_exporter": "python",
   "pygments_lexer": "ipython3",
   "version": "3.13.5"
  }
 },
 "nbformat": 4,
 "nbformat_minor": 5
}
