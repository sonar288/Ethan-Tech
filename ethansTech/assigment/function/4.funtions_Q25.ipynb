{
 "cells": [
  {
   "cell_type": "markdown",
   "metadata": {},
   "source": [
    "# Practice Questions: Intermediate Functions (Part 4)\n",
    "\n",
    "**Instructions:** Solve the following 25 questions. This set requires you to write functions that handle more complex data and logic, combining data types, conditionals, and loops. Write your code in the empty cell below each question."
   ]
  },
  {
   "cell_type": "markdown",
   "metadata": {},
   "source": [
    "**Q101:** Define a function `get_user_by_name(users_list, name)` that takes a list of user dictionaries and a name, and **returns** the dictionary of the user with that name. Return `None` if not found."
   ]
  },
  {
   "cell_type": "code",
   "execution_count": 2,
   "metadata": {},
   "outputs": [
    {
     "data": {
      "text/plain": [
       "{'id': 101, 'name': 'Raj'}"
      ]
     },
     "execution_count": 2,
     "metadata": {},
     "output_type": "execute_result"
    }
   ],
   "source": [
    "users = [{'id': 101, 'name': 'Raj'}, {'id': 102, 'name': 'Priya'}]\n",
    "# Your code here\n",
    "def get_user_by_name(users_list,name):\n",
    "    return next((i for i in users if i[\"name\"] == name),None)\n",
    "\n",
    "get_user_by_name(users,\"Raj\")"
   ]
  },
  {
   "cell_type": "markdown",
   "metadata": {},
   "source": [
    "**Q102:** Define a function `classify_words(words_list)` that takes a list of words. It should **return** a dictionary with two keys, 'short' (<= 5 chars) and 'long' (> 5 chars), with lists of the corresponding words."
   ]
  },
  {
   "cell_type": "code",
   "execution_count": 3,
   "metadata": {},
   "outputs": [
    {
     "data": {
      "text/plain": [
       "{'short': 2, 'long': 2}"
      ]
     },
     "execution_count": 3,
     "metadata": {},
     "output_type": "execute_result"
    }
   ],
   "source": [
    "words = ['apple', 'banana', 'kiwi', 'strawberry']\n",
    "# Your code here\n",
    "def classify_words(words_list):\n",
    "    count = 0\n",
    "    for i in words:\n",
    "        if len(i) <=5:\n",
    "            count+=1\n",
    "    \n",
    "    return{\"short\": count, \"long\": len(words_list) - count}\n",
    "\n",
    "\n",
    "classify_words(words)"
   ]
  },
  {
   "cell_type": "markdown",
   "metadata": {},
   "source": [
    "**Q103:** Define a function `get_all_scores(students_list)` that takes a list of student dictionaries and **returns** a single list containing all scores from all students."
   ]
  },
  {
   "cell_type": "code",
   "execution_count": 6,
   "metadata": {},
   "outputs": [
    {
     "data": {
      "text/plain": [
       "[85, 90, 88, 92]"
      ]
     },
     "execution_count": 6,
     "metadata": {},
     "output_type": "execute_result"
    }
   ],
   "source": [
    "students = [{'name': 'Amit', 'scores': [85, 90]}, {'name': 'Sonia', 'scores': [88, 92]}]\n",
    "# Your code here\n",
    "def get_all_scores(student):\n",
    "    return [score for i in student for score in i[\"scores\"]]\n",
    "\n",
    "get_all_scores(students)"
   ]
  },
  {
   "cell_type": "markdown",
   "metadata": {},
   "source": [
    "**Q104:** Define a function `find_last_long_word(words_list)` that takes a list of words and **returns** the last word that has more than 5 characters. If no such word is found, return `None`."
   ]
  },
  {
   "cell_type": "code",
   "execution_count": 9,
   "metadata": {},
   "outputs": [
    {
     "data": {
      "text/plain": [
       "'computer'"
      ]
     },
     "execution_count": 9,
     "metadata": {},
     "output_type": "execute_result"
    }
   ],
   "source": [
    "words = ['apple', 'banana', 'computer', 'kiwi']\n",
    "# Your code here\n",
    "def find_last_long_word(words_list):\n",
    "    for i in range(len(words_list)-1,0,-1):\n",
    "        if len(words_list[i]) > 5:\n",
    "            return words_list[i]\n",
    "find_last_long_word(words)\n",
    "        "
   ]
  },
  {
   "cell_type": "markdown",
   "metadata": {},
   "source": [
    "**Q105:** Define a function `create_inventory_report(inventory_list)` that takes a list of product dictionaries. It should **return** a dictionary with the count of items `in_stock` and `out_of_stock`."
   ]
  },
  {
   "cell_type": "code",
   "execution_count": 11,
   "metadata": {},
   "outputs": [
    {
     "data": {
      "text/plain": [
       "{'in_stock': 2, 'out_of_stock': 1}"
      ]
     },
     "execution_count": 11,
     "metadata": {},
     "output_type": "execute_result"
    }
   ],
   "source": [
    "inventory = [{'in_stock': True}, {'in_stock': False}, {'in_stock': True}]\n",
    "# Your code here\n",
    "\n",
    "def create_inventory_report(inventory_list):\n",
    "    count= 0 \n",
    "    return{\n",
    "        'in_stock': sum(item.get('in_stock', False) for item in inventory_list),\n",
    "        'out_of_stock': sum(not item.get('in_stock', False) for item in inventory_list)\n",
    "    }\n",
    "create_inventory_report(inventory)\n"
   ]
  },
  {
   "cell_type": "markdown",
   "metadata": {},
   "source": [
    "**Q106:** Define a function `format_name_list(names_list)` that takes a list of full names and **returns** a list of names formatted as \"Last, First\" (e.g., \"Bhosle, Yashwant\")."
   ]
  },
  {
   "cell_type": "code",
   "execution_count": 14,
   "metadata": {},
   "outputs": [
    {
     "data": {
      "text/plain": [
       "['Bhosle Yashwant', 'Sharma Priya']"
      ]
     },
     "execution_count": 14,
     "metadata": {},
     "output_type": "execute_result"
    }
   ],
   "source": [
    "names = [\"Yashwant Bhosle\", \"Priya Sharma\"]\n",
    "# Your code here\n",
    "def format_name_list(names):\n",
    "    return [f\"{i.split()[1]} {i.split()[0]}\" for i in names]\n",
    "format_name_list(names)\n",
    "        "
   ]
  },
  {
   "cell_type": "markdown",
   "metadata": {},
   "source": [
    "**Q107:** Define a function `get_string_elements(data_list)` that takes a list of mixed data and **returns** a new list containing only the elements that are strings."
   ]
  },
  {
   "cell_type": "code",
   "execution_count": 17,
   "metadata": {},
   "outputs": [
    {
     "data": {
      "text/plain": [
       "['hello', 'world']"
      ]
     },
     "execution_count": 17,
     "metadata": {},
     "output_type": "execute_result"
    }
   ],
   "source": [
    "data = [10, 'hello', 3.14, 'world', True]\n",
    "# Your code here\n",
    "def get_string_elements(data_list):\n",
    "    return [i  for i in data_list if type(i) == str]\n",
    "\n",
    "get_string_elements(data)"
   ]
  },
  {
   "cell_type": "markdown",
   "metadata": {},
   "source": [
    "**Q108:** Define a function `get_final_price(product_dict, discount_percent)` that takes a product and a discount percentage. It should **return** the price after applying the discount."
   ]
  },
  {
   "cell_type": "code",
   "execution_count": 27,
   "metadata": {},
   "outputs": [
    {
     "data": {
      "text/plain": [
       "{'name': 'Keyboard', 'price': 900.0}"
      ]
     },
     "execution_count": 27,
     "metadata": {},
     "output_type": "execute_result"
    }
   ],
   "source": [
    "product = {'name': 'Keyboard', 'price': 1000}\n",
    "# Your code here\n",
    "def get_final_price(product_dict, discount_percent):\n",
    "    product_dict[\"price\"] = product_dict[\"price\"] - (product_dict[\"price\"]*(discount_percent/100))\n",
    "\n",
    "    return product_dict\n",
    "\n",
    "get_final_price(product, 10)"
   ]
  },
  {
   "cell_type": "markdown",
   "metadata": {},
   "source": [
    "**Q109:** Define a function `find_shortest_word(words_list)` that takes a list of words and **returns** the shortest word in the list. Handle the case of an empty list by returning `None`."
   ]
  },
  {
   "cell_type": "code",
   "execution_count": 31,
   "metadata": {},
   "outputs": [
    {
     "data": {
      "text/plain": [
       "'long'"
      ]
     },
     "execution_count": 31,
     "metadata": {},
     "output_type": "execute_result"
    }
   ],
   "source": [
    "words = ['short', 'long', 'longest']\n",
    "# Your code here\n",
    "def find_shortest_word(words_list):\n",
    "    length = None\n",
    "    word = None\n",
    "    for i in words_list :\n",
    "        if length == None or len(i) < length:\n",
    "            length = len(i)\n",
    "            word = i\n",
    "    if(length != None):\n",
    "        return word\n",
    "    else:\n",
    "        return None\n",
    "    \n",
    "find_shortest_word(words)"
   ]
  },
  {
   "cell_type": "markdown",
   "metadata": {},
   "source": [
    "**Q110:** Define a function `get_products_by_category(products_list)` that **returns** a dictionary where keys are category names and values are lists of product names in that category."
   ]
  },
  {
   "cell_type": "code",
   "execution_count": 33,
   "metadata": {},
   "outputs": [
    {
     "data": {
      "text/plain": [
       "{'Mouse': 'Electronics', 'Book': 'Books', 'Keyboard': 'Electronics'}"
      ]
     },
     "execution_count": 33,
     "metadata": {},
     "output_type": "execute_result"
    }
   ],
   "source": [
    "products = [\n",
    "    {'name': 'Mouse', 'category': 'Electronics'},\n",
    "    {'name': 'Book', 'category': 'Books'},\n",
    "    {'name': 'Keyboard', 'category': 'Electronics'}\n",
    "]\n",
    "# Your code here\n",
    "def get_products_by_category(products_list):\n",
    "    return {  i[\"name\"]:i[\"category\"] for i in products_list}\n",
    "\n",
    "get_products_by_category(products)"
   ]
  },
  {
   "cell_type": "markdown",
   "metadata": {},
   "source": [
    "**Q111:** Define a function `has_uppercase_letter(text)` that takes a string and **returns** `True` if it contains at least one uppercase letter, and `False` otherwise."
   ]
  },
  {
   "cell_type": "code",
   "execution_count": 36,
   "metadata": {},
   "outputs": [
    {
     "data": {
      "text/plain": [
       "False"
      ]
     },
     "execution_count": 36,
     "metadata": {},
     "output_type": "execute_result"
    }
   ],
   "source": [
    "def has_uppercase_letter(text):\n",
    "    for i in text:\n",
    "        if i.isupper():\n",
    "            return True\n",
    "    else:\n",
    "        return False\n",
    "\n",
    "has_uppercase_letter(\"rahul\")"
   ]
  },
  {
   "cell_type": "markdown",
   "metadata": {},
   "source": [
    "**Q112:** Define a function `get_lowest_score(student_dict)` that takes a student's dictionary and **returns** their lowest score from the `scores` list."
   ]
  },
  {
   "cell_type": "code",
   "execution_count": 41,
   "metadata": {},
   "outputs": [
    {
     "data": {
      "text/plain": [
       "81"
      ]
     },
     "execution_count": 41,
     "metadata": {},
     "output_type": "execute_result"
    }
   ],
   "source": [
    "student = {'name': 'Priya', 'scores': [88, 95, 81]}\n",
    "# Your code here\n",
    "def get_lowest_score(student_dict):\n",
    "     return min(student_dict[\"scores\"])\n",
    "\n",
    "get_lowest_score(student)\n"
   ]
  },
  {
   "cell_type": "markdown",
   "metadata": {},
   "source": [
    "**Q113:** Define a function `print_inventory(inventory_dict)` that takes a dictionary of items and their quantities and prints each one on a new line, e.g., \"Apples: 10\"."
   ]
  },
  {
   "cell_type": "code",
   "execution_count": 48,
   "metadata": {},
   "outputs": [
    {
     "name": "stdout",
     "output_type": "stream",
     "text": [
      "('Apples', 10)\n",
      "('Bananas', 5)\n"
     ]
    }
   ],
   "source": [
    "inventory = {'Apples': 10, 'Bananas': 5}\n",
    "# Your code here\n",
    "def print_inventory(inventory_dict):\n",
    "   for i in inventory_dict.items():\n",
    "      print(i)\n",
    "print_inventory(inventory)"
   ]
  },
  {
   "cell_type": "markdown",
   "metadata": {},
   "source": [
    "**Q114:** Define a function `get_middle_element(data_list)` that takes a list and **returns** the middle element. If the list has an even number of elements, return the first of the two middle elements."
   ]
  },
  {
   "cell_type": "code",
   "execution_count": 53,
   "metadata": {},
   "outputs": [
    {
     "data": {
      "text/plain": [
       "(2, 3)"
      ]
     },
     "execution_count": 53,
     "metadata": {},
     "output_type": "execute_result"
    }
   ],
   "source": [
    "data1 = [1, 2, 3, 4, 5]\n",
    "data2 = [1, 2, 3, 4]\n",
    "# Your code here\n",
    "def get_middle_element(data_list):\n",
    "    length_data = len(data_list) //2\n",
    "    for i in data_list:\n",
    "        if len(data_list)%2 == 0:\n",
    "            return (data_list[length_data-1], data_list[length_data])\n",
    "        else:\n",
    "            return data_list[length_data]\n",
    "get_middle_element(data2)"
   ]
  },
  {
   "cell_type": "markdown",
   "metadata": {},
   "source": [
    "**Q115:** Define a function `get_country_from_address(user_dict)` that takes a nested user dictionary and **returns** the country. If any key is missing, return \"Country not found.\""
   ]
  },
  {
   "cell_type": "code",
   "execution_count": 59,
   "metadata": {},
   "outputs": [
    {
     "data": {
      "text/plain": [
       "'Country not found.'"
      ]
     },
     "execution_count": 59,
     "metadata": {},
     "output_type": "execute_result"
    }
   ],
   "source": [
    "user1 = {\"name\": \"Anjali\", \"address\": {\"city\": \"Mumbai\", \"country\": \"India\"}}\n",
    "user2 = {\"name\": \"Amit\"}\n",
    "# Your code here\n",
    "def get_country_from_address(user_dict):\n",
    "   return user_dict.get('address', {}).get('country', \"Country not found.\")\n",
    "get_country_from_address(user2)"
   ]
  },
  {
   "cell_type": "markdown",
   "metadata": {},
   "source": [
    "**Q116:** Define a function `count_character(text, char_to_count)` that takes a string and a character, and **returns** how many times that character appears (case-insensitive)."
   ]
  },
  {
   "cell_type": "code",
   "execution_count": 60,
   "metadata": {},
   "outputs": [
    {
     "name": "stdout",
     "output_type": "stream",
     "text": [
      "3\n"
     ]
    }
   ],
   "source": [
    "sentence = \"Hello World\"\n",
    "# Your code here\n",
    "def count_character(sentence, char):\n",
    "    count=0\n",
    "    for i in sentence:\n",
    "        if i == char:\n",
    "            count +=1\n",
    "    return count\n",
    "print(count_character(sentence, 'l')) # Should print 3"
   ]
  },
  {
   "cell_type": "markdown",
   "metadata": {},
   "source": [
    "**Q117:** Define a function `filter_by_value_type(data_dict, value_type)` that takes a dictionary and a type (e.g., `int`), and **returns** a new dictionary with only the key-value pairs where the value is of that type."
   ]
  },
  {
   "cell_type": "code",
   "execution_count": 62,
   "metadata": {},
   "outputs": [
    {
     "data": {
      "text/plain": [
       "{'b': 'hello', 'd': 'world'}"
      ]
     },
     "execution_count": 62,
     "metadata": {},
     "output_type": "execute_result"
    }
   ],
   "source": [
    "data = {'a': 1, 'b': 'hello', 'c': 2, 'd': 'world'}\n",
    "# Your code here\n",
    "def filter_by_value_type(data_dict, value_type):\n",
    "\n",
    "    return {key:value for key,value in data_dict.items() if type(value)== value_type}\n",
    "filter_by_value_type(data,str) \n"
   ]
  },
  {
   "cell_type": "markdown",
   "metadata": {},
   "source": [
    "**Q118:** Define a function `is_strictly_increasing(numbers_list)` that takes a list of numbers and **returns** `True` if each element is strictly greater than the one before it."
   ]
  },
  {
   "cell_type": "code",
   "execution_count": 65,
   "metadata": {},
   "outputs": [
    {
     "data": {
      "text/plain": [
       "False"
      ]
     },
     "execution_count": 65,
     "metadata": {},
     "output_type": "execute_result"
    }
   ],
   "source": [
    "list1 = [1, 2, 3, 4]\n",
    "list2 = [1, 2, 2, 4]\n",
    "# Your code here\n",
    "\n",
    "def is_strictly_increasing(numbers_list):\n",
    "    acs = True\n",
    "    for i in range(len(numbers_list)-1):\n",
    "        if not numbers_list[i] < numbers_list[i+1]:\n",
    "            return False\n",
    "    else:\n",
    "        return True\n",
    "is_strictly_increasing(list2)"
   ]
  },
  {
   "cell_type": "markdown",
   "metadata": {},
   "source": [
    "**Q119:** Define a function `get_last_elements(nested_list)` that takes a list of lists and **returns** a new list containing the last element of each inner list."
   ]
  },
  {
   "cell_type": "code",
   "execution_count": 66,
   "metadata": {},
   "outputs": [
    {
     "data": {
      "text/plain": [
       "[3, 5, 8]"
      ]
     },
     "execution_count": 66,
     "metadata": {},
     "output_type": "execute_result"
    }
   ],
   "source": [
    "data = [[1, 2, 3], [4, 5], [6, 7, 8]]\n",
    "# Your code here\n",
    "def get_last_elements(nested_list):\n",
    "    return [ i[-1] for i in nested_list]\n",
    "get_last_elements(data)"
   ]
  },
  {
   "cell_type": "markdown",
   "metadata": {},
   "source": [
    "**Q120:** Define a function `combine_lists_to_dict(keys_list, values_list)` that takes a list of keys and a list of values and **returns** a dictionary. If the lists are of different lengths, return an empty dictionary."
   ]
  },
  {
   "cell_type": "code",
   "execution_count": null,
   "metadata": {},
   "outputs": [
    {
     "data": {
      "text/plain": [
       "{'a': 1, 'b': 2, 'c': 3}"
      ]
     },
     "execution_count": 67,
     "metadata": {},
     "output_type": "execute_result"
    }
   ],
   "source": [
    "keys = ['a', 'b', 'c']\n",
    "values = [1, 2, 3]\n",
    "# Your code here\n",
    "def combine_lists_to_dict(keys_list, values_list):\n",
    "    if len(keys_list) == len(values_list):\n",
    "        return {keys_list[i]:values_list[i] for i in range(len(keys_list))}\n",
    "    else:\n",
    "        return \"Empty list\"\n",
    "\n",
    "combine_lists_to_dict(keys,values)"
   ]
  },
  {
   "cell_type": "markdown",
   "metadata": {},
   "source": [
    "**Q121:** Define a function `get_unique_characters(text)` that takes a string and **returns** a sorted list of its unique characters."
   ]
  },
  {
   "cell_type": "code",
   "execution_count": 68,
   "metadata": {},
   "outputs": [
    {
     "data": {
      "text/plain": [
       "{'e', 'h', 'l', 'o'}"
      ]
     },
     "execution_count": 68,
     "metadata": {},
     "output_type": "execute_result"
    }
   ],
   "source": [
    "text = \"hello\"\n",
    "# Your code here\n",
    "def get_unique_characters(text):\n",
    "    return set(text)\n",
    "get_unique_characters(text)"
   ]
  },
  {
   "cell_type": "markdown",
   "metadata": {},
   "source": [
    "**Q122:** Define a function `get_nested_value(data_dict, key1, key2)` that takes a nested dictionary and two keys, and **returns** the deeply nested value. For `data_dict={'a': {'b': 100}}`, `get_nested_value(data_dict, 'a', 'b')` should return 100."
   ]
  },
  {
   "cell_type": "code",
   "execution_count": 69,
   "metadata": {},
   "outputs": [
    {
     "data": {
      "text/plain": [
       "100"
      ]
     },
     "execution_count": 69,
     "metadata": {},
     "output_type": "execute_result"
    }
   ],
   "source": [
    "data = {'a': {'b': 100}}\n",
    "# Your code here\n",
    "def get_nested_value(data_dict, key1, key2):\n",
    "    return data_dict[key1][key2]\n",
    "get_nested_value(data,\"a\",\"b\")"
   ]
  },
  {
   "cell_type": "markdown",
   "metadata": {},
   "source": [
    "**Q123:** Define a function `create_id_map(users_list)` that takes a list of user dictionaries and **returns** a dictionary mapping each user's `id` to their `name`."
   ]
  },
  {
   "cell_type": "code",
   "execution_count": 71,
   "metadata": {},
   "outputs": [
    {
     "data": {
      "text/plain": [
       "{101: 'Raj', 102: 'Priya'}"
      ]
     },
     "execution_count": 71,
     "metadata": {},
     "output_type": "execute_result"
    }
   ],
   "source": [
    "users = [{'id': 101, 'name': 'Raj'}, {'id': 102, 'name': 'Priya'}]\n",
    "# Your code here\n",
    "def create_id_map(users):\n",
    "    return {i[\"id\"] : i[\"name\"] for i in users }\n",
    "\n",
    "create_id_map(users)"
   ]
  },
  {
   "cell_type": "markdown",
   "metadata": {},
   "source": [
    "**Q124:** Define a function `find_first_non_admin(users_list)` that takes a list of user dictionaries and **returns** the dictionary of the first user who is not an admin."
   ]
  },
  {
   "cell_type": "code",
   "execution_count": 72,
   "metadata": {},
   "outputs": [
    {
     "data": {
      "text/plain": [
       "{'name': 'User1', 'is_admin': False}"
      ]
     },
     "execution_count": 72,
     "metadata": {},
     "output_type": "execute_result"
    }
   ],
   "source": [
    "users = [\n",
    "    {'name': 'Admin1', 'is_admin': True},\n",
    "    {'name': 'User1', 'is_admin': False},\n",
    "    {'name': 'Admin2', 'is_admin': True}\n",
    "]\n",
    "# Your code here\n",
    "def find_first_non_admin(users_list):\n",
    "    return next((i for i in users if i[\"is_admin\"]== False))\n",
    "find_first_non_admin(users)"
   ]
  },
  {
   "cell_type": "markdown",
   "metadata": {},
   "source": [
    "**Q125:** Define a function `analyze_text(text)` that takes a string and **returns** a dictionary with the count of uppercase letters, lowercase letters, and digits."
   ]
  },
  {
   "cell_type": "code",
   "execution_count": 73,
   "metadata": {},
   "outputs": [
    {
     "data": {
      "text/plain": [
       "{'upperCase': 2, 'Lowercase': 8, 'Digit': 3}"
      ]
     },
     "execution_count": 73,
     "metadata": {},
     "output_type": "execute_result"
    }
   ],
   "source": [
    "text = \"Hello World 123\"\n",
    "# Your code here\n",
    "def analyze_text(text):\n",
    "    countU =0\n",
    "    countl =0\n",
    "    countd =0\n",
    "    for i in text:\n",
    "        if i.isupper():\n",
    "            countU +=1\n",
    "        elif i.islower():\n",
    "            countl +=1\n",
    "        elif i.isdigit():\n",
    "            countd +=1\n",
    "        else:\n",
    "            \"String is empty\"\n",
    "\n",
    "    return{\"upperCase\":countU,\"Lowercase\":countl,\"Digit\":countd}\n",
    "analyze_text(text) "
   ]
  },
  {
   "cell_type": "code",
   "execution_count": null,
   "id": "4d4edcb0",
   "metadata": {},
   "outputs": [],
   "source": []
  }
 ],
 "metadata": {
  "kernelspec": {
   "display_name": "Python 3",
   "language": "python",
   "name": "python3"
  },
  "language_info": {
   "codemirror_mode": {
    "name": "ipython",
    "version": 3
   },
   "file_extension": ".py",
   "mimetype": "text/x-python",
   "name": "python",
   "nbconvert_exporter": "python",
   "pygments_lexer": "ipython3",
   "version": "3.13.5"
  }
 },
 "nbformat": 4,
 "nbformat_minor": 5
}
