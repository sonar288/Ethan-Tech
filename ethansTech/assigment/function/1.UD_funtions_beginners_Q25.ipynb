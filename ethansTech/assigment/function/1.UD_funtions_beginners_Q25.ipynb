{
 "cells": [
  {
   "cell_type": "markdown",
   "metadata": {},
   "source": [
    "# Practice Questions: Introduction to Functions\n",
    "\n",
    "**Instructions:** Solve the following 25 questions. This set introduces how to define and use your own functions. The questions combine functions with data types, conditionals, and loops. Write your code in the empty cell below each question."
   ]
  },
  {
   "cell_type": "markdown",
   "metadata": {},
   "source": [
    "### Part 1: Basic Function Definition"
   ]
  },
  {
   "cell_type": "markdown",
   "metadata": {},
   "source": [
    "**Q1:** Define a function called `show_greeting` that prints the message \"Hello, welcome!\""
   ]
  },
  {
   "cell_type": "code",
   "execution_count": 1,
   "metadata": {},
   "outputs": [
    {
     "name": "stdout",
     "output_type": "stream",
     "text": [
      "Hello World\n"
     ]
    }
   ],
   "source": [
    "# Your code here\n",
    "\n",
    "# Call the function to test it\n",
    "# show_greeting()\n",
    "def show_greeting():\n",
    "    print(\"Hello World\")\n",
    "show_greeting()"
   ]
  },
  {
   "cell_type": "markdown",
   "metadata": {},
   "source": [
    "**Q2:** Define a function called `show_number` that prints the number 100."
   ]
  },
  {
   "cell_type": "code",
   "execution_count": 2,
   "metadata": {},
   "outputs": [
    {
     "name": "stdout",
     "output_type": "stream",
     "text": [
      "100\n"
     ]
    }
   ],
   "source": [
    "def show_number():\n",
    "    print(100)\n",
    "show_number()"
   ]
  },
  {
   "cell_type": "markdown",
   "metadata": {},
   "source": [
    "**Q3:** Define a function called `print_pi` that prints the value 3.14."
   ]
  },
  {
   "cell_type": "code",
   "execution_count": 3,
   "metadata": {},
   "outputs": [
    {
     "name": "stdout",
     "output_type": "stream",
     "text": [
      "3.14\n"
     ]
    }
   ],
   "source": [
    "def print_pi():\n",
    "    print(3.14)\n",
    "print_pi()\n"
   ]
  },
  {
   "cell_type": "markdown",
   "metadata": {},
   "source": [
    "### Part 2: Functions with Arguments"
   ]
  },
  {
   "cell_type": "markdown",
   "metadata": {},
   "source": [
    "**Q4:** Define a function `greet_user(name)` that takes a name as an argument and prints a personalized greeting, like \"Hello, Raj!\""
   ]
  },
  {
   "cell_type": "code",
   "execution_count": 6,
   "metadata": {},
   "outputs": [
    {
     "name": "stdout",
     "output_type": "stream",
     "text": [
      "Raj\n"
     ]
    }
   ],
   "source": [
    "# Your code here\n",
    "def greet_user(name):\n",
    "    print(name)\n",
    "# Call the function to test it\n",
    "greet_user(\"Raj\")"
   ]
  },
  {
   "cell_type": "markdown",
   "metadata": {},
   "source": [
    "**Q5:** Define a function `print_square(number)` that takes a number and prints its square."
   ]
  },
  {
   "cell_type": "code",
   "execution_count": 7,
   "metadata": {},
   "outputs": [
    {
     "name": "stdout",
     "output_type": "stream",
     "text": [
      "36\n"
     ]
    }
   ],
   "source": [
    "def print_square(number):\n",
    "    print(number**2)\n",
    "print_square(6)"
   ]
  },
  {
   "cell_type": "markdown",
   "metadata": {},
   "source": [
    "**Q6:** Define a function `show_first_item(data_list)` that takes a list and prints its first element."
   ]
  },
  {
   "cell_type": "code",
   "execution_count": 8,
   "metadata": {},
   "outputs": [
    {
     "name": "stdout",
     "output_type": "stream",
     "text": [
      "apple\n"
     ]
    }
   ],
   "source": [
    "fruits = [\"apple\", \"banana\", \"cherry\"]\n",
    "# Your code here\n",
    "def show_first_item(fruits):\n",
    "    print(fruits[0])\n",
    "show_first_item(fruits)"
   ]
  },
  {
   "cell_type": "markdown",
   "metadata": {},
   "source": [
    "**Q7:** Define a function `print_age(person_dict)` that takes a dictionary and prints the value of the 'age' key."
   ]
  },
  {
   "cell_type": "code",
   "execution_count": 12,
   "metadata": {},
   "outputs": [
    {
     "name": "stdout",
     "output_type": "stream",
     "text": [
      "22\n"
     ]
    }
   ],
   "source": [
    "person = {\"name\": \"Priya\", \"age\": 22}\n",
    "# Your code here\n",
    "def print_age(person):\n",
    "\n",
    "    print(person[\"age\"])\n",
    "\n",
    "print_age(person)"
   ]
  },
  {
   "cell_type": "markdown",
   "metadata": {},
   "source": [
    "### Part 3: Functions that Return Values"
   ]
  },
  {
   "cell_type": "markdown",
   "metadata": {},
   "source": [
    "**Q8:** Define a function `add_numbers(a, b)` that takes two numbers and **returns** their sum."
   ]
  },
  {
   "cell_type": "code",
   "execution_count": 13,
   "metadata": {},
   "outputs": [
    {
     "name": "stdout",
     "output_type": "stream",
     "text": [
      "15\n"
     ]
    }
   ],
   "source": [
    "# Your code here\n",
    "def add_numbers(a,b):\n",
    "    return a+b\n",
    "result = add_numbers(5, 10)\n",
    "print(result)"
   ]
  },
  {
   "cell_type": "markdown",
   "metadata": {},
   "source": [
    "**Q9:** Define a function `get_length(text)` that takes a string and **returns** its length."
   ]
  },
  {
   "cell_type": "code",
   "execution_count": 14,
   "metadata": {},
   "outputs": [
    {
     "name": "stdout",
     "output_type": "stream",
     "text": [
      "2\n"
     ]
    }
   ],
   "source": [
    "def get_length(text):\n",
    "    return len(text)\n",
    "\n",
    "print (get_length(\"he\"))"
   ]
  },
  {
   "cell_type": "markdown",
   "metadata": {},
   "source": [
    "**Q10:** Define a function `get_last_item(data_list)` that takes a list and **returns** its last element."
   ]
  },
  {
   "cell_type": "code",
   "execution_count": 15,
   "metadata": {},
   "outputs": [
    {
     "name": "stdout",
     "output_type": "stream",
     "text": [
      "30\n"
     ]
    }
   ],
   "source": [
    "numbers = [10, 20, 30]\n",
    "# Your code here\n",
    "def get_last_item(data_list):\n",
    "    return data_list[-1]\n",
    "print(get_last_item(numbers))"
   ]
  },
  {
   "cell_type": "markdown",
   "metadata": {},
   "source": [
    "### Part 4: Combining Functions with Conditionals"
   ]
  },
  {
   "cell_type": "markdown",
   "metadata": {},
   "source": [
    "**Q11:** Define a function `is_even(number)` that takes a number and **returns** `True` if it's even, and `False` otherwise."
   ]
  },
  {
   "cell_type": "code",
   "execution_count": 16,
   "metadata": {},
   "outputs": [
    {
     "name": "stdout",
     "output_type": "stream",
     "text": [
      "True\n"
     ]
    }
   ],
   "source": [
    "def is_even(num):\n",
    "    if num %2 == 0:\n",
    "        return True\n",
    "    else:\n",
    "        return False\n",
    "print(is_even(4))"
   ]
  },
  {
   "cell_type": "markdown",
   "metadata": {},
   "source": [
    "**Q12:** Define a function `check_age(age)` that takes an age and prints \"Adult\" if the age is 18 or greater, and \"Minor\" otherwise."
   ]
  },
  {
   "cell_type": "code",
   "execution_count": 18,
   "metadata": {},
   "outputs": [
    {
     "data": {
      "text/plain": [
       "'Minor'"
      ]
     },
     "execution_count": 18,
     "metadata": {},
     "output_type": "execute_result"
    }
   ],
   "source": [
    "def check_age(age):\n",
    "    if age >= 18 :\n",
    "        return \"Adult\"\n",
    "    else:\n",
    "        return \"Minor\" \n",
    "check_age(15)"
   ]
  },
  {
   "cell_type": "markdown",
   "metadata": {},
   "source": [
    "**Q13:** Define a function `find_longer_word(word1, word2)` that takes two words and **returns** the one that is longer."
   ]
  },
  {
   "cell_type": "code",
   "execution_count": 22,
   "metadata": {},
   "outputs": [
    {
     "data": {
      "text/plain": [
       "' wellcome to python codeing'"
      ]
     },
     "execution_count": 22,
     "metadata": {},
     "output_type": "execute_result"
    }
   ],
   "source": [
    "def find_longer_word(word1, word2):\n",
    "    return word1 if len(word1) > len(word2) else word2\n",
    "find_longer_word(\"hello world\", \" wellcome to python codeing\")"
   ]
  },
  {
   "cell_type": "markdown",
   "metadata": {},
   "source": [
    "**Q14:** Define a function `check_status(user_dict)` that takes a user dictionary and **returns** \"Active\" if `is_active` is `True`, and \"Inactive\" otherwise."
   ]
  },
  {
   "cell_type": "code",
   "execution_count": 23,
   "metadata": {},
   "outputs": [
    {
     "data": {
      "text/plain": [
       "'Active'"
      ]
     },
     "execution_count": 23,
     "metadata": {},
     "output_type": "execute_result"
    }
   ],
   "source": [
    "user = {'name': 'Raj', 'is_active': True}\n",
    "# Your code here\n",
    "def check_status(user_dict):\n",
    "    return \"Active\" if user_dict[\"is_active\"] else \"Inactive\"\n",
    "check_status(user)"
   ]
  },
  {
   "cell_type": "markdown",
   "metadata": {},
   "source": [
    "**Q15:** Define a function `is_positive(number)` that takes a number and **returns** `True` if it's positive, and `False` otherwise."
   ]
  },
  {
   "cell_type": "code",
   "execution_count": 25,
   "metadata": {},
   "outputs": [
    {
     "data": {
      "text/plain": [
       "False"
      ]
     },
     "execution_count": 25,
     "metadata": {},
     "output_type": "execute_result"
    }
   ],
   "source": [
    "def is_positive(num):\n",
    "    return True if num >0 else False\n",
    "is_positive(-9)"
   ]
  },
  {
   "cell_type": "markdown",
   "metadata": {},
   "source": [
    "### Part 5: Combining Functions with Loops"
   ]
  },
  {
   "cell_type": "markdown",
   "metadata": {},
   "source": [
    "**Q16:** Define a function `print_all_items(data_list)` that takes a list and uses a `for` loop to print each item."
   ]
  },
  {
   "cell_type": "code",
   "execution_count": 26,
   "metadata": {},
   "outputs": [
    {
     "name": "stdout",
     "output_type": "stream",
     "text": [
      "apple\n",
      "banana\n",
      "cherry\n"
     ]
    }
   ],
   "source": [
    "fruits = [\"apple\", \"banana\", \"cherry\"]\n",
    "# Your code here\n",
    "def print_items(fruits):\n",
    "    for i in  fruits:\n",
    "        print(i)\n",
    "print_items(fruits)"
   ]
  },
  {
   "cell_type": "markdown",
   "metadata": {},
   "source": [
    "**Q17:** Define a function `sum_list(numbers)` that takes a list of numbers, calculates their sum using a `for` loop, and **returns** the total."
   ]
  },
  {
   "cell_type": "code",
   "execution_count": 27,
   "metadata": {},
   "outputs": [
    {
     "data": {
      "text/plain": [
       "60"
      ]
     },
     "execution_count": 27,
     "metadata": {},
     "output_type": "execute_result"
    }
   ],
   "source": [
    "data = [10, 20, 30]\n",
    "# Your code here\n",
    "def sum_list(data):\n",
    "    sums= 0\n",
    "    for i in data:\n",
    "        sums +=i\n",
    "    return sums\n",
    "sum(data)"
   ]
  },
  {
   "cell_type": "markdown",
   "metadata": {},
   "source": [
    "**Q18:** Define a function `print_keys(data_dict)` that takes a dictionary and uses a `for` loop to print all its keys."
   ]
  },
  {
   "cell_type": "code",
   "execution_count": 29,
   "metadata": {},
   "outputs": [
    {
     "name": "stdout",
     "output_type": "stream",
     "text": [
      "name\n",
      "city\n"
     ]
    }
   ],
   "source": [
    "person = {\"name\": \"Sonia\", \"city\": \"Delhi\"}\n",
    "# Your code here\n",
    "def print_keys(person):\n",
    "    for i in person.keys():\n",
    "        print(i)\n",
    "\n",
    "print_keys(person)\n"
   ]
  },
  {
   "cell_type": "markdown",
   "metadata": {},
   "source": [
    "**Q19:** Define a function `count_down(start_number)` that uses a `while` loop to print numbers from `start_number` down to 1."
   ]
  },
  {
   "cell_type": "code",
   "execution_count": 33,
   "metadata": {},
   "outputs": [
    {
     "name": "stdout",
     "output_type": "stream",
     "text": [
      "10 9 8 7 6 5 4 3 2 1 "
     ]
    }
   ],
   "source": [
    "def count_down(start_num):\n",
    "    while start_num >=1:\n",
    "        print(start_num, end=\" \")\n",
    "        start_num -=1\n",
    "count_down(10)"
   ]
  },
  {
   "cell_type": "markdown",
   "metadata": {},
   "source": [
    "**Q20:** Define a function `print_squares(n)` that uses a `for` loop with `range()` to print the squares of numbers from 1 up to `n`."
   ]
  },
  {
   "cell_type": "code",
   "execution_count": 46,
   "metadata": {},
   "outputs": [
    {
     "name": "stdout",
     "output_type": "stream",
     "text": [
      "[1, 4, 9, 16, 25, 36, 49, 64, 81]\n"
     ]
    }
   ],
   "source": [
    "def squares(n):\n",
    "    # for i in range(1,n+1):\n",
    "    #     print(i**2, end=\" \")\n",
    "    print([ i**2 for i in range(1,n) ])\n",
    "squares(10)"
   ]
  },
  {
   "cell_type": "markdown",
   "metadata": {},
   "source": [
    "### Part 6: Full Combination"
   ]
  },
  {
   "cell_type": "markdown",
   "metadata": {},
   "source": [
    "**Q21:** Define a function `count_evens(numbers_list)` that takes a list of numbers, loops through it, and **returns** the count of even numbers."
   ]
  },
  {
   "cell_type": "code",
   "execution_count": null,
   "metadata": {},
   "outputs": [
    {
     "data": {
      "text/plain": [
       "3"
      ]
     },
     "execution_count": 38,
     "metadata": {},
     "output_type": "execute_result"
    }
   ],
   "source": [
    "data = [1, 2, 3, 4, 5, 6]\n",
    "# Your code here\n",
    "def count_even(num_list):\n",
    "    count =0\n",
    "    # for i in num_list:\n",
    "    #     if i % 2 == 0 :\n",
    "    # #         count+=1\n",
    "    \n",
    "    # return sum(1 for i in num_list if i % 2 == 0 )\n",
    "    return len([i for i in num_list if i%2 ==0])\n",
    "count_even(data)"
   ]
  },
  {
   "cell_type": "markdown",
   "metadata": {},
   "source": [
    "**Q22:** Define a function `find_long_words(words_list)` that takes a list of words and **returns** a new list containing only the words with more than 5 characters."
   ]
  },
  {
   "cell_type": "code",
   "execution_count": 39,
   "metadata": {},
   "outputs": [
    {
     "data": {
      "text/plain": [
       "['elephant', 'computer']"
      ]
     },
     "execution_count": 39,
     "metadata": {},
     "output_type": "execute_result"
    }
   ],
   "source": [
    "words = ['apple', 'elephant', 'cat', 'computer', 'dog']\n",
    "# Your code here\n",
    "def find_long_word(words):\n",
    "     return [ i for i in words if len(i) > 5]\n",
    "find_long_word(words)"
   ]
  },
  {
   "cell_type": "markdown",
   "metadata": {},
   "source": [
    "**Q23:** Define a function `get_passing_students(students_list)` that takes a list of student dictionaries and **returns** a list of names of students who passed (score >= 70)."
   ]
  },
  {
   "cell_type": "code",
   "execution_count": 42,
   "metadata": {},
   "outputs": [
    {
     "name": "stdout",
     "output_type": "stream",
     "text": [
      "['Raj', 'Amit']\n"
     ]
    }
   ],
   "source": [
    "students = [{'name': 'Raj', 'score': 82}, {'name': 'Priya', 'score': 65}, {'name': 'Amit', 'score': 91}]\n",
    "# Your code here\n",
    "def get_passing_students(students_list):\n",
    "    # for i in range(len(students)):\n",
    "    #     if students[i][\"score\"] >= 70:\n",
    "    #         print(students_list[i][\"name\"])\n",
    "            student = [students_list[i][\"name\"]  for i in range(len(students))  if students[i][\"score\"] >= 70 ]\n",
    "            print(student)\n",
    "get_passing_students(students) "
   ]
  },
  {
   "cell_type": "markdown",
   "metadata": {},
   "source": [
    "**Q24:** Define a function `sum_positive_numbers(nums)` that takes a list of numbers and **returns** the sum of only the positive numbers."
   ]
  },
  {
   "cell_type": "code",
   "execution_count": 43,
   "metadata": {},
   "outputs": [
    {
     "data": {
      "text/plain": [
       "21"
      ]
     },
     "execution_count": 43,
     "metadata": {},
     "output_type": "execute_result"
    }
   ],
   "source": [
    "data = [10, -5, 8, -12, 3]\n",
    "# Your code here\n",
    "def sum_postive_nums(data):\n",
    "    return sum(i for i in data if i > 0)\n",
    "sum_postive_nums(data)"
   ]
  },
  {
   "cell_type": "markdown",
   "metadata": {},
   "source": [
    "**Q25:** Define a function `create_report(inventory_list)` that takes a list of product dictionaries, finds the names of products with a `stock_quantity` less than 10, and **returns** them in a new list."
   ]
  },
  {
   "cell_type": "code",
   "execution_count": 45,
   "metadata": {},
   "outputs": [
    {
     "data": {
      "text/plain": [
       "['Mouse']"
      ]
     },
     "execution_count": 45,
     "metadata": {},
     "output_type": "execute_result"
    }
   ],
   "source": [
    "inventory = [\n",
    "    {'name': 'Mouse', 'stock_quantity': 12},\n",
    "    {'name': 'Keyboard', 'stock_quantity': 5},\n",
    "    {'name': 'Monitor', 'stock_quantity': 8}\n",
    "]\n",
    "# Your code here\n",
    "def create_report(inventory_list):\n",
    "    return [inventory_list[i][\"name\"] for i in range(len(inventory_list))  if  inventory_list[i][\"stock_quantity\"] > 10]\n",
    "create_report(inventory)"
   ]
  },
  {
   "cell_type": "code",
   "execution_count": null,
   "id": "bae5bdc9",
   "metadata": {},
   "outputs": [],
   "source": []
  }
 ],
 "metadata": {
  "kernelspec": {
   "display_name": "Python 3",
   "language": "python",
   "name": "python3"
  },
  "language_info": {
   "codemirror_mode": {
    "name": "ipython",
    "version": 3
   },
   "file_extension": ".py",
   "mimetype": "text/x-python",
   "name": "python",
   "nbconvert_exporter": "python",
   "pygments_lexer": "ipython3",
   "version": "3.13.5"
  }
 },
 "nbformat": 4,
 "nbformat_minor": 5
}
