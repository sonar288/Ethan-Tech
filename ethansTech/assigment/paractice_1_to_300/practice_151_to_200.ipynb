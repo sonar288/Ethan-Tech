{
 "cells": [
  {
   "cell_type": "markdown",
   "metadata": {},
   "source": [
    "# Advanced Practice: Data Types and Conditionals (Part 4: 151-200)\n",
    "\n",
    "**Instructions:** Solve the following 50 questions. These questions focus only on Python's basic data types and conditional logic (`if`, `elif`, `else`). There are no loops required. Write your code in the empty cell below each question."
   ]
  },
  {
   "cell_type": "markdown",
   "metadata": {},
   "source": [
    "**Q151:** A dictionary represents a server. If the `status` is 'online' and the `load` is less than 0.75, print \"Server is healthy.\""
   ]
  },
  {
   "cell_type": "code",
   "execution_count": 1,
   "metadata": {},
   "outputs": [
    {
     "name": "stdout",
     "output_type": "stream",
     "text": [
      "True\n"
     ]
    }
   ],
   "source": [
    "server_151 = {'name': 'web-01', 'status': 'online', 'load': 0.65}\n",
    "# Your code here\n",
    "if server_151['status'] == 'online' and server_151['load'] < 0.75:\n",
    "    print(True)\n",
    "else:\n",
    "    print(False)"
   ]
  },
  {
   "cell_type": "markdown",
   "metadata": {},
   "source": [
    "**Q152:** You have a list of tuples `(item, category)`. Check if the category of the second item is 'electronics'."
   ]
  },
  {
   "cell_type": "code",
   "execution_count": 2,
   "metadata": {},
   "outputs": [
    {
     "name": "stdout",
     "output_type": "stream",
     "text": [
      "False\n",
      "True\n"
     ]
    }
   ],
   "source": [
    "products_152 = [('book', 'stationery'), ('phone', 'electronics')]\n",
    "# Your code here\n",
    "for items, category in products_152:\n",
    "    if category == 'electronics':\n",
    "        print(True)\n",
    "    else:\n",
    "        print(False)"
   ]
  },
  {
   "cell_type": "markdown",
   "metadata": {},
   "source": [
    "**Q153:** A string `event_log` is given. If it starts with '[ERROR]', print \"An error has occurred.\""
   ]
  },
  {
   "cell_type": "code",
   "execution_count": 3,
   "metadata": {},
   "outputs": [
    {
     "name": "stdout",
     "output_type": "stream",
     "text": [
      "True\n"
     ]
    }
   ],
   "source": [
    "event_log_153 = '[ERROR] Connection timed out.'\n",
    "# Your code here\n",
    "if(event_log_153.startswith('[ERROR]')):\n",
    "    print(True)\n",
    "else:\n",
    "    print(False)"
   ]
  },
  {
   "cell_type": "markdown",
   "metadata": {},
   "source": [
    "**Q154:** A dictionary has a list of `flags`. Check if the first flag is 'enabled' and the list has exactly 3 flags."
   ]
  },
  {
   "cell_type": "code",
   "execution_count": 6,
   "metadata": {},
   "outputs": [
    {
     "name": "stdout",
     "output_type": "stream",
     "text": [
      "True\n"
     ]
    }
   ],
   "source": [
    "config_154 = {'id': 'cfg-1', 'flags': ['enabled', 'test_mode', 'debug']}\n",
    "# Your code here\n",
    "if  config_154['flags'][0] == 'enabled' and len(config_154['flags']) == 3:\n",
    "    print(True)\n",
    "else:\n",
    "    print(False)"
   ]
  },
  {
   "cell_type": "markdown",
   "metadata": {},
   "source": [
    "**Q155:** A tuple stores a transaction `(id, amount, is_refunded)`. If the transaction was not refunded, print the transaction amount."
   ]
  },
  {
   "cell_type": "code",
   "execution_count": 7,
   "metadata": {},
   "outputs": [
    {
     "name": "stdout",
     "output_type": "stream",
     "text": [
      "250\n"
     ]
    }
   ],
   "source": [
    "transaction_155 = ('TXN-001', 250, False)\n",
    "# Your code here\n",
    "if(not transaction_155[2]):\n",
    "    print(transaction_155[1])\n",
    "else:\n",
    "    print(False)"
   ]
  },
  {
   "cell_type": "markdown",
   "metadata": {},
   "source": [
    "**Q156:** A nested dictionary holds a user's permissions. Check if the `can_post` permission under `forum` is `True`."
   ]
  },
  {
   "cell_type": "code",
   "execution_count": null,
   "metadata": {},
   "outputs": [],
   "source": [
    "user_perms_156 = {'id': 'u1', 'permissions': {'dashboard': {'can_view': True}, 'forum': {'can_post': True}}}\n",
    "# Your code here\n",
    "if user_perms_156['permissions']['forum']['can_post']:\n",
    "    print(True)\n",
    "else:\n",
    "    print(False)"
   ]
  },
  {
   "cell_type": "markdown",
   "metadata": {},
   "source": [
    "**Q157:** You have a list where the third element is a dictionary. Check if that dictionary's 'status' is 'complete'."
   ]
  },
  {
   "cell_type": "code",
   "execution_count": 8,
   "metadata": {},
   "outputs": [
    {
     "name": "stdout",
     "output_type": "stream",
     "text": [
      "True\n"
     ]
    }
   ],
   "source": [
    "data_157 = [1, 2, {'id': 'task-a', 'status': 'complete'}]\n",
    "# Your code here\n",
    "if data_157[2]['status'] == 'complete':\n",
    "    print(True)\n",
    "else:\n",
    "    print(False)\n"
   ]
  },
  {
   "cell_type": "markdown",
   "metadata": {},
   "source": [
    "**Q158:** Check if a string `s` contains a hyphen '-'."
   ]
  },
  {
   "cell_type": "code",
   "execution_count": 9,
   "metadata": {},
   "outputs": [
    {
     "name": "stdout",
     "output_type": "stream",
     "text": [
      "True\n"
     ]
    }
   ],
   "source": [
    "s_158 = 'state-of-the-art'\n",
    "# Your code here\n",
    "if '-' in s_158:\n",
    "    print(True)\n",
    "else:\n",
    "    print(False)"
   ]
  },
  {
   "cell_type": "markdown",
   "metadata": {},
   "source": [
    "**Q159:** A dictionary's value is a tuple of numbers. If the product of the first two numbers is 100, print \"Product is 100.\""
   ]
  },
  {
   "cell_type": "code",
   "execution_count": 10,
   "metadata": {},
   "outputs": [
    {
     "name": "stdout",
     "output_type": "stream",
     "text": [
      "Product is 100\n"
     ]
    }
   ],
   "source": [
    "data_159 = {'values': (10, 10, 5)}\n",
    "# Your code here\n",
    "if data_159['values'][0]*data_159['values'][1] == 100:\n",
    "    print(\"Product is 100\")\n",
    "else:\n",
    "    print(False)"
   ]
  },
  {
   "cell_type": "markdown",
   "metadata": {},
   "source": [
    "**Q160:** A list contains three strings. Check if they are in alphabetical order."
   ]
  },
  {
   "cell_type": "code",
   "execution_count": 12,
   "metadata": {},
   "outputs": [
    {
     "name": "stdout",
     "output_type": "stream",
     "text": [
      "In alphabetical order\n"
     ]
    }
   ],
   "source": [
    "\n",
    "words_160 = ['apple', 'banana', 'cherry']\n",
    "# Your code here\n",
    "if words_160[0] < words_160[1] < words_160[2]:\n",
    "    print(\"In alphabetical order\")\n",
    "else:\n",
    "    print(\"Not in alphabetical order\")\n",
    "\n",
    "\n"
   ]
  },
  {
   "cell_type": "markdown",
   "metadata": {},
   "source": [
    "**Q161:** A dictionary has a `score` and a `max_score`. If the score is more than half of the max score, print \"Good performance.\""
   ]
  },
  {
   "cell_type": "code",
   "execution_count": null,
   "metadata": {},
   "outputs": [],
   "source": [
    "result_161 = {'score': 65, 'max_score': 100}\n",
    "# Your code here"
   ]
  },
  {
   "cell_type": "markdown",
   "metadata": {},
   "source": [
    "**Q162:** You have a list of dictionaries. Check if the `os` of the first server is 'Windows'."
   ]
  },
  {
   "cell_type": "code",
   "execution_count": 13,
   "metadata": {},
   "outputs": [
    {
     "name": "stdout",
     "output_type": "stream",
     "text": [
      "True\n"
     ]
    }
   ],
   "source": [
    "servers_162 = [{'hostname': 'srv-1', 'os': 'Windows'}, {'hostname': 'srv-2', 'os': 'Linux'}]\n",
    "# Your code here\n",
    "if servers_162[0]['os'] == 'Windows':\n",
    "    print(True)\n",
    "else:\n",
    "    print(False)\n"
   ]
  },
  {
   "cell_type": "markdown",
   "metadata": {},
   "source": [
    "**Q163:** Check if a string `s`, after being converted to lowercase, contains the substring 'test'."
   ]
  },
  {
   "cell_type": "code",
   "execution_count": 14,
   "metadata": {},
   "outputs": [
    {
     "name": "stdout",
     "output_type": "stream",
     "text": [
      "True\n"
     ]
    }
   ],
   "source": [
    "s_163 = 'This is a Test String.'\n",
    "# Your code here\n",
    "s_163 = s_163.lower()\n",
    "if \"test\" in s_163:\n",
    "    print(True)\n",
    "else:\n",
    "    print(False)\n"
   ]
  },
  {
   "cell_type": "markdown",
   "metadata": {},
   "source": [
    "**Q164:** A tuple contains a list as its second element. Check if that list contains the number 10."
   ]
  },
  {
   "cell_type": "code",
   "execution_count": 15,
   "metadata": {},
   "outputs": [
    {
     "name": "stdout",
     "output_type": "stream",
     "text": [
      "True\n"
     ]
    }
   ],
   "source": [
    "data_164 = ('A', [5, 10, 15])\n",
    "# Your code here\n",
    "if 10 in data_164[1]:\n",
    "    print(True)\n",
    "else:\n",
    "    print(False)"
   ]
  },
  {
   "cell_type": "markdown",
   "metadata": {},
   "source": [
    "**Q165:** A dictionary has nested `info`. If the `age` is over 30 and the `country` is 'Canada', print \"Eligible Canadian resident.\""
   ]
  },
  {
   "cell_type": "code",
   "execution_count": null,
   "metadata": {},
   "outputs": [
    {
     "name": "stdout",
     "output_type": "stream",
     "text": [
      "Not eligible\n"
     ]
    }
   ],
   "source": [
    "person_165 = {'id': 'p-1', 'info': {'age': 35, 'country': 'Canada'}}\n",
    "# Your code here\n",
    "if person_165['info']['age'] > 30 and person_165['info']['country'] == 'Canada':\n",
    "    print(\"Eligible Canadian resident\")\n",
    "else:\n",
    "    print(\"Not eligible\")\n"
   ]
  },
  {
   "cell_type": "markdown",
   "metadata": {},
   "source": [
    "**Q166:** Check if a number is a non-negative integer (zero or positive)."
   ]
  },
  {
   "cell_type": "code",
   "execution_count": null,
   "metadata": {},
   "outputs": [],
   "source": [
    "num_166 = 0\n",
    "# Your code here\n",
    "if(num_166 > 0):\n",
    "    print(\"Positive\")\n",
    "elif(num_166 < 0):\n",
    "    print(\"Negative\")\n",
    "else:\n",
    "    print(\"Zero\")\n"
   ]
  },
  {
   "cell_type": "markdown",
   "metadata": {},
   "source": [
    "**Q167:** A list contains two strings. Check if the first string is longer than the second string."
   ]
  },
  {
   "cell_type": "code",
   "execution_count": 19,
   "metadata": {},
   "outputs": [
    {
     "name": "stdout",
     "output_type": "stream",
     "text": [
      "True\n"
     ]
    }
   ],
   "source": [
    "words_167 = ['longword', 'short']\n",
    "# Your code here\n",
    "if len(words_167[0]) >len(words_167[1]):\n",
    "         print(True)\n",
    "else:\n",
    "    print(False)\n"
   ]
  },
  {
   "cell_type": "markdown",
   "metadata": {},
   "source": [
    "**Q168:** A dictionary's value is a list of numbers. Check if the last number in the list is 99."
   ]
  },
  {
   "cell_type": "code",
   "execution_count": 21,
   "metadata": {},
   "outputs": [
    {
     "name": "stdout",
     "output_type": "stream",
     "text": [
      "True\n"
     ]
    }
   ],
   "source": [
    "data_168 = {'values': [10, 20, 30, 99]}\n",
    "# Your code here\n",
    "if data_168['values'][3] == 99:\n",
    "    print(True)\n",
    "else:\n",
    "    print(False)\n"
   ]
  },
  {
   "cell_type": "markdown",
   "metadata": {},
   "source": [
    "**Q169:** Check if a string `s` has a length that is a multiple of 5."
   ]
  },
  {
   "cell_type": "code",
   "execution_count": 22,
   "metadata": {},
   "outputs": [
    {
     "name": "stdout",
     "output_type": "stream",
     "text": [
      "True\n"
     ]
    }
   ],
   "source": [
    "s_169 = '12345abcde'\n",
    "# Your code here\n",
    "if len(s_169)% 5 == 0:\n",
    "    print(True)\n",
    "else:\n",
    "    print(False)"
   ]
  },
  {
   "cell_type": "markdown",
   "metadata": {},
   "source": [
    "**Q170:** A tuple contains a dictionary. Check if the dictionary is empty."
   ]
  },
  {
   "cell_type": "code",
   "execution_count": 24,
   "metadata": {},
   "outputs": [
    {
     "name": "stdout",
     "output_type": "stream",
     "text": [
      "True\n"
     ]
    }
   ],
   "source": [
    "data_170 = ('metadata', {})\n",
    "# Your code here\n",
    "if not data_170[1]:\n",
    "    print(True)\n",
    "else:\n",
    "    print(False)\n"
   ]
  },
  {
   "cell_type": "markdown",
   "metadata": {},
   "source": [
    "**Q171:** In a nested dictionary, check if the `value` of the first item in the `data` list is a string."
   ]
  },
  {
   "cell_type": "code",
   "execution_count": 25,
   "metadata": {},
   "outputs": [
    {
     "name": "stdout",
     "output_type": "stream",
     "text": [
      "True\n"
     ]
    }
   ],
   "source": [
    "api_response_171 = {'data': [{'id': 1, 'value': 'text'}, {'id': 2, 'value': 100}]}\n",
    "# Your code here\n",
    "if isinstance(api_response_171['data'][0]['value'], str):\n",
    "    print(True)"
   ]
  },
  {
   "cell_type": "markdown",
   "metadata": {},
   "source": [
    "**Q172:** A list contains two dictionaries. Check if the `name` of the first dictionary is the same as the `name` of the second."
   ]
  },
  {
   "cell_type": "code",
   "execution_count": 26,
   "metadata": {},
   "outputs": [
    {
     "name": "stdout",
     "output_type": "stream",
     "text": [
      "True\n"
     ]
    }
   ],
   "source": [
    "items_172 = [{'id': 1, 'name': 'ItemA'}, {'id': 2, 'name': 'ItemA'}]\n",
    "# Your code here\n",
    "if items_172[0]['name'] == items_172[1]['name']:\n",
    "    print(True)\n",
    "else:\n",
    "    print(False)\n"
   ]
  },
  {
   "cell_type": "markdown",
   "metadata": {},
   "source": [
    "**Q173:** Check if a string `s` ends with a digit."
   ]
  },
  {
   "cell_type": "code",
   "execution_count": 27,
   "metadata": {},
   "outputs": [
    {
     "name": "stdout",
     "output_type": "stream",
     "text": [
      "True\n"
     ]
    }
   ],
   "source": [
    "s_173 = 'Version3'\n",
    "# Your code here\n",
    "if s_173[-1].isdigit():\n",
    "    print(True)\n",
    "else:\n",
    "    print(False)"
   ]
  },
  {
   "cell_type": "markdown",
   "metadata": {},
   "source": [
    "**Q174:** A tuple stores `(is_valid, error_code)`. If `is_valid` is `False`, print the `error_code`."
   ]
  },
  {
   "cell_type": "code",
   "execution_count": 28,
   "metadata": {},
   "outputs": [
    {
     "name": "stdout",
     "output_type": "stream",
     "text": [
      "E-102\n"
     ]
    }
   ],
   "source": [
    "result_174 = (False, 'E-102')\n",
    "# Your code here\n",
    "if not result_174[0]:\n",
    "    print(result_174[1])\n",
    "else:\n",
    "    print(False)\n"
   ]
  },
  {
   "cell_type": "markdown",
   "metadata": {},
   "source": [
    "**Q175:** A dictionary `config` has a list of `supported_versions`. Check if `3.9` is in this list."
   ]
  },
  {
   "cell_type": "code",
   "execution_count": 31,
   "metadata": {},
   "outputs": [
    {
     "name": "stdout",
     "output_type": "stream",
     "text": [
      "True\n"
     ]
    }
   ],
   "source": [
    "config_175 = {'app_name': 'MyCompiler', 'supported_versions': [3.8, 3.9, 3.10]}\n",
    "# Your code here\n",
    "if 3.9 in config_175['supported_versions']:\n",
    "    print(True)\n",
    "else:\n",
    "    print(False)"
   ]
  },
  {
   "cell_type": "markdown",
   "metadata": {},
   "source": [
    "**Q176:** A number `x` is given. Check if its string representation contains a '0'."
   ]
  },
  {
   "cell_type": "code",
   "execution_count": 34,
   "metadata": {},
   "outputs": [
    {
     "name": "stdout",
     "output_type": "stream",
     "text": [
      "True\n"
     ]
    }
   ],
   "source": [
    "x_176 = 1024\n",
    "# Your code here\n",
    "if '0' in str(x_176):\n",
    "    print(True)\n",
    "else:\n",
    "    print(False)\n"
   ]
  },
  {
   "cell_type": "markdown",
   "metadata": {},
   "source": [
    "**Q177:** A list of lists is a grid. Check if the top-left corner (`grid[0][0]`) is the same as the bottom-right corner."
   ]
  },
  {
   "cell_type": "code",
   "execution_count": 35,
   "metadata": {},
   "outputs": [
    {
     "name": "stdout",
     "output_type": "stream",
     "text": [
      "True\n"
     ]
    }
   ],
   "source": [
    "grid_177 = [['X', 'O', 'X'], ['O', 'O', 'X'], ['X', 'X', 'X']]\n",
    "# Your code here\n",
    "if grid_177[0][0] == grid_177[2][2]:\n",
    "    print(True)\n",
    "else:\n",
    "    print(False)\n"
   ]
  },
  {
   "cell_type": "markdown",
   "metadata": {},
   "source": [
    "**Q178:** A dictionary's value is a list of strings. Check if the first and last strings in the list are identical."
   ]
  },
  {
   "cell_type": "code",
   "execution_count": 36,
   "metadata": {},
   "outputs": [
    {
     "name": "stdout",
     "output_type": "stream",
     "text": [
      "True\n"
     ]
    }
   ],
   "source": [
    "path_178 = {'route': ['start', 'middle', 'end', 'start']}\n",
    "# Your code here\n",
    "if path_178['route'][0] == path_178['route'][-1]:\n",
    "    print(True)\n",
    "else:\n",
    "    print(False)\n"
   ]
  },
  {
   "cell_type": "markdown",
   "metadata": {},
   "source": [
    "**Q179:** Check if a string `s` has an equal number of 'a' and 'b' characters (by checking only the first and last characters)."
   ]
  },
  {
   "cell_type": "code",
   "execution_count": 37,
   "metadata": {},
   "outputs": [
    {
     "name": "stdout",
     "output_type": "stream",
     "text": [
      "True\n"
     ]
    }
   ],
   "source": [
    "s_179 = 'abba'\n",
    "# Your code here\n",
    "if s_179 == s_179[::-1]:\n",
    "    print(True)\n",
    "else:\n",
    "    print(False)\n"
   ]
  },
  {
   "cell_type": "markdown",
   "metadata": {},
   "source": [
    "**Q180:** A tuple contains a dictionary. Check if the value of the 'id' key in that dictionary is a string."
   ]
  },
  {
   "cell_type": "code",
   "execution_count": 39,
   "metadata": {},
   "outputs": [
    {
     "name": "stdout",
     "output_type": "stream",
     "text": [
      "True\n"
     ]
    }
   ],
   "source": [
    "data_180 = ({'id': 'abc-123', 'value': 1},)\n",
    "# Your code here\n",
    "if isinstance(data_180[0]['id'], str):\n",
    "    print(True)\n",
    "else:\n",
    "    print(False)\n"
   ]
  },
  {
   "cell_type": "markdown",
   "metadata": {},
   "source": [
    "**Q181:** In a nested dictionary, check if the `country_code` is '+91'."
   ]
  },
  {
   "cell_type": "code",
   "execution_count": 40,
   "metadata": {},
   "outputs": [
    {
     "name": "stdout",
     "output_type": "stream",
     "text": [
      "True\n"
     ]
    }
   ],
   "source": [
    "user_181 = {'id': 2, 'contact': {'phone': {'country_code': '+91', 'number': '9876543210'}}}\n",
    "# Your code here\n",
    "if user_181['contact']['phone']['country_code'] == '+91':\n",
    "    print(True)\n",
    "else:\n",
    "    print(False)\n"
   ]
  },
  {
   "cell_type": "markdown",
   "metadata": {},
   "source": [
    "**Q182:** A list has three dictionaries. Check if the `score` of the second dictionary is higher than the third."
   ]
  },
  {
   "cell_type": "code",
   "execution_count": 42,
   "metadata": {},
   "outputs": [
    {
     "name": "stdout",
     "output_type": "stream",
     "text": [
      "True\n"
     ]
    }
   ],
   "source": [
    "scores_182 = [{'score': 80}, {'score': 95}, {'score': 90}]\n",
    "# Your code here\n",
    "if scores_182[1]['score'] > scores_182[2]['score']:\n",
    "    print(True)\n",
    "else:\n",
    "    print(False)\n"
   ]
  },
  {
   "cell_type": "markdown",
   "metadata": {},
   "source": [
    "**Q183:** Check if a string `s` does not start with 'http' and does not contain 'www'."
   ]
  },
  {
   "cell_type": "code",
   "execution_count": 43,
   "metadata": {},
   "outputs": [
    {
     "name": "stdout",
     "output_type": "stream",
     "text": [
      "True\n"
     ]
    }
   ],
   "source": [
    "s_183 = 'ftp.example.com'\n",
    "# Your code here\n",
    "if not s_183.startswith('http') and not s_183.startswith('www'):\n",
    "    print(True)\n",
    "else:\n",
    "    print(False)"
   ]
  },
  {
   "cell_type": "markdown",
   "metadata": {},
   "source": [
    "**Q184:** A tuple `(is_success, data)` is given. If `is_success` is `True`, check if the `data` dictionary is empty."
   ]
  },
  {
   "cell_type": "code",
   "execution_count": 45,
   "metadata": {},
   "outputs": [
    {
     "name": "stdout",
     "output_type": "stream",
     "text": [
      "True\n"
     ]
    }
   ],
   "source": [
    "result_184 = (True, {})\n",
    "# Your code here\n",
    "if result_184[0]:\n",
    "    if not result_184[1]:\n",
    "        print(True)\n",
    "    else:\n",
    "        print(False)\n",
    "else:\n",
    "    print(False)"
   ]
  },
  {
   "cell_type": "markdown",
   "metadata": {},
   "source": [
    "**Q185:** A dictionary `config` has a list of `ports`. Check if the first port is 80 and the second port is 443."
   ]
  },
  {
   "cell_type": "code",
   "execution_count": 46,
   "metadata": {},
   "outputs": [
    {
     "name": "stdout",
     "output_type": "stream",
     "text": [
      "True\n"
     ]
    }
   ],
   "source": [
    "config_185 = {'server': 'main', 'ports': [80, 443, 22]}\n",
    "# Your code here\n",
    "if config_185['ports'][0] == 80:\n",
    "    print(True)\n",
    "else:\n",
    "    print(False)\n"
   ]
  },
  {
   "cell_type": "markdown",
   "metadata": {},
   "source": [
    "**Q186:** A number `x` is given. Check if it's a positive number with more than 4 digits."
   ]
  },
  {
   "cell_type": "code",
   "execution_count": 47,
   "metadata": {},
   "outputs": [
    {
     "name": "stdout",
     "output_type": "stream",
     "text": [
      "True\n"
     ]
    }
   ],
   "source": [
    "x_186 = 15000\n",
    "# Your code here\n",
    "if x_186 > 0 and len(str(x_186)) == 5:\n",
    "    print(True)\n",
    "else:\n",
    "    print(False)\n"
   ]
  },
  {
   "cell_type": "markdown",
   "metadata": {},
   "source": [
    "**Q187:** A list has a nested dictionary. Check if the value of the `is_active` key is of type boolean."
   ]
  },
  {
   "cell_type": "code",
   "execution_count": 49,
   "metadata": {},
   "outputs": [
    {
     "name": "stdout",
     "output_type": "stream",
     "text": [
      "True\n"
     ]
    }
   ],
   "source": [
    "user_list_187 = ['user_a', {'is_active': True}]\n",
    "# Your code here\n",
    "if isinstance(user_list_187[1]['is_active'], bool) :\n",
    "    print(True)\n"
   ]
  },
  {
   "cell_type": "markdown",
   "metadata": {},
   "source": [
    "**Q188:** A dictionary's value is a list of tuples. Check if the first element of the second tuple is 'Y'."
   ]
  },
  {
   "cell_type": "code",
   "execution_count": 50,
   "metadata": {},
   "outputs": [
    {
     "name": "stdout",
     "output_type": "stream",
     "text": [
      "True\n"
     ]
    }
   ],
   "source": [
    "coords_188 = {'path': [('X', 1), ('Y', 2), ('Z', 3)]}\n",
    "# Your code here\n",
    "if coords_188['path'][1][0] == 'Y':\n",
    "    print(True)\n",
    "else:\n",
    "    print(False)\n"
   ]
  },
  {
   "cell_type": "markdown",
   "metadata": {},
   "source": [
    "**Q189:** Check if a string `s`, when all spaces are removed, is 'python'."
   ]
  },
  {
   "cell_type": "code",
   "execution_count": 52,
   "metadata": {},
   "outputs": [
    {
     "name": "stdout",
     "output_type": "stream",
     "text": [
      "True\n"
     ]
    }
   ],
   "source": [
    "s_189 = ' p y t h o n '\n",
    "# Your code here\n",
    "if s_189.replace(' ', '') == 'python':\n",
    "    print(True)\n",
    "else:\n",
    "    print(False)\n"
   ]
  },
  {
   "cell_type": "markdown",
   "metadata": {},
   "source": [
    "**Q190:** A tuple contains a list and a dictionary. Check if the list contains 'a' and the dictionary has a key 'b'."
   ]
  },
  {
   "cell_type": "code",
   "execution_count": 54,
   "metadata": {},
   "outputs": [
    {
     "name": "stdout",
     "output_type": "stream",
     "text": [
      "True\n"
     ]
    }
   ],
   "source": [
    "data_190 = (['a', 'x'], {'b': 2, 'c': 3})\n",
    "# Your code here\n",
    "if 'a' in data_190[0] and 'b' in data_190[1]:\n",
    "    print(True)\n",
    "else:\n",
    "    print(False)\n"
   ]
  },
  {
   "cell_type": "markdown",
   "metadata": {},
   "source": [
    "**Q191:** A deeply nested dictionary. Check if the `version` of the `api` is 'v2'."
   ]
  },
  {
   "cell_type": "code",
   "execution_count": 55,
   "metadata": {},
   "outputs": [
    {
     "name": "stdout",
     "output_type": "stream",
     "text": [
      "True\n"
     ]
    }
   ],
   "source": [
    "system_info_191 = {'app': {'name': 'MyApp', 'api': {'version': 'v2'}}}\n",
    "# Your code here\n",
    "if system_info_191['app']['api']['version'] == 'v2':\n",
    "    print(True)"
   ]
  },
  {
   "cell_type": "markdown",
   "metadata": {},
   "source": [
    "**Q192:** A list has three dictionaries. Check if the `id` of the first dictionary is less than the `id` of the third."
   ]
  },
  {
   "cell_type": "code",
   "execution_count": 56,
   "metadata": {},
   "outputs": [
    {
     "name": "stdout",
     "output_type": "stream",
     "text": [
      "True\n"
     ]
    }
   ],
   "source": [
    "items_192 = [{'id': 10}, {'id': 20}, {'id': 15}]\n",
    "# Your code here\n",
    "if items_192[0]['id'] < items_192[2]['id']:\n",
    "    print(True)\n",
    "else:\n",
    "    print(False)"
   ]
  },
  {
   "cell_type": "markdown",
   "metadata": {},
   "source": [
    "**Q193:** Check if a string `s` is not 'pending' and not 'failed'."
   ]
  },
  {
   "cell_type": "code",
   "execution_count": 57,
   "metadata": {},
   "outputs": [
    {
     "name": "stdout",
     "output_type": "stream",
     "text": [
      "True\n"
     ]
    }
   ],
   "source": [
    "s_193 = 'success'\n",
    "# Your code here\n",
    "if 'pending' in s_193 or not 'failed' in s_193:\n",
    "    print(True)\n",
    "else:\n",
    "    print(False)"
   ]
  },
  {
   "cell_type": "markdown",
   "metadata": {},
   "source": [
    "**Q194:** A tuple `(a, b)` is given. Check if `a` is a float or `b` is a float."
   ]
  },
  {
   "cell_type": "code",
   "execution_count": 58,
   "metadata": {},
   "outputs": [
    {
     "name": "stdout",
     "output_type": "stream",
     "text": [
      "True\n"
     ]
    }
   ],
   "source": [
    "values_194 = (10, 20.5)\n",
    "# Your code here\n",
    "if isinstance(values_194[0], float) or isinstance(values_194[1], float):\n",
    "    print(True)"
   ]
  },
  {
   "cell_type": "markdown",
   "metadata": {},
   "source": [
    "**Q195:** A dictionary `d` has a `value` key. Check if the value is an integer or a string that contains only digits."
   ]
  },
  {
   "cell_type": "code",
   "execution_count": 59,
   "metadata": {},
   "outputs": [
    {
     "name": "stdout",
     "output_type": "stream",
     "text": [
      "True\n"
     ]
    }
   ],
   "source": [
    "d_195 = {'value': '123'}\n",
    "# Your code here\n",
    "if d_195['value'].isdigit():\n",
    "    print(True)\n",
    "else:\n",
    "    print(False)\n"
   ]
  },
  {
   "cell_type": "markdown",
   "metadata": {},
   "source": [
    "**Q196:** A number `x` is given. Check if it is a 4-digit even number."
   ]
  },
  {
   "cell_type": "code",
   "execution_count": 60,
   "metadata": {},
   "outputs": [
    {
     "name": "stdout",
     "output_type": "stream",
     "text": [
      "True\n"
     ]
    }
   ],
   "source": [
    "x_196 = 2024\n",
    "# Your code here\n",
    "if len(str(x_196)) == 4 and  x_196 % 2 == 0:\n",
    "    print(True)\n",
    "else:\n",
    "    print(False)"
   ]
  },
  {
   "cell_type": "markdown",
   "metadata": {},
   "source": [
    "**Q197:** A list has a nested dictionary. Check if the value of the 'id' key starts with 'user-'."
   ]
  },
  {
   "cell_type": "code",
   "execution_count": 62,
   "metadata": {},
   "outputs": [
    {
     "name": "stdout",
     "output_type": "stream",
     "text": [
      "True\n"
     ]
    }
   ],
   "source": [
    "data_197 = [10, {'id': 'user-007'}]\n",
    "# Your code here\n",
    "if(data_197[1][\"id\"].startswith('user-')):\n",
    "    print(True)\n",
    "else:\n",
    "    print(False)"
   ]
  },
  {
   "cell_type": "markdown",
   "metadata": {},
   "source": [
    "**Q198:** A dictionary's value is a list of tuples. Check if the length of the list is greater than 1."
   ]
  },
  {
   "cell_type": "code",
   "execution_count": 63,
   "metadata": {},
   "outputs": [
    {
     "name": "stdout",
     "output_type": "stream",
     "text": [
      "True\n"
     ]
    }
   ],
   "source": [
    "log_198 = {'entries': [('login', '10:00'), ('logout', '11:00')]}\n",
    "# Your code here\n",
    "if len(log_198['entries']) >1:\n",
    "    print(True)\n",
    "else:\n",
    "    print(False)\n"
   ]
  },
  {
   "cell_type": "markdown",
   "metadata": {},
   "source": [
    "**Q199:** Check if a string `s`, when reversed, is the same as the original string."
   ]
  },
  {
   "cell_type": "code",
   "execution_count": 65,
   "metadata": {},
   "outputs": [
    {
     "name": "stdout",
     "output_type": "stream",
     "text": [
      "True\n"
     ]
    }
   ],
   "source": [
    "s_199 = 'madam'\n",
    "# Your code here\n",
    "if s_199 == s_199[::-1]:\n",
    "    print(True)\n",
    "else:\n",
    "    print(False)"
   ]
  },
  {
   "cell_type": "markdown",
   "metadata": {},
   "source": [
    "**Q200:** A tuple contains a list and a dictionary. Check if the first element of the list is 1 and the dictionary contains a 'status' key."
   ]
  },
  {
   "cell_type": "code",
   "execution_count": 66,
   "metadata": {},
   "outputs": [
    {
     "name": "stdout",
     "output_type": "stream",
     "text": [
      "True\n"
     ]
    }
   ],
   "source": [
    "data_200 = ([1, 2, 3], {'status': 'ok', 'code': 200})\n",
    "# Your code here\n",
    "if data_200[0][0] ==1 and  data_200[1][\"status\"] == \"ok\":\n",
    "    print(True)\n",
    "else:\n",
    "    print(False)\n"
   ]
  },
  {
   "cell_type": "code",
   "execution_count": null,
   "id": "14ca122b",
   "metadata": {},
   "outputs": [],
   "source": []
  }
 ],
 "metadata": {
  "kernelspec": {
   "display_name": "Python 3",
   "language": "python",
   "name": "python3"
  },
  "language_info": {
   "codemirror_mode": {
    "name": "ipython",
    "version": 3
   },
   "file_extension": ".py",
   "mimetype": "text/x-python",
   "name": "python",
   "nbconvert_exporter": "python",
   "pygments_lexer": "ipython3",
   "version": "3.13.5"
  }
 },
 "nbformat": 4,
 "nbformat_minor": 5
}
