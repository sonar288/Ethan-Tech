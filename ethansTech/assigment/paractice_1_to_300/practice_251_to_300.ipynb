{
 "cells": [
  {
   "cell_type": "markdown",
   "metadata": {},
   "source": [
    "# Advanced Practice: Data Types and Conditionals (Part 6: 251-300)\n",
    "\n",
    "**Instructions:** Solve the following 50 questions. These questions focus only on Python's basic data types and conditional logic (`if`, `elif`, `else`). There are no loops required. Write your code in the empty cell below each question."
   ]
  },
  {
   "cell_type": "markdown",
   "metadata": {},
   "source": [
    "**Q251:** A dictionary represents a book's publication info. If the `year` is after 2000 and the `format` is 'hardcover', print \"Modern Hardcover Edition.\""
   ]
  },
  {
   "cell_type": "code",
   "execution_count": 1,
   "metadata": {},
   "outputs": [
    {
     "name": "stdout",
     "output_type": "stream",
     "text": [
      "Modern Hardcover Edition.\n"
     ]
    }
   ],
   "source": [
    "publication_251 = {'publisher': 'Penguin', 'year': 2015, 'format': 'hardcover'}\n",
    "# Your code here\n",
    "if publication_251['year']> 2000 and publication_251['format'] == 'hardcover':\n",
    "    print(\"Modern Hardcover Edition.\")"
   ]
  },
  {
   "cell_type": "markdown",
   "metadata": {},
   "source": [
    "**Q252:** You have a list of tuples `(sensor_id, reading)`. Check if the reading of the third sensor is a negative number."
   ]
  },
  {
   "cell_type": "code",
   "execution_count": 2,
   "metadata": {},
   "outputs": [
    {
     "name": "stdout",
     "output_type": "stream",
     "text": [
      "Negative reading detected.\n"
     ]
    }
   ],
   "source": [
    "readings_252 = [('A', 10), ('B', 5), ('C', -2)]\n",
    "# Your code here\n",
    "if readings_252[2][1]< 0:\n",
    "    print(\"Negative reading detected.\")"
   ]
  },
  {
   "cell_type": "markdown",
   "metadata": {},
   "source": [
    "**Q253:** A string `ipv4_address` is given. Check if the first octet (part before the first dot) is '192'."
   ]
  },
  {
   "cell_type": "code",
   "execution_count": 4,
   "metadata": {},
   "outputs": [
    {
     "name": "stdout",
     "output_type": "stream",
     "text": [
      "True\n"
     ]
    }
   ],
   "source": [
    "ipv4_address_253 = '192.168.1.1'\n",
    "# Your code here\n",
    "if ipv4_address_253.startswith('192'):\n",
    "    print(True)"
   ]
  },
  {
   "cell_type": "markdown",
   "metadata": {},
   "source": [
    "**Q254:** A dictionary has a list of `users`. Check if the first user's `role` is 'guest'."
   ]
  },
  {
   "cell_type": "code",
   "execution_count": 5,
   "metadata": {},
   "outputs": [
    {
     "name": "stdout",
     "output_type": "stream",
     "text": [
      "Guest user detected.\n"
     ]
    }
   ],
   "source": [
    "session_254 = {'id': 'xyz', 'users': [{'name': 'Ravi', 'role': 'guest'}]}\n",
    "# Your code here\n",
    "if session_254['users'][0]['role'] == 'guest':\n",
    "    print(\"Guest user detected.\")"
   ]
  },
  {
   "cell_type": "markdown",
   "metadata": {},
   "source": [
    "**Q255:** A tuple stores `(is_enabled, is_visible, is_clickable)`. If the object is enabled and visible, print \"Object is interactive.\""
   ]
  },
  {
   "cell_type": "code",
   "execution_count": 7,
   "metadata": {},
   "outputs": [
    {
     "name": "stdout",
     "output_type": "stream",
     "text": [
      "Object is ineteractive\n"
     ]
    }
   ],
   "source": [
    "ui_element_255 = (True, True, False)\n",
    "# Your code here\n",
    "if ui_element_255[0] and ui_element_255[1]:\n",
    "    print(\"Object is ineteractive\")"
   ]
  },
  {
   "cell_type": "markdown",
   "metadata": {},
   "source": [
    "**Q256:** A nested dictionary holds a student's contact info. Check if the `pincode` is an integer."
   ]
  },
  {
   "cell_type": "code",
   "execution_count": 8,
   "metadata": {},
   "outputs": [
    {
     "name": "stdout",
     "output_type": "stream",
     "text": [
      "Pincode is valid.\n"
     ]
    }
   ],
   "source": [
    "student_256 = {'id': 'S256', 'contact': {'email': 'a@b.com', 'address': {'pincode': 411004}}}\n",
    "# Your code here\n",
    "if isinstance(student_256['contact']['address']['pincode'] ,int):\n",
    "    print(\"Pincode is valid.\")"
   ]
  },
  {
   "cell_type": "markdown",
   "metadata": {},
   "source": [
    "**Q257:** You have a list where the second element is a tuple. Check if the first element of that tuple is a string."
   ]
  },
  {
   "cell_type": "code",
   "execution_count": 10,
   "metadata": {},
   "outputs": [
    {
     "name": "stdout",
     "output_type": "stream",
     "text": [
      "Valid data format.\n"
     ]
    }
   ],
   "source": [
    "data_257 = [1, ('label', 100), 2]\n",
    "# Your code here\n",
    "if isinstance(data_257[1][0], str):\n",
    "    print(\"Valid data format.\")"
   ]
  },
  {
   "cell_type": "markdown",
   "metadata": {},
   "source": [
    "**Q258:** Check if a string `s` contains a comma ',' or a semicolon ';'."
   ]
  },
  {
   "cell_type": "code",
   "execution_count": 13,
   "metadata": {},
   "outputs": [
    {
     "name": "stdout",
     "output_type": "stream",
     "text": [
      "String contains a comma or semicolon.\n"
     ]
    }
   ],
   "source": [
    "s_258 = 'apple,banana;cherry'\n",
    "# Your code here\n",
    "if ',' or \";\" in s_258:\n",
    "    print(\"String contains a comma or semicolon.\")"
   ]
  },
  {
   "cell_type": "markdown",
   "metadata": {},
   "source": [
    "**Q259:** A dictionary's value is a tuple of numbers. If the sum of all numbers in the tuple is 0, print \"Net zero.\""
   ]
  },
  {
   "cell_type": "code",
   "execution_count": 15,
   "metadata": {},
   "outputs": [
    {
     "name": "stdout",
     "output_type": "stream",
     "text": [
      "Net Zero\n"
     ]
    }
   ],
   "source": [
    "balance_259 = {'deltas': (10, -5, -5)}\n",
    "# Your code here\n",
    "if balance_259['deltas'][0] + balance_259['deltas'][1] + balance_259['deltas'][2] == 0:\n",
    "    print(\"Net Zero\")"
   ]
  },
  {
   "cell_type": "markdown",
   "metadata": {},
   "source": [
    "**Q260:** A list contains three strings. Check if the length of the second string is greater than the first and less than the third."
   ]
  },
  {
   "cell_type": "code",
   "execution_count": 16,
   "metadata": {},
   "outputs": [
    {
     "name": "stdout",
     "output_type": "stream",
     "text": [
      "Second is greater than first but smaller than third.\n"
     ]
    }
   ],
   "source": [
    "words_260 = ['short', 'medium_word', 'a_very_long_word']\n",
    "# Your code here\n",
    "if len(words_260[0]) < len(words_260[1]) < len(words_260[2]):\n",
    "    print(\"Second is greater than first but smaller than third.\")"
   ]
  },
  {
   "cell_type": "markdown",
   "metadata": {},
   "source": [
    "**Q261:** A dictionary has a `total` and `paid` amount. If `paid` is equal to or greater than `total`, print \"Payment complete.\""
   ]
  },
  {
   "cell_type": "code",
   "execution_count": 17,
   "metadata": {},
   "outputs": [
    {
     "name": "stdout",
     "output_type": "stream",
     "text": [
      "payment complete\n"
     ]
    }
   ],
   "source": [
    "invoice_261 = {'total': 1200, 'paid': 1200}\n",
    "# Your code here\n",
    "if invoice_261['total'] <= invoice_261['paid']:\n",
    "    print(\"payment complete\")"
   ]
  },
  {
   "cell_type": "markdown",
   "metadata": {},
   "source": [
    "**Q262:** You have a list of dictionaries. Check if the `is_remote` flag of the second job is `False`."
   ]
  },
  {
   "cell_type": "code",
   "execution_count": null,
   "metadata": {},
   "outputs": [
    {
     "name": "stdout",
     "output_type": "stream",
     "text": [
      "Admin job is not remote.\n"
     ]
    }
   ],
   "source": [
    "jobs_262 = [{'title': 'DevOps', 'is_remote': True}, {'title': 'Admin', 'is_remote': False}]\n",
    "# Your code here\n",
    "if not jobs_262[1]['is_remote']:\n",
    "    print(\"Admin job is not remote.\")"
   ]
  },
  {
   "cell_type": "markdown",
   "metadata": {},
   "source": [
    "**Q263:** Check if a string `s`, after being converted to an integer, is a 4-digit number."
   ]
  },
  {
   "cell_type": "code",
   "execution_count": 22,
   "metadata": {},
   "outputs": [
    {
     "name": "stdout",
     "output_type": "stream",
     "text": [
      "four digit number\n"
     ]
    }
   ],
   "source": [
    "s_263 = '2025'\n",
    "# Your code here\n",
    "if  int(s_263) >=1000 and int(s_263) <= 9999:\n",
    "    print(\"four digit number\")"
   ]
  },
  {
   "cell_type": "markdown",
   "metadata": {},
   "source": [
    "**Q264:** A tuple contains a list as its first element. Check if the second element of that list is 99."
   ]
  },
  {
   "cell_type": "code",
   "execution_count": 25,
   "metadata": {},
   "outputs": [
    {
     "name": "stdout",
     "output_type": "stream",
     "text": [
      "Second score is 99.\n"
     ]
    }
   ],
   "source": [
    "data_264 = ([98, 99, 100], 'scores')\n",
    "# Your code here\n",
    "if data_264[0][1] == 99:\n",
    "    print(\"Second score is 99.\")"
   ]
  },
  {
   "cell_type": "markdown",
   "metadata": {},
   "source": [
    "**Q265:** A dictionary has nested `info`. If the `age` is less than 18 and the `has_permission` flag is `False`, print \"Access denied for minor.\""
   ]
  },
  {
   "cell_type": "code",
   "execution_count": null,
   "metadata": {},
   "outputs": [
    {
     "name": "stdout",
     "output_type": "stream",
     "text": [
      "Access denied.\n"
     ]
    }
   ],
   "source": [
    "person_265 = {'id': 'p-3', 'info': {'age': 16, 'has_permission': False}}\n",
    "# Your code here\n",
    "if person_265['info']['age'] <18 and not person_265['info']['has_permission']:\n",
    "    print(\"Access denied for minior.\")"
   ]
  },
  {
   "cell_type": "markdown",
   "metadata": {},
   "source": [
    "**Q266:** Check if a number is divisible by 100 but not by 400 (like a non-leap century year)."
   ]
  },
  {
   "cell_type": "code",
   "execution_count": 28,
   "metadata": {},
   "outputs": [
    {
     "name": "stdout",
     "output_type": "stream",
     "text": [
      "not the Leap Year\n"
     ]
    }
   ],
   "source": [
    "year_266 = 1900\n",
    "# Your code here\n",
    "if  year_266 % 100 != 0 or not  year_266 % 400 == 0:\n",
    "    print(\"not the Leap Year\")"
   ]
  },
  {
   "cell_type": "markdown",
   "metadata": {},
   "source": [
    "**Q267:** A list contains two strings. Check if the first character of the first string is the same as the last character of the second string."
   ]
  },
  {
   "cell_type": "code",
   "execution_count": 29,
   "metadata": {},
   "outputs": [
    {
     "name": "stdout",
     "output_type": "stream",
     "text": [
      "First letter of the first word matches the last letter of the second word.\n"
     ]
    }
   ],
   "source": [
    "words_267 = ['python', 'codecamp']\n",
    "# Your code here\n",
    "if words_267[0][0] == words_267[1][-1]:\n",
    "    print(\"First letter of the first word matches the last letter of the second word.\")"
   ]
  },
  {
   "cell_type": "markdown",
   "metadata": {},
   "source": [
    "**Q268:** A dictionary's value is a list of numbers. Check if the list has 3 elements and the first element is the smallest of the three."
   ]
  },
  {
   "cell_type": "code",
   "execution_count": 1,
   "metadata": {},
   "outputs": [
    {
     "name": "stdout",
     "output_type": "stream",
     "text": [
      "First value is the smallest.\n"
     ]
    }
   ],
   "source": [
    "data_268 = {'values': [5, 10, 15]}\n",
    "# Your code here\n",
    "if len(data_268['values']) == 3:\n",
    "    if data_268['values'][0] < data_268['values'][1]and data_268['values'][0] < data_268['values'][2]:\n",
    "       print(\"First value is the smallest.\")\n",
    "    else:\n",
    "        print(\"First value is not the smallest.\")\n",
    "else:\n",
    "    print(\"Data is more than 3 elements.\")"
   ]
  },
  {
   "cell_type": "markdown",
   "metadata": {},
   "source": [
    "**Q269:** Check if a string `s` has a length less than 3."
   ]
  },
  {
   "cell_type": "code",
   "execution_count": 2,
   "metadata": {},
   "outputs": [
    {
     "name": "stdout",
     "output_type": "stream",
     "text": [
      "String is less than 3 characters.\n"
     ]
    }
   ],
   "source": [
    "s_269 = 'hi'\n",
    "# Your code here\n",
    "if len(s_269) < 3:\n",
    "    print(\"String is less than 3 characters.\")\n",
    "else:\n",
    "    print(\"String is 3 characters or more.\")"
   ]
  },
  {
   "cell_type": "markdown",
   "metadata": {},
   "source": [
    "**Q270:** A tuple contains a dictionary. Check if the dictionary has a key 'version' and its value is a float."
   ]
  },
  {
   "cell_type": "code",
   "execution_count": 4,
   "metadata": {},
   "outputs": [
    {
     "name": "stdout",
     "output_type": "stream",
     "text": [
      "True\n"
     ]
    }
   ],
   "source": [
    "data_270 = ('config', {'version': 2.0, 'name': 'App'})\n",
    "# Your code here\n",
    "if isinstance(data_270[1]['version'], float):\n",
    "    print(True)\n",
    "else:\n",
    "    print(False)"
   ]
  },
  {
   "cell_type": "markdown",
   "metadata": {},
   "source": [
    "**Q271:** In a nested dictionary, check if the `os_version` is a string."
   ]
  },
  {
   "cell_type": "code",
   "execution_count": 5,
   "metadata": {},
   "outputs": [
    {
     "name": "stdout",
     "output_type": "stream",
     "text": [
      "True\n"
     ]
    }
   ],
   "source": [
    "system_271 = {'type': 'server', 'details': {'os': 'Windows', 'os_version': 'Server 2019'}}\n",
    "# Your code here\n",
    "if isinstance(system_271['details']['os_version'], str):\n",
    "    print(True)\n",
    "else:\n",
    "    print(False)\n"
   ]
  },
  {
   "cell_type": "markdown",
   "metadata": {},
   "source": [
    "**Q272:** A list contains two dictionaries. Check if the value of `is_active` is the same in both."
   ]
  },
  {
   "cell_type": "code",
   "execution_count": 6,
   "metadata": {},
   "outputs": [
    {
     "name": "stdout",
     "output_type": "stream",
     "text": [
      "True\n"
     ]
    }
   ],
   "source": [
    "users_272 = [{'id': 1, 'is_active': True}, {'id': 2, 'is_active': True}]\n",
    "# Your code here\n",
    "if users_272[0]['is_active'] == users_272[1]['is_active']:\n",
    "    print(True)"
   ]
  },
  {
   "cell_type": "markdown",
   "metadata": {},
   "source": [
    "**Q273:** Check if a string `s` is not a palindrome."
   ]
  },
  {
   "cell_type": "code",
   "execution_count": 7,
   "metadata": {},
   "outputs": [
    {
     "name": "stdout",
     "output_type": "stream",
     "text": [
      "String is not a palindrome.\n"
     ]
    }
   ],
   "source": [
    "s_273 = 'hello'\n",
    "# Your code here\n",
    "if not s_273 == s_273[::-1]:\n",
    "    print(\"String is not a palindrome.\")"
   ]
  },
  {
   "cell_type": "markdown",
   "metadata": {},
   "source": [
    "**Q274:** A tuple `(is_error, error_msg)` is given. If `is_error` is `True`, check if the `error_msg` is not an empty string."
   ]
  },
  {
   "cell_type": "code",
   "execution_count": 8,
   "metadata": {},
   "outputs": [
    {
     "name": "stdout",
     "output_type": "stream",
     "text": [
      "not the empty string\n"
     ]
    }
   ],
   "source": [
    "result_274 = (True, 'Invalid input')\n",
    "# Your code here\n",
    "if result_274[0] is True:\n",
    "    if result_274[1]:\n",
    "        print(\"not the empty string\")"
   ]
  },
  {
   "cell_type": "markdown",
   "metadata": {},
   "source": [
    "**Q275:** A dictionary `data` has a list `items`. Check if the third item in the list is the string \"gold\"."
   ]
  },
  {
   "cell_type": "code",
   "execution_count": 9,
   "metadata": {},
   "outputs": [
    {
     "name": "stdout",
     "output_type": "stream",
     "text": [
      "True\n"
     ]
    }
   ],
   "source": [
    "data_275 = {'id': 'd3', 'items': ['silver', 'bronze', 'gold']}\n",
    "# Your code here\n",
    "if data_275['items'][2] == \"gold\":\n",
    "    print(True)\n",
    "else:\n",
    "    print(False)"
   ]
  },
  {
   "cell_type": "markdown",
   "metadata": {},
   "source": [
    "**Q276:** A number `x` is given. Check if it's a negative odd number."
   ]
  },
  {
   "cell_type": "code",
   "execution_count": 11,
   "metadata": {},
   "outputs": [
    {
     "name": "stdout",
     "output_type": "stream",
     "text": [
      "Negative odd  number\n"
     ]
    }
   ],
   "source": [
    "x_276 = -13\n",
    "# Your code here\n",
    "if x_276 < 0 and not x_276 % 2 ==0:\n",
    "    print(\"Negative odd  number\")"
   ]
  },
  {
   "cell_type": "markdown",
   "metadata": {},
   "source": [
    "**Q277:** A list of lists is given. Check if the second element of the second inner list is 'B2'."
   ]
  },
  {
   "cell_type": "code",
   "execution_count": 12,
   "metadata": {},
   "outputs": [
    {
     "name": "stdout",
     "output_type": "stream",
     "text": [
      "Grid matches expected values.\n"
     ]
    }
   ],
   "source": [
    "grid_277 = [['A1', 'A2'], ['B1', 'B2']]\n",
    "# Your code here\n",
    "if  grid_277[1][1] == 'B2':\n",
    "    print(\"Grid matches expected values.\")"
   ]
  },
  {
   "cell_type": "markdown",
   "metadata": {},
   "source": [
    "**Q278:** A dictionary's value is a list of strings. Check if the first string has a length of 5."
   ]
  },
  {
   "cell_type": "code",
   "execution_count": 15,
   "metadata": {},
   "outputs": [
    {
     "name": "stdout",
     "output_type": "stream",
     "text": [
      "True\n"
     ]
    }
   ],
   "source": [
    "words_278 = {'list': ['hello', 'world']}\n",
    "# Your code here\n",
    "if len(words_278['list'][0]) == 5:\n",
    "    print(True)\n",
    "else:\n",
    "    print(False)\n"
   ]
  },
  {
   "cell_type": "markdown",
   "metadata": {},
   "source": [
    "**Q279:** Check if a string `s` is numeric (can be int or float)."
   ]
  },
  {
   "cell_type": "code",
   "execution_count": 26,
   "metadata": {},
   "outputs": [
    {
     "name": "stdout",
     "output_type": "stream",
     "text": [
      "True\n"
     ]
    }
   ],
   "source": [
    "s_279 = '123.45'\n",
    "# Your code here\n",
    "if s_279.isdigit() or isinstance(float(s_279), float):\n",
    "    print(True)\n",
    "else:\n",
    "    print(False)\n"
   ]
  },
  {
   "cell_type": "markdown",
   "metadata": {},
   "source": [
    "**Q280:** A tuple contains a dictionary. Check if the value of the `is_valid` key in the dictionary is `False`."
   ]
  },
  {
   "cell_type": "code",
   "execution_count": 27,
   "metadata": {},
   "outputs": [
    {
     "name": "stdout",
     "output_type": "stream",
     "text": [
      "Validation failed due to expiration.\n"
     ]
    }
   ],
   "source": [
    "validation_280 = ({'is_valid': False, 'reason': 'expired'},)\n",
    "# Your code here\n",
    "if validation_280[0]['is_valid'] is False:\n",
    "    print(\"Validation failed due to expiration.\")"
   ]
  },
  {
   "cell_type": "markdown",
   "metadata": {},
   "source": [
    "**Q281:** In a nested dictionary, check if the `state` is 'Maharashtra' and the `country` is 'India'."
   ]
  },
  {
   "cell_type": "code",
   "execution_count": 28,
   "metadata": {},
   "outputs": [
    {
     "name": "stdout",
     "output_type": "stream",
     "text": [
      "Location is in India and Maharashtra.\n"
     ]
    }
   ],
   "source": [
    "location_281 = {'city': 'Pune', 'address': {'state': 'Maharashtra', 'country': 'India'}}\n",
    "# Your code here\n",
    "if location_281['address']['country'] == 'India' and location_281['address']['state'] == 'Maharashtra':\n",
    "    print(\"Location is in India and Maharashtra.\")"
   ]
  },
  {
   "cell_type": "markdown",
   "metadata": {},
   "source": [
    "**Q282:** A list has three dictionaries. Check if the `age` of the third person is under 30."
   ]
  },
  {
   "cell_type": "code",
   "execution_count": 29,
   "metadata": {},
   "outputs": [
    {
     "name": "stdout",
     "output_type": "stream",
     "text": [
      "True\n"
     ]
    }
   ],
   "source": [
    "people_282 = [{'age': 40}, {'age': 35}, {'age': 28}]\n",
    "# Your code here\n",
    "if people_282[2]['age'] < 30 :\n",
    "    print(True)"
   ]
  },
  {
   "cell_type": "markdown",
   "metadata": {},
   "source": [
    "**Q283:** Check if a string `s` starts with 'Dr.' or 'Mr.'."
   ]
  },
  {
   "cell_type": "code",
   "execution_count": 30,
   "metadata": {},
   "outputs": [
    {
     "name": "stdout",
     "output_type": "stream",
     "text": [
      "True\n"
     ]
    }
   ],
   "source": [
    "s_283 = 'Dr. Smith'\n",
    "# Your code here\n",
    "if s_283.startswith('Dr.') or s_283.startswith('Mr.'):\n",
    "   print(True)\n",
    "else:\n",
    "   print(False)\n"
   ]
  },
  {
   "cell_type": "markdown",
   "metadata": {},
   "source": [
    "**Q284:** A tuple `(a, b, c)` is given. Check if `a` squared is equal to `b`."
   ]
  },
  {
   "cell_type": "code",
   "execution_count": 31,
   "metadata": {},
   "outputs": [
    {
     "name": "stdout",
     "output_type": "stream",
     "text": [
      "True\n"
     ]
    }
   ],
   "source": [
    "values_284 = (5, 25, 125)\n",
    "# Your code here\n",
    "if values_284[0]**2 == values_284[1]:\n",
    "    print(True)\n",
    "else:\n",
    "    print(False)\n"
   ]
  },
  {
   "cell_type": "markdown",
   "metadata": {},
   "source": [
    "**Q285:** A dictionary `d` has a `data` key. Check if the `data` is a dictionary and contains a key 'id'."
   ]
  },
  {
   "cell_type": "code",
   "execution_count": 32,
   "metadata": {},
   "outputs": [
    {
     "name": "stdout",
     "output_type": "stream",
     "text": [
      "True\n"
     ]
    }
   ],
   "source": [
    "d_285 = {'data': {'id': 1, 'value': 'A'}}\n",
    "# Your code here\n",
    "if \"id\" in d_285['data']:\n",
    "    print(True)\n",
    "else:\n",
    "    print(False)\n"
   ]
  },
  {
   "cell_type": "markdown",
   "metadata": {},
   "source": [
    "**Q286:** A number `x` is given. Check if it is a positive number and not a multiple of 5."
   ]
  },
  {
   "cell_type": "code",
   "execution_count": 33,
   "metadata": {},
   "outputs": [
    {
     "name": "stdout",
     "output_type": "stream",
     "text": [
      "True\n"
     ]
    }
   ],
   "source": [
    "x_286 = 12\n",
    "# Your code here\n",
    "if  x_286 > 0 and  not x_286 % 5== 0:\n",
    "    print(True)"
   ]
  },
  {
   "cell_type": "markdown",
   "metadata": {},
   "source": [
    "**Q287:** A list has a nested dictionary. Check if the value of the `status` key is a string."
   ]
  },
  {
   "cell_type": "code",
   "execution_count": 35,
   "metadata": {},
   "outputs": [
    {
     "name": "stdout",
     "output_type": "stream",
     "text": [
      "True\n"
     ]
    }
   ],
   "source": [
    "data_287 = ['task', {'id': 100, 'status': 'pending'}]\n",
    "# Your code here\n",
    "if isinstance(data_287[1][\"status\"], str):\n",
    "    print(True)"
   ]
  },
  {
   "cell_type": "markdown",
   "metadata": {},
   "source": [
    "**Q288:** A dictionary's value is a list of tuples. Check if the first element of the first tuple is the same as the first element of the last tuple."
   ]
  },
  {
   "cell_type": "code",
   "execution_count": 36,
   "metadata": {},
   "outputs": [
    {
     "name": "stdout",
     "output_type": "stream",
     "text": [
      "True\n"
     ]
    }
   ],
   "source": [
    "log_288 = {'path': [('A', 1), ('B', 2), ('A', 3)]}\n",
    "# Your code here\n",
    "if log_288['path'][0][0] ==  log_288['path'][2][0]:\n",
    "    print(True)"
   ]
  },
  {
   "cell_type": "markdown",
   "metadata": {},
   "source": [
    "**Q289:** heck if a string `s`, when the first character is removed, is 'ython'.C"
   ]
  },
  {
   "cell_type": "code",
   "execution_count": 38,
   "metadata": {},
   "outputs": [
    {
     "name": "stdout",
     "output_type": "stream",
     "text": [
      "True\n"
     ]
    }
   ],
   "source": [
    "s_289 = 'Python'\n",
    "# Your code here\n",
    " \n",
    "\n",
    "if s_289[1:] == 'ython':\n",
    "    print(True)"
   ]
  },
  {
   "cell_type": "markdown",
   "metadata": {},
   "source": [
    "**Q290:** A tuple contains a list and a dictionary. Check if the list contains 3 elements and the dictionary contains 2 key-value pairs."
   ]
  },
  {
   "cell_type": "code",
   "execution_count": 39,
   "metadata": {},
   "outputs": [
    {
     "name": "stdout",
     "output_type": "stream",
     "text": [
      "True\n"
     ]
    }
   ],
   "source": [
    "data_290 = ([1, 2, 3], {'key1': 'val1', 'key2': 'val2'})\n",
    "# Your code here\n",
    "if len(data_290[0]) == 3 and len(data_290[1]) == 2:\n",
    "    print(True)"
   ]
  },
  {
   "cell_type": "markdown",
   "metadata": {},
   "source": [
    "**Q291:** A deeply nested dictionary. Check if the `type` of the first `permission` is 'read-only'."
   ]
  },
  {
   "cell_type": "code",
   "execution_count": 40,
   "metadata": {},
   "outputs": [
    {
     "name": "stdout",
     "output_type": "stream",
     "text": [
      "True\n"
     ]
    }
   ],
   "source": [
    "config_291 = {'user': {'roles': [{'permissions': [{'type': 'read-only'}]}]}}\n",
    "# Your code here\n",
    "if config_291['user']['roles'][0]['permissions'][0]['type'] == 'read-only':\n",
    "    print(True)"
   ]
  },
  {
   "cell_type": "markdown",
   "metadata": {},
   "source": [
    "**Q292:** A list has three dictionaries. Check if the `id` of the first is an integer, the second is a string, and the third is `None`."
   ]
  },
  {
   "cell_type": "code",
   "execution_count": 41,
   "metadata": {},
   "outputs": [
    {
     "name": "stdout",
     "output_type": "stream",
     "text": [
      "True\n"
     ]
    }
   ],
   "source": [
    "items_292 = [{'id': 1}, {'id': 'item-2'}, {'id': None}]\n",
    "# Your code here\n",
    "if items_292[2]['id'] is None:\n",
    "    print(True)"
   ]
  },
  {
   "cell_type": "markdown",
   "metadata": {},
   "source": [
    "**Q293:** Check if a string `s` starts with 'a' and has 'z' as its third character."
   ]
  },
  {
   "cell_type": "code",
   "execution_count": 43,
   "metadata": {},
   "outputs": [
    {
     "name": "stdout",
     "output_type": "stream",
     "text": [
      "False\n"
     ]
    }
   ],
   "source": [
    "s_293 = 'azure'\n",
    "# Your code here\n",
    "if s_293.startswith('a') and s_293[2] == \"z\":\n",
    "    print(True)\n",
    "else:\n",
    "    print(False)"
   ]
  },
  {
   "cell_type": "markdown",
   "metadata": {},
   "source": [
    "**Q294:** A tuple `(name, dimensions)` is given, where dimensions is another tuple `(w, h)`. Check if the width is 1920."
   ]
  },
  {
   "cell_type": "code",
   "execution_count": 44,
   "metadata": {},
   "outputs": [
    {
     "name": "stdout",
     "output_type": "stream",
     "text": [
      "True\n"
     ]
    }
   ],
   "source": [
    "screen_294 = ('monitor1', (1920, 1080))\n",
    "# Your code here\n",
    "if screen_294[1][0] == 1920:\n",
    "    print(True)"
   ]
  },
  {
   "cell_type": "markdown",
   "metadata": {},
   "source": [
    "**Q295:** A dictionary `d` has a `value` that could be `None`. If it's not `None`, check if it's positive."
   ]
  },
  {
   "cell_type": "code",
   "execution_count": 45,
   "metadata": {},
   "outputs": [
    {
     "name": "stdout",
     "output_type": "stream",
     "text": [
      "True\n"
     ]
    }
   ],
   "source": [
    "d_295 = {'value': 10}\n",
    "# Your code here\n",
    "if not d_295['value'] is None:\n",
    "   if(d_295['value'] > 0):\n",
    "       print(True)"
   ]
  },
  {
   "cell_type": "markdown",
   "metadata": {},
   "source": [
    "**Q296:** A number `x` is given. Check if it is a positive even number less than 100."
   ]
  },
  {
   "cell_type": "code",
   "execution_count": 46,
   "metadata": {},
   "outputs": [
    {
     "name": "stdout",
     "output_type": "stream",
     "text": [
      "True\n"
     ]
    }
   ],
   "source": [
    "x_296 = 50\n",
    "# Your code here\n",
    "if x_296 >= 0  and x_296 % 2 == 0:\n",
    "     if x_296 < 100:\n",
    "         print(True)"
   ]
  },
  {
   "cell_type": "markdown",
   "metadata": {},
   "source": [
    "**Q297:** A list has a nested dictionary. Check if the dictionary has a key 'error' or a key 'warning'."
   ]
  },
  {
   "cell_type": "code",
   "execution_count": 47,
   "metadata": {},
   "outputs": [
    {
     "name": "stdout",
     "output_type": "stream",
     "text": [
      "True\n"
     ]
    }
   ],
   "source": [
    "log_297 = ['log-1', {'warning': 'Low memory'}]\n",
    "# Your code here\n",
    "if  \"error\" in log_297[1] or \"warning\" in log_297[1]:\n",
    "    print(True)"
   ]
  },
  {
   "cell_type": "markdown",
   "metadata": {},
   "source": [
    "**Q298:** A dictionary's value is a list of tuples. Check if the first element of the first tuple is equal to the last element of the last tuple."
   ]
  },
  {
   "cell_type": "code",
   "execution_count": 48,
   "metadata": {},
   "outputs": [
    {
     "name": "stdout",
     "output_type": "stream",
     "text": [
      "False\n"
     ]
    }
   ],
   "source": [
    "path_298 = {'points': [('A', 0), ('B', 5), ('C', 10)]}\n",
    "# Your code here\n",
    "if path_298['points'][0][0] == path_298['points'][2][0]:\n",
    "    print(True)\n",
    "else:\n",
    "    print(False)\n"
   ]
  },
  {
   "cell_type": "markdown",
   "metadata": {},
   "source": [
    "**Q299:** Check if a string `s`, excluding its first and last characters, is 'ell'."
   ]
  },
  {
   "cell_type": "code",
   "execution_count": 49,
   "metadata": {},
   "outputs": [
    {
     "name": "stdout",
     "output_type": "stream",
     "text": [
      "True\n"
     ]
    }
   ],
   "source": [
    "s_299 = 'hello'\n",
    "# Your code here\n",
    "if s_299[1:-1] == \"ell\":\n",
    "    print(True)"
   ]
  },
  {
   "cell_type": "markdown",
   "metadata": {},
   "source": [
    "**Q300:** A social media post is a dictionary. If the post has more than 100 likes and its `is_verified_author` flag is true, print \"Popular post from a verified author.\""
   ]
  },
  {
   "cell_type": "code",
   "execution_count": 50,
   "metadata": {},
   "outputs": [
    {
     "name": "stdout",
     "output_type": "stream",
     "text": [
      "True\n"
     ]
    }
   ],
   "source": [
    "post_300 = {'author': 'user1', 'likes': 150, 'is_verified_author': True, 'content': '...'}\n",
    "# Your code here\n",
    "if post_300['likes'] > 100 and post_300['is_verified_author']:\n",
    "    print(True)\n",
    "else:\n",
    "    print(False)\n"
   ]
  },
  {
   "cell_type": "code",
   "execution_count": null,
   "id": "eb37a28b",
   "metadata": {},
   "outputs": [],
   "source": []
  }
 ],
 "metadata": {
  "kernelspec": {
   "display_name": "Python 3",
   "language": "python",
   "name": "python3"
  },
  "language_info": {
   "codemirror_mode": {
    "name": "ipython",
    "version": 3
   },
   "file_extension": ".py",
   "mimetype": "text/x-python",
   "name": "python",
   "nbconvert_exporter": "python",
   "pygments_lexer": "ipython3",
   "version": "3.13.5"
  }
 },
 "nbformat": 4,
 "nbformat_minor": 5
}
