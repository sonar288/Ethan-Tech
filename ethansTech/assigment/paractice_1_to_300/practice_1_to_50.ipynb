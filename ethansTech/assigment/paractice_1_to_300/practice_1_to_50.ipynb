{
  "cells": [
    {
      "cell_type": "markdown",
      "id": "5H_DKANXgwWx",
      "metadata": {
        "id": "5H_DKANXgwWx"
      },
      "source": [
        "# Advanced Practice: Data Types and Conditionals (Part 1: 1-50)\n",
        "\n",
        "**Instructions:** Solve the following 50 questions. These questions focus only on Python's basic data types and conditional logic (`if`, `elif`, `else`). There are no loops required. Write your code in the empty cell below each question."
      ]
    },
    {
      "cell_type": "markdown",
      "id": "hljVvQKHgwW8",
      "metadata": {
        "id": "hljVvQKHgwW8"
      },
      "source": [
        "**Q1:** An API response is stored in a dictionary. If the `status_code` is 200 and the `count` in `meta` is greater than 0, print \"Success with data.\""
      ]
    },
    {
      "cell_type": "code",
      "execution_count": 3,
      "id": "wiPmxG6YgwW8",
      "metadata": {
        "id": "wiPmxG6YgwW8"
      },
      "outputs": [
        {
          "name": "stdout",
          "output_type": "stream",
          "text": [
            "Success with data\n"
          ]
        }
      ],
      "source": [
        "api_response_1 = {\"status_code\": 200, \"data\": [1, 2, 3], \"meta\": {\"count\": 3}}\n",
        "# Your code here\n",
        "if(api_response_1[\"status_code\"] == 200 and api_response_1[\"meta\"][\"count\"] > 0):\n",
        "    print(\"Success with data\")\n",
        "else:\n",
        "    print(False)"
      ]
    },
    {
      "cell_type": "markdown",
      "id": "wft6hL_9gwW-",
      "metadata": {
        "id": "wft6hL_9gwW-"
      },
      "source": [
        "**Q2:** A user's profile is given. If the user is from \"Pune\" and has more than 1000 followers, print \"Pune-based influencer.\""
      ]
    },
    {
      "cell_type": "code",
      "execution_count": null,
      "id": "BOjWFIOTgwW-",
      "metadata": {
        "id": "BOjWFIOTgwW-"
      },
      "outputs": [
        {
          "name": "stdout",
          "output_type": "stream",
          "text": [
            "Pune-based influencer\n"
          ]
        }
      ],
      "source": [
        "user_profile_2 = {\"username\": \"tech_pune\", \"address\": {\"city\": \"Pune\"}, \"followers\": 1500}\n",
        "# Your code here\n",
        "if((user_profile_2[\"address\"][\"city\"] == \"Pune\") & (user_profile_2[\"followers\"]>1000)):\n",
        "    print(\"Pune-based influencer\")\n",
        "else:\n",
        "    print(False)"
      ]
    },
    {
      "cell_type": "markdown",
      "id": "B-7uRF8OgwW_",
      "metadata": {
        "id": "B-7uRF8OgwW_"
      },
      "source": [
        "**Q3:** A list stores product details. If the last item's `in_stock` status is True, print its name."
      ]
    },
    {
      "cell_type": "code",
      "execution_count": 13,
      "id": "48bFF6PUgwW_",
      "metadata": {
        "id": "48bFF6PUgwW_"
      },
      "outputs": [
        {
          "name": "stdout",
          "output_type": "stream",
          "text": [
            "Keyboard\n",
            "False\n"
          ]
        }
      ],
      "source": [
        "products_3 = [{\"name\": \"Keyboard\", \"in_stock\": True}, {\"name\": \"Mouse\", \"in_stock\": False}]\n",
        "# Your code here\n",
        "for i in products_3:\n",
        "    if(i[\"in_stock\"]):\n",
        "        print(i[\"name\"])\n",
        "    else:\n",
        "        print(False)"
      ]
    },
    {
      "cell_type": "markdown",
      "id": "YklUymL0gwW_",
      "metadata": {
        "id": "YklUymL0gwW_"
      },
      "source": [
        "**Q4:** A tuple contains a file's properties `(name, size_in_kb, type)`. If the file is a 'jpeg' and its size is less than 1024, print \"Small JPEG image.\""
      ]
    },
    {
      "cell_type": "code",
      "execution_count": 20,
      "id": "lHuH9Oo5gwXA",
      "metadata": {
        "id": "lHuH9Oo5gwXA"
      },
      "outputs": [
        {
          "name": "stdout",
          "output_type": "stream",
          "text": [
            "Small JPEG image\n"
          ]
        }
      ],
      "source": [
        "file_info_4 = (\"photo.jpeg\", 850, \"image/jpeg\")\n",
        "# Your code here\n",
        "if(file_info_4[0][-5:] == \".jpeg\" and file_info_4[1] < 1024):\n",
        "    print(\"Small JPEG image\")\n",
        "    "
      ]
    },
    {
      "cell_type": "markdown",
      "id": "fMfgHliLgwXA",
      "metadata": {
        "id": "fMfgHliLgwXA"
      },
      "source": [
        "**Q5:** A game character's dictionary is provided. If `health` is below 25 or `mana` is below 10, print \"Warning: Low resources!\""
      ]
    },
    {
      "cell_type": "code",
      "execution_count": 21,
      "id": "SwoKrE2agwXA",
      "metadata": {
        "id": "SwoKrE2agwXA"
      },
      "outputs": [
        {
          "name": "stdout",
          "output_type": "stream",
          "text": [
            "Waring Low resource\n"
          ]
        }
      ],
      "source": [
        "character_5 = {\"name\": \"Gandalf\", \"health\": 24, \"mana\": 50, \"class\": \"Wizard\"}\n",
        "# Your code here\n",
        "if(character_5[\"health\"] < 25 or character_5[\"mana\"] < 10 ):\n",
        "    print(\"Waring Low resource\")\n"
      ]
    },
    {
      "cell_type": "markdown",
      "id": "KDvYrmMVgwXA",
      "metadata": {
        "id": "KDvYrmMVgwXA"
      },
      "source": [
        "**Q6:** Check if the first and last characters of the string `license_plate` are digits."
      ]
    },
    {
      "cell_type": "code",
      "execution_count": 24,
      "id": "yNbDJ_lSgwXB",
      "metadata": {
        "id": "yNbDJ_lSgwXB"
      },
      "outputs": [
        {
          "name": "stdout",
          "output_type": "stream",
          "text": [
            "False\n"
          ]
        }
      ],
      "source": [
        "license_plate_6 = \"MH14AZ7812\"\n",
        "# Your code here\n",
        "if(license_plate_6[0].isdigit() and license_plate_6[-1].isdigit()):\n",
        "    print(True)\n",
        "else:\n",
        "    print(False)\n"
      ]
    },
    {
      "cell_type": "markdown",
      "id": "eYw4dzbkgwXB",
      "metadata": {
        "id": "eYw4dzbkgwXB"
      },
      "source": [
        "**Q7:** You have a list of sensor readings. If the second reading is a float, print \"Float value detected.\""
      ]
    },
    {
      "cell_type": "code",
      "execution_count": 25,
      "id": "1mLLRFGAgwXB",
      "metadata": {
        "id": "1mLLRFGAgwXB"
      },
      "outputs": [
        {
          "name": "stdout",
          "output_type": "stream",
          "text": [
            "True\n"
          ]
        }
      ],
      "source": [
        "sensor_readings_7 = [10, 15.7, 20, 18]\n",
        "# Your code here\n",
        "if(type(sensor_readings_7[1]) == float):\n",
        "    print(True)\n",
        "else:\n",
        "    print(False)"
      ]
    },
    {
      "cell_type": "markdown",
      "id": "yQKqIej1gwXB",
      "metadata": {
        "id": "yQKqIej1gwXB"
      },
      "source": [
        "**Q8:** A dictionary represents a server configuration. If the `port` is 443 and the `protocol` is 'https', print \"Secure connection configured.\""
      ]
    },
    {
      "cell_type": "code",
      "execution_count": 26,
      "id": "Vjmi8rvPgwXB",
      "metadata": {
        "id": "Vjmi8rvPgwXB"
      },
      "outputs": [
        {
          "name": "stdout",
          "output_type": "stream",
          "text": [
            "secure connection configured\n"
          ]
        }
      ],
      "source": [
        "server_config_8 = {\"host\": \"api.server.com\", \"port\": 443, \"protocol\": \"https\"}\n",
        "# Your code here\n",
        "if(server_config_8[\"port\"] == 443 and server_config_8[\"protocol\"] == \"https\"):\n",
        "    print(\"secure connection configured\")\n",
        "else:\n",
        "    print(False)"
      ]
    },
    {
      "cell_type": "markdown",
      "id": "sjZO6TX5gwXB",
      "metadata": {
        "id": "sjZO6TX5gwXB"
      },
      "source": [
        "**Q9:** Given a nested list `matrix`, check if the element at the first row, last column is a positive number."
      ]
    },
    {
      "cell_type": "code",
      "execution_count": 27,
      "id": "VRqUEweFgwXB",
      "metadata": {
        "id": "VRqUEweFgwXB"
      },
      "outputs": [
        {
          "name": "stdout",
          "output_type": "stream",
          "text": [
            "True\n",
            "True\n"
          ]
        }
      ],
      "source": [
        "matrix_9 = [[-1, 5, 10], [8, -4, 3]]\n",
        "# Your code here\n",
        "\n",
        "for m in matrix_9:\n",
        "    if(m[2] > 0):\n",
        "      print(True)\n",
        "    else:\n",
        "       print(False)"
      ]
    },
    {
      "cell_type": "markdown",
      "id": "mWkgYnHzgwXB",
      "metadata": {
        "id": "mWkgYnHzgwXB"
      },
      "source": [
        "**Q10:** You have a dictionary of a student's grades. If their \"Math\" grade is higher than their \"Physics\" grade, print \"Strong in Math.\""
      ]
    },
    {
      "cell_type": "code",
      "execution_count": 29,
      "id": "lnWU4o1EgwXC",
      "metadata": {
        "id": "lnWU4o1EgwXC"
      },
      "outputs": [
        {
          "name": "stdout",
          "output_type": "stream",
          "text": [
            "Strong in Math\n"
          ]
        }
      ],
      "source": [
        "grades_10 = {\"Math\": 92, \"Physics\": 88, \"Chemistry\": 90}\n",
        "# Your code here\n",
        "\n",
        "if(grades_10[\"Math\"] > grades_10[\"Physics\"]):\n",
        "    print(\"Strong in Math\")\n",
        "else:\n",
        "    print(\"String in physics\")"
      ]
    },
    {
      "cell_type": "markdown",
      "id": "ZJ5iD1xbgwXC",
      "metadata": {
        "id": "ZJ5iD1xbgwXC"
      },
      "source": [
        "**Q11:** A list contains dictionaries of tasks. If the `priority` of the second task is 'High', print its `name`."
      ]
    },
    {
      "cell_type": "code",
      "execution_count": 30,
      "id": "5AxUDx1LgwXC",
      "metadata": {
        "id": "5AxUDx1LgwXC"
      },
      "outputs": [
        {
          "name": "stdout",
          "output_type": "stream",
          "text": [
            "Task B\n"
          ]
        }
      ],
      "source": [
        "tasks_11 = [{\"name\": \"Task A\", \"priority\": \"Low\"}, {\"name\": \"Task B\", \"priority\": \"High\"}]\n",
        "# Your code here\n",
        "for task in tasks_11:\n",
        "    if(task[\"priority\"] == \"High\"):\n",
        "        print(task[\"name\"])"
      ]
    },
    {
      "cell_type": "markdown",
      "id": "4EjA1OSTgwXC",
      "metadata": {
        "id": "4EjA1OSTgwXC"
      },
      "source": [
        "**Q12:** Check if a dictionary `d` is not empty."
      ]
    },
    {
      "cell_type": "code",
      "execution_count": null,
      "id": "81EssoH1gwXC",
      "metadata": {
        "id": "81EssoH1gwXC"
      },
      "outputs": [
        {
          "name": "stdout",
          "output_type": "stream",
          "text": [
            "is_Empty\n"
          ]
        }
      ],
      "source": [
        "d_12 = {\"key\": \"value\"}\n",
        "# Your code here\n",
        "if(not d_12):\n",
        "    print(\"is_Empty\")\n",
        "else:\n",
        "    print(\"not_Empty\")"
      ]
    },
    {
      "cell_type": "markdown",
      "id": "_soie1zygwXC",
      "metadata": {
        "id": "_soie1zygwXC"
      },
      "source": [
        "**Q13:** A tuple contains a version number `(major, minor, patch)`. If the major version is 3 and the minor version is 9 or greater, print \"Modern Python 3 version.\""
      ]
    },
    {
      "cell_type": "code",
      "execution_count": 33,
      "id": "JWbQhKo0gwXC",
      "metadata": {
        "id": "JWbQhKo0gwXC"
      },
      "outputs": [
        {
          "name": "stdout",
          "output_type": "stream",
          "text": [
            "Mordern Pythn 3 version\n"
          ]
        }
      ],
      "source": [
        "python_version_13 = (3, 10, 4)\n",
        "# Your code here\n",
        "if(python_version_13[0] == 3 and python_version_13[1] >=9):\n",
        "    print(\"Mordern Pythn 3 version\")"
      ]
    },
    {
      "cell_type": "markdown",
      "id": "pu6Iq28WgwXC",
      "metadata": {
        "id": "pu6Iq28WgwXC"
      },
      "source": [
        "**Q14:** A user's settings are in a dictionary. If the `theme` is 'dark' and `notifications` are disabled, print \"Silent dark mode.\""
      ]
    },
    {
      "cell_type": "code",
      "execution_count": 34,
      "id": "rPiVl2W7gwXC",
      "metadata": {
        "id": "rPiVl2W7gwXC"
      },
      "outputs": [
        {
          "name": "stdout",
          "output_type": "stream",
          "text": [
            "Silent dark mode\n"
          ]
        }
      ],
      "source": [
        "user_settings_14 = {\"username\": \"silent_coder\", \"theme\": \"dark\", \"notifications\": False}\n",
        "# Your code here\n",
        "if(user_settings_14[\"theme\"] == \"dark\" and user_settings_14[\"notifications\"] == False):\n",
        "    print(\"Silent dark mode\")"
      ]
    },
    {
      "cell_type": "markdown",
      "id": "VHaJ3RHQgwXC",
      "metadata": {
        "id": "VHaJ3RHQgwXC"
      },
      "source": [
        "**Q15:** Check if the length of a string is an odd number and greater than 10."
      ]
    },
    {
      "cell_type": "code",
      "execution_count": null,
      "id": "oteBwAxWgwXC",
      "metadata": {
        "id": "oteBwAxWgwXC"
      },
      "outputs": [
        {
          "name": "stdout",
          "output_type": "stream",
          "text": [
            "True\n"
          ]
        },
        {
          "data": {
            "text/plain": [
              "13"
            ]
          },
          "execution_count": 40,
          "metadata": {},
          "output_type": "execute_result"
        }
      ],
      "source": [
        "long_string_15 = \"extravaganzsa\"\n",
        "# Your code here\n",
        "if(len(long_string_15) > 10 and len(long_string_15)%2 !=0 ):\n",
        "    print(True)\n",
        "else:\n",
        "    print(False)\n",
        "\n",
        " "
      ]
    },
    {
      "cell_type": "markdown",
      "id": "Tdxe5VYAgwXD",
      "metadata": {
        "id": "Tdxe5VYAgwXD"
      },
      "source": [
        "**Q16:** A dictionary's value is a list of coordinates. Check if the x-coordinate of the first point is 0."
      ]
    },
    {
      "cell_type": "code",
      "execution_count": 42,
      "id": "CncDX6EKgwXD",
      "metadata": {
        "id": "CncDX6EKgwXD"
      },
      "outputs": [
        {
          "name": "stdout",
          "output_type": "stream",
          "text": [
            "True\n"
          ]
        }
      ],
      "source": [
        "shape_16 = {\"name\": \"line\", \"points\": [(0, 10), (100, 10)]}\n",
        "# Your code here\n",
        "if(shape_16[\"points\"][0][0] == 0):\n",
        "     print(True)\n",
        "else:\n",
        "    print(False)"
      ]
    },
    {
      "cell_type": "markdown",
      "id": "XVrwSPOXgwXD",
      "metadata": {
        "id": "XVrwSPOXgwXD"
      },
      "source": [
        "**Q17:** Given a number, check if it's divisible by 5 but not by 10."
      ]
    },
    {
      "cell_type": "code",
      "execution_count": 43,
      "id": "mXixzCeNgwXD",
      "metadata": {
        "id": "mXixzCeNgwXD"
      },
      "outputs": [
        {
          "name": "stdout",
          "output_type": "stream",
          "text": [
            "True\n"
          ]
        }
      ],
      "source": [
        "num_17 = 25\n",
        "# Your code here\n",
        "if(num_17 % 5 == 0 and num_17 % 10 != 10):\n",
        "     print(True)\n",
        "else:\n",
        "    print(False)"
      ]
    },
    {
      "cell_type": "markdown",
      "id": "okBA8G0ZgwXD",
      "metadata": {
        "id": "okBA8G0ZgwXD"
      },
      "source": [
        "**Q18:** You have a list of dictionaries. Check if the `id` of the first item is `None`."
      ]
    },
    {
      "cell_type": "code",
      "execution_count": 44,
      "id": "m0K1dvnTgwXD",
      "metadata": {
        "id": "m0K1dvnTgwXD"
      },
      "outputs": [
        {
          "name": "stdout",
          "output_type": "stream",
          "text": [
            "True\n"
          ]
        }
      ],
      "source": [
        "items_18 = [{\"id\": \"null\" , \"value\": 100}, {\"id\": 101, \"value\": 200}]\n",
        "# Your code here\n",
        "if(items_18[0][\"id\"] == \"null\"):\n",
        "     print(True)\n",
        "else:\n",
        "    print(False)\n"
      ]
    },
    {
      "cell_type": "markdown",
      "id": "DKZ6qqWngwXD",
      "metadata": {
        "id": "DKZ6qqWngwXD"
      },
      "source": [
        "**Q19:** Check if a `url` string starts with \"http://\" or \"https://\"."
      ]
    },
    {
      "cell_type": "code",
      "execution_count": 49,
      "id": "HCDarS_6gwXD",
      "metadata": {
        "id": "HCDarS_6gwXD"
      },
      "outputs": [
        {
          "name": "stdout",
          "output_type": "stream",
          "text": [
            "server is secured\n"
          ]
        }
      ],
      "source": [
        "url_19 = \"https://www.google.com\"\n",
        "# Your code here\n",
        "if(url_19[:8] == \"https://\"):\n",
        "    print(\"server is secured\")\n",
        "else:\n",
        "    print(\"server is not secured\")\n"
      ]
    },
    {
      "cell_type": "markdown",
      "id": "I4MmRcv2gwXJ",
      "metadata": {
        "id": "I4MmRcv2gwXJ"
      },
      "source": [
        "**Q20:** A dictionary contains a list of tags. If the first tag is \"python\" and the list has more than 3 tags, print \"Popular Python post.\""
      ]
    },
    {
      "cell_type": "code",
      "execution_count": 52,
      "id": "w-fSsF78gwXK",
      "metadata": {
        "id": "w-fSsF78gwXK"
      },
      "outputs": [
        {
          "name": "stdout",
          "output_type": "stream",
          "text": [
            "True\n"
          ]
        }
      ],
      "source": [
        "post_20 = {\"title\": \"Advanced Python\", \"tags\": [\"python\", \"data\", \"ml\", \"ai\"]}\n",
        "# Your code here\n",
        "if(post_20[\"tags\"][0] == \"python\"):\n",
        "     print(True)\n",
        "else:\n",
        "    print(False)\n"
      ]
    },
    {
      "cell_type": "markdown",
      "id": "0s1XYARkgwXK",
      "metadata": {
        "id": "0s1XYARkgwXK"
      },
      "source": [
        "**Q21:** Check if a dictionary `d` contains the key 'name' but not the key 'age'."
      ]
    },
    {
      "cell_type": "code",
      "execution_count": 75,
      "id": "D_8iz620gwXK",
      "metadata": {
        "id": "D_8iz620gwXK"
      },
      "outputs": [
        {
          "name": "stdout",
          "output_type": "stream",
          "text": [
            "True\n"
          ]
        }
      ],
      "source": [
        "d_21 = {\"name\": \"Ravi\", \"city\": \"Mumbai\"}\n",
        "# Your code here\n",
        "if \"name\" in d_21 and \"age\" not in d_21:\n",
        "     print(True)\n",
        "else:\n",
        "    print(False)"
      ]
    },
    {
      "cell_type": "markdown",
      "id": "GrEDc3uUgwXK",
      "metadata": {
        "id": "GrEDc3uUgwXK"
      },
      "source": [
        "**Q22:** A list of tuples stores `(item, price)`. Check if the price of the second item is a float."
      ]
    },
    {
      "cell_type": "code",
      "execution_count": 80,
      "id": "tMskeKf3gwXK",
      "metadata": {
        "id": "tMskeKf3gwXK"
      },
      "outputs": [
        {
          "name": "stdout",
          "output_type": "stream",
          "text": [
            "int\n",
            "tuple\n"
          ]
        }
      ],
      "source": [
        "cart_22 = [(\"apple\", 50), (\"milk\", 25.50)]\n",
        "# Your code here  \n",
        "for price in cart_22:\n",
        "    if isinstance(price[1], float):\n",
        "        print(\"tuple\")\n",
        "    else:\n",
        "        print(\"int\")"
      ]
    },
    {
      "cell_type": "markdown",
      "id": "YiqRu8yHgwXK",
      "metadata": {
        "id": "YiqRu8yHgwXK"
      },
      "source": [
        "**Q23:** Check if the third character of a string `s` is a lowercase letter."
      ]
    },
    {
      "cell_type": "code",
      "execution_count": 85,
      "id": "Bc9eoFzngwXK",
      "metadata": {
        "id": "Bc9eoFzngwXK"
      },
      "outputs": [
        {
          "name": "stdout",
          "output_type": "stream",
          "text": [
            "True\n"
          ]
        }
      ],
      "source": [
        "s_23 = \"ABcde\"\n",
        "# Your code here\n",
        "if(s_23[2].islower()):\n",
        "     print(True)\n",
        "else:\n",
        "    print(False)"
      ]
    },
    {
      "cell_type": "markdown",
      "id": "dUZongTsgwXL",
      "metadata": {
        "id": "dUZongTsgwXL"
      },
      "source": [
        "**Q24:** You have a dictionary with nested `details`. If the `is_verified` key is present and `True`, print \"User is verified.\""
      ]
    },
    {
      "cell_type": "code",
      "execution_count": 87,
      "id": "e7Z4phyDgwXL",
      "metadata": {
        "id": "e7Z4phyDgwXL"
      },
      "outputs": [
        {
          "name": "stdout",
          "output_type": "stream",
          "text": [
            "user is verfied\n"
          ]
        }
      ],
      "source": [
        "user_24 = {\"id\": 123, \"details\": {\"is_verified\": True}}\n",
        "# Your code here\n",
        "if(user_24[\"details\"][\"is_verified\"]):\n",
        "    print(\"user is verfied\")"
      ]
    },
    {
      "cell_type": "markdown",
      "id": "g-FW3IZBgwXL",
      "metadata": {
        "id": "g-FW3IZBgwXL"
      },
      "source": [
        "**Q25:** Check if a number is between 100 and 200, or if it is exactly 300."
      ]
    },
    {
      "cell_type": "code",
      "execution_count": 90,
      "id": "clxTcmnSgwXL",
      "metadata": {
        "id": "clxTcmnSgwXL"
      },
      "outputs": [
        {
          "name": "stdout",
          "output_type": "stream",
          "text": [
            "number is between 100 and 200\n"
          ]
        }
      ],
      "source": [
        "num_25 = 150\n",
        "# Your code here\n",
        "if(num_25 > 100 and num_25 < 200):\n",
        "    print(\"number is between 100 and 200\")\n",
        "elif(num_25 == 300):\n",
        "    print(\"number is 300\")\n",
        "else:\n",
        "    print(False)"
      ]
    },
    {
      "cell_type": "markdown",
      "id": "3mR0X4cygwXL",
      "metadata": {
        "id": "3mR0X4cygwXL"
      },
      "source": [
        "**Q26:** A dictionary value is a tuple. Check if the length of this tuple is 3."
      ]
    },
    {
      "cell_type": "code",
      "execution_count": 91,
      "id": "CUxWix7SgwXL",
      "metadata": {
        "id": "CUxWix7SgwXL"
      },
      "outputs": [
        {
          "name": "stdout",
          "output_type": "stream",
          "text": [
            "the length is 3\n"
          ]
        }
      ],
      "source": [
        "data_26 = {\"id\": 1, \"coordinates\": (10, 20, 5)}\n",
        "# Your code here\\\n",
        "if(len(data_26[\"coordinates\"]) == 3):\n",
        "    print(\"the length is 3\")\n"
      ]
    },
    {
      "cell_type": "markdown",
      "id": "O2gQL32dgwXL",
      "metadata": {
        "id": "O2gQL32dgwXL"
      },
      "source": [
        "**Q27:** Given a list, check if its first and last elements are of the same type."
      ]
    },
    {
      "cell_type": "code",
      "execution_count": 93,
      "id": "ph4TuSz7gwXL",
      "metadata": {
        "id": "ph4TuSz7gwXL"
      },
      "outputs": [
        {
          "name": "stdout",
          "output_type": "stream",
          "text": [
            "True\n"
          ]
        }
      ],
      "source": [
        "mixed_list_27 = [10, \"hello\", 20.5, 30]\n",
        "# Your code here\n",
        "if(isinstance(mixed_list_27[0],int) and isinstance(mixed_list_27[len(mixed_list_27)-1],int)):\n",
        "     print(True)\n",
        "else:\n",
        "    print(False)"
      ]
    },
    {
      "cell_type": "markdown",
      "id": "-uWSnquDgwXM",
      "metadata": {
        "id": "-uWSnquDgwXM"
      },
      "source": [
        "**Q28:** Check if a dictionary's 'status' is \"completed\" and its 'score' is exactly 100."
      ]
    },
    {
      "cell_type": "code",
      "execution_count": 96,
      "id": "dj20nsKZgwXM",
      "metadata": {
        "id": "dj20nsKZgwXM"
      },
      "outputs": [
        {
          "name": "stdout",
          "output_type": "stream",
          "text": [
            "task is inComplete\n"
          ]
        }
      ],
      "source": [
        "result_28 = {\"status\": \"completd\", \"score\": 100}\n",
        "# Your code here\n",
        "if(result_28[\"status\"] == \"completed\"):\n",
        "    if(result_28[\"score\"] == 100):\n",
        "        print(\"perfect score\")\n",
        "    else:\n",
        "        print(\"not perfect score\")\n",
        "else:\n",
        "    print(\"task is inComplete\")"
      ]
    },
    {
      "cell_type": "markdown",
      "id": "2gkfjNnhgwXM",
      "metadata": {
        "id": "2gkfjNnhgwXM"
      },
      "source": [
        "**Q29:** A string contains a version code. Check if the second character is a dot `.` and the last character is a digit."
      ]
    },
    {
      "cell_type": "code",
      "execution_count": 97,
      "id": "ETJucjuzgwXM",
      "metadata": {
        "id": "ETJucjuzgwXM"
      },
      "outputs": [
        {
          "name": "stdout",
          "output_type": "stream",
          "text": [
            "True\n"
          ]
        }
      ],
      "source": [
        "version_code_29 = \"v.2.1\"\n",
        "# Your code here\n",
        "if(version_code_29[1] == \".\"):\n",
        "     print(True)\n",
        "else:\n",
        "    print(False)"
      ]
    },
    {
      "cell_type": "markdown",
      "id": "0jaECs00gwXM",
      "metadata": {
        "id": "0jaECs00gwXM"
      },
      "source": [
        "**Q30:** A dictionary contains a list of permissions. If \"admin\" is the first permission, print \"Full access.\""
      ]
    },
    {
      "cell_type": "code",
      "execution_count": 99,
      "id": "nQM8BY8igwXN",
      "metadata": {
        "id": "nQM8BY8igwXN"
      },
      "outputs": [
        {
          "name": "stdout",
          "output_type": "stream",
          "text": [
            "full access\n"
          ]
        }
      ],
      "source": [
        "permissions_30 = {\"user\": \"root\", \"perms\": [\"admin\", \"read\", \"write\"]}\n",
        "# Your code here\n",
        "if(permissions_30[\"perms\"][0] == \"admin\"):\n",
        "    print(\"full access\")"
      ]
    },
    {
      "cell_type": "markdown",
      "id": "gmhg9EbagwXN",
      "metadata": {
        "id": "gmhg9EbagwXN"
      },
      "source": [
        "**Q31:** Check if a number `val` is a multiple of 7 or a multiple of 11."
      ]
    },
    {
      "cell_type": "code",
      "execution_count": 103,
      "id": "7J7WrvPdgwXN",
      "metadata": {
        "id": "7J7WrvPdgwXN"
      },
      "outputs": [
        {
          "name": "stdout",
          "output_type": "stream",
          "text": [
            "True\n"
          ]
        }
      ],
      "source": [
        "val_31 = 77\n",
        "# Your code here\n",
        "if(val_31%7 == 0 and val_31% 11 ==0):\n",
        "     print(True)\n",
        "else:\n",
        "    print(False)"
      ]
    },
    {
      "cell_type": "markdown",
      "id": "TmhEFitGgwXN",
      "metadata": {
        "id": "TmhEFitGgwXN"
      },
      "source": [
        "**Q32:** In a nested dictionary, check if the `pincode` is a 6-digit number (i.e., between 100000 and 999999)."
      ]
    },
    {
      "cell_type": "code",
      "execution_count": 105,
      "id": "rUkAmZZigwXN",
      "metadata": {
        "id": "rUkAmZZigwXN"
      },
      "outputs": [
        {
          "name": "stdout",
          "output_type": "stream",
          "text": [
            "valid pincode\n"
          ]
        }
      ],
      "source": [
        "address_32 = {\"city\": \"Pune\", \"details\": {\"pincode\": 411001, \"street\": \"FC Road\"}}\n",
        "# Your code here\n",
        "if(len(str(address_32[\"details\"][\"pincode\"])) == 6):\n",
        "    print(\"valid pincode\")"
      ]
    },
    {
      "cell_type": "markdown",
      "id": "iNUTuEATgwXO",
      "metadata": {
        "id": "iNUTuEATgwXO"
      },
      "source": [
        "**Q33:** You have a list of dictionaries. Check if the `name` of the last student starts with 'Z'."
      ]
    },
    {
      "cell_type": "code",
      "execution_count": 109,
      "id": "giWNWIR4gwXO",
      "metadata": {
        "id": "giWNWIR4gwXO"
      },
      "outputs": [
        {
          "name": "stdout",
          "output_type": "stream",
          "text": [
            "False\n",
            "True\n"
          ]
        }
      ],
      "source": [
        "students_33 = [{\"name\": \"Amit\"}, {\"name\": \"Zoya\"}]\n",
        "# Your code here\n",
        "for name in students_33:\n",
        "    if(name[\"name\"][0] ==\"Z\"):\n",
        "         print(True)\n",
        "    else:\n",
        "         print(False)"
      ]
    },
    {
      "cell_type": "markdown",
      "id": "M3zLf5HHgwXO",
      "metadata": {
        "id": "M3zLf5HHgwXO"
      },
      "source": [
        "**Q34:** Check if a string `email` contains an \"@\" symbol and its length is greater than 10 characters."
      ]
    },
    {
      "cell_type": "code",
      "execution_count": 113,
      "id": "XxxtlvNWgwXO",
      "metadata": {
        "id": "XxxtlvNWgwXO"
      },
      "outputs": [
        {
          "name": "stdout",
          "output_type": "stream",
          "text": [
            "True\n"
          ]
        }
      ],
      "source": [
        "email_34 = \"longusername@example.com\"\n",
        "# Your code here\n",
        "if(\"@\" in email_34 and len(email_34) > 10): \n",
        "    print(True)\n",
        "else:\n",
        "    print(False)"
      ]
    },
    {
      "cell_type": "markdown",
      "id": "ocUIGw_zgwXO",
      "metadata": {
        "id": "ocUIGw_zgwXO"
      },
      "source": [
        "**Q35:** A tuple stores `(x, y, z)`. Check if `x` is greater than `y` and `y` is greater than `z`."
      ]
    },
    {
      "cell_type": "code",
      "execution_count": 114,
      "id": "NPqfLodKgwXO",
      "metadata": {
        "id": "NPqfLodKgwXO"
      },
      "outputs": [
        {
          "name": "stdout",
          "output_type": "stream",
          "text": [
            "True\n"
          ]
        }
      ],
      "source": [
        "coords_35 = (30, 20, 10)\n",
        "# Your code here\n",
        "if(coords_35[0]>coords_35[1] and coords_35[1]> coords_35[2]):\n",
        "     print(True)\n",
        "else:\n",
        "    print(False)"
      ]
    },
    {
      "cell_type": "markdown",
      "id": "FgYq0BQFgwXO",
      "metadata": {
        "id": "FgYq0BQFgwXO"
      },
      "source": [
        "**Q36:** Given a dictionary, check if the value associated with the key 'id' is an integer."
      ]
    },
    {
      "cell_type": "code",
      "execution_count": 117,
      "id": "wl3R-xzAgwXO",
      "metadata": {
        "id": "wl3R-xzAgwXO"
      },
      "outputs": [
        {
          "name": "stdout",
          "output_type": "stream",
          "text": [
            "True\n"
          ]
        }
      ],
      "source": [
        "data_36 = {\"id\": 123, \"name\": \"Product\"}\n",
        "# Your code here\n",
        "if(isinstance(data_36[\"id\"], int)):\n",
        "     print(True)\n",
        "else:\n",
        "    print(False)"
      ]
    },
    {
      "cell_type": "markdown",
      "id": "EphpcZ7sgwXO",
      "metadata": {
        "id": "EphpcZ7sgwXO"
      },
      "source": [
        "**Q37:** A list of lists is given. Check if the length of the first inner list is equal to the length of the second inner list."
      ]
    },
    {
      "cell_type": "code",
      "execution_count": 120,
      "id": "_RP7QwKOgwXP",
      "metadata": {
        "id": "_RP7QwKOgwXP"
      },
      "outputs": [
        {
          "name": "stdout",
          "output_type": "stream",
          "text": [
            "False\n"
          ]
        }
      ],
      "source": [
        "matrix_37 = [[1, 2], [3, 4,2]]\n",
        "# Your code here\n",
        "if(len(matrix_37[0]) == len(matrix_37[1])):\n",
        "     print(True)\n",
        "else:\n",
        "    print(False)"
      ]
    },
    {
      "cell_type": "markdown",
      "id": "bYfcwTYlgwXP",
      "metadata": {
        "id": "bYfcwTYlgwXP"
      },
      "source": [
        "**Q38:** Check if a dictionary `config` has the key 'retries' and its value is greater than 3."
      ]
    },
    {
      "cell_type": "code",
      "execution_count": 121,
      "id": "zW_dDyWygwXP",
      "metadata": {
        "id": "zW_dDyWygwXP"
      },
      "outputs": [
        {
          "name": "stdout",
          "output_type": "stream",
          "text": [
            "True\n"
          ]
        }
      ],
      "source": [
        "config_38 = {\"host\": \"localhost\", \"retries\": 5}\n",
        "# Your code here\n",
        "if(config_38[\"retries\"]>3):\n",
        "     print(True)\n",
        "else:\n",
        "    print(False)"
      ]
    },
    {
      "cell_type": "markdown",
      "id": "gp6S2b7ngwXP",
      "metadata": {
        "id": "gp6S2b7ngwXP"
      },
      "source": [
        "**Q39:** A string contains a status code and message. Check if the first three characters are \"404\"."
      ]
    },
    {
      "cell_type": "code",
      "execution_count": 123,
      "id": "KgN0mkRcgwXP",
      "metadata": {
        "id": "KgN0mkRcgwXP"
      },
      "outputs": [
        {
          "name": "stdout",
          "output_type": "stream",
          "text": [
            "True\n"
          ]
        }
      ],
      "source": [
        "status_msg_39 = \"404 Not Found\"\n",
        "# Your code here\n",
        "if(status_msg_39[:3]== \"404\"):\n",
        "     print(True)\n",
        "else:\n",
        "    print(False)"
      ]
    },
    {
      "cell_type": "markdown",
      "id": "zxPGbTBLgwXP",
      "metadata": {
        "id": "zxPGbTBLgwXP"
      },
      "source": [
        "**Q40:** A dictionary value is a list of tags. Check if the last tag is either \"critical\" or \"urgent\"."
      ]
    },
    {
      "cell_type": "code",
      "execution_count": 124,
      "id": "EOIqhNQ5gwXQ",
      "metadata": {
        "id": "EOIqhNQ5gwXQ"
      },
      "outputs": [
        {
          "name": "stdout",
          "output_type": "stream",
          "text": [
            "urgent\n"
          ]
        }
      ],
      "source": [
        "alert_40 = {\"id\": \"A-1\", \"tags\": [\"system\", \"server\", \"urgent\"]}\n",
        "# Your code here\n",
        "print(alert_40[\"tags\"][2])"
      ]
    },
    {
      "cell_type": "markdown",
      "id": "1ndVaeG4gwXQ",
      "metadata": {
        "id": "1ndVaeG4gwXQ"
      },
      "source": [
        "**Q41:** Given a dictionary representing a file, if the 'type' is 'text', check if the 'encoding' is 'utf-8'."
      ]
    },
    {
      "cell_type": "code",
      "execution_count": 125,
      "id": "RykZcGhngwXQ",
      "metadata": {
        "id": "RykZcGhngwXQ"
      },
      "outputs": [
        {
          "name": "stdout",
          "output_type": "stream",
          "text": [
            "True\n"
          ]
        }
      ],
      "source": [
        "file_41 = {\"name\": \"readme.txt\", \"type\": \"text\", \"encoding\": \"utf-8\"}\n",
        "# Your code here\n",
        "if(file_41[\"type\"] == \"text\"):\n",
        "    if(file_41[\"encoding\"] == \"utf-8\"):\n",
        "        print(True)"
      ]
    },
    {
      "cell_type": "markdown",
      "id": "fz2Iw6aEgwXQ",
      "metadata": {
        "id": "fz2Iw6aEgwXQ"
      },
      "source": [
        "**Q42:** You have a list of tuples `(city, population)`. Check if the population of the first city is over 1 million."
      ]
    },
    {
      "cell_type": "code",
      "execution_count": 126,
      "id": "pV8K4nL8gwXQ",
      "metadata": {
        "id": "pV8K4nL8gwXQ"
      },
      "outputs": [
        {
          "name": "stdout",
          "output_type": "stream",
          "text": [
            "True\n",
            "True\n"
          ]
        }
      ],
      "source": [
        "cities_42 = [(\"Mumbai\", 12.4), (\"Pune\", 3.1)] # Population in millions\n",
        "# Your code here\n",
        "for city,population in cities_42:\n",
        "    if(population > 1 ):\n",
        "        print(True)\n",
        "    else:\n",
        "        print(False)"
      ]
    },
    {
      "cell_type": "markdown",
      "id": "iDlOXAPjgwXQ",
      "metadata": {
        "id": "iDlOXAPjgwXQ"
      },
      "source": [
        "**Q43:** Check if a string `s` contains a digit but does not end with one."
      ]
    },
    {
      "cell_type": "code",
      "execution_count": 132,
      "id": "zCknusKqgwXQ",
      "metadata": {
        "id": "zCknusKqgwXQ"
      },
      "outputs": [
        {
          "name": "stdout",
          "output_type": "stream",
          "text": [
            "True\n"
          ]
        }
      ],
      "source": [
        "s_43 = \"user123_profile\"\n",
        "# Your code here\n",
        "if((s.isdigit() for s in s_43) and not s_43[-1].isdigit()):\n",
        "     print(True)\n",
        "else:\n",
        "    print(False)"
      ]
    },
    {
      "cell_type": "markdown",
      "id": "UAL3mfFXgwXQ",
      "metadata": {
        "id": "UAL3mfFXgwXQ"
      },
      "source": [
        "**Q44:** A dictionary contains a list of `scores`. Check if the list contains exactly 5 scores."
      ]
    },
    {
      "cell_type": "code",
      "execution_count": 135,
      "id": "N7MCt9QjgwXR",
      "metadata": {
        "id": "N7MCt9QjgwXR"
      },
      "outputs": [
        {
          "name": "stdout",
          "output_type": "stream",
          "text": [
            "True\n"
          ]
        }
      ],
      "source": [
        "student_44 = {\"name\": \"Rohan\", \"scores\": [88, 92, 76, 81, 95]}\n",
        "# Your code here\n",
        "if(len(student_44[\"scores\"])== 5):\n",
        "     print(True)\n",
        "else:\n",
        "    print(False)"
      ]
    },
    {
      "cell_type": "markdown",
      "id": "oIVcOP_8gwXR",
      "metadata": {
        "id": "oIVcOP_8gwXR"
      },
      "source": [
        "**Q45:** Check if a number `x` is negative and even."
      ]
    },
    {
      "cell_type": "code",
      "execution_count": 137,
      "id": "IzkjscUlgwXR",
      "metadata": {
        "id": "IzkjscUlgwXR"
      },
      "outputs": [
        {
          "name": "stdout",
          "output_type": "stream",
          "text": [
            "True\n"
          ]
        }
      ],
      "source": [
        "x_45 = -12\n",
        "# Your code here\n",
        "if (x_45 <0 and x_45 % 2 == 0):\n",
        "     print(True)\n",
        "else:\n",
        "    print(False) "
      ]
    },
    {
      "cell_type": "markdown",
      "id": "9LlUbWbsgwXR",
      "metadata": {
        "id": "9LlUbWbsgwXR"
      },
      "source": [
        "**Q46:** You have a list of dictionaries. Check if the `status` of the first item is \"active\" and its `id` is an integer."
      ]
    },
    {
      "cell_type": "code",
      "execution_count": 143,
      "id": "OkZqwidFgwXR",
      "metadata": {
        "id": "OkZqwidFgwXR"
      },
      "outputs": [
        {
          "name": "stdout",
          "output_type": "stream",
          "text": [
            "True\n",
            "False\n"
          ]
        }
      ],
      "source": [
        "items_46 = [{\"id\": 101, \"status\": \"active\"}, {\"id\": \"102\", \"status\": \"inactive\"}]\n",
        "# Your code here\n",
        "for items in items_46:\n",
        "   if(items[\"status\"] == \"active\"):\n",
        "       print(True)\n",
        "else:\n",
        "    print(False)"
      ]
    },
    {
      "cell_type": "markdown",
      "id": "JxeLW19KgwXR",
      "metadata": {
        "id": "JxeLW19KgwXR"
      },
      "source": [
        "**Q47:** A tuple contains `(is_member, has_coupon, points)`. If the user is a member or has a coupon, print \"Discount applicable.\""
      ]
    },
    {
      "cell_type": "code",
      "execution_count": null,
      "id": "6ztnCKElgwXR",
      "metadata": {
        "id": "6ztnCKElgwXR"
      },
      "outputs": [
        {
          "name": "stdout",
          "output_type": "stream",
          "text": [
            "Discount applocable\n"
          ]
        }
      ],
      "source": [
        "customer_47 = (True, False, 250)\n",
        "# Your code here\n",
        "if(customer_47[0] == True or customer_47[1] == True):\n",
        "    print(\"Discount applicable\")\n",
        "\n",
        "\n",
        "\n"
      ]
    },
    {
      "cell_type": "markdown",
      "id": "dcLHfWZzgwXR",
      "metadata": {
        "id": "dcLHfWZzgwXR"
      },
      "source": [
        "**Q48:** Check if a string `s` is either \"yes\" (case-insensitive) or just \"y\" (case-insensitive)."
      ]
    },
    {
      "cell_type": "code",
      "execution_count": 148,
      "id": "243vtZfUgwXR",
      "metadata": {
        "id": "243vtZfUgwXR"
      },
      "outputs": [
        {
          "name": "stdout",
          "output_type": "stream",
          "text": [
            "yes\n"
          ]
        }
      ],
      "source": [
        "s_48 = \"Yes\"\n",
        "# Your code here\n",
        "print(s_48.lower())"
      ]
    },
    {
      "cell_type": "markdown",
      "id": "8vsUvwZcgwXR",
      "metadata": {
        "id": "8vsUvwZcgwXR"
      },
      "source": [
        "**Q49:** A dictionary contains a `payload`. If the payload is not `None` and is not an empty list, print \"Payload received.\""
      ]
    },
    {
      "cell_type": "code",
      "execution_count": 151,
      "id": "2ZLTMLRpgwXS",
      "metadata": {
        "id": "2ZLTMLRpgwXS"
      },
      "outputs": [
        {
          "name": "stdout",
          "output_type": "stream",
          "text": [
            "Playload recevied\n"
          ]
        }
      ],
      "source": [
        "response_49 = {\"status\": 200, \"payload\": [\"data\"]}\n",
        "# Your code here\n",
        "if(response_49[\"payload\"]):\n",
        "    print(\"Playload recevied\")"
      ]
    },
    {
      "cell_type": "markdown",
      "id": "r6-Fkd1egwXS",
      "metadata": {
        "id": "r6-Fkd1egwXS"
      },
      "source": [
        "**Q50:** In a nested dictionary, check if the `os` is 'Linux' and the `ram_gb` is 16 or more."
      ]
    },
    {
      "cell_type": "code",
      "execution_count": 154,
      "id": "OSHNFnSLgwXS",
      "metadata": {
        "id": "OSHNFnSLgwXS"
      },
      "outputs": [
        {
          "name": "stdout",
          "output_type": "stream",
          "text": [
            "True\n"
          ]
        }
      ],
      "source": [
        "server_specs_50 = {\"hostname\": \"srv1\", \"specs\": {\"os\": \"Linux\", \"ram_gb\": 32, \"cpu_cores\": 8}}\n",
        "# Your code here\n",
        "if(server_specs_50[\"specs\"][\"os\"] == \"Linux\" and server_specs_50[\"specs\"][\"ram_gb\"] >= 16):\n",
        "     print(True)\n",
        "else:\n",
        "    print(False)"
      ]
    },
    {
      "cell_type": "code",
      "execution_count": null,
      "id": "1cd58980",
      "metadata": {},
      "outputs": [],
      "source": []
    }
  ],
  "metadata": {
    "colab": {
      "provenance": []
    },
    "kernelspec": {
      "display_name": "Python 3",
      "language": "python",
      "name": "python3"
    },
    "language_info": {
      "codemirror_mode": {
        "name": "ipython",
        "version": 3
      },
      "file_extension": ".py",
      "mimetype": "text/x-python",
      "name": "python",
      "nbconvert_exporter": "python",
      "pygments_lexer": "ipython3",
      "version": "3.13.5"
    }
  },
  "nbformat": 4,
  "nbformat_minor": 5
}
