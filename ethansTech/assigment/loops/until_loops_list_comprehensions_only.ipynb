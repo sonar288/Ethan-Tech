{
 "cells": [
  {
   "cell_type": "markdown",
   "metadata": {},
   "source": [
    "# Practice: Loops, Conditionals & List Comprehensions\n",
    "\n",
    "**Instructions:** Solve the following 25 questions. This set combines loops and conditionals and introduces basic list comprehensions. No nested loops are required."
   ]
  },
  {
   "cell_type": "markdown",
   "metadata": {},
   "source": [
    "### Part 1: Loops & Conditionals Review"
   ]
  },
  {
   "cell_type": "markdown",
   "metadata": {},
   "source": [
    "**Q1:** The list `numbers` is given. Use a `for` loop to print all numbers that are less than 10."
   ]
  },
  {
   "cell_type": "code",
   "execution_count": 1,
   "metadata": {},
   "outputs": [
    {
     "name": "stdout",
     "output_type": "stream",
     "text": [
      "2\n",
      "5\n",
      "8\n"
     ]
    }
   ],
   "source": [
    "numbers = [2, 12, 5, 25, 8]\n",
    "# Your code here\n",
    "for i in numbers:\n",
    "    if(i < 10):\n",
    "        print(i)"
   ]
  },
  {
   "cell_type": "markdown",
   "metadata": {},
   "source": [
    "**Q2:** The list `words` is given. Loop through the list and print only the words that end with the letter 't'."
   ]
  },
  {
   "cell_type": "code",
   "execution_count": 6,
   "metadata": {},
   "outputs": [
    {
     "name": "stdout",
     "output_type": "stream",
     "text": [
      "cat\n",
      "elephant\n",
      "rat\n"
     ]
    }
   ],
   "source": [
    "words = ['cat', 'dog', 'elephant', 'rat']\n",
    "# Your code here\n",
    "for i in words:\n",
    "    if(i[-1] == \"t\"):\n",
    "        print(i)"
   ]
  },
  {
   "cell_type": "markdown",
   "metadata": {},
   "source": [
    "**Q3:** Initialize a `count` variable to 0. Loop through the `data` list and increment the count for every `True` value. Print the final `count`."
   ]
  },
  {
   "cell_type": "code",
   "execution_count": 7,
   "metadata": {},
   "outputs": [
    {
     "name": "stdout",
     "output_type": "stream",
     "text": [
      "3\n"
     ]
    }
   ],
   "source": [
    "data = [True, False, True, True, False]\n",
    "# Your code here\n",
    "count=0\n",
    "for i in data:\n",
    "    if i:\n",
    "        count += 1\n",
    "print(count)"
   ]
  },
  {
   "cell_type": "markdown",
   "metadata": {},
   "source": [
    "**Q4:** The dictionary `scores` is given. Loop through its values and print \"Excellent\" for any score that is 90 or above."
   ]
  },
  {
   "cell_type": "code",
   "execution_count": null,
   "metadata": {},
   "outputs": [
    {
     "name": "stdout",
     "output_type": "stream",
     "text": [
      "Excllent 95\n",
      "Excllent 92\n"
     ]
    }
   ],
   "source": [
    "scores = {'Math': 95, 'Science': 80, 'English': 92}\n",
    "# Your code here\n",
    "for s in scores.values():\n",
    "    if s > 90:\n",
    "        print(\"Excllent\")"
   ]
  },
  {
   "cell_type": "markdown",
   "metadata": {},
   "source": [
    "**Q5:** The list of dictionaries `users` is given. Loop through the list and print the `name` of any user whose `city` is 'Pune'."
   ]
  },
  {
   "cell_type": "code",
   "execution_count": 11,
   "metadata": {},
   "outputs": [
    {
     "name": "stdout",
     "output_type": "stream",
     "text": [
      "Priya Pune\n",
      "Amit Pune\n"
     ]
    }
   ],
   "source": [
    "users = [\n",
    "    {'name': 'Raj', 'city': 'Mumbai'},\n",
    "    {'name': 'Priya', 'city': 'Pune'},\n",
    "    {'name': 'Amit', 'city': 'Pune'}\n",
    "]\n",
    "# Your code here\n",
    "for user in users:\n",
    "    if user[\"city\"] == \"Pune\":\n",
    "        print(user[\"name\"],user['city'])"
   ]
  },
  {
   "cell_type": "markdown",
   "metadata": {},
   "source": [
    "**Q6:** Use a `while` loop to print numbers from 10 down to 1. Stop the loop if the number is 5."
   ]
  },
  {
   "cell_type": "code",
   "execution_count": 15,
   "metadata": {},
   "outputs": [
    {
     "name": "stdout",
     "output_type": "stream",
     "text": [
      "10\n",
      "9\n",
      "8\n",
      "7\n",
      "6\n"
     ]
    }
   ],
   "source": [
    "num =10\n",
    "while num >0:\n",
    "    if num==5:\n",
    "        break\n",
    "    print(num)\n",
    "    num -=1"
   ]
  },
  {
   "cell_type": "markdown",
   "metadata": {},
   "source": [
    "**Q7:** Loop through the `data` list. If you find the string 'stop', break out of the loop. Print every item before 'stop'."
   ]
  },
  {
   "cell_type": "code",
   "execution_count": 16,
   "metadata": {},
   "outputs": [
    {
     "name": "stdout",
     "output_type": "stream",
     "text": [
      "1\n",
      "2\n"
     ]
    }
   ],
   "source": [
    "data = [1, 2, 'go', 'start', 'stop', 3, 4]\n",
    "# Your code here\n",
    "for item in data:\n",
    "    if isinstance(item,str):\n",
    "        break\n",
    "    else:\n",
    "        print(item)"
   ]
  },
  {
   "cell_type": "markdown",
   "metadata": {},
   "source": [
    "**Q8:** Loop through the `records` list. Print the `id` of any record where the `status` is 'pending'."
   ]
  },
  {
   "cell_type": "code",
   "execution_count": 17,
   "metadata": {},
   "outputs": [
    {
     "name": "stdout",
     "output_type": "stream",
     "text": [
      "102\n"
     ]
    }
   ],
   "source": [
    "records = [\n",
    "    {'id': 101, 'status': 'complete'},\n",
    "    {'id': 102, 'status': 'pending'},\n",
    "    {'id': 103, 'status': 'complete'}\n",
    "]\n",
    "# Your code here\n",
    "for i in records:\n",
    "    if i['status']==\"pending\":\n",
    "        print(i[\"id\"])"
   ]
  },
  {
   "cell_type": "markdown",
   "metadata": {},
   "source": [
    "**Q9:** Create a new empty list `non_empty_words`. Loop through the `words` list and add only the strings that are not empty to your new list. Print `non_empty_words`."
   ]
  },
  {
   "cell_type": "code",
   "execution_count": 18,
   "metadata": {},
   "outputs": [
    {
     "name": "stdout",
     "output_type": "stream",
     "text": [
      "['hello', 'world', 'python']\n"
     ]
    }
   ],
   "source": [
    "words = ['hello', '', 'world', '', 'python']\n",
    "# Your code here\n",
    "list1 = []\n",
    "for word in words:\n",
    "    if word:\n",
    "        list1.append(word)\n",
    "print(list1)"
   ]
  },
  {
   "cell_type": "markdown",
   "metadata": {},
   "source": [
    "**Q10:** The tuple `data` is given. Loop through it and print each item along with its data type."
   ]
  },
  {
   "cell_type": "code",
   "execution_count": null,
   "metadata": {},
   "outputs": [
    {
     "name": "stdout",
     "output_type": "stream",
     "text": [
      "1 <class 'int'>\n",
      "text <class 'str'>\n",
      "2.5 <class 'float'>\n",
      "True <class 'bool'>\n"
     ]
    }
   ],
   "source": [
    "data = (1, 'text', 2.5, True)\n",
    "# Your code here\n",
    "for i in data: \n",
    "    print(i , type(i))"
   ]
  },
  {
   "cell_type": "markdown",
   "metadata": {},
   "source": [
    "### Part 2: List Comprehensions"
   ]
  },
  {
   "cell_type": "markdown",
   "metadata": {},
   "source": [
    "**Q11:** The list `numbers` is given. Use a list comprehension to create a new list where each number is increased by 1."
   ]
  },
  {
   "cell_type": "code",
   "execution_count": 20,
   "metadata": {},
   "outputs": [
    {
     "data": {
      "text/plain": [
       "[2, 3, 4, 5, 6]"
      ]
     },
     "execution_count": 20,
     "metadata": {},
     "output_type": "execute_result"
    }
   ],
   "source": [
    "numbers = [1, 2, 3, 4, 5]\n",
    "# Your code here\n",
    "[i+1 for i in numbers]"
   ]
  },
  {
   "cell_type": "markdown",
   "metadata": {},
   "source": [
    "**Q12:** The list `words` is given. Use a list comprehension to create a list containing the length of each word."
   ]
  },
  {
   "cell_type": "code",
   "execution_count": 22,
   "metadata": {},
   "outputs": [
    {
     "data": {
      "text/plain": [
       "[(5, 'hello'), (5, 'world'), (4, 'from'), (6, 'python')]"
      ]
     },
     "execution_count": 22,
     "metadata": {},
     "output_type": "execute_result"
    }
   ],
   "source": [
    "words = ['hello', 'world', 'from', 'python']\n",
    "# Your code here\n",
    "[(len(i),i) for i in words]"
   ]
  },
  {
   "cell_type": "markdown",
   "metadata": {},
   "source": [
    "**Q13:** Use a list comprehension to create a list of the squares of numbers from 0 to 4. `[0, 1, 4, 9, 16]`"
   ]
  },
  {
   "cell_type": "code",
   "execution_count": 23,
   "metadata": {},
   "outputs": [
    {
     "data": {
      "text/plain": [
       "[0, 1, 4, 9, 16]"
      ]
     },
     "execution_count": 23,
     "metadata": {},
     "output_type": "execute_result"
    }
   ],
   "source": [
    "[i*i for i in range(5)]"
   ]
  },
  {
   "cell_type": "markdown",
   "metadata": {},
   "source": [
    "**Q14:** The list `fruits` is given. Use a list comprehension to create a new list where each fruit is capitalized."
   ]
  },
  {
   "cell_type": "code",
   "execution_count": 24,
   "metadata": {},
   "outputs": [
    {
     "data": {
      "text/plain": [
       "['APPLE', 'BANANA', 'CHERRY']"
      ]
     },
     "execution_count": 24,
     "metadata": {},
     "output_type": "execute_result"
    }
   ],
   "source": [
    "fruits = ['apple', 'banana', 'cherry']\n",
    "# Your code here\n",
    "[fruit.upper() for fruit in fruits]"
   ]
  },
  {
   "cell_type": "markdown",
   "metadata": {},
   "source": [
    "**Q15:** The list `numbers` is given. Use a list comprehension to create a list of only the odd numbers."
   ]
  },
  {
   "cell_type": "code",
   "execution_count": 2,
   "metadata": {},
   "outputs": [
    {
     "data": {
      "text/plain": [
       "[1, 3, 5, 7, 9]"
      ]
     },
     "execution_count": 2,
     "metadata": {},
     "output_type": "execute_result"
    }
   ],
   "source": [
    "numbers = [1, 2, 3, 4, 5, 6, 7, 8, 9, 10]\n",
    "# Your code here\n",
    "[num for num in numbers if num%2 !=0]"
   ]
  },
  {
   "cell_type": "markdown",
   "metadata": {},
   "source": [
    "**Q16:** The list `names` is given. Use a list comprehension to create a new list containing only the names that are 4 characters long."
   ]
  },
  {
   "cell_type": "code",
   "execution_count": 3,
   "metadata": {},
   "outputs": [
    {
     "data": {
      "text/plain": [
       "['Amit']"
      ]
     },
     "execution_count": 3,
     "metadata": {},
     "output_type": "execute_result"
    }
   ],
   "source": [
    "names = ['Raj', 'Priya', 'Amit', 'Sonia']\n",
    "# Your code here\n",
    "[name for name in names if len(name) == 4]"
   ]
  },
  {
   "cell_type": "markdown",
   "metadata": {},
   "source": [
    "**Q17:** Use a list comprehension to create a list of all numbers from 1 to 20 that are divisible by 4."
   ]
  },
  {
   "cell_type": "code",
   "execution_count": 6,
   "metadata": {},
   "outputs": [
    {
     "data": {
      "text/plain": [
       "[4, 8, 12, 16, 20]"
      ]
     },
     "execution_count": 6,
     "metadata": {},
     "output_type": "execute_result"
    }
   ],
   "source": [
    "[num for num in range(1,21) if num % 4 == 0]"
   ]
  },
  {
   "cell_type": "markdown",
   "metadata": {},
   "source": [
    "**Q18:** The list `data` is given. Use a list comprehension to create a new list containing only the positive numbers."
   ]
  },
  {
   "cell_type": "code",
   "execution_count": 7,
   "metadata": {},
   "outputs": [
    {
     "data": {
      "text/plain": [
       "[10, 3]"
      ]
     },
     "execution_count": 7,
     "metadata": {},
     "output_type": "execute_result"
    }
   ],
   "source": [
    "data = [10, -5, 0, -12, 3]\n",
    "# Your code here\n",
    "[num for num in data if num >0]\n"
   ]
  },
  {
   "cell_type": "markdown",
   "metadata": {},
   "source": [
    "**Q19:** The list of dictionaries `users` is given. Use a list comprehension to create a list of all the usernames."
   ]
  },
  {
   "cell_type": "code",
   "execution_count": 8,
   "metadata": {},
   "outputs": [
    {
     "data": {
      "text/plain": [
       "['user1', 'user2']"
      ]
     },
     "execution_count": 8,
     "metadata": {},
     "output_type": "execute_result"
    }
   ],
   "source": [
    "users = [{'username': 'user1', 'age': 20}, {'username': 'user2', 'age': 25}]\n",
    "# Your code here\n",
    "[user[\"username\"] for user in users  ]"
   ]
  },
  {
   "cell_type": "markdown",
   "metadata": {},
   "source": [
    "**Q20:** The list of dictionaries `products` is given. Use a list comprehension to create a list of the prices."
   ]
  },
  {
   "cell_type": "code",
   "execution_count": 10,
   "metadata": {},
   "outputs": [
    {
     "data": {
      "text/plain": [
       "[15, 2]"
      ]
     },
     "execution_count": 10,
     "metadata": {},
     "output_type": "execute_result"
    }
   ],
   "source": [
    "products = [{'name': 'Book', 'price': 15}, {'name': 'Pen', 'price': 2}]\n",
    "# Your code here\n",
    "[price[\"price\"] for price in products]"
   ]
  },
  {
   "cell_type": "markdown",
   "metadata": {},
   "source": [
    "**Q21:** The list of dictionaries `users` is given. Use a list comprehension to get the names of users who are older than 25."
   ]
  },
  {
   "cell_type": "code",
   "execution_count": 11,
   "metadata": {},
   "outputs": [
    {
     "data": {
      "text/plain": [
       "['Raj', 'Amit']"
      ]
     },
     "execution_count": 11,
     "metadata": {},
     "output_type": "execute_result"
    }
   ],
   "source": [
    "users = [{'name': 'Raj', 'age': 28}, {'name': 'Priya', 'age': 22}, {'name': 'Amit', 'age': 35}]\n",
    "# Your code here\n",
    "[user[\"name\"] for user in users if user[\"age\"] > 25 ]"
   ]
  },
  {
   "cell_type": "markdown",
   "metadata": {},
   "source": [
    "**Q22:** The list of tuples `people` is given. Create a list of names for people who are 18 or older."
   ]
  },
  {
   "cell_type": "code",
   "execution_count": 12,
   "metadata": {},
   "outputs": [
    {
     "data": {
      "text/plain": [
       "['Raj', 'Amit']"
      ]
     },
     "execution_count": 12,
     "metadata": {},
     "output_type": "execute_result"
    }
   ],
   "source": [
    "people = [('Raj', 30), ('Sonia', 17), ('Amit', 18)]\n",
    "# Your code here\n",
    "[person[0] for person in people if person[1]>=18]"
   ]
  },
  {
   "cell_type": "markdown",
   "metadata": {},
   "source": [
    "**Q23:** The list `numbers` is given. Use a list comprehension to create a list of strings, where each number is converted to a string and has 'ID: ' prefixed to it."
   ]
  },
  {
   "cell_type": "code",
   "execution_count": 20,
   "metadata": {},
   "outputs": [
    {
     "data": {
      "text/plain": [
       "['ID: 101', 'ID: 102', 'ID: 103']"
      ]
     },
     "execution_count": 20,
     "metadata": {},
     "output_type": "execute_result"
    }
   ],
   "source": [
    "numbers = [101, 102, 103]\n",
    "# Your code here. Expected output: ['ID: 101', 'ID: 102', 'ID: 103']\n",
    "[ ('ID: '+ str(num)) for num in numbers]"
   ]
  },
  {
   "cell_type": "markdown",
   "metadata": {},
   "source": [
    "**Q24:** The sentence is given. Create a list of words from the sentence, but only include words that do not contain the letter 'o'."
   ]
  },
  {
   "cell_type": "code",
   "execution_count": 23,
   "metadata": {},
   "outputs": [
    {
     "data": {
      "text/plain": [
       "['the', 'quick', 'jumps', 'the', 'lazy']"
      ]
     },
     "execution_count": 23,
     "metadata": {},
     "output_type": "execute_result"
    }
   ],
   "source": [
    "sentence = \"the quick brown fox jumps over the lazy dog\"\n",
    "# Your code here\n",
    "[sen for sen in sentence.split() if \"o\" not in sen]"
   ]
  },
  {
   "cell_type": "markdown",
   "metadata": {},
   "source": [
    "**Q25:** The list `numbers` is given. Use a list comprehension with an if-else expression to create a new list that contains 'even' for even numbers and 'odd' for odd numbers."
   ]
  },
  {
   "cell_type": "code",
   "execution_count": 24,
   "metadata": {},
   "outputs": [
    {
     "data": {
      "text/plain": [
       "['odd', 'even', 'odd', 'even', 'odd']"
      ]
     },
     "execution_count": 24,
     "metadata": {},
     "output_type": "execute_result"
    }
   ],
   "source": [
    "numbers = [1, 2, 3, 4, 5]\n",
    "# Your code here. Expected output: ['odd', 'even', 'odd', 'even', 'odd']\n",
    "[\"even\" if num % 2==0 else \"odd\" for num in numbers]"
   ]
  },
  {
   "cell_type": "code",
   "execution_count": null,
   "id": "17169d06",
   "metadata": {},
   "outputs": [],
   "source": []
  }
 ],
 "metadata": {
  "kernelspec": {
   "display_name": "Python 3",
   "language": "python",
   "name": "python3"
  },
  "language_info": {
   "codemirror_mode": {
    "name": "ipython",
    "version": 3
   },
   "file_extension": ".py",
   "mimetype": "text/x-python",
   "name": "python",
   "nbconvert_exporter": "python",
   "pygments_lexer": "ipython3",
   "version": "3.13.5"
  }
 },
 "nbformat": 4,
 "nbformat_minor": 5
}
