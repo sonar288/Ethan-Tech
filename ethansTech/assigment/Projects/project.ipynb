{
 "cells": [
  {
   "cell_type": "markdown",
   "id": "422aef4c",
   "metadata": {},
   "source": [
    "inventory = [\n",
    "    {\"id\": 101, \"name\": \"Wireless Mouse\", \"category\": \"Electronics\", \"price\": 750, \"stock_quantity\": 12, \"is_on_sale\": True},\n",
    "\n",
    "    {\"id\": 102, \"name\": \"Python Handbook\", \"category\": \"Books\", \"price\": 900, \"stock_quantity\": 5, \"is_on_sale\": False},\n",
    "{\"id\": 103, \"name\": \"Coffee Mug\", \"category\": \"Kitchenware\", \"price\": 400, \"stock_quantity\": 25, \"is_on_sale\": True},\n",
    "    {\"id\": 104, \"name\": \"Bluetooth Speaker\", \"category\": \"Electronics\", \"price\": 2500, \"stock_quantity\": 8, \"is_on_sale\": False},\n",
    "    {\"id\": 105, \"name\": \"Data Science Intro\", \"category\": \"Books\", \"price\": 1100, \"stock_quantity\": 3, \"is_on_sale\": True}\n",
    "]\n",
    "\n"
   ]
  },
  {
   "cell_type": "markdown",
   "id": "c0e36ff6",
   "metadata": {},
   "source": []
  },
  {
   "cell_type": "markdown",
   "id": "7fe417f0",
   "metadata": {},
   "source": [
    "Step 2: Analysis Tasks\n",
    "Write Python code to perform the following analyses. You must create new variables to store the results of your calculations and the new lists you create.\n",
    "1.\tCalculate Total Inventory Value:\n",
    "o\tCreate a variable total_value and initialize it to 0.\n",
    "o\tUse a for loop to iterate through each product in the inventory.\n",
    "o\tFor each product, calculate its item value by multiplying its price by its stock_quantity.\n",
    "o\tAdd this item value to your total_value variable.\n",
    "\n",
    "\n"
   ]
  },
  {
   "cell_type": "markdown",
   "id": "6f12a028",
   "metadata": {},
   "source": [
    "2.\tIdentify Low-Stock Products:\n",
    "o\tCreate an empty list called low_stock_products.\n",
    "o\tUse a for loop to go through each product.\n",
    "o\tInside the loop, use an if statement to check if the product's stock_quantity is less than 10.\n",
    "o\tIf it is, add the product's name to the low_stock_products list.\n"
   ]
  },
  {
   "cell_type": "markdown",
   "id": "c1f4f5d2",
   "metadata": {},
   "source": [
    "3.\tFind Products by Category:\n",
    "o\tCreate an empty list called electronic_products.\n",
    "o\tLoop through the inventory.\n",
    "o\tUse an if statement to check if a product's category is exactly \"Electronics\".\n",
    "o\tIf it is, add the product's name to the electronic_products list."
   ]
  },
  {
   "cell_type": "markdown",
   "id": "1b001be8",
   "metadata": {},
   "source": [
    "Step 3: Use a List Comprehension\n",
    "This task requires you to use the more advanced list comprehension syntax.\n",
    "1.\tCreate a List of On-Sale Items:\n",
    "o\tCreate a list called on_sale_items using a single list comprehension.\n",
    "o\tThis list should contain the name of each product from the inventory where the is_on_sale value is True"
   ]
  },
  {
   "cell_type": "markdown",
   "id": "8809532d",
   "metadata": {},
   "source": [
    "\n",
    "-- Total Inventory Value: ₹19700\n",
    "-- Low-Stock Products: ['Python Handbook', 'Bluetooth Speaker', 'Data Science Intro']\n",
    "-- Products in Electronics Category: ['Wireless Mouse', 'Bluetooth Speaker']\n",
    "-- On-Sale Items: ['Wireless Mouse', 'Coffee Mug', 'Data Science Intro']\n"
   ]
  },
  {
   "cell_type": "code",
   "execution_count": null,
   "id": "46690709",
   "metadata": {},
   "outputs": [],
   "source": [
    "inventory = [\n",
    "    {\"id\": 101, \"name\": \"Wireless Mouse\", \"category\": \"Electronics\", \"price\": 750, \"stock_quantity\": 12, \"is_on_sale\": True},\n",
    "    {\"id\": 102, \"name\": \"Python Handbook\", \"category\": \"Books\", \"price\": 900, \"stock_quantity\": 5, \"is_on_sale\": False},\n",
    "    {\"id\": 103, \"name\": \"Coffee Mug\", \"category\": \"Kitchenware\", \"price\": 400, \"stock_quantity\": 25, \"is_on_sale\": True},\n",
    "    {\"id\": 104, \"name\": \"Bluetooth Speaker\", \"category\": \"Electronics\", \"price\": 2500, \"stock_quantity\": 8, \"is_on_sale\": False},\n",
    "    {\"id\": 105, \"name\": \"Data Science Intro\", \"category\": \"Books\", \"price\": 1100, \"stock_quantity\": 3, \"is_on_sale\": True},\n",
    "    {\"id\": 106, \"name\": \"Stainless Steel Water Bottle\", \"category\": \"Kitchenware\", \"price\": 650, \"stock_quantity\": 15, \"is_on_sale\": False},\n",
    "    {\"id\": 107, \"name\": \"Noise Cancelling Headphones\", \"category\": \"Electronics\", \"price\": 3200, \"stock_quantity\": 6, \"is_on_sale\": True},\n",
    "    {\"id\": 108, \"name\": \"Machine Learning Guide\", \"category\": \"Books\", \"price\": 1500, \"stock_quantity\": 4, \"is_on_sale\": False},\n",
    "    {\"id\": 109, \"name\": \"Non-stick Frying Pan\", \"category\": \"Kitchenware\", \"price\": 1200, \"stock_quantity\": 10, \"is_on_sale\": True}\n",
    "]"
   ]
  },
  {
   "cell_type": "code",
   "execution_count": 25,
   "id": "19b7da04",
   "metadata": {},
   "outputs": [
    {
     "name": "stdout",
     "output_type": "stream",
     "text": [
      " total_value = ₹93750 \n",
      " low_stock_products = ['Python Handbook', 'Bluetooth Speaker', 'Data Science Intro', 'Noise Cancelling Headphones', 'Machine Learning Guide'] \n",
      " electronic_Category = ['Wireless Mouse', 'Bluetooth Speaker', 'Noise Cancelling Headphones'] \n",
      " On_sales_items = ['Wireless Mouse', 'Coffee Mug', 'Data Science Intro', 'Noise Cancelling Headphones', 'Non-stick Frying Pan'] \n"
     ]
    }
   ],
   "source": [
    "total_value = 0\n",
    "for i in range(len(inventory)):\n",
    "    total_value += inventory[i][\"price\"] * inventory[i][\"stock_quantity\"]\n",
    "total_value\n",
    "low_stock_products= [inventory[i][\"name\"] for i in range(len(inventory)) if  inventory[i][\"stock_quantity\"] < 10 ]\n",
    "electronic_Category = [inventory[i][\"name\"] for i in range(len(inventory)) if inventory[i][\"category\"] == \"Electronics\"]\n",
    "On_sales_items = [ inventory[i][\"name\"] for  i in range(len(inventory)) if inventory[i][\"is_on_sale\"] ]\n",
    "print(f\" total_value = ₹{total_value} \\n low_stock_products = {low_stock_products} \\n electronic_Category = {electronic_Category} \\n On_sales_items = {On_sales_items} \")\n",
    "\n"
   ]
  },
  {
   "cell_type": "code",
   "execution_count": 18,
   "id": "9c662f04",
   "metadata": {},
   "outputs": [
    {
     "name": "stdout",
     "output_type": "stream",
     "text": [
      "['Wireless Mouse', 'Coffee Mug', 'Data Science Intro', 'Noise Cancelling Headphones', 'Non-stick Frying Pan']\n",
      "['Wireless Mouse', 'Coffee Mug', 'Data Science Intro', 'Noise Cancelling Headphones', 'Non-stick Frying Pan']\n"
     ]
    }
   ],
   "source": [
    "\n",
    "On_sales_items = [ ]\n",
    "for  i in range(len(inventory)):\n",
    "    if inventory[i][\"is_on_sale\"]:\n",
    "        On_sales_items.append(inventory[i][\"name\"])\n",
    "print(On_sales_items)\n",
    "\n",
    "On_sales_items = [ inventory[i][\"name\"] for  i in range(len(inventory)) if inventory[i][\"is_on_sale\"] ]\n",
    "print(On_sales_items)"
   ]
  },
  {
   "cell_type": "code",
   "execution_count": 16,
   "id": "9297dff4",
   "metadata": {},
   "outputs": [
    {
     "name": "stdout",
     "output_type": "stream",
     "text": [
      "['Wireless Mouse', 'Bluetooth Speaker', 'Noise Cancelling Headphones']\n",
      "['Wireless Mouse', 'Bluetooth Speaker', 'Noise Cancelling Headphones']\n"
     ]
    }
   ],
   "source": [
    "electronic_Category = []\n",
    "for i in range(len(inventory)):\n",
    "    if inventory[i][\"category\"] == \"Electronics\":\n",
    "        electronic_Category.append(inventory[i][\"name\"])\n",
    "print(electronic_Category)\n",
    "\n",
    "electronic_Category = [inventory[i][\"name\"] for i in range(len(inventory)) if inventory[i][\"category\"] == \"Electronics\"]\n",
    "print(electronic_Category)"
   ]
  },
  {
   "cell_type": "code",
   "execution_count": 24,
   "id": "d8b197a3",
   "metadata": {},
   "outputs": [
    {
     "name": "stdout",
     "output_type": "stream",
     "text": [
      "9000\n",
      "13500\n",
      "23500\n",
      "43500\n",
      "46800\n",
      "56550\n",
      "75750\n",
      "81750\n",
      "93750\n"
     ]
    },
    {
     "data": {
      "text/plain": [
       "93750"
      ]
     },
     "execution_count": 24,
     "metadata": {},
     "output_type": "execute_result"
    }
   ],
   "source": [
    "total_value = 0\n",
    "for i in range(len(inventory)):\n",
    "    total_value += inventory[i][\"price\"] * inventory[i][\"stock_quantity\"]\n",
    "    print(total_value)\n",
    "total_value\n",
    "\n",
    " "
   ]
  },
  {
   "cell_type": "code",
   "execution_count": 17,
   "id": "4657fefa",
   "metadata": {},
   "outputs": [
    {
     "name": "stdout",
     "output_type": "stream",
     "text": [
      "['Python Handbook', 'Bluetooth Speaker', 'Data Science Intro', 'Noise Cancelling Headphones', 'Machine Learning Guide']\n",
      "['Python Handbook', 'Bluetooth Speaker', 'Data Science Intro', 'Noise Cancelling Headphones', 'Machine Learning Guide']\n"
     ]
    }
   ],
   "source": [
    "low_stock_products = []\n",
    "for i in range(len(inventory)):\n",
    "    if inventory[i][\"stock_quantity\"] < 10:\n",
    "        low_stock_products.append(inventory[i][\"name\"])\n",
    "print(low_stock_products)\n",
    "\n",
    "print ([inventory[i][\"name\"] for i in range(len(inventory)) if  inventory[i][\"stock_quantity\"] < 10 ])"
   ]
  },
  {
   "cell_type": "code",
   "execution_count": null,
   "id": "65e20978",
   "metadata": {},
   "outputs": [],
   "source": []
  }
 ],
 "metadata": {
  "kernelspec": {
   "display_name": "Python 3",
   "language": "python",
   "name": "python3"
  },
  "language_info": {
   "codemirror_mode": {
    "name": "ipython",
    "version": 3
   },
   "file_extension": ".py",
   "mimetype": "text/x-python",
   "name": "python",
   "nbconvert_exporter": "python",
   "pygments_lexer": "ipython3",
   "version": "3.13.5"
  }
 },
 "nbformat": 4,
 "nbformat_minor": 5
}
