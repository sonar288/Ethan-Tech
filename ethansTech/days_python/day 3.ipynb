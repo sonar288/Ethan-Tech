{
 "cells": [
  {
   "cell_type": "markdown",
   "id": "ffda3425",
   "metadata": {},
   "source": [
    "#### splice\n"
   ]
  },
  {
   "cell_type": "code",
   "execution_count": null,
   "id": "00575f52",
   "metadata": {},
   "outputs": [],
   "source": [
    "str3 = \"hello\"\n",
    "# Syntax srtring[start index: end of index: step]\n",
    "# default at start index is at 0;  \n",
    "# defalut of end index id legth of string \n",
    "# defalut step defalut value = 1 "
   ]
  },
  {
   "cell_type": "code",
   "execution_count": 12,
   "id": "8a68a72f",
   "metadata": {},
   "outputs": [],
   "source": [
    "s = \"DataScience\""
   ]
  },
  {
   "cell_type": "code",
   "execution_count": 13,
   "id": "90af3bb3",
   "metadata": {},
   "outputs": [
    {
     "data": {
      "text/plain": [
       "'Data'"
      ]
     },
     "execution_count": 13,
     "metadata": {},
     "output_type": "execute_result"
    }
   ],
   "source": [
    "s[0:4]\n"
   ]
  },
  {
   "cell_type": "code",
   "execution_count": null,
   "id": "5b7cf69e",
   "metadata": {},
   "outputs": [],
   "source": [
    "s= \"MachineLearing\""
   ]
  },
  {
   "cell_type": "code",
   "execution_count": 15,
   "id": "67306334",
   "metadata": {},
   "outputs": [
    {
     "data": {
      "text/plain": [
       "'Learnig'"
      ]
     },
     "execution_count": 15,
     "metadata": {},
     "output_type": "execute_result"
    }
   ],
   "source": [
    "s[7:len(s)]\n"
   ]
  },
  {
   "cell_type": "code",
   "execution_count": 16,
   "id": "fb194ba4",
   "metadata": {},
   "outputs": [],
   "source": [
    "s=  \"PythonProgramming\""
   ]
  },
  {
   "cell_type": "code",
   "execution_count": 17,
   "id": "d769259f",
   "metadata": {},
   "outputs": [
    {
     "data": {
      "text/plain": [
       "'thon'"
      ]
     },
     "execution_count": 17,
     "metadata": {},
     "output_type": "execute_result"
    }
   ],
   "source": [
    "s[2:6]\n",
    "\n"
   ]
  },
  {
   "cell_type": "code",
   "execution_count": 18,
   "id": "33700736",
   "metadata": {},
   "outputs": [],
   "source": [
    "s = \"DeepLearning\""
   ]
  },
  {
   "cell_type": "code",
   "execution_count": 19,
   "id": "947ae4f3",
   "metadata": {},
   "outputs": [
    {
     "name": "stdout",
     "output_type": "stream",
     "text": [
      "Deep\n",
      "Learning\n"
     ]
    }
   ],
   "source": [
    "print(s[0:4])\n",
    "print(s[4:len(s)])"
   ]
  },
  {
   "cell_type": "code",
   "execution_count": 20,
   "id": "85c562d2",
   "metadata": {},
   "outputs": [],
   "source": [
    "s =\"ArtificialIntelligence\""
   ]
  },
  {
   "cell_type": "code",
   "execution_count": null,
   "id": "acbe3d3d",
   "metadata": {},
   "outputs": [
    {
     "data": {
      "text/plain": [
       "'AtfcaItliec'"
      ]
     },
     "execution_count": 21,
     "metadata": {},
     "output_type": "execute_result"
    }
   ],
   "source": [
    "s[::2]"
   ]
  },
  {
   "cell_type": "code",
   "execution_count": 22,
   "id": "e94b0db7",
   "metadata": {},
   "outputs": [],
   "source": [
    "s = \"Statistics\""
   ]
  },
  {
   "cell_type": "code",
   "execution_count": 23,
   "id": "5e1ac463",
   "metadata": {},
   "outputs": [
    {
     "data": {
      "text/plain": [
       "'scitsitatS'"
      ]
     },
     "execution_count": 23,
     "metadata": {},
     "output_type": "execute_result"
    }
   ],
   "source": [
    "s[::-1]"
   ]
  },
  {
   "cell_type": "code",
   "execution_count": 24,
   "id": "9b52299e",
   "metadata": {},
   "outputs": [],
   "source": [
    "s=\"DataAnalytics\""
   ]
  },
  {
   "cell_type": "code",
   "execution_count": 29,
   "id": "cb61bd41",
   "metadata": {},
   "outputs": [
    {
     "data": {
      "text/plain": [
       "'Analytics'"
      ]
     },
     "execution_count": 29,
     "metadata": {},
     "output_type": "execute_result"
    }
   ],
   "source": [
    "s[-9:]"
   ]
  },
  {
   "cell_type": "code",
   "execution_count": 30,
   "id": "e1dfd887",
   "metadata": {},
   "outputs": [],
   "source": [
    "s=\"ComputerVersion\""
   ]
  },
  {
   "cell_type": "code",
   "execution_count": 32,
   "id": "6e8daf79",
   "metadata": {},
   "outputs": [
    {
     "data": {
      "text/plain": [
       "'Version'"
      ]
     },
     "execution_count": 32,
     "metadata": {},
     "output_type": "execute_result"
    }
   ],
   "source": [
    "s[-7:]"
   ]
  },
  {
   "cell_type": "code",
   "execution_count": 33,
   "id": "482b1e57",
   "metadata": {},
   "outputs": [],
   "source": [
    "s = \"NaturalLanguageProcessing\""
   ]
  },
  {
   "cell_type": "code",
   "execution_count": 35,
   "id": "9e047ec4",
   "metadata": {},
   "outputs": [
    {
     "data": {
      "text/plain": [
       "'Language'"
      ]
     },
     "execution_count": 35,
     "metadata": {},
     "output_type": "execute_result"
    }
   ],
   "source": [
    "s[7:15]"
   ]
  },
  {
   "cell_type": "code",
   "execution_count": 36,
   "id": "061f08b2",
   "metadata": {},
   "outputs": [],
   "source": [
    "s=\"OpenAIChatGpt\""
   ]
  },
  {
   "cell_type": "code",
   "execution_count": 37,
   "id": "dd05b731",
   "metadata": {},
   "outputs": [
    {
     "data": {
      "text/plain": [
       "'penAIChatGp'"
      ]
     },
     "execution_count": 37,
     "metadata": {},
     "output_type": "execute_result"
    }
   ],
   "source": [
    "s[1:len(s)-1]"
   ]
  },
  {
   "cell_type": "code",
   "execution_count": 47,
   "id": "2cfef9c5",
   "metadata": {},
   "outputs": [],
   "source": [
    "str1 = \" How Are YOU Dear\""
   ]
  },
  {
   "cell_type": "code",
   "execution_count": 45,
   "id": "3456b4e5",
   "metadata": {},
   "outputs": [
    {
     "data": {
      "text/plain": [
       "7"
      ]
     },
     "execution_count": 45,
     "metadata": {},
     "output_type": "execute_result"
    }
   ],
   "source": [
    "str1.index(\"e\")"
   ]
  },
  {
   "cell_type": "code",
   "execution_count": 48,
   "id": "ddc0ef35",
   "metadata": {},
   "outputs": [
    {
     "data": {
      "text/plain": [
       "'________________ How Are YOU Dear_________________'"
      ]
     },
     "execution_count": 48,
     "metadata": {},
     "output_type": "execute_result"
    }
   ],
   "source": [
    "str1.center(50, \"_\")"
   ]
  },
  {
   "cell_type": "code",
   "execution_count": 49,
   "id": "f7f472fb",
   "metadata": {},
   "outputs": [
    {
     "data": {
      "text/plain": [
       "' How Are YOU Dear'"
      ]
     },
     "execution_count": 49,
     "metadata": {},
     "output_type": "execute_result"
    }
   ],
   "source": [
    "str1"
   ]
  },
  {
   "cell_type": "code",
   "execution_count": null,
   "id": "84620c28",
   "metadata": {},
   "outputs": [
    {
     "name": "stdout",
     "output_type": "stream",
     "text": [
      "False\n"
     ]
    }
   ],
   "source": [
    "input = \"madasm\"\n",
    "\n",
    "if(input == input[::-1]):\n",
    "   print( True)\n",
    "else: \n",
    "   print(False)\n",
    " \n"
   ]
  },
  {
   "cell_type": "code",
   "execution_count": 56,
   "id": "7f93eed9",
   "metadata": {},
   "outputs": [
    {
     "name": "stdout",
     "output_type": "stream",
     "text": [
      "dlrow olleh\n"
     ]
    }
   ],
   "source": [
    "input = \"hello world\"\n",
    "print(input[::-1])"
   ]
  },
  {
   "cell_type": "code",
   "execution_count": null,
   "id": "a62a2240",
   "metadata": {},
   "outputs": [],
   "source": []
  }
 ],
 "metadata": {
  "kernelspec": {
   "display_name": "Python 3",
   "language": "python",
   "name": "python3"
  },
  "language_info": {
   "codemirror_mode": {
    "name": "ipython",
    "version": 3
   },
   "file_extension": ".py",
   "mimetype": "text/x-python",
   "name": "python",
   "nbconvert_exporter": "python",
   "pygments_lexer": "ipython3",
   "version": "3.13.5"
  }
 },
 "nbformat": 4,
 "nbformat_minor": 5
}
