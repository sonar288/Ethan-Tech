{
 "cells": [
  {
   "cell_type": "code",
   "execution_count": 1,
   "id": "d3da3101",
   "metadata": {},
   "outputs": [
    {
     "name": "stdout",
     "output_type": "stream",
     "text": [
      "Somthing is run \n"
     ]
    }
   ],
   "source": [
    "import school"
   ]
  },
  {
   "cell_type": "code",
   "execution_count": 2,
   "id": "4d726c07",
   "metadata": {},
   "outputs": [],
   "source": [
    "import math\n"
   ]
  },
  {
   "cell_type": "code",
   "execution_count": 5,
   "id": "7612fd68",
   "metadata": {},
   "outputs": [
    {
     "data": {
      "text/plain": [
       "4"
      ]
     },
     "execution_count": 5,
     "metadata": {},
     "output_type": "execute_result"
    }
   ],
   "source": [
    "math.ceil(10/3)"
   ]
  },
  {
   "cell_type": "code",
   "execution_count": 4,
   "id": "41c741d4",
   "metadata": {},
   "outputs": [
    {
     "data": {
      "text/plain": [
       "3"
      ]
     },
     "execution_count": 4,
     "metadata": {},
     "output_type": "execute_result"
    }
   ],
   "source": [
    "math.floor(10/3)"
   ]
  },
  {
   "cell_type": "code",
   "execution_count": 6,
   "id": "629c8e0a",
   "metadata": {},
   "outputs": [],
   "source": [
    "import datetime"
   ]
  },
  {
   "cell_type": "code",
   "execution_count": 12,
   "id": "18451012",
   "metadata": {},
   "outputs": [
    {
     "name": "stdout",
     "output_type": "stream",
     "text": [
      "2025-09-03 12:46:15.493432\n"
     ]
    }
   ],
   "source": [
    "today = datetime.datetime.now()\n",
    "\n",
    "print(today)"
   ]
  },
  {
   "cell_type": "code",
   "execution_count": 13,
   "id": "0ce977af",
   "metadata": {},
   "outputs": [
    {
     "data": {
      "text/plain": [
       "datetime.datetime"
      ]
     },
     "execution_count": 13,
     "metadata": {},
     "output_type": "execute_result"
    }
   ],
   "source": [
    "type(today)"
   ]
  },
  {
   "cell_type": "code",
   "execution_count": 14,
   "id": "843f8f78",
   "metadata": {},
   "outputs": [
    {
     "data": {
      "text/plain": [
       "'2025-09-03T12:46:15.493432'"
      ]
     },
     "execution_count": 14,
     "metadata": {},
     "output_type": "execute_result"
    }
   ],
   "source": [
    "today.isoformat()"
   ]
  },
  {
   "cell_type": "code",
   "execution_count": 18,
   "id": "844089a3",
   "metadata": {},
   "outputs": [],
   "source": [
    "dt =\"12-03-2024\""
   ]
  },
  {
   "cell_type": "code",
   "execution_count": 22,
   "id": "bb748b96",
   "metadata": {},
   "outputs": [],
   "source": [
    "datetime_dt = datetime.datetime.strptime(dt,\"%d-%m-%Y\")"
   ]
  },
  {
   "cell_type": "code",
   "execution_count": 23,
   "id": "fb30dd2d",
   "metadata": {},
   "outputs": [
    {
     "name": "stdout",
     "output_type": "stream",
     "text": [
      "2024-03-12 00:00:00\n"
     ]
    }
   ],
   "source": [
    "print(datetime_dt)"
   ]
  },
  {
   "cell_type": "code",
   "execution_count": 24,
   "id": "942ac076",
   "metadata": {},
   "outputs": [],
   "source": [
    "str_dt = \"2024-Mar-01\""
   ]
  },
  {
   "cell_type": "code",
   "execution_count": 26,
   "id": "ece21a1b",
   "metadata": {},
   "outputs": [],
   "source": [
    "dateTime_dt1 = datetime.datetime.strptime(str_dt, \"%Y-%b-%d\")"
   ]
  },
  {
   "cell_type": "code",
   "execution_count": 27,
   "id": "2da37a0d",
   "metadata": {},
   "outputs": [
    {
     "name": "stdout",
     "output_type": "stream",
     "text": [
      "2024-03-01 00:00:00\n"
     ]
    }
   ],
   "source": [
    "print(dateTime_dt1)"
   ]
  },
  {
   "cell_type": "code",
   "execution_count": 28,
   "id": "fbf84a68",
   "metadata": {},
   "outputs": [
    {
     "data": {
      "text/plain": [
       "'01'"
      ]
     },
     "execution_count": 28,
     "metadata": {},
     "output_type": "execute_result"
    }
   ],
   "source": [
    "datetime.datetime.strftime(dateTime_dt1, \"%d\")"
   ]
  },
  {
   "cell_type": "code",
   "execution_count": null,
   "id": "887d77da",
   "metadata": {},
   "outputs": [],
   "source": [
    "## timedelta"
   ]
  },
  {
   "cell_type": "code",
   "execution_count": 33,
   "id": "5bae9808",
   "metadata": {},
   "outputs": [
    {
     "name": "stdout",
     "output_type": "stream",
     "text": [
      "10 days, 0:00:00\n"
     ]
    }
   ],
   "source": [
    "gap = datetime.timedelta(days=10)\n",
    "print(gap)"
   ]
  },
  {
   "cell_type": "code",
   "execution_count": null,
   "id": "3fedfd56",
   "metadata": {},
   "outputs": [],
   "source": [
    "str_dt = \"2024-Mar-01\""
   ]
  },
  {
   "cell_type": "code",
   "execution_count": 37,
   "id": "eaa9e1fb",
   "metadata": {},
   "outputs": [
    {
     "data": {
      "text/plain": [
       "datetime.datetime(2024, 3, 11, 0, 0)"
      ]
     },
     "execution_count": 37,
     "metadata": {},
     "output_type": "execute_result"
    }
   ],
   "source": [
    "datetime.datetime.strptime(str_dt,'%Y-%b-%d')+ gap"
   ]
  },
  {
   "cell_type": "code",
   "execution_count": null,
   "id": "29f14aed",
   "metadata": {},
   "outputs": [],
   "source": [
    "import xlrd"
   ]
  },
  {
   "cell_type": "code",
   "execution_count": null,
   "id": "cd717918",
   "metadata": {},
   "outputs": [],
   "source": []
  },
  {
   "cell_type": "code",
   "execution_count": null,
   "id": "7bd876c2",
   "metadata": {},
   "outputs": [],
   "source": []
  },
  {
   "cell_type": "code",
   "execution_count": null,
   "id": "2bd99002",
   "metadata": {},
   "outputs": [],
   "source": []
  }
 ],
 "metadata": {
  "kernelspec": {
   "display_name": "Python 3",
   "language": "python",
   "name": "python3"
  },
  "language_info": {
   "codemirror_mode": {
    "name": "ipython",
    "version": 3
   },
   "file_extension": ".py",
   "mimetype": "text/x-python",
   "name": "python",
   "nbconvert_exporter": "python",
   "pygments_lexer": "ipython3",
   "version": "3.13.5"
  }
 },
 "nbformat": 4,
 "nbformat_minor": 5
}
