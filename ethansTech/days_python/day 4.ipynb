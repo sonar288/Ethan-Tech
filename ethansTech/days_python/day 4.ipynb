{
 "cells": [
  {
   "cell_type": "markdown",
   "id": "df92e9ed",
   "metadata": {},
   "source": [
    "#### Dictionaries\n",
    "- it has key and value pairs\n",
    "- dict is reserved key word\n",
    "- keys should unique\n",
    "- we can play with values or add new keys"
   ]
  },
  {
   "cell_type": "code",
   "execution_count": null,
   "id": "b8b82a57",
   "metadata": {},
   "outputs": [],
   "source": [
    "S"
   ]
  },
  {
   "cell_type": "code",
   "execution_count": 16,
   "id": "95836866",
   "metadata": {},
   "outputs": [],
   "source": [
    "d1 = {\"name\": \"Rahul\", \"Age\":10, \"Gender\":\"Male\"}\n"
   ]
  },
  {
   "cell_type": "code",
   "execution_count": null,
   "id": "f36ddccd",
   "metadata": {},
   "outputs": [
    {
     "data": {
      "text/plain": [
       "'Rahul'"
      ]
     },
     "execution_count": 21,
     "metadata": {},
     "output_type": "execute_result"
    }
   ],
   "source": [
    "d1"
   ]
  },
  {
   "cell_type": "code",
   "execution_count": null,
   "id": "90b0d5b6",
   "metadata": {},
   "outputs": [
    {
     "data": {
      "text/plain": [
       "{'name': 'vijay', 'Age': 10, 'Gender': 'Male'}"
      ]
     },
     "execution_count": 10,
     "metadata": {},
     "output_type": "execute_result"
    }
   ],
   "source": []
  },
  {
   "cell_type": "code",
   "execution_count": 22,
   "id": "7e9f6ad9",
   "metadata": {},
   "outputs": [
    {
     "data": {
      "text/plain": [
       "dict_keys(['name', 'Age', 'Gender'])"
      ]
     },
     "execution_count": 22,
     "metadata": {},
     "output_type": "execute_result"
    }
   ],
   "source": [
    "d1.keys()"
   ]
  },
  {
   "cell_type": "code",
   "execution_count": 23,
   "id": "9a6c74fc",
   "metadata": {},
   "outputs": [
    {
     "data": {
      "text/plain": [
       "dict_values(['Rahul', 10, 'Male'])"
      ]
     },
     "execution_count": 23,
     "metadata": {},
     "output_type": "execute_result"
    }
   ],
   "source": [
    "d1.values()"
   ]
  },
  {
   "cell_type": "code",
   "execution_count": 25,
   "id": "c0c5362e",
   "metadata": {},
   "outputs": [],
   "source": [
    "d1[\"Location\"]= \"Pune\""
   ]
  },
  {
   "cell_type": "code",
   "execution_count": 26,
   "id": "546f94d2",
   "metadata": {},
   "outputs": [
    {
     "data": {
      "text/plain": [
       "{'name': 'Rahul', 'Age': 10, 'Gender': 'Male', 'Location': 'Pune'}"
      ]
     },
     "execution_count": 26,
     "metadata": {},
     "output_type": "execute_result"
    }
   ],
   "source": [
    "d1"
   ]
  },
  {
   "cell_type": "code",
   "execution_count": 28,
   "id": "bb63b6e5",
   "metadata": {},
   "outputs": [],
   "source": [
    "d2 = {\"name\":\"Rahul\", \"father_name\": \"Rajesh\", \"Surname\": \"Sonar\", \"age\": 21, \"Roll_No\": 56}"
   ]
  },
  {
   "cell_type": "code",
   "execution_count": 29,
   "id": "de8c48f5",
   "metadata": {},
   "outputs": [
    {
     "data": {
      "text/plain": [
       "{'name': 'Rahul',\n",
       " 'father_name': 'Rajesh',\n",
       " 'Surname': 'Sonar',\n",
       " 'age': 21,\n",
       " 'Roll_No': 56}"
      ]
     },
     "execution_count": 29,
     "metadata": {},
     "output_type": "execute_result"
    }
   ],
   "source": [
    "d2"
   ]
  },
  {
   "cell_type": "code",
   "execution_count": 30,
   "id": "29c51482",
   "metadata": {},
   "outputs": [
    {
     "data": {
      "text/plain": [
       "dict_items([('name', 'Rahul'), ('Age', 10), ('Gender', 'Male'), ('Location', 'Pune')])"
      ]
     },
     "execution_count": 30,
     "metadata": {},
     "output_type": "execute_result"
    }
   ],
   "source": [
    "d1.items()"
   ]
  },
  {
   "cell_type": "code",
   "execution_count": 38,
   "id": "344759b4",
   "metadata": {},
   "outputs": [
    {
     "data": {
      "text/plain": [
       "'Rahul'"
      ]
     },
     "execution_count": 38,
     "metadata": {},
     "output_type": "execute_result"
    }
   ],
   "source": [
    "d2.pop(\"name\")"
   ]
  },
  {
   "cell_type": "code",
   "execution_count": 39,
   "id": "5d35950a",
   "metadata": {},
   "outputs": [
    {
     "data": {
      "text/plain": [
       "{'father_name': 'Rajesh', 'Surname': 'Sonar', 'age': 21, 'Roll_No': 56}"
      ]
     },
     "execution_count": 39,
     "metadata": {},
     "output_type": "execute_result"
    }
   ],
   "source": [
    "d2"
   ]
  },
  {
   "cell_type": "code",
   "execution_count": 40,
   "id": "5ae6d315",
   "metadata": {},
   "outputs": [
    {
     "data": {
      "text/plain": [
       "('Roll_No', 56)"
      ]
     },
     "execution_count": 40,
     "metadata": {},
     "output_type": "execute_result"
    }
   ],
   "source": [
    "d2.popitem()"
   ]
  },
  {
   "cell_type": "code",
   "execution_count": 41,
   "id": "7b5c42af",
   "metadata": {},
   "outputs": [
    {
     "data": {
      "text/plain": [
       "{'father_name': 'Rajesh', 'Surname': 'Sonar', 'age': 21}"
      ]
     },
     "execution_count": 41,
     "metadata": {},
     "output_type": "execute_result"
    }
   ],
   "source": [
    "d2"
   ]
  },
  {
   "cell_type": "code",
   "execution_count": 49,
   "id": "a53f7cfe",
   "metadata": {},
   "outputs": [],
   "source": [
    "d3 = {\"address details\": {\n",
    "    \"name\": \"Rahul\", \"Gender\": \"Male\", 'Location':' pune'\n",
    "}}"
   ]
  },
  {
   "cell_type": "code",
   "execution_count": null,
   "id": "39b1f4b6",
   "metadata": {},
   "outputs": [],
   "source": []
  },
  {
   "cell_type": "code",
   "execution_count": 43,
   "id": "f79a5ab1",
   "metadata": {},
   "outputs": [
    {
     "data": {
      "text/plain": [
       "{'address details': {'name': 'Rahul', 'Gender': 31, 'Location': ' pune'}}"
      ]
     },
     "execution_count": 43,
     "metadata": {},
     "output_type": "execute_result"
    }
   ],
   "source": [
    "d3"
   ]
  },
  {
   "cell_type": "code",
   "execution_count": 52,
   "id": "e39fea1a",
   "metadata": {},
   "outputs": [
    {
     "data": {
      "text/plain": [
       "'M'"
      ]
     },
     "execution_count": 52,
     "metadata": {},
     "output_type": "execute_result"
    }
   ],
   "source": [
    "d3[\"address details\"][\"Gender\"][0]"
   ]
  },
  {
   "cell_type": "code",
   "execution_count": 56,
   "id": "06f10828",
   "metadata": {},
   "outputs": [],
   "source": [
    "d1[\"name\"]= \"rahul\""
   ]
  },
  {
   "cell_type": "code",
   "execution_count": 54,
   "id": "12a1d57f",
   "metadata": {},
   "outputs": [
    {
     "data": {
      "text/plain": [
       "{'father_name': 'Rajesh', 'Surname': 'Sonar', 'age': 21}"
      ]
     },
     "execution_count": 54,
     "metadata": {},
     "output_type": "execute_result"
    }
   ],
   "source": [
    "d2"
   ]
  },
  {
   "cell_type": "code",
   "execution_count": 58,
   "id": "636409fd",
   "metadata": {},
   "outputs": [
    {
     "data": {
      "text/plain": [
       "('age', 21)"
      ]
     },
     "execution_count": 58,
     "metadata": {},
     "output_type": "execute_result"
    }
   ],
   "source": [
    "d2.popitem()"
   ]
  },
  {
   "cell_type": "code",
   "execution_count": 59,
   "id": "79c1c745",
   "metadata": {},
   "outputs": [
    {
     "data": {
      "text/plain": [
       "{'father_name': 'Rajesh', 'Surname': 'Sonar'}"
      ]
     },
     "execution_count": 59,
     "metadata": {},
     "output_type": "execute_result"
    }
   ],
   "source": [
    "d2"
   ]
  },
  {
   "cell_type": "code",
   "execution_count": 62,
   "id": "5b1be5d4",
   "metadata": {},
   "outputs": [],
   "source": [
    "d3 = d1|d2"
   ]
  },
  {
   "cell_type": "code",
   "execution_count": 63,
   "id": "2db8a61e",
   "metadata": {},
   "outputs": [
    {
     "data": {
      "text/plain": [
       "{'Age': 10,\n",
       " 'Gender': 'Male',\n",
       " 'Location': 'Pune',\n",
       " 'name': 'rahul',\n",
       " 'father_name': 'Rajesh',\n",
       " 'Surname': 'Sonar'}"
      ]
     },
     "execution_count": 63,
     "metadata": {},
     "output_type": "execute_result"
    }
   ],
   "source": [
    "d3"
   ]
  },
  {
   "cell_type": "code",
   "execution_count": 64,
   "id": "bb3dca9d",
   "metadata": {},
   "outputs": [
    {
     "data": {
      "text/plain": [
       "{'father_name': 'Rajesh', 'Surname': 'Sonar'}"
      ]
     },
     "execution_count": 64,
     "metadata": {},
     "output_type": "execute_result"
    }
   ],
   "source": [
    "d2"
   ]
  },
  {
   "cell_type": "markdown",
   "id": "22bf3d2c",
   "metadata": {},
   "source": [
    "#### Tuple\n",
    "- Tuple is reserved key word\n",
    "- methods are vey less"
   ]
  },
  {
   "cell_type": "code",
   "execution_count": 67,
   "id": "c7de2d4b",
   "metadata": {},
   "outputs": [],
   "source": [
    "t1 = (1,2,1\n",
    "      ,4,5)"
   ]
  },
  {
   "cell_type": "code",
   "execution_count": 68,
   "id": "f2277dd9",
   "metadata": {},
   "outputs": [
    {
     "data": {
      "text/plain": [
       "2"
      ]
     },
     "execution_count": 68,
     "metadata": {},
     "output_type": "execute_result"
    }
   ],
   "source": [
    "t1.count(1)"
   ]
  },
  {
   "cell_type": "code",
   "execution_count": 69,
   "id": "0c54079f",
   "metadata": {},
   "outputs": [
    {
     "data": {
      "text/plain": [
       "0"
      ]
     },
     "execution_count": 69,
     "metadata": {},
     "output_type": "execute_result"
    }
   ],
   "source": [
    "t1.index(1)"
   ]
  },
  {
   "cell_type": "code",
   "execution_count": 70,
   "id": "fdfa7085",
   "metadata": {},
   "outputs": [
    {
     "name": "stdout",
     "output_type": "stream",
     "text": [
      "P\n"
     ]
    }
   ],
   "source": [
    "s = \"Python\"\n",
    "print(s[0])"
   ]
  },
  {
   "cell_type": "code",
   "execution_count": 71,
   "id": "272be0e1",
   "metadata": {},
   "outputs": [
    {
     "name": "stdout",
     "output_type": "stream",
     "text": [
      "HELLO WORLD\n"
     ]
    }
   ],
   "source": [
    "s = \"hello world\"\n",
    "print(s.upper())"
   ]
  },
  {
   "cell_type": "code",
   "execution_count": 73,
   "id": "c50a6298",
   "metadata": {},
   "outputs": [
    {
     "name": "stdout",
     "output_type": "stream",
     "text": [
      "ing\n"
     ]
    }
   ],
   "source": [
    "s = \"programming\"\n",
    "print (s[len(s)-3:])"
   ]
  },
  {
   "cell_type": "code",
   "execution_count": 74,
   "id": "74c4e67d",
   "metadata": {},
   "outputs": [
    {
     "data": {
      "text/plain": [
       "5"
      ]
     },
     "execution_count": 74,
     "metadata": {},
     "output_type": "execute_result"
    }
   ],
   "source": [
    "len('hello')"
   ]
  },
  {
   "cell_type": "code",
   "execution_count": 76,
   "id": "7148a6bf",
   "metadata": {},
   "outputs": [
    {
     "name": "stdout",
     "output_type": "stream",
     "text": [
      "Yash want\n"
     ]
    }
   ],
   "source": [
    "print(\"Yash\"+\" want\")"
   ]
  },
  {
   "cell_type": "code",
   "execution_count": 82,
   "id": "bbfc75b2",
   "metadata": {},
   "outputs": [
    {
     "data": {
      "text/plain": [
       "'INDIA'"
      ]
     },
     "execution_count": 82,
     "metadata": {},
     "output_type": "execute_result"
    }
   ],
   "source": [
    "s = \"I N D I A\" \n",
    "s.replace(\" \", \"\")"
   ]
  },
  {
   "cell_type": "code",
   "execution_count": 83,
   "id": "b81591c5",
   "metadata": {},
   "outputs": [
    {
     "data": {
      "text/plain": [
       "'bonono'"
      ]
     },
     "execution_count": 83,
     "metadata": {},
     "output_type": "execute_result"
    }
   ],
   "source": [
    "s= \"banana\"\n",
    "s.replace(\"a\", \"o\")"
   ]
  },
  {
   "cell_type": "code",
   "execution_count": 84,
   "id": "31655835",
   "metadata": {},
   "outputs": [
    {
     "data": {
      "text/plain": [
       "'hello'"
      ]
     },
     "execution_count": 84,
     "metadata": {},
     "output_type": "execute_result"
    }
   ],
   "source": [
    "s =\"HELLO\"\n",
    "s.lower()"
   ]
  },
  {
   "cell_type": "code",
   "execution_count": 86,
   "id": "744c02dd",
   "metadata": {},
   "outputs": [
    {
     "name": "stdout",
     "output_type": "stream",
     "text": [
      "ytho\n"
     ]
    }
   ],
   "source": [
    "s=\"Python\"\n",
    "print(s[1:5])"
   ]
  },
  {
   "cell_type": "code",
   "execution_count": 87,
   "id": "8c2dd771",
   "metadata": {},
   "outputs": [
    {
     "name": "stdout",
     "output_type": "stream",
     "text": [
      "datadatadata\n"
     ]
    }
   ],
   "source": [
    "s = \"data\"\n",
    "print(s*3)"
   ]
  },
  {
   "cell_type": "code",
   "execution_count": 88,
   "id": "a9f2fd15",
   "metadata": {},
   "outputs": [
    {
     "data": {
      "text/plain": [
       "'gmail.com'"
      ]
     },
     "execution_count": 88,
     "metadata": {},
     "output_type": "execute_result"
    }
   ],
   "source": [
    "s = \"abc@gmail.com\"\n",
    "s[4:len(s)]"
   ]
  },
  {
   "cell_type": "code",
   "execution_count": 93,
   "id": "9359bed4",
   "metadata": {},
   "outputs": [
    {
     "data": {
      "text/plain": [
       "1"
      ]
     },
     "execution_count": 93,
     "metadata": {},
     "output_type": "execute_result"
    }
   ],
   "source": [
    "s= \"apple\"\n",
    "s.find(\"p\")"
   ]
  },
  {
   "cell_type": "code",
   "execution_count": 103,
   "id": "19edb461",
   "metadata": {},
   "outputs": [
    {
     "data": {
      "text/plain": [
       "'hi There'"
      ]
     },
     "execution_count": 103,
     "metadata": {},
     "output_type": "execute_result"
    }
   ],
   "source": [
    "s=\"hi \"\n",
    "s1= \"There\"\n",
    "s + s1"
   ]
  },
  {
   "cell_type": "code",
   "execution_count": 99,
   "id": "8e3e711f",
   "metadata": {},
   "outputs": [
    {
     "data": {
      "text/plain": [
       "'Hlo'"
      ]
     },
     "execution_count": 99,
     "metadata": {},
     "output_type": "execute_result"
    }
   ],
   "source": [
    "s= \"Hello\"\n",
    "s[::2]"
   ]
  },
  {
   "cell_type": "code",
   "execution_count": 109,
   "id": "87e0a775",
   "metadata": {},
   "outputs": [],
   "source": [
    "ls = [\"red\", \"yellow\", \"green\"]"
   ]
  },
  {
   "cell_type": "code",
   "execution_count": 105,
   "id": "aa6aec96",
   "metadata": {},
   "outputs": [
    {
     "data": {
      "text/plain": [
       "{'green', 'red', 'yellow'}"
      ]
     },
     "execution_count": 105,
     "metadata": {},
     "output_type": "execute_result"
    }
   ],
   "source": [
    "ls"
   ]
  },
  {
   "cell_type": "code",
   "execution_count": 110,
   "id": "1bb2507d",
   "metadata": {},
   "outputs": [
    {
     "data": {
      "text/plain": [
       "'yellow'"
      ]
     },
     "execution_count": 110,
     "metadata": {},
     "output_type": "execute_result"
    }
   ],
   "source": [
    "ls[1]"
   ]
  },
  {
   "cell_type": "code",
   "execution_count": 111,
   "id": "9e14e8ee",
   "metadata": {},
   "outputs": [],
   "source": [
    "ls.append(\"orange\")"
   ]
  },
  {
   "cell_type": "code",
   "execution_count": 112,
   "id": "c875b204",
   "metadata": {},
   "outputs": [
    {
     "data": {
      "text/plain": [
       "['red', 'yellow', 'green', 'orange']"
      ]
     },
     "execution_count": 112,
     "metadata": {},
     "output_type": "execute_result"
    }
   ],
   "source": [
    "ls"
   ]
  },
  {
   "cell_type": "code",
   "execution_count": 114,
   "id": "e20300b4",
   "metadata": {},
   "outputs": [],
   "source": [
    "ls[0] = \"grape\""
   ]
  },
  {
   "cell_type": "code",
   "execution_count": 115,
   "id": "82145923",
   "metadata": {},
   "outputs": [
    {
     "data": {
      "text/plain": [
       "['grape', 'yellow', 'green', 'orange']"
      ]
     },
     "execution_count": 115,
     "metadata": {},
     "output_type": "execute_result"
    }
   ],
   "source": [
    "ls"
   ]
  },
  {
   "cell_type": "code",
   "execution_count": 116,
   "id": "2d68c2a9",
   "metadata": {},
   "outputs": [],
   "source": [
    "ls.remove(\"yellow\")"
   ]
  },
  {
   "cell_type": "code",
   "execution_count": 117,
   "id": "1e0fde6f",
   "metadata": {},
   "outputs": [
    {
     "data": {
      "text/plain": [
       "['grape', 'green', 'orange']"
      ]
     },
     "execution_count": 117,
     "metadata": {},
     "output_type": "execute_result"
    }
   ],
   "source": [
    "ls\n"
   ]
  },
  {
   "cell_type": "code",
   "execution_count": 120,
   "id": "be9d334a",
   "metadata": {},
   "outputs": [
    {
     "data": {
      "text/plain": [
       "'orange'"
      ]
     },
     "execution_count": 120,
     "metadata": {},
     "output_type": "execute_result"
    }
   ],
   "source": [
    "ls[len(ls)-1]"
   ]
  },
  {
   "cell_type": "code",
   "execution_count": null,
   "id": "505378e7",
   "metadata": {},
   "outputs": [],
   "source": []
  }
 ],
 "metadata": {
  "kernelspec": {
   "display_name": "Python 3",
   "language": "python",
   "name": "python3"
  },
  "language_info": {
   "codemirror_mode": {
    "name": "ipython",
    "version": 3
   },
   "file_extension": ".py",
   "mimetype": "text/x-python",
   "name": "python",
   "nbconvert_exporter": "python",
   "pygments_lexer": "ipython3",
   "version": "3.13.5"
  }
 },
 "nbformat": 4,
 "nbformat_minor": 5
}
