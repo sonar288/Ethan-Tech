{
 "cells": [
  {
   "cell_type": "code",
   "execution_count": null,
   "id": "e02a547e",
   "metadata": {},
   "outputs": [],
   "source": [
    "# clouser\n",
    "# it takes sanpshot which help in future"
   ]
  },
  {
   "cell_type": "code",
   "execution_count": 1,
   "id": "cb85ea07",
   "metadata": {},
   "outputs": [],
   "source": [
    "def outer():\n",
    "    def inner():\n",
    "        print(\"hello\")\n",
    "    return inner"
   ]
  },
  {
   "cell_type": "code",
   "execution_count": 4,
   "id": "4fe72e9e",
   "metadata": {},
   "outputs": [
    {
     "name": "stdout",
     "output_type": "stream",
     "text": [
      "hello\n"
     ]
    }
   ],
   "source": [
    "x = outer()\n",
    "x.__name__\n",
    "x()"
   ]
  },
  {
   "cell_type": "code",
   "execution_count": 5,
   "id": "aae7bb14",
   "metadata": {},
   "outputs": [],
   "source": [
    "def outer():\n",
    "    name= \"Rahul\"\n",
    "    return(name)\n"
   ]
  },
  {
   "cell_type": "code",
   "execution_count": 10,
   "id": "812f3955",
   "metadata": {},
   "outputs": [],
   "source": [
    "def outer():\n",
    "    def inner():\n",
    "        age = 10\n",
    "        print(age)\n",
    "    return inner"
   ]
  },
  {
   "cell_type": "code",
   "execution_count": 11,
   "id": "727e4c26",
   "metadata": {},
   "outputs": [],
   "source": [
    "x= outer()"
   ]
  },
  {
   "cell_type": "code",
   "execution_count": 12,
   "id": "5589f0e7",
   "metadata": {},
   "outputs": [
    {
     "data": {
      "text/plain": [
       "'inner'"
      ]
     },
     "execution_count": 12,
     "metadata": {},
     "output_type": "execute_result"
    }
   ],
   "source": [
    "x.__name__\n"
   ]
  },
  {
   "cell_type": "code",
   "execution_count": 13,
   "id": "58dd0be9",
   "metadata": {},
   "outputs": [
    {
     "name": "stdout",
     "output_type": "stream",
     "text": [
      "10\n"
     ]
    }
   ],
   "source": [
    "x()"
   ]
  },
  {
   "cell_type": "code",
   "execution_count": 15,
   "id": "d96f3083",
   "metadata": {},
   "outputs": [
    {
     "name": "stdout",
     "output_type": "stream",
     "text": [
      "10\n"
     ]
    }
   ],
   "source": [
    "outer()()"
   ]
  },
  {
   "cell_type": "code",
   "execution_count": null,
   "id": "86c6d475",
   "metadata": {},
   "outputs": [],
   "source": []
  },
  {
   "cell_type": "code",
   "execution_count": null,
   "id": "1dab4add",
   "metadata": {},
   "outputs": [],
   "source": [
    "\n",
    "def capitalizer():\n",
    "    return('HEY THERE')"
   ]
  },
  {
   "cell_type": "code",
   "execution_count": 26,
   "id": "7eb86378",
   "metadata": {},
   "outputs": [],
   "source": [
    "def outer(func):\n",
    "    def inner():\n",
    "        res= func()\n",
    "        return res.title()\n",
    "    return inner"
   ]
  },
  {
   "cell_type": "code",
   "execution_count": 27,
   "id": "802b2ada",
   "metadata": {},
   "outputs": [],
   "source": [
    "@outer\n",
    "def capitalizer():\n",
    "    return('HEY THERE')"
   ]
  },
  {
   "cell_type": "code",
   "execution_count": 28,
   "id": "f7ef8218",
   "metadata": {},
   "outputs": [
    {
     "data": {
      "text/plain": [
       "'Hey There'"
      ]
     },
     "execution_count": 28,
     "metadata": {},
     "output_type": "execute_result"
    }
   ],
   "source": [
    "capitalizer()"
   ]
  },
  {
   "cell_type": "code",
   "execution_count": null,
   "id": "dd7abab3",
   "metadata": {},
   "outputs": [],
   "source": [
    "def outer(func):\n",
    "    def inner(*args):\n",
    "        res = func(args[0])\n",
    "        return res.title()"
   ]
  },
  {
   "cell_type": "code",
   "execution_count": null,
   "id": "f02f34f0",
   "metadata": {},
   "outputs": [],
   "source": []
  },
  {
   "cell_type": "code",
   "execution_count": null,
   "id": "d5731458",
   "metadata": {},
   "outputs": [],
   "source": []
  },
  {
   "cell_type": "code",
   "execution_count": null,
   "id": "593b1b7f",
   "metadata": {},
   "outputs": [],
   "source": []
  },
  {
   "cell_type": "code",
   "execution_count": null,
   "id": "bb31bf70",
   "metadata": {},
   "outputs": [],
   "source": []
  },
  {
   "cell_type": "code",
   "execution_count": null,
   "id": "7250c4a4",
   "metadata": {},
   "outputs": [],
   "source": []
  },
  {
   "cell_type": "code",
   "execution_count": null,
   "id": "560d2b64",
   "metadata": {},
   "outputs": [],
   "source": []
  },
  {
   "cell_type": "code",
   "execution_count": null,
   "id": "132fdffc",
   "metadata": {},
   "outputs": [],
   "source": [
    "#### decorater"
   ]
  },
  {
   "cell_type": "code",
   "execution_count": null,
   "id": "03d1ae0f",
   "metadata": {},
   "outputs": [],
   "source": []
  },
  {
   "cell_type": "code",
   "execution_count": null,
   "id": "ec5f4d4a",
   "metadata": {},
   "outputs": [],
   "source": []
  },
  {
   "cell_type": "code",
   "execution_count": null,
   "id": "64a8503d",
   "metadata": {},
   "outputs": [],
   "source": []
  },
  {
   "cell_type": "code",
   "execution_count": null,
   "id": "445ec559",
   "metadata": {},
   "outputs": [],
   "source": []
  },
  {
   "cell_type": "code",
   "execution_count": null,
   "id": "2a567915",
   "metadata": {},
   "outputs": [],
   "source": []
  }
 ],
 "metadata": {
  "kernelspec": {
   "display_name": "Python 3",
   "language": "python",
   "name": "python3"
  },
  "language_info": {
   "codemirror_mode": {
    "name": "ipython",
    "version": 3
   },
   "file_extension": ".py",
   "mimetype": "text/x-python",
   "name": "python",
   "nbconvert_exporter": "python",
   "pygments_lexer": "ipython3",
   "version": "3.13.5"
  }
 },
 "nbformat": 4,
 "nbformat_minor": 5
}
