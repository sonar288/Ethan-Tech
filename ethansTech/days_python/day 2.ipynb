{
 "cells": [
  {
   "cell_type": "markdown",
   "id": "5a8c47a8",
   "metadata": {},
   "source": [
    "** These note book is for day 2**"
   ]
  },
  {
   "cell_type": "code",
   "execution_count": null,
   "id": "c98edc1d",
   "metadata": {},
   "outputs": [
    {
     "data": {
      "text/plain": [
       "'1'"
      ]
     },
     "execution_count": 1,
     "metadata": {},
     "output_type": "execute_result"
    }
   ],
   "source": []
  },
  {
   "cell_type": "markdown",
   "id": "2bc06b4b",
   "metadata": {},
   "source": [
    "#### Data Type\n",
    "- int(interger -3,-3,-2,-1 ,1,2,3,4)\n",
    "- float(decimal 1.33,1.25)\n",
    "- str\n",
    "- List\n",
    "- Tuple\n",
    "- Dict\n",
    "- Set "
   ]
  },
  {
   "cell_type": "code",
   "execution_count": 2,
   "id": "1645d21d",
   "metadata": {},
   "outputs": [
    {
     "data": {
      "text/plain": [
       "True"
      ]
     },
     "execution_count": 2,
     "metadata": {},
     "output_type": "execute_result"
    }
   ],
   "source": [
    "num1, num2 = 10, 15\n",
    "num1 == num2 \n",
    "num1 >= num2\n",
    "num1 <= num2\n",
    "num1 != num2"
   ]
  },
  {
   "cell_type": "code",
   "execution_count": 23,
   "id": "3d89d9ee",
   "metadata": {},
   "outputs": [
    {
     "name": "stdout",
     "output_type": "stream",
     "text": [
      "False\n",
      "True\n",
      "False\n",
      "True\n"
     ]
    }
   ],
   "source": [
    "num1, num2 = 50, 5\n",
    "\n",
    "print(num1 == num2) \n",
    "print(num1 >= num2)\n",
    "print(num1 <= num2)\n",
    "print(num1 != num2)\n"
   ]
  },
  {
   "cell_type": "code",
   "execution_count": 25,
   "id": "de41696a",
   "metadata": {},
   "outputs": [
    {
     "name": "stdout",
     "output_type": "stream",
     "text": [
      "True\n",
      "True\n",
      "True\n"
     ]
    }
   ],
   "source": [
    "print (num1 > 10)\n",
    "print(num2 < 10)\n",
    "print(num1 > 10 and num2 < 10)"
   ]
  },
  {
   "cell_type": "code",
   "execution_count": null,
   "id": "91c50788",
   "metadata": {},
   "outputs": [],
   "source": []
  }
 ],
 "metadata": {
  "kernelspec": {
   "display_name": "Python 3",
   "language": "python",
   "name": "python3"
  },
  "language_info": {
   "codemirror_mode": {
    "name": "ipython",
    "version": 3
   },
   "file_extension": ".py",
   "mimetype": "text/x-python",
   "name": "python",
   "nbconvert_exporter": "python",
   "pygments_lexer": "ipython3",
   "version": "3.13.5"
  }
 },
 "nbformat": 4,
 "nbformat_minor": 5
}
