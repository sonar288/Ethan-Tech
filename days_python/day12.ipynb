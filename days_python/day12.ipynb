{
 "cells": [
  {
   "cell_type": "code",
   "execution_count": 1,
   "id": "433c8dac",
   "metadata": {},
   "outputs": [],
   "source": [
    "## Abstraction\n",
    "\n"
   ]
  },
  {
   "cell_type": "code",
   "execution_count": 2,
   "id": "84eac142",
   "metadata": {},
   "outputs": [],
   "source": [
    "from abc import abstractmethod, ABC"
   ]
  },
  {
   "cell_type": "code",
   "execution_count": 3,
   "id": "859867e6",
   "metadata": {},
   "outputs": [
    {
     "ename": "_IncompleteInputError",
     "evalue": "incomplete input (1024343749.py, line 7)",
     "output_type": "error",
     "traceback": [
      "  \u001b[36mCell\u001b[39m\u001b[36m \u001b[39m\u001b[32mIn[3]\u001b[39m\u001b[32m, line 7\u001b[39m\n\u001b[31m    \u001b[39m\n    ^\n\u001b[31m_IncompleteInputError\u001b[39m\u001b[31m:\u001b[39m incomplete input\n"
     ]
    }
   ],
   "source": [
    "class parent(ABC):\n",
    "    def parent_func1(self):\n",
    "        print('output from parent funct1')\n",
    "\n",
    "    @abstractmethod\n",
    "    def parent_funct(self):\n",
    "        "
   ]
  },
  {
   "cell_type": "code",
   "execution_count": null,
   "id": "a9b16ec5",
   "metadata": {},
   "outputs": [],
   "source": []
  },
  {
   "cell_type": "code",
   "execution_count": null,
   "id": "bed78a28",
   "metadata": {},
   "outputs": [],
   "source": [
    "## polymorphism - having many meanings"
   ]
  },
  {
   "cell_type": "code",
   "execution_count": null,
   "id": "a9c21601",
   "metadata": {},
   "outputs": [],
   "source": [
    "class Parrot():\n",
    "    def can_fly(self):\n",
    "        print('can fly')\n",
    "    def can_swim(self):\n",
    "        print('cant swim')\n",
    "\n",
    "class Penguin():\n",
    "    def can_fly(self):\n",
    "        print('cant fly')\n",
    "    def can_swim(self):\n",
    "        print('can swim')\n",
    "    "
   ]
  },
  {
   "cell_type": "code",
   "execution_count": null,
   "id": "7a2bebb3",
   "metadata": {},
   "outputs": [],
   "source": [
    "par = Parrot()"
   ]
  },
  {
   "cell_type": "code",
   "execution_count": null,
   "id": "4d1298ff",
   "metadata": {},
   "outputs": [],
   "source": [
    "pen = Penguin()"
   ]
  },
  {
   "cell_type": "code",
   "execution_count": null,
   "id": "27e30c3a",
   "metadata": {},
   "outputs": [],
   "source": [
    "def flytest(obj):\n",
    "    obj.can_fly()"
   ]
  },
  {
   "cell_type": "code",
   "execution_count": null,
   "id": "b1a8d9f9",
   "metadata": {},
   "outputs": [
    {
     "name": "stdout",
     "output_type": "stream",
     "text": [
      "can fly\n"
     ]
    }
   ],
   "source": [
    "flytest(par)"
   ]
  },
  {
   "cell_type": "code",
   "execution_count": null,
   "id": "ab6a6b6c",
   "metadata": {},
   "outputs": [
    {
     "name": "stdout",
     "output_type": "stream",
     "text": [
      "cant fly\n"
     ]
    }
   ],
   "source": [
    "flytest(pen)"
   ]
  },
  {
   "cell_type": "code",
   "execution_count": null,
   "id": "a430234f",
   "metadata": {},
   "outputs": [],
   "source": []
  },
  {
   "cell_type": "code",
   "execution_count": null,
   "id": "82ef1144",
   "metadata": {},
   "outputs": [],
   "source": []
  },
  {
   "cell_type": "code",
   "execution_count": null,
   "id": "ee54f4c6",
   "metadata": {},
   "outputs": [],
   "source": []
  },
  {
   "cell_type": "code",
   "execution_count": null,
   "id": "6979388e",
   "metadata": {},
   "outputs": [],
   "source": []
  },
  {
   "cell_type": "code",
   "execution_count": null,
   "id": "56424caa",
   "metadata": {},
   "outputs": [],
   "source": []
  },
  {
   "cell_type": "code",
   "execution_count": null,
   "id": "0b9425a1",
   "metadata": {},
   "outputs": [],
   "source": []
  },
  {
   "cell_type": "code",
   "execution_count": null,
   "id": "4ae30ff0",
   "metadata": {},
   "outputs": [],
   "source": []
  },
  {
   "cell_type": "code",
   "execution_count": null,
   "id": "37fce47a",
   "metadata": {},
   "outputs": [],
   "source": []
  }
 ],
 "metadata": {
  "kernelspec": {
   "display_name": "Python 3",
   "language": "python",
   "name": "python3"
  },
  "language_info": {
   "codemirror_mode": {
    "name": "ipython",
    "version": 3
   },
   "file_extension": ".py",
   "mimetype": "text/x-python",
   "name": "python",
   "nbconvert_exporter": "python",
   "pygments_lexer": "ipython3",
   "version": "3.13.7"
  }
 },
 "nbformat": 4,
 "nbformat_minor": 5
}
