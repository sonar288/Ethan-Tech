{
 "cells": [
  {
   "cell_type": "markdown",
   "metadata": {},
   "source": [
    "# 🧩 Regex Pattern Tutorial\n",
    "---\n",
    "This notebook will teach you **regex patterns** step by step with examples.\n"
   ]
  },
  {
   "cell_type": "markdown",
   "metadata": {},
   "source": [
    "| Pattern    | Meaning                                         | Example Text         | Matches            |\n",
    "| ---------- | ----------------------------------------------- | -------------------- | ------------------ |\n",
    "| `[a-z]`    | Any **small letter**                            | `\"abc XYZ\"`          | a, b, c            |\n",
    "| `[A-Z]`    | Any **capital letter**                          | `\"abc XYZ\"`          | X, Y, Z            |\n",
    "| `[a-zA-Z]` | Any letter (small or big)                       | `\"Pizza 123\"`        | P, i, z, z, a      |\n",
    "| `\\w`       | Any word character (letter, number, underscore) | `\"Hi_123!\"`          | H, i, \\_, 1, 2, 3  |\n",
    "| `\\w+`      | Whole word (many word chars)                    | `\"Pizza and Python\"` | Pizza, and, Python |\n"
   ]
  },
  {
   "cell_type": "markdown",
   "metadata": {},
   "source": [
    "| Pattern   | Meaning                | Example Text          | Matches |\n",
    "| --------- | ---------------------- | --------------------- | ------- |\n",
    "| `\\d`      | A single digit         | `\"I have 2 apples\"`   | 2       |\n",
    "| `\\d+`     | One or more digits     | `\"Room 123, floor 7\"` | 123, 7  |\n",
    "| `\\d{3}`   | Exactly 3 digits       | `\"My pin is 4567\"`    | 456     |\n",
    "| `\\d{2,4}` | Between 2 and 4 digits | `\"Born in 2005\"`      | 2005    |\n",
    "| `\\d{2,4}` | Between 2 and 4 digits | `\"Born in 05\"`        |   05    |\n"
   ]
  },
  {
   "cell_type": "markdown",
   "metadata": {},
   "source": [
    "| Pattern    | Meaning                | Example Text                 | Matches          |\n",
    "| ---------- | ---------------------- | ---------------------------- | ---------------- |\n",
    "| `^Hello`   | Word at **start**      | `\"Hello world\"`              | Hello            |\n",
    "| `world$`   | Word at **end**        | `\"Say world\"`                | world            |\n",
    "| `\\bP\\w+`   | Word starting with P   | `\"Pizza and Python\"`         | Pizza, Python    |\n",
    "| `\\b\\w+ing` | Word ending with “ing” | `\"I am running and singing\"` | running, singing |\n"
   ]
  },
  {
   "cell_type": "markdown",
   "metadata": {},
   "source": [
    "| Pattern                         | Meaning                    | Example Text                      | Matches                                         |\n",
    "| ------------------------------- | -------------------------- | --------------------------------- | ----------------------------------------------- |\n",
    "| `\\d{10}`                        | 10-digit phone number      | `\"Call 9876543210 now\"`           | 9876543210                                      |\n",
    "| `[a-zA-Z0-9._]+@[a-z]+\\.[a-z]+` | Email                      | `\"Mail me at hello123@gmail.com\"` | [hello123@gmail.com](mailto:hello123@gmail.com) |\n",
    "| `https?://\\S+`                  | Website links (http/https) | `\"Visit https://python.org\"`      | [https://python.org](https://python.org)        |\n"
   ]
  },
  {
   "cell_type": "markdown",
   "metadata": {},
   "source": [
    "## 1. Letters & Words"
   ]
  },
  {
   "cell_type": "code",
   "execution_count": 6,
   "metadata": {},
   "outputs": [
    {
     "name": "stdout",
     "output_type": "stream",
     "text": [
      "[a-z] -> ['i', 'z', 'z', 'a', 'i']\n",
      "[A-Z] -> ['P', 'H', 'A', 'B', 'C']\n",
      "[a-zA-Z] -> ['P', 'i', 'z', 'z', 'a', 'H', 'i', 'A', 'B', 'C']\n",
      "\\w -> ['P', 'i', 'z', 'z', 'a', '1', '2', '3', 'H', 'i', '_', 'A', 'B', 'C']\n",
      "\\w+ -> ['Pizza', '123', 'Hi_ABC']\n"
     ]
    }
   ],
   "source": [
    "import re\n",
    "\n",
    "text = \"Pizza 123 Hi_ABC\"\n",
    "\n",
    "print(\"[a-z] ->\", re.findall(r\"[a-z]\", text))\n",
    "print(\"[A-Z] ->\", re.findall(r\"[A-Z]\", text))\n",
    "print(\"[a-zA-Z] ->\", re.findall(r\"[a-zA-Z]\", text))\n",
    "print(\"\\\\w ->\", re.findall(r\"\\w\", text))\n",
    "print(\"\\\\w+ ->\", re.findall(r\"\\w+\", text))"
   ]
  },
  {
   "cell_type": "markdown",
   "metadata": {},
   "source": [
    "## 2. Numbers"
   ]
  },
  {
   "cell_type": "code",
   "execution_count": 2,
   "metadata": {},
   "outputs": [
    {
     "name": "stdout",
     "output_type": "stream",
     "text": [
      "\\d -> ['4', '5', '6', '7', '2', '0', '0', '5', '1', '2', '3']\n",
      "\\d+ -> ['4567', '2005', '123']\n",
      "\\d{3} -> ['456', '200', '123']\n",
      "\\d{2,4} -> ['4567', '2005', '123']\n"
     ]
    }
   ],
   "source": [
    "text = \"My pin is 4567, born in 2005, room 123\"\n",
    "\n",
    "print(\"\\\\d ->\", re.findall(r\"\\d\", text))\n",
    "print(\"\\\\d+ ->\", re.findall(r\"\\d+\", text))\n",
    "print(\"\\\\d{3} ->\", re.findall(r\"\\d{3}\", text))\n",
    "print(\"\\\\d{2,4} ->\", re.findall(r\"\\d{2,4}\", text))"
   ]
  },
  {
   "cell_type": "markdown",
   "metadata": {},
   "source": [
    "## 3. Spaces & Special Characters"
   ]
  },
  {
   "cell_type": "code",
   "execution_count": 6,
   "metadata": {},
   "outputs": [
    {
     "name": "stdout",
     "output_type": "stream",
     "text": [
      "\\s -> [' ', ' ']\n",
      ". -> ['H', 'i', ' ', 't', 'h', 'e', 'r', 'e', '.', ' ', 'w', 'w', 'w', '.', 'g', 'o', 'o', 'g', 'l', 'e', '.', 'c', 'o', 'm']\n",
      "\\. -> ['.', '.', '.']\n"
     ]
    }
   ],
   "source": [
    "text = \"Hi there. www.google.com\"\n",
    "\n",
    "print(\"\\\\s ->\", re.findall(r\"\\s\", text))\n",
    "print(\". ->\", re.findall(r\".\", text))\n",
    "print(\"\\. ->\", re.findall(r\"\\.\", text))"
   ]
  },
  {
   "cell_type": "markdown",
   "metadata": {},
   "source": [
    "## 4. Start, End, Whole Word"
   ]
  },
  {
   "cell_type": "code",
   "execution_count": 7,
   "metadata": {},
   "outputs": [
    {
     "name": "stdout",
     "output_type": "stream",
     "text": [
      "^Hello -> ['running', 'singing']\n",
      "world$ -> []\n",
      "\\bP\\w+ -> ['Python', 'Pizza']\n",
      "\\b\\w+ing -> ['running', 'singing']\n"
     ]
    }
   ],
   "source": [
    "text = \"Hello world. I am running and singing with Python Pizza\"\n",
    "\n",
    "print(\"^Hello ->\", re.findall(r\"\\w*ing\", text))\n",
    "print(\"world$ ->\", re.findall(r\"world$\", text))\n",
    "print(\"\\\\bP\\\\w+ ->\", re.findall(r\"\\bP\\w+\", text))\n",
    "print(\"\\\\b\\\\w+ing ->\", re.findall(r\"\\b\\w+ing\", text))"
   ]
  },
  {
   "cell_type": "markdown",
   "metadata": {},
   "source": [
    "## 5. Real-Life Examples"
   ]
  },
  {
   "cell_type": "code",
   "execution_count": 16,
   "metadata": {},
   "outputs": [
    {
     "name": "stdout",
     "output_type": "stream",
     "text": [
      "Phone numbers -> ['9876543210']\n",
      "Emails -> ['hello123@gmail.com']\n",
      "Links -> ['https://python.org']\n",
      "trial -> ['hello123@gmail.com']\n"
     ]
    }
   ],
   "source": [
    "text = \"Call 9876543210 or mail me at hello123@gmail.com. Visit https://python.org\"\n",
    "\n",
    "print(\"Phone numbers ->\", re.findall(r\"\\d{10}\", text))\n",
    "print(\"Emails ->\", re.findall(r\"[a-zA-Z0-9._]+@[a-z]+\\.[a-z]+\", text))\n",
    "print(\"Links ->\", re.findall(r\"https[a-z:/.]+\", text))\n",
    "\n",
    "\n",
    "print(\"trial ->\", re.findall(r\"[a-zA-Z0-9._]+@[a-z]+\\.[a-z]+\", text))"
   ]
  },
  {
   "cell_type": "markdown",
   "metadata": {},
   "source": [
    "## ✅ Recap\n",
    "- `[a-z]` → small letter  \n",
    "- `[A-Z]` → capital letter  \n",
    "- `\\d` → digit  \n",
    "- `\\w` → word character  \n",
    "- `+` → many  \n",
    "- `{n}` → exact count\n",
    "- `{n, m}` → min and max count\n",
    "- `^` / `$` → beginning / end  \n",
    "\n",
    "Regex = **Lego blocks 🧩 for text matching!**"
   ]
  },
  {
   "cell_type": "code",
   "execution_count": 7,
   "metadata": {},
   "outputs": [],
   "source": [
    "import re\n",
    "\n",
    "text = \"\"\"On 99/99/9999, Mr. Rahul Sharma called from 9876543210 to confirm the meeting. \n",
    "Later the same day (September 5, 2024) Mrs Anita Gupta emailed the agenda to rahul.sharma@example.com and to contact@school.edu. \n",
    "Please note the backup contact 9123456789 belongs to Mr. A. Verma who said he will arrive on 2024-09-06. \n",
    "Mrs. Sunita Kapoor sent a follow-up on 06/09/2024 with attachments and also cc'd anita_gupta123@mail.co.in. \n",
    "A reminder SMS was also sent from 9988776655 on Sep 7, 2024. \n",
    "For registration, write to admissions@college.ac.in or call 9012345678. \n",
    "Finally, Mr Suresh.P reported an issue on 07/09/2024 and requested support from support-team@example.org.\n",
    "\"\"\""
   ]
  },
  {
   "cell_type": "code",
   "execution_count": 8,
   "metadata": {},
   "outputs": [
    {
     "name": "stdout",
     "output_type": "stream",
     "text": [
      "phones -> ['9876543210', '9123456789', '9988776655', '9012345678']\n",
      "date_dd_mm_yyyy -> ['99/99/9999', '06/09/2024', '07/09/2024']\n",
      "date_yyyy_mm_dd -> ['2024-09-06']\n",
      "date_month_d_comma_yyyy -> ['September 5, 2024', 'Sep 7, 2024']\n",
      "emails -> ['rahul.sharma@example.com', 'contact@school.edu', 'anita_gupta123@mail.co.in', 'admissions@college.ac.in', 'support-team@example.org']\n",
      "mr_mrs_names -> ['Mr. Rahul Sharma', 'Mrs Anita Gupta', 'Mr. A', 'Mrs. Sunita Kapoor', 'Mr Suresh']\n"
     ]
    }
   ],
   "source": [
    "patterns = {\n",
    "    \"phones\": r\"\\b\\d{10}\\b\",\n",
    "    \"date_dd_mm_yyyy\": r\"\\b\\d{2}/\\d{2}/\\d{4}\\b\",\n",
    "    \"date_yyyy_mm_dd\": r\"\\b\\d{4}-\\d{2}-\\d{2}\\b\",\n",
    "    \"date_month_d_comma_yyyy\": r\"\\b(?:Jan|Feb|Mar|Apr|May|Jun|Jul|Aug|Sep|Sept|Oct|Nov|Dec|January|February|March|April|May|June|July|August|September|October|November|December)\\s+\\d{1,2},\\s*\\d{4}\\b\",\n",
    "    \"emails\": r\"[a-zA-Z0-9._%+-]+@[a-zA-Z0-9.-]+\\.[a-zA-Z]{2,}\",\n",
    "    \"mr_mrs_names\": r\"\\b(?:Mr|Mrs)\\.?\\s+[A-Z][a-zA-Z.]*?(?:\\s+[A-Z][a-zA-Z.]*)?\\b\"\n",
    "}\n",
    "\n",
    "for name, pat in patterns.items():\n",
    "    found = re.findall(pat, text)\n",
    "    print(f\"{name} -> {found}\")"
   ]
  },
  {
   "cell_type": "markdown",
   "metadata": {},
   "source": [
    "# 📝 Regex Practice Questions\n",
    "\n",
    "## Level 1 – Baby Steps\n",
    "1. Write a pattern to **find all digits** in:  \n",
    "   `\"I have 2 apples and 15 bananas.\"`\n"
   ]
  },
  {
   "cell_type": "code",
   "execution_count": 11,
   "metadata": {},
   "outputs": [
    {
     "data": {
      "text/plain": [
       "['2', '15']"
      ]
     },
     "execution_count": 11,
     "metadata": {},
     "output_type": "execute_result"
    }
   ],
   "source": [
    "\n",
    "text = \"I have 2 apples and 15 bananas.\"\n",
    "re.findall(r\"\\d+\",text)"
   ]
  },
  {
   "cell_type": "markdown",
   "metadata": {},
   "source": [
    "\n",
    "2. Write a pattern to **find all words starting with capital letters** in:  \n",
    "   `\"My friend John likes Pizza and Python.\"`"
   ]
  },
  {
   "cell_type": "code",
   "execution_count": null,
   "metadata": {},
   "outputs": [
    {
     "name": "stdout",
     "output_type": "stream",
     "text": [
      "['My', 'John', 'Pizza', 'Python']\n",
      "['My', 'John', 'Pizza', 'Python']\n",
      "['My', 'John', 'Pizza', 'Python']\n"
     ]
    }
   ],
   "source": [
    "text =\"My friend John likes Pizza and Python\"\n",
    "print([i  for i in  re.findall(r\"\\w+\",text) if re.findall(r\"[A-Z]\",i)])\n",
    "print(re.findall(r\"\\b[A-Z]\\w+\",text))\n",
    "\n",
    "# best\n",
    "print(re.findall(r\"\\b[A-Z][a-z]*\\b\",text))\n"
   ]
  },
  {
   "cell_type": "markdown",
   "metadata": {},
   "source": [
    "\n",
    "3. Write a pattern to **find all words ending with \"ing\"** in:  \n",
    "   `\"I am singing while running and eating.\"`\n",
    "\n",
    "---\n"
   ]
  },
  {
   "cell_type": "code",
   "execution_count": 29,
   "metadata": {},
   "outputs": [
    {
     "data": {
      "text/plain": [
       "['singing', 'running', 'eating']"
      ]
     },
     "execution_count": 29,
     "metadata": {},
     "output_type": "execute_result"
    }
   ],
   "source": [
    "text = \"I am singing while running and eating\"\n",
    "\n",
    "re.findall(r\"\\b\\w+ing\",text)"
   ]
  },
  {
   "cell_type": "markdown",
   "metadata": {},
   "source": [
    "\n",
    "## Level 2 – Numbers & Words\n",
    "4. Find all **3-digit numbers** in:  \n",
    "   `\"Pin codes: 123, 4567, and 890.\"`\n"
   ]
  },
  {
   "cell_type": "code",
   "execution_count": 36,
   "metadata": {},
   "outputs": [
    {
     "name": "stdout",
     "output_type": "stream",
     "text": [
      "['123', '890']\n"
     ]
    }
   ],
   "source": [
    "text=\"Pin codes: 123, 4567, and 890\"\n",
    "\n",
    "print(re.findall(r\"\\b\\d{3}\\b\",text))"
   ]
  },
  {
   "cell_type": "markdown",
   "metadata": {},
   "source": [
    "\n",
    "5. Find all **words that start with P** in:  \n",
    "   `\"Python, Pizza, Panda, Apple, Banana\"`\n"
   ]
  },
  {
   "cell_type": "code",
   "execution_count": 43,
   "metadata": {},
   "outputs": [
    {
     "name": "stdout",
     "output_type": "stream",
     "text": [
      "['Pyhton', 'Pizza', 'Panda']\n"
     ]
    }
   ],
   "source": [
    "text = \"Pyhton, Pizza, Panda, Apple, Banana\"\n",
    "print(re.findall(r\"\\bP\\w+\",text))"
   ]
  },
  {
   "cell_type": "markdown",
   "metadata": {},
   "source": [
    "\n",
    "6. Find all **2-letter words** in:  \n",
    "   `\"It is an on or up to me.\"`\n",
    "\n",
    "---\n"
   ]
  },
  {
   "cell_type": "code",
   "execution_count": 53,
   "metadata": {},
   "outputs": [
    {
     "name": "stdout",
     "output_type": "stream",
     "text": [
      "['It', 'is', 'an', 'on', 'or', 'up', 'to', 'me']\n"
     ]
    }
   ],
   "source": [
    "text = \"It is an on or up to me\"\n",
    "\n",
    "print(re.findall(r\"\\b[a-z A-Z]{2}\\b\",text))"
   ]
  },
  {
   "cell_type": "markdown",
   "metadata": {},
   "source": [
    "\n",
    "## Level 3 – Real Life Patterns\n",
    "7. Find all **10-digit phone numbers** in:  \n",
    "   `\"Call 9876543210 or 9123456789 today.\"`\n"
   ]
  },
  {
   "cell_type": "code",
   "execution_count": 54,
   "metadata": {},
   "outputs": [
    {
     "name": "stdout",
     "output_type": "stream",
     "text": [
      "['9876543210', '9123456789']\n"
     ]
    }
   ],
   "source": [
    "text = \"Call 9876543210 or 9123456789 today\"\n",
    "print(re.findall(r\"\\d{10}\",text))"
   ]
  },
  {
   "cell_type": "markdown",
   "metadata": {},
   "source": [
    "\n",
    "8. Find all **email addresses** in:  \n",
    "   `\"Contact me at hello@gmail.com or admin@school.org\"`\n",
    "   \n"
   ]
  },
  {
   "cell_type": "code",
   "execution_count": 58,
   "metadata": {},
   "outputs": [
    {
     "name": "stdout",
     "output_type": "stream",
     "text": [
      "['hello@gmail.com', 'admin@school.org']\n"
     ]
    }
   ],
   "source": [
    "text = \"Contact me at hello@gmail.com or admin@school.org\"\n",
    "\n",
    "print(re.findall(r\"[a-zA-Z0-9]+@+[a-z]+\\.+[a-z]\\w+\",text))"
   ]
  },
  {
   "cell_type": "markdown",
   "metadata": {},
   "source": [
    "\n",
    "9. Find all **dates in DD/MM/YYYY format** in:  \n",
    "   `\"My birthday is 05/09/2024 and my friend’s is 15/08/2001.\"`\n",
    "   \n"
   ]
  },
  {
   "cell_type": "code",
   "execution_count": 59,
   "metadata": {},
   "outputs": [
    {
     "name": "stdout",
     "output_type": "stream",
     "text": [
      "['05/09/2024', '15/08/2001']\n"
     ]
    }
   ],
   "source": [
    "text =\"My birthday is 05/09/2024 and my friend’s is 15/08/2001.\"\n",
    "\n",
    "print(re.findall(r\"\\b\\d{2}/\\d{2}/\\d{4}\\b\", text))"
   ]
  },
  {
   "cell_type": "markdown",
   "metadata": {},
   "source": [
    "\n",
    "10. Find all **names starting with Mr. or Mrs.** in:  \n",
    "   `\"Mr. Ramesh met Mrs Anita at the park.\"`\n",
    "\n",
    "---\n"
   ]
  },
  {
   "cell_type": "code",
   "execution_count": 72,
   "metadata": {},
   "outputs": [
    {
     "name": "stdout",
     "output_type": "stream",
     "text": [
      "['Mr. Ramesh', 'Mrs. Anita']\n"
     ]
    }
   ],
   "source": [
    "text = \"Mr. Ramesh met Mrs. Anita at the park\"\n",
    "\n",
    "print(re.findall(r\"\\b(?:Mr|Mrs)\\.\\s+[A-Z][a-zA-Z]*\\b\",text))"
   ]
  },
  {
   "cell_type": "markdown",
   "metadata": {},
   "source": [
    "\n",
    "## 🎯 Hints\n",
    "- Use `\\d` for digits.  \n",
    "- Use `[A-Z]` for uppercase letters.  \n",
    "- Use `\\w+` for whole words.  \n",
    "- Use `{n}` for exact count (e.g., 10 digits = `\\d{10}`).  \n",
    "- Use `^` and `$` for start/end of line.  \n",
    "- Use `\\b` for word boundaries.  \n"
   ]
  },
  {
   "cell_type": "markdown",
   "metadata": {},
   "source": [
    "<details>\n",
    "<summary>🔑 Show Solution</summary>\n",
    "\n",
    "# 📝 Regex Practice Questions with Solutions\n",
    "\n",
    "## Level 1 – Baby Steps\n",
    "**Q1.** Write a pattern to **find all digits** in:  \n",
    "`\"I have 2 apples and 15 bananas.\"`  \n",
    "\n",
    "**Solution:**  \n",
    "`\\d`  \n",
    "Matches: `2`, `1`, `5`\n",
    "\n",
    "---\n",
    "\n",
    "**Q2.** Write a pattern to **find all words starting with capital letters** in:  \n",
    "`\"My friend John likes Pizza and Python.\"`  \n",
    "\n",
    "**Solution:**  \n",
    "`\\b[A-Z]\\w+`  \n",
    "Matches: `My`, `John`, `Pizza`, `Python`\n",
    "\n",
    "---\n",
    "\n",
    "**Q3.** Write a pattern to **find all words ending with \"ing\"** in:  \n",
    "`\"I am singing while running and eating.\"`  \n",
    "\n",
    "**Solution:**  \n",
    "`\\b\\w+ing`  \n",
    "Matches: `singing`, `running`, `eating`\n",
    "\n",
    "---\n",
    "\n",
    "## Level 2 – Numbers & Words\n",
    "**Q4.** Find all **3-digit numbers** in:  \n",
    "`\"Pin codes: 123, 4567, and 890.\"`  \n",
    "\n",
    "**Solution:**  \n",
    "`\\b\\d{3}\\b`  \n",
    "Matches: `123`, `890`\n",
    "\n",
    "---\n",
    "\n",
    "**Q5.** Find all **words that start with P** in:  \n",
    "`\"Python, Pizza, Panda, Apple, Banana\"`  \n",
    "\n",
    "**Solution:**  \n",
    "`\\bP\\w+`  \n",
    "Matches: `Python`, `Pizza`, `Panda`\n",
    "\n",
    "---\n",
    "\n",
    "**Q6.** Find all **2-letter words** in:  \n",
    "`\"It is an on or up to me.\"`  \n",
    "\n",
    "**Solution:**  \n",
    "`\\b\\w{2}\\b`  \n",
    "Matches: `It`, `is`, `an`, `on`, `or`, `up`, `to`, `me`\n",
    "\n",
    "---\n",
    "\n",
    "## Level 3 – Real Life Patterns\n",
    "**Q7.** Find all **10-digit phone numbers** in:  \n",
    "`\"Call 9876543210 or 9123456789 today.\"`  \n",
    "\n",
    "**Solution:**  \n",
    "`\\b\\d{10}\\b`  \n",
    "Matches: `9876543210`, `9123456789`\n",
    "\n",
    "---\n",
    "\n",
    "**Q8.** Find all **email addresses** in:  \n",
    "`\"Contact me at hello@gmail.com or admin@school.org\"`  \n",
    "\n",
    "**Solution:**  \n",
    "`[a-zA-Z0-9._%+-]+@[a-zA-Z0-9.-]+\\.[a-zA-Z]{2,}`  \n",
    "Matches: `hello@gmail.com`, `admin@school.org`\n",
    "\n",
    "---\n",
    "\n",
    "**Q9.** Find all **dates in DD/MM/YYYY format** in:  \n",
    "`\"My birthday is 05/09/2024 and my friend’s is 15/08/2001.\"`  \n",
    "\n",
    "**Solution:**  \n",
    "`\\b\\d{2}/\\d{2}/\\d{4}\\b`  \n",
    "Matches: `05/09/2024`, `15/08/2001`\n",
    "\n",
    "---\n",
    "\n",
    "**Q10.** Find all **names starting with Mr. or Mrs.** in:  \n",
    "`\"Mr. Ramesh met Mrs Anita at the park.\"`  \n",
    "\n",
    "**Solution:**  \n",
    "`\\b(?:Mr|Mrs)\\.?\\s+[A-Z][a-zA-Z.]*\\b`  \n",
    "Matches: `Mr. Ramesh`, `Mrs Anita`\n",
    "\n",
    "---\n",
    "\n",
    "# 🎯 Quick Recap\n",
    "- `\\d` → digit  \n",
    "- `\\w` → word character  \n",
    "- `{n}` → exact count  \n",
    "- `+` → one or more  \n",
    "- `\\b` → word boundary  \n",
    "- `^` / `$` → start / end of line  \n",
    "\n",
    "</details>"
   ]
  },
  {
   "cell_type": "code",
   "execution_count": 33,
   "metadata": {},
   "outputs": [
    {
     "name": "stdout",
     "output_type": "stream",
     "text": [
      "Valid dates (excluding 99/99/9999 and 99-99-9999): ['06/09/2024', '07/09/2024']\n"
     ]
    }
   ],
   "source": [
    "import re\n",
    "\n",
    "# Pattern to match valid dates in DD/MM/YYYY or DD-MM-YYYY format, excluding 99/99/9999 and 99-99-9999\n",
    "date_pattern = r\"\\b(?!99[/-]99[/-]9999)(?:0[1-9]|[12][0-9]|3[01])[/-](?:0[1-9]|1[0-2])[/-](?:19|20)\\d{2}\\b\"\n",
    "\n",
    "valid_dates = re.findall(date_pattern, text)\n",
    "print(\"Valid dates (excluding 99/99/9999 and 99-99-9999):\", valid_dates)"
   ]
  },
  {
   "cell_type": "markdown",
   "metadata": {},
   "source": [
    "# Pandas"
   ]
  },
  {
   "cell_type": "code",
   "execution_count": 73,
   "metadata": {},
   "outputs": [
    {
     "name": "stdout",
     "output_type": "stream",
     "text": [
      "Collecting pandas\n",
      "  Downloading pandas-2.3.2-cp313-cp313-win_amd64.whl.metadata (19 kB)\n",
      "Collecting numpy>=1.26.0 (from pandas)\n",
      "  Downloading numpy-2.3.3-cp313-cp313-win_amd64.whl.metadata (60 kB)\n",
      "Requirement already satisfied: python-dateutil>=2.8.2 in c:\\users\\waghr\\appdata\\roaming\\python\\python313\\site-packages (from pandas) (2.9.0.post0)\n",
      "Collecting pytz>=2020.1 (from pandas)\n",
      "  Downloading pytz-2025.2-py2.py3-none-any.whl.metadata (22 kB)\n",
      "Collecting tzdata>=2022.7 (from pandas)\n",
      "  Downloading tzdata-2025.2-py2.py3-none-any.whl.metadata (1.4 kB)\n",
      "Requirement already satisfied: six>=1.5 in c:\\users\\waghr\\appdata\\roaming\\python\\python313\\site-packages (from python-dateutil>=2.8.2->pandas) (1.17.0)\n",
      "Downloading pandas-2.3.2-cp313-cp313-win_amd64.whl (11.0 MB)\n",
      "   ---------------------------------------- 0.0/11.0 MB ? eta -:--:--\n",
      "   ---------------------------------------- 0.0/11.0 MB ? eta -:--:--\n",
      "   ---------------------------------------- 0.0/11.0 MB ? eta -:--:--\n",
      "   ---------------------------------------- 0.0/11.0 MB ? eta -:--:--\n",
      "    --------------------------------------- 0.3/11.0 MB ? eta -:--:--\n",
      "    --------------------------------------- 0.3/11.0 MB ? eta -:--:--\n",
      "   - -------------------------------------- 0.5/11.0 MB 557.9 kB/s eta 0:00:19\n",
      "   - -------------------------------------- 0.5/11.0 MB 557.9 kB/s eta 0:00:19\n",
      "   -- ------------------------------------- 0.8/11.0 MB 623.6 kB/s eta 0:00:17\n",
      "   --- ------------------------------------ 1.0/11.0 MB 677.6 kB/s eta 0:00:15\n",
      "   ---- ----------------------------------- 1.3/11.0 MB 729.7 kB/s eta 0:00:14\n",
      "   ---- ----------------------------------- 1.3/11.0 MB 729.7 kB/s eta 0:00:14\n",
      "   ----- ---------------------------------- 1.6/11.0 MB 767.3 kB/s eta 0:00:13\n",
      "   ------ --------------------------------- 1.8/11.0 MB 806.7 kB/s eta 0:00:12\n",
      "   ------- -------------------------------- 2.1/11.0 MB 839.4 kB/s eta 0:00:11\n",
      "   -------- ------------------------------- 2.4/11.0 MB 876.0 kB/s eta 0:00:10\n",
      "   --------- ------------------------------ 2.6/11.0 MB 909.3 kB/s eta 0:00:10\n",
      "   ---------- ----------------------------- 2.9/11.0 MB 941.0 kB/s eta 0:00:09\n",
      "   ----------- ---------------------------- 3.1/11.0 MB 972.0 kB/s eta 0:00:09\n",
      "   ------------ --------------------------- 3.4/11.0 MB 993.1 kB/s eta 0:00:08\n",
      "   -------------- ------------------------- 3.9/11.0 MB 1.0 MB/s eta 0:00:07\n",
      "   --------------- ------------------------ 4.2/11.0 MB 1.1 MB/s eta 0:00:07\n",
      "   ---------------- ----------------------- 4.5/11.0 MB 1.1 MB/s eta 0:00:06\n",
      "   ------------------ --------------------- 5.0/11.0 MB 1.1 MB/s eta 0:00:06\n",
      "   ------------------- -------------------- 5.2/11.0 MB 1.2 MB/s eta 0:00:05\n",
      "   --------------------- ------------------ 5.8/11.0 MB 1.2 MB/s eta 0:00:05\n",
      "   --------------------- ------------------ 6.0/11.0 MB 1.2 MB/s eta 0:00:04\n",
      "   ----------------------- ---------------- 6.6/11.0 MB 1.3 MB/s eta 0:00:04\n",
      "   ------------------------- -------------- 7.1/11.0 MB 1.3 MB/s eta 0:00:03\n",
      "   --------------------------- ------------ 7.6/11.0 MB 1.4 MB/s eta 0:00:03\n",
      "   ---------------------------- ----------- 7.9/11.0 MB 1.4 MB/s eta 0:00:03\n",
      "   ------------------------------ --------- 8.4/11.0 MB 1.4 MB/s eta 0:00:02\n",
      "   -------------------------------- ------- 8.9/11.0 MB 1.5 MB/s eta 0:00:02\n",
      "   ---------------------------------- ----- 9.4/11.0 MB 1.5 MB/s eta 0:00:02\n",
      "   ------------------------------------ --- 10.0/11.0 MB 1.5 MB/s eta 0:00:01\n",
      "   -------------------------------------- - 10.5/11.0 MB 1.6 MB/s eta 0:00:01\n",
      "   ---------------------------------------- 11.0/11.0 MB 1.6 MB/s  0:00:07\n",
      "Downloading numpy-2.3.3-cp313-cp313-win_amd64.whl (12.8 MB)\n",
      "   ---------------------------------------- 0.0/12.8 MB ? eta -:--:--\n",
      "   - -------------------------------------- 0.5/12.8 MB 2.8 MB/s eta 0:00:05\n",
      "   --- ------------------------------------ 1.0/12.8 MB 2.8 MB/s eta 0:00:05\n",
      "   ---- ----------------------------------- 1.6/12.8 MB 2.8 MB/s eta 0:00:04\n",
      "   ------- -------------------------------- 2.4/12.8 MB 2.9 MB/s eta 0:00:04\n",
      "   --------- ------------------------------ 2.9/12.8 MB 2.9 MB/s eta 0:00:04\n",
      "   ----------- ---------------------------- 3.7/12.8 MB 3.0 MB/s eta 0:00:04\n",
      "   ------------- -------------------------- 4.5/12.8 MB 3.1 MB/s eta 0:00:03\n",
      "   ---------------- ----------------------- 5.2/12.8 MB 3.2 MB/s eta 0:00:03\n",
      "   ------------------ --------------------- 6.0/12.8 MB 3.3 MB/s eta 0:00:03\n",
      "   ---------------------- ----------------- 7.1/12.8 MB 3.5 MB/s eta 0:00:02\n",
      "   ------------------------- -------------- 8.1/12.8 MB 3.7 MB/s eta 0:00:02\n",
      "   ----------------------------- ---------- 9.4/12.8 MB 3.8 MB/s eta 0:00:01\n",
      "   --------------------------------- ------ 10.7/12.8 MB 4.0 MB/s eta 0:00:01\n",
      "   ------------------------------------- -- 12.1/12.8 MB 4.2 MB/s eta 0:00:01\n",
      "   ---------------------------------------- 12.8/12.8 MB 4.2 MB/s  0:00:03\n",
      "Downloading pytz-2025.2-py2.py3-none-any.whl (509 kB)\n",
      "Downloading tzdata-2025.2-py2.py3-none-any.whl (347 kB)\n",
      "Installing collected packages: pytz, tzdata, numpy, pandas\n",
      "\n",
      "   ---------------------------------------- 0/4 [pytz]\n",
      "   ---------------------------------------- 0/4 [pytz]\n",
      "   ---------------------------------------- 0/4 [pytz]\n",
      "   ---------- ----------------------------- 1/4 [tzdata]\n",
      "   ---------- ----------------------------- 1/4 [tzdata]\n",
      "   ---------- ----------------------------- 1/4 [tzdata]\n",
      "   -------------------- ------------------- 2/4 [numpy]\n",
      "   -------------------- ------------------- 2/4 [numpy]\n",
      "   -------------------- ------------------- 2/4 [numpy]\n",
      "   -------------------- ------------------- 2/4 [numpy]\n",
      "   -------------------- ------------------- 2/4 [numpy]\n",
      "   -------------------- ------------------- 2/4 [numpy]\n",
      "   -------------------- ------------------- 2/4 [numpy]\n",
      "   -------------------- ------------------- 2/4 [numpy]\n",
      "   -------------------- ------------------- 2/4 [numpy]\n",
      "   -------------------- ------------------- 2/4 [numpy]\n",
      "   -------------------- ------------------- 2/4 [numpy]\n",
      "   -------------------- ------------------- 2/4 [numpy]\n",
      "   -------------------- ------------------- 2/4 [numpy]\n",
      "   -------------------- ------------------- 2/4 [numpy]\n",
      "   -------------------- ------------------- 2/4 [numpy]\n",
      "   -------------------- ------------------- 2/4 [numpy]\n",
      "   -------------------- ------------------- 2/4 [numpy]\n",
      "   -------------------- ------------------- 2/4 [numpy]\n",
      "   -------------------- ------------------- 2/4 [numpy]\n",
      "   -------------------- ------------------- 2/4 [numpy]\n",
      "   ------------------------------ --------- 3/4 [pandas]\n",
      "   ------------------------------ --------- 3/4 [pandas]\n",
      "   ------------------------------ --------- 3/4 [pandas]\n",
      "   ------------------------------ --------- 3/4 [pandas]\n",
      "   ------------------------------ --------- 3/4 [pandas]\n",
      "   ------------------------------ --------- 3/4 [pandas]\n",
      "   ------------------------------ --------- 3/4 [pandas]\n",
      "   ------------------------------ --------- 3/4 [pandas]\n",
      "   ------------------------------ --------- 3/4 [pandas]\n",
      "   ------------------------------ --------- 3/4 [pandas]\n",
      "   ------------------------------ --------- 3/4 [pandas]\n",
      "   ------------------------------ --------- 3/4 [pandas]\n",
      "   ------------------------------ --------- 3/4 [pandas]\n",
      "   ------------------------------ --------- 3/4 [pandas]\n",
      "   ------------------------------ --------- 3/4 [pandas]\n",
      "   ------------------------------ --------- 3/4 [pandas]\n",
      "   ------------------------------ --------- 3/4 [pandas]\n",
      "   ------------------------------ --------- 3/4 [pandas]\n",
      "   ------------------------------ --------- 3/4 [pandas]\n",
      "   ------------------------------ --------- 3/4 [pandas]\n",
      "   ------------------------------ --------- 3/4 [pandas]\n",
      "   ------------------------------ --------- 3/4 [pandas]\n",
      "   ------------------------------ --------- 3/4 [pandas]\n",
      "   ------------------------------ --------- 3/4 [pandas]\n",
      "   ------------------------------ --------- 3/4 [pandas]\n",
      "   ------------------------------ --------- 3/4 [pandas]\n",
      "   ------------------------------ --------- 3/4 [pandas]\n",
      "   ------------------------------ --------- 3/4 [pandas]\n",
      "   ------------------------------ --------- 3/4 [pandas]\n",
      "   ------------------------------ --------- 3/4 [pandas]\n",
      "   ------------------------------ --------- 3/4 [pandas]\n",
      "   ------------------------------ --------- 3/4 [pandas]\n",
      "   ------------------------------ --------- 3/4 [pandas]\n",
      "   ------------------------------ --------- 3/4 [pandas]\n",
      "   ------------------------------ --------- 3/4 [pandas]\n",
      "   ------------------------------ --------- 3/4 [pandas]\n",
      "   ------------------------------ --------- 3/4 [pandas]\n",
      "   ------------------------------ --------- 3/4 [pandas]\n",
      "   ------------------------------ --------- 3/4 [pandas]\n",
      "   ------------------------------ --------- 3/4 [pandas]\n",
      "   ------------------------------ --------- 3/4 [pandas]\n",
      "   ------------------------------ --------- 3/4 [pandas]\n",
      "   ------------------------------ --------- 3/4 [pandas]\n",
      "   ------------------------------ --------- 3/4 [pandas]\n",
      "   ------------------------------ --------- 3/4 [pandas]\n",
      "   ------------------------------ --------- 3/4 [pandas]\n",
      "   ------------------------------ --------- 3/4 [pandas]\n",
      "   ------------------------------ --------- 3/4 [pandas]\n",
      "   ------------------------------ --------- 3/4 [pandas]\n",
      "   ------------------------------ --------- 3/4 [pandas]\n",
      "   ------------------------------ --------- 3/4 [pandas]\n",
      "   ------------------------------ --------- 3/4 [pandas]\n",
      "   ------------------------------ --------- 3/4 [pandas]\n",
      "   ------------------------------ --------- 3/4 [pandas]\n",
      "   ------------------------------ --------- 3/4 [pandas]\n",
      "   ------------------------------ --------- 3/4 [pandas]\n",
      "   ---------------------------------------- 4/4 [pandas]\n",
      "\n",
      "Successfully installed numpy-2.3.3 pandas-2.3.2 pytz-2025.2 tzdata-2025.2\n"
     ]
    }
   ],
   "source": [
    "!pip install pandas"
   ]
  },
  {
   "cell_type": "code",
   "execution_count": 84,
   "metadata": {},
   "outputs": [],
   "source": [
    "import pandas as pd \n",
    "import numpy as np"
   ]
  },
  {
   "cell_type": "code",
   "execution_count": 75,
   "metadata": {},
   "outputs": [],
   "source": [
    "### Series in pandas\n",
    "#  series is one dimentional array like object in pandas having only row lables"
   ]
  },
  {
   "cell_type": "code",
   "execution_count": 93,
   "metadata": {},
   "outputs": [
    {
     "data": {
      "text/plain": [
       "0     pooja\n",
       "1     Mansi\n",
       "2    Sanket\n",
       "3    Ritika\n",
       "4     Rahul\n",
       "5    Shruti\n",
       "6       Raj\n",
       "dtype: object"
      ]
     },
     "execution_count": 93,
     "metadata": {},
     "output_type": "execute_result"
    }
   ],
   "source": [
    "# to create a series we can pass a list, tuple, array, dictionary\n",
    "\n",
    "lst = ['pooja','Mansi','Sanket','Ritika','Rahul','Shruti','Raj']\n",
    "ser1 = pd.Series(lst)\n",
    "ser1"
   ]
  },
  {
   "cell_type": "code",
   "execution_count": 94,
   "metadata": {},
   "outputs": [
    {
     "name": "stdout",
     "output_type": "stream",
     "text": [
      "RangeIndex(start=0, stop=7, step=1)\n",
      "a     pooja\n",
      "b     Mansi\n",
      "c    Sanket\n",
      "d    Ritika\n",
      "e     Rahul\n",
      "f    Shruti\n",
      "g       Raj\n",
      "dtype: object\n"
     ]
    }
   ],
   "source": [
    "print(ser1.index)\n",
    "ser1.index=list(\"abcdefg\")\n",
    "print(ser1)"
   ]
  },
  {
   "cell_type": "code",
   "execution_count": 90,
   "metadata": {},
   "outputs": [
    {
     "data": {
      "text/plain": [
       "A    100\n",
       "B    110\n",
       "C    120\n",
       "D    130\n",
       "E    140\n",
       "F    150\n",
       "G    160\n",
       "H    170\n",
       "I    180\n",
       "J    190\n",
       "dtype: int64"
      ]
     },
     "execution_count": 90,
     "metadata": {},
     "output_type": "execute_result"
    }
   ],
   "source": [
    "arr1= np.array(range(100,200,10))\n",
    "seer1= pd.Series(arr1,index=list(\"ABCDEFGHIJ\"))\n",
    "seer1"
   ]
  },
  {
   "cell_type": "code",
   "execution_count": 95,
   "metadata": {},
   "outputs": [
    {
     "data": {
      "text/plain": [
       "a     pooja\n",
       "b     Mansi\n",
       "c    Sanket\n",
       "d    Ritika\n",
       "e     Rahul\n",
       "f    Shruti\n",
       "g       Raj\n",
       "dtype: object"
      ]
     },
     "execution_count": 95,
     "metadata": {},
     "output_type": "execute_result"
    }
   ],
   "source": [
    "ser1"
   ]
  },
  {
   "cell_type": "code",
   "execution_count": 98,
   "metadata": {},
   "outputs": [
    {
     "data": {
      "text/plain": [
       "Pooja       Pune\n",
       "Manasi    Mumbai\n",
       "Tejal      Delhi\n",
       "dtype: object"
      ]
     },
     "execution_count": 98,
     "metadata": {},
     "output_type": "execute_result"
    }
   ],
   "source": [
    "dict1 = {\"Pooja\":\"Pune\",\"Manasi\": \"Mumbai\",\"Tejal\":\"Delhi\"}\n",
    "ser1 = pd.Series(dict1)\n",
    "ser1"
   ]
  },
  {
   "cell_type": "code",
   "execution_count": 99,
   "metadata": {},
   "outputs": [
    {
     "data": {
      "text/plain": [
       "Puja       Pune\n",
       "a        Mumbai\n",
       "Tejal     Delhi\n",
       "dtype: object"
      ]
     },
     "execution_count": 99,
     "metadata": {},
     "output_type": "execute_result"
    }
   ],
   "source": [
    "ser1.rename({'Pooja':'Puja','Manasi':\"a\"},inplace=True)\n",
    "ser1"
   ]
  },
  {
   "cell_type": "code",
   "execution_count": 100,
   "metadata": {},
   "outputs": [
    {
     "name": "stdout",
     "output_type": "stream",
     "text": [
      "['Pune' 'Mumbai' 'Delhi']\n",
      "['Pune', 'Mumbai', 'Delhi']\n"
     ]
    }
   ],
   "source": [
    "print(ser1.values)\n",
    "print(list(ser1.values))"
   ]
  },
  {
   "cell_type": "markdown",
   "metadata": {},
   "source": [
    "# DataFrame"
   ]
  },
  {
   "cell_type": "code",
   "execution_count": 101,
   "metadata": {},
   "outputs": [
    {
     "data": {
      "text/html": [
       "<div>\n",
       "<style scoped>\n",
       "    .dataframe tbody tr th:only-of-type {\n",
       "        vertical-align: middle;\n",
       "    }\n",
       "\n",
       "    .dataframe tbody tr th {\n",
       "        vertical-align: top;\n",
       "    }\n",
       "\n",
       "    .dataframe thead th {\n",
       "        text-align: right;\n",
       "    }\n",
       "</style>\n",
       "<table border=\"1\" class=\"dataframe\">\n",
       "  <thead>\n",
       "    <tr style=\"text-align: right;\">\n",
       "      <th></th>\n",
       "      <th>Name</th>\n",
       "      <th>Age</th>\n",
       "      <th>Marks</th>\n",
       "      <th>Location</th>\n",
       "      <th>Gender</th>\n",
       "    </tr>\n",
       "  </thead>\n",
       "  <tbody>\n",
       "    <tr>\n",
       "      <th>0</th>\n",
       "      <td>Tom</td>\n",
       "      <td>23</td>\n",
       "      <td>90</td>\n",
       "      <td>Pune</td>\n",
       "      <td>M</td>\n",
       "    </tr>\n",
       "    <tr>\n",
       "      <th>1</th>\n",
       "      <td>Jerry</td>\n",
       "      <td>24</td>\n",
       "      <td>97</td>\n",
       "      <td>Mumbai</td>\n",
       "      <td>M</td>\n",
       "    </tr>\n",
       "    <tr>\n",
       "      <th>2</th>\n",
       "      <td>Lee</td>\n",
       "      <td>12</td>\n",
       "      <td>85</td>\n",
       "      <td>Delhi</td>\n",
       "      <td>F</td>\n",
       "    </tr>\n",
       "    <tr>\n",
       "      <th>3</th>\n",
       "      <td>Bob</td>\n",
       "      <td>34</td>\n",
       "      <td>67</td>\n",
       "      <td>Banglore</td>\n",
       "      <td>M</td>\n",
       "    </tr>\n",
       "    <tr>\n",
       "      <th>4</th>\n",
       "      <td>Stock</td>\n",
       "      <td>33</td>\n",
       "      <td>89</td>\n",
       "      <td>Goa</td>\n",
       "      <td>M</td>\n",
       "    </tr>\n",
       "    <tr>\n",
       "      <th>5</th>\n",
       "      <td>Ben</td>\n",
       "      <td>21</td>\n",
       "      <td>78</td>\n",
       "      <td>Chennai</td>\n",
       "      <td>M</td>\n",
       "    </tr>\n",
       "    <tr>\n",
       "      <th>6</th>\n",
       "      <td>Candy</td>\n",
       "      <td>45</td>\n",
       "      <td>70</td>\n",
       "      <td>Nasik</td>\n",
       "      <td>F</td>\n",
       "    </tr>\n",
       "  </tbody>\n",
       "</table>\n",
       "</div>"
      ],
      "text/plain": [
       "    Name  Age  Marks  Location Gender\n",
       "0    Tom   23     90      Pune      M\n",
       "1  Jerry   24     97    Mumbai      M\n",
       "2    Lee   12     85     Delhi      F\n",
       "3    Bob   34     67  Banglore      M\n",
       "4  Stock   33     89       Goa      M\n",
       "5    Ben   21     78   Chennai      M\n",
       "6  Candy   45     70     Nasik      F"
      ]
     },
     "execution_count": 101,
     "metadata": {},
     "output_type": "execute_result"
    }
   ],
   "source": [
    "dict1={'Name': ['Tom', 'Jerry', 'Lee', 'Bob', 'Stock', 'Ben', 'Candy'],\\\n",
    "'Age': [23,24, 12, 34, 33, 21,45],\\\n",
    "'Marks': [90,97,85,67,89,78,70],\\\n",
    "'Location': ['Pune', 'Mumbai', 'Delhi', 'Banglore', 'Goa', 'Chennai', 'Nasik'],\\\n",
    "'Gender': ['M', 'M', 'F', 'M', 'M', 'M', 'F']}\n",
    "df=pd.DataFrame(dict1)\n",
    "df"
   ]
  },
  {
   "cell_type": "code",
   "execution_count": 102,
   "metadata": {},
   "outputs": [
    {
     "data": {
      "text/plain": [
       "(7, 5)"
      ]
     },
     "execution_count": 102,
     "metadata": {},
     "output_type": "execute_result"
    }
   ],
   "source": [
    "df.shape"
   ]
  },
  {
   "cell_type": "code",
   "execution_count": null,
   "metadata": {},
   "outputs": [],
   "source": []
  },
  {
   "cell_type": "code",
   "execution_count": null,
   "metadata": {},
   "outputs": [],
   "source": []
  },
  {
   "cell_type": "code",
   "execution_count": null,
   "metadata": {},
   "outputs": [],
   "source": []
  },
  {
   "cell_type": "code",
   "execution_count": null,
   "metadata": {},
   "outputs": [],
   "source": []
  },
  {
   "cell_type": "code",
   "execution_count": null,
   "metadata": {},
   "outputs": [],
   "source": []
  },
  {
   "cell_type": "code",
   "execution_count": null,
   "metadata": {},
   "outputs": [],
   "source": []
  },
  {
   "cell_type": "code",
   "execution_count": null,
   "metadata": {},
   "outputs": [],
   "source": []
  },
  {
   "cell_type": "code",
   "execution_count": null,
   "metadata": {},
   "outputs": [],
   "source": []
  },
  {
   "cell_type": "code",
   "execution_count": null,
   "metadata": {},
   "outputs": [],
   "source": []
  },
  {
   "cell_type": "code",
   "execution_count": null,
   "metadata": {},
   "outputs": [],
   "source": []
  },
  {
   "cell_type": "code",
   "execution_count": null,
   "metadata": {},
   "outputs": [],
   "source": []
  }
 ],
 "metadata": {
  "kernelspec": {
   "display_name": "Python 3",
   "language": "python",
   "name": "python3"
  },
  "language_info": {
   "codemirror_mode": {
    "name": "ipython",
    "version": 3
   },
   "file_extension": ".py",
   "mimetype": "text/x-python",
   "name": "python",
   "nbconvert_exporter": "python",
   "pygments_lexer": "ipython3",
   "version": "3.13.7"
  }
 },
 "nbformat": 4,
 "nbformat_minor": 2
}
