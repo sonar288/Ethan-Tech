{
 "cells": [
  {
   "cell_type": "code",
   "execution_count": 2,
   "id": "80b26338",
   "metadata": {},
   "outputs": [
    {
     "name": "stdout",
     "output_type": "stream",
     "text": [
      "50 is even\n",
      "49 is odd\n",
      "48 is even\n",
      "47 is odd\n",
      "46 is even\n",
      "45 is odd\n",
      "44 is even\n",
      "43 is odd\n",
      "42 is even\n",
      "41 is odd\n"
     ]
    }
   ],
   "source": [
    "num = 50\n",
    "while num > 40:\n",
    "    if num % 2 == 0:\n",
    "        print(num, \"is even\")\n",
    "    else:\n",
    "        print(num, \"is odd\")\n",
    "    num -= 1"
   ]
  },
  {
   "cell_type": "code",
   "execution_count": 7,
   "id": "67166aac",
   "metadata": {},
   "outputs": [
    {
     "name": "stdout",
     "output_type": "stream",
     "text": [
      "4\n"
     ]
    }
   ],
   "source": [
    "tot_cons=0\n",
    "\n",
    "vowels = ['a','e','i','o','u']\n",
    "\n",
    "for i  in set(\"Hey there, How Are you?\".lower()):\n",
    "    if  i.lower()  in vowels:\n",
    "        tot_cons+=1\n",
    "print(tot_cons)"
   ]
  },
  {
   "cell_type": "code",
   "execution_count": 13,
   "id": "c416d3e7",
   "metadata": {},
   "outputs": [
    {
     "name": "stdout",
     "output_type": "stream",
     "text": [
      "u 1\n"
     ]
    }
   ],
   "source": [
    "total = 0\n",
    "vowels = ['a','e','i','o','u']\n",
    "\n",
    "line = \"Hey there, How Are you?\"\n",
    "\n",
    "for vowel in vowels:\n",
    "      if vowel in line:\n",
    "        total=+1\n",
    "      \n",
    "print (vowel, total)\n"
   ]
  },
  {
   "cell_type": "code",
   "execution_count": 14,
   "id": "1e3820e9",
   "metadata": {},
   "outputs": [
    {
     "name": "stdout",
     "output_type": "stream",
     "text": [
      "even\n",
      "odd\n",
      "even\n",
      "odd\n",
      "even\n"
     ]
    }
   ],
   "source": [
    "for i in range(5):\n",
    "    if i%2 == 0:\n",
    "        print(\"even\")\n",
    "    else:\n",
    "        print(\"odd\")\n"
   ]
  },
  {
   "cell_type": "code",
   "execution_count": 2,
   "id": "a3e9f399",
   "metadata": {},
   "outputs": [
    {
     "data": {
      "text/plain": [
       "['even', 'odd', 'even', 'odd', 'even']"
      ]
     },
     "execution_count": 2,
     "metadata": {},
     "output_type": "execute_result"
    }
   ],
   "source": [
    "[\"even\" if i%2 == 0 else 'odd' for i in range(5)]"
   ]
  },
  {
   "cell_type": "code",
   "execution_count": null,
   "id": "f1500f74",
   "metadata": {},
   "outputs": [],
   "source": []
  },
  {
   "cell_type": "code",
   "execution_count": null,
   "id": "0a295223",
   "metadata": {},
   "outputs": [],
   "source": []
  },
  {
   "cell_type": "code",
   "execution_count": null,
   "id": "505b5cd1",
   "metadata": {},
   "outputs": [],
   "source": []
  },
  {
   "cell_type": "code",
   "execution_count": null,
   "id": "b2d02737",
   "metadata": {},
   "outputs": [],
   "source": []
  },
  {
   "cell_type": "code",
   "execution_count": null,
   "id": "770dbb0d",
   "metadata": {},
   "outputs": [],
   "source": []
  },
  {
   "cell_type": "code",
   "execution_count": null,
   "id": "47aa1666",
   "metadata": {},
   "outputs": [],
   "source": []
  },
  {
   "cell_type": "code",
   "execution_count": null,
   "id": "5fd257c2",
   "metadata": {},
   "outputs": [],
   "source": []
  }
 ],
 "metadata": {
  "kernelspec": {
   "display_name": "Python 3",
   "language": "python",
   "name": "python3"
  },
  "language_info": {
   "codemirror_mode": {
    "name": "ipython",
    "version": 3
   },
   "file_extension": ".py",
   "mimetype": "text/x-python",
   "name": "python",
   "nbconvert_exporter": "python",
   "pygments_lexer": "ipython3",
   "version": "3.13.5"
  }
 },
 "nbformat": 4,
 "nbformat_minor": 5
}
