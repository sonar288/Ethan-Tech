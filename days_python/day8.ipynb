{
 "cells": [
  {
   "cell_type": "markdown",
   "id": "6e9672a3",
   "metadata": {},
   "source": [
    "      function"
   ]
  },
  {
   "cell_type": "code",
   "execution_count": null,
   "id": "74d89c1f",
   "metadata": {},
   "outputs": [],
   "source": [
    "# def funcion_name(parameter):\n",
    "#     function body\n",
    "\n",
    "\n",
    "# function_name()"
   ]
  },
  {
   "cell_type": "code",
   "execution_count": 6,
   "id": "315a57df",
   "metadata": {},
   "outputs": [],
   "source": [
    "def adder(num1, num2):\n",
    "    return(num1+ num2)"
   ]
  },
  {
   "cell_type": "code",
   "execution_count": 7,
   "id": "d4a4cc12",
   "metadata": {},
   "outputs": [
    {
     "data": {
      "text/plain": [
       "30"
      ]
     },
     "execution_count": 7,
     "metadata": {},
     "output_type": "execute_result"
    }
   ],
   "source": [
    "add = adder(10,20)\n",
    "add"
   ]
  },
  {
   "cell_type": "code",
   "execution_count": 11,
   "id": "31f276f1",
   "metadata": {},
   "outputs": [
    {
     "data": {
      "text/plain": [
       "'olleh'"
      ]
     },
     "execution_count": 11,
     "metadata": {},
     "output_type": "execute_result"
    }
   ],
   "source": [
    "def reverse(s):\n",
    "    return(s[::-1])\n",
    "reverse(\"hello\")"
   ]
  },
  {
   "cell_type": "code",
   "execution_count": null,
   "id": "832ddbe9",
   "metadata": {},
   "outputs": [
    {
     "data": {
      "text/plain": [
       "True"
      ]
     },
     "execution_count": 19,
     "metadata": {},
     "output_type": "execute_result"
    }
   ],
   "source": [
    "def palindrome(s):\n",
    "    return (s.lower() == s[::-1].lower())\n",
    "palindrome(\"madam\")"
   ]
  },
  {
   "cell_type": "code",
   "execution_count": 22,
   "id": "3a0a6ec8",
   "metadata": {},
   "outputs": [
    {
     "name": "stdout",
     "output_type": "stream",
     "text": [
      "1\n"
     ]
    }
   ],
   "source": [
    "def iseven(num):\n",
    "    if num%2 == 0:\n",
    "        return True\n",
    "    print(num)\n",
    "iseven(1)"
   ]
  },
  {
   "cell_type": "code",
   "execution_count": 3,
   "id": "85d7a16e",
   "metadata": {},
   "outputs": [
    {
     "data": {
      "text/plain": [
       "'Rah'"
      ]
     },
     "execution_count": 3,
     "metadata": {},
     "output_type": "execute_result"
    }
   ],
   "source": [
    "num =\"Rahul\"\n",
    "num[:3]"
   ]
  },
  {
   "cell_type": "code",
   "execution_count": null,
   "id": "9e7adb7a",
   "metadata": {},
   "outputs": [],
   "source": []
  },
  {
   "cell_type": "code",
   "execution_count": null,
   "id": "7d8dbc49",
   "metadata": {},
   "outputs": [],
   "source": []
  },
  {
   "cell_type": "code",
   "execution_count": null,
   "id": "cb7fccf7",
   "metadata": {},
   "outputs": [],
   "source": []
  },
  {
   "cell_type": "code",
   "execution_count": null,
   "id": "590ba95b",
   "metadata": {},
   "outputs": [],
   "source": []
  },
  {
   "cell_type": "code",
   "execution_count": null,
   "id": "65d5dddb",
   "metadata": {},
   "outputs": [],
   "source": []
  },
  {
   "cell_type": "code",
   "execution_count": null,
   "id": "6b5ad9de",
   "metadata": {},
   "outputs": [],
   "source": []
  }
 ],
 "metadata": {
  "kernelspec": {
   "display_name": "Python 3",
   "language": "python",
   "name": "python3"
  },
  "language_info": {
   "codemirror_mode": {
    "name": "ipython",
    "version": 3
   },
   "file_extension": ".py",
   "mimetype": "text/x-python",
   "name": "python",
   "nbconvert_exporter": "python",
   "pygments_lexer": "ipython3",
   "version": "3.13.7"
  }
 },
 "nbformat": 4,
 "nbformat_minor": 5
}
