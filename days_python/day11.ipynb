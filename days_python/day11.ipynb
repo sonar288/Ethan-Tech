{
 "cells": [
  {
   "cell_type": "markdown",
   "id": "1df0ba6c",
   "metadata": {},
   "source": [
    "## Class and Object"
   ]
  },
  {
   "cell_type": "code",
   "execution_count": 19,
   "id": "0fbb0b53",
   "metadata": {},
   "outputs": [],
   "source": [
    "# class\n",
    "class Student():\n",
    "#  class variable - common across all abject\n",
    "    school_name = \"XYZ_school\"\n",
    "    school_addr = \"Ph 1 , pune\"\n",
    "\n",
    "#  object vairables - specific to each object\n",
    "    def __init__(self,name, age):\n",
    "        self.name = name\n",
    "        self.age = age\n",
    "    \n",
    "    def attendance(self):\n",
    "        print(\"present\")\n",
    "    def get_student_details(self,):\n",
    "        print (f\"Student name is {self.name}\")\n",
    "        print(f\"Student age is {self.age}\")\n",
    "    "
   ]
  },
  {
   "cell_type": "code",
   "execution_count": 20,
   "id": "69f4c91d",
   "metadata": {},
   "outputs": [],
   "source": [
    "# instantiantiation/ Object making\n",
    "rahul = Student(name=\"Rahul Sonar\", age = 22)\n",
    "\n",
    "himanshu = Student(name=\" himanshu patil\", age = 23)"
   ]
  },
  {
   "cell_type": "code",
   "execution_count": 21,
   "id": "57244997",
   "metadata": {},
   "outputs": [
    {
     "name": "stdout",
     "output_type": "stream",
     "text": [
      "Student name is Rahul Sonar\n",
      "Student age is 22\n"
     ]
    }
   ],
   "source": [
    "rahul.get_student_details()\n"
   ]
  },
  {
   "cell_type": "code",
   "execution_count": null,
   "id": "211fe4a2",
   "metadata": {},
   "outputs": [],
   "source": [
    "class Car():\n",
    "    no_of_wheels = 4\n",
    "    no_of_windows = 6\n",
    "\n",
    "    def __init__ (self,car_manufacture,car_model):\n",
    "        self.car_manufacture = car_manufacture\n",
    "        self.car_model = car_model\n",
    "    \n",
    "\n",
    "    @classmethod  ## decorator \n",
    "    def get_wheels(cls):\n",
    "        return(cls.no_of_wheels)"
   ]
  },
  {
   "cell_type": "code",
   "execution_count": 27,
   "id": "9d7163dc",
   "metadata": {},
   "outputs": [],
   "source": [
    "maruti_800 = Car( car_manufacture= \"Maruti\", car_model= 800)\n",
    "Tata_Tigor = Car(car_manufacture= \"Tata\", car_model= \"Tigor\")"
   ]
  },
  {
   "cell_type": "code",
   "execution_count": 28,
   "id": "44e9a026",
   "metadata": {},
   "outputs": [
    {
     "name": "stdout",
     "output_type": "stream",
     "text": [
      "Maruti\n",
      "800\n",
      "4\n",
      "6\n"
     ]
    }
   ],
   "source": [
    "print(maruti_800.car_manufacture)\n",
    "\n",
    "print(maruti_800.car_model)\n",
    "\n",
    "print(maruti_800.no_of_wheels)\n",
    "print(maruti_800.no_of_windows)"
   ]
  },
  {
   "cell_type": "code",
   "execution_count": null,
   "id": "e4f0aac3",
   "metadata": {},
   "outputs": [],
   "source": [
    "class Account():\n",
    "    __very_private = \"very private var\"\n",
    "    bank_name = \"ABC Bank\"\n",
    "\n",
    "    def __init__(self,balance):\n",
    "        self.balance = balance\n",
    "\n",
    "## Encalpsulation\n",
    " ## getters\n",
    "    def get_balance(self):\n",
    "        return(self.balance)\n",
    "    ##deposit\n",
    "    ## setter\n",
    "    def deposit(self,amount = 2000):\n",
    "        if amount <= 10000:\n",
    "            self.balance += amount \n",
    "        else:\n",
    "            print(\"vist the bank\")"
   ]
  },
  {
   "cell_type": "code",
   "execution_count": 47,
   "id": "9d4627cb",
   "metadata": {},
   "outputs": [],
   "source": [
    "ht_Acc = Account(balance=1000)"
   ]
  },
  {
   "cell_type": "code",
   "execution_count": 49,
   "id": "bed55d94",
   "metadata": {},
   "outputs": [],
   "source": [
    "ht_Acc.balance\n",
    "ht_Acc.deposit(10000)"
   ]
  },
  {
   "cell_type": "code",
   "execution_count": 50,
   "id": "3bbebca3",
   "metadata": {},
   "outputs": [
    {
     "data": {
      "text/plain": [
       "11000"
      ]
     },
     "execution_count": 50,
     "metadata": {},
     "output_type": "execute_result"
    }
   ],
   "source": [
    "ht_Acc.balance\n"
   ]
  },
  {
   "cell_type": "code",
   "execution_count": null,
   "id": "74f7dee0",
   "metadata": {},
   "outputs": [],
   "source": [
    "# inheritance\n",
    "class Car():\n",
    "    no_of_wheels = 4\n",
    "    no_of_windows = 6"
   ]
  },
  {
   "cell_type": "code",
   "execution_count": 54,
   "id": "5eb62cf6",
   "metadata": {},
   "outputs": [],
   "source": [
    "class superClass(Car):\n",
    "    racing = True"
   ]
  },
  {
   "cell_type": "code",
   "execution_count": 55,
   "id": "8a844d75",
   "metadata": {},
   "outputs": [],
   "source": [
    "Bugati = superClass()"
   ]
  },
  {
   "cell_type": "code",
   "execution_count": 56,
   "id": "a8929c82",
   "metadata": {},
   "outputs": [
    {
     "data": {
      "text/plain": [
       "4"
      ]
     },
     "execution_count": 56,
     "metadata": {},
     "output_type": "execute_result"
    }
   ],
   "source": [
    "Bugati.no_of_wheels"
   ]
  },
  {
   "cell_type": "code",
   "execution_count": 1,
   "id": "0168a903",
   "metadata": {},
   "outputs": [],
   "source": [
    "c = \"Rahul\""
   ]
  },
  {
   "cell_type": "code",
   "execution_count": null,
   "id": "cce87ac8",
   "metadata": {},
   "outputs": [],
   "source": [
    "c.isa"
   ]
  },
  {
   "cell_type": "code",
   "execution_count": 5,
   "id": "fd689f66",
   "metadata": {},
   "outputs": [
    {
     "name": "stdout",
     "output_type": "stream",
     "text": [
      "AmanaplanacanalPanama\n",
      "amanaPlanacanalpanamA\n"
     ]
    }
   ],
   "source": [
    "s = \"A man, a plan, a canal: Panama\"\n",
    "\n",
    "pal = \"\"\n",
    "for i in s:\n",
    "    if i.isalnum():\n",
    "        pal +=i\n",
    "        \n",
    "print(pal)\n",
    "print(pal[::-1])\n",
    "if pal == pal[::-1]:\n",
    "    print( True)"
   ]
  },
  {
   "cell_type": "code",
   "execution_count": null,
   "id": "a5d69c64",
   "metadata": {},
   "outputs": [],
   "source": []
  },
  {
   "cell_type": "code",
   "execution_count": null,
   "id": "04c043c6",
   "metadata": {},
   "outputs": [],
   "source": []
  },
  {
   "cell_type": "code",
   "execution_count": null,
   "id": "356c5755",
   "metadata": {},
   "outputs": [],
   "source": []
  }
 ],
 "metadata": {
  "kernelspec": {
   "display_name": "Python 3",
   "language": "python",
   "name": "python3"
  },
  "language_info": {
   "codemirror_mode": {
    "name": "ipython",
    "version": 3
   },
   "file_extension": ".py",
   "mimetype": "text/x-python",
   "name": "python",
   "nbconvert_exporter": "python",
   "pygments_lexer": "ipython3",
   "version": "3.13.5"
  }
 },
 "nbformat": 4,
 "nbformat_minor": 5
}
