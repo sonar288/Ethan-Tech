{
 "cells": [
  {
   "cell_type": "markdown",
   "id": "62e7e4db",
   "metadata": {},
   "source": [
    "#### break and contiune"
   ]
  },
  {
   "cell_type": "code",
   "execution_count": 1,
   "id": "84cf1824",
   "metadata": {},
   "outputs": [],
   "source": [
    "d1 = {'a':1,'b':2, 'c':3}"
   ]
  },
  {
   "cell_type": "code",
   "execution_count": 3,
   "id": "4ce0e514",
   "metadata": {},
   "outputs": [
    {
     "name": "stdout",
     "output_type": "stream",
     "text": [
      "1\n",
      "2\n",
      "3\n"
     ]
    }
   ],
   "source": [
    "for i in d1.values():\n",
    "    print(i)"
   ]
  },
  {
   "cell_type": "code",
   "execution_count": 7,
   "id": "3f7a1a0b",
   "metadata": {},
   "outputs": [
    {
     "name": "stdout",
     "output_type": "stream",
     "text": [
      "1 odd\n",
      "2 even\n"
     ]
    }
   ],
   "source": [
    "i= 0\n",
    "while i<= 10:\n",
    "    i+=1\n",
    "    if i == 3:\n",
    "        break\n",
    "    print(i,\"even\") if i%2 ==0 else print(i,\"odd\")\n",
    "else:\n",
    "    print(\"proccess complete\")"
   ]
  },
  {
   "cell_type": "code",
   "execution_count": 9,
   "id": "d4761e16",
   "metadata": {},
   "outputs": [
    {
     "name": "stdout",
     "output_type": "stream",
     "text": [
      "1\n",
      "2\n",
      "4\n",
      "5\n",
      "7\n",
      "8\n",
      "10\n",
      "11\n",
      "13\n",
      "14\n",
      "16\n",
      "process complete\n"
     ]
    }
   ],
   "source": [
    "i = 0\n",
    "\n",
    "while i <= 15:\n",
    "    i+=1\n",
    "    if i % 3 == 0:\n",
    "        continue\n",
    "    print(i)\n",
    "else:\n",
    "    print(\"process complete\")"
   ]
  },
  {
   "cell_type": "code",
   "execution_count": 20,
   "id": "7517f8a3",
   "metadata": {},
   "outputs": [
    {
     "name": "stdout",
     "output_type": "stream",
     "text": [
      "12\n",
      "78\n"
     ]
    }
   ],
   "source": [
    "t = 66\n",
    "sum = 0\n",
    "for i in range(1 , 21):\n",
    "    sum = sum + i\n",
    "    if(sum > t):\n",
    "        print(i)\n",
    "        break\n",
    "\n",
    "print(sum)\n",
    "    "
   ]
  },
  {
   "cell_type": "code",
   "execution_count": null,
   "metadata": {},
   "outputs": [
    {
     "name": "stdout",
     "output_type": "stream",
     "text": [
      "[0, 1, 1, 2, 3, 5, 8]\n",
      "[0, 1, 1, 2, 3, 5, 8]\n"
     ]
    }
   ],
   "source": [
    "n = 5 \n",
    "lis = [0,1]\n",
    "for i in range(n):\n",
    "    lis.append(lis[i]+lis[i+1])\n",
    "\n",
    "print(lis)\n",
    "[lis[x] + lis[x + 1] for x in range(n)]\n",
    "\n",
    "print(lis)\n",
    "\n"
   ]
  },
  {
   "cell_type": "code",
   "execution_count": 32,
   "id": "f810be25",
   "metadata": {},
   "outputs": [
    {
     "name": "stdout",
     "output_type": "stream",
     "text": [
      "1 a 10\n",
      "1 a 20\n",
      "1 b 10\n",
      "1 b 20\n",
      "2 a 10\n",
      "2 a 20\n",
      "2 b 10\n",
      "2 b 20\n"
     ]
    }
   ],
   "source": [
    "for i in [1,2]:\n",
    "    for j in ['a','b']:\n",
    "        for k in [10,20]:\n",
    "            print(i,j,k)"
   ]
  },
  {
   "cell_type": "code",
   "execution_count": null,
   "id": "0e915737",
   "metadata": {},
   "outputs": [],
   "source": [
    "# Python Iteration Questions: continue & break\n",
    "# Use a for loop in each task. You must use both continue (to skip) and break (to stop) as instructed.\n",
    "\n",
    "\n",
    "\n",
    "# 2) Find the first matching string\n",
    "# Given a list items containing mixed types, scan left to right:\n",
    "# • Skip non-strings with continue.\n",
    "# • On the first string that contains the substring \"py\" (case-insensitive), print the string and its\n",
    "# index, then break.\n",
    "# • If no such string is found, print \"not found\".\n",
    "# Example: items=[10,\"Java\",\"PyTorch\",None,\"ruby\"] → prints PyTorch at index 2.\n",
    "\n",
    "# 3) Log scanner\n",
    "# You’re given a list of log lines.\n",
    "# • Skip any line that is blank or starts with # (a comment) using continue.\n",
    "# • When you encounter the first line containing the word \"ERROR\" (exact substring), print the\n",
    "# 0-based line number and the line, then break.\n",
    "# • If no error exists, print \"clean\".\n",
    "# Example: [\"# header\",\"\", \"INFO ok\", \"WARN low\", \"ERROR disk full\"] → prints 3 ERROR disk\n",
    "# full.\n",
    "\n",
    "# 4) 2-D search with nested loops\n",
    "# Given a 2-D list (matrix) of integers and a threshold X:\n",
    "# • Iterate row by row. If a row contains any negative number, skip the entire row using continue.\n",
    "# • Within a valid row, scan columns left to right; on the first element > X, print its (row_index,\n",
    "# col_index, value) and break the inner loop.\n",
    "# • After finding such an element in any row, also break the outer loop so the search stops\n",
    "# immediately.\n",
    "# • If nothing is found, print \"no match\".\n",
    "# Example: matrix=[[1, -2, 3],[4,5,6],[1,2,10]], X=6 → prints (1, 2, 6) or (2, 2, 10) depending on\n",
    "# scan order—require inner break + outer break.\n",
    "# Tip: Prefer clear variable names and minimal prints. Aim to handle edge cases (e.g., empty lists,\n",
    "# small N, T).\n",
    "\n",
    "\n",
    "# 5 Fibonacci series by list com"
   ]
  },
  {
   "cell_type": "code",
   "execution_count": null,
   "id": "dac508b9",
   "metadata": {},
   "outputs": [
    {
     "name": "stdout",
     "output_type": "stream",
     "text": [
      "sum = 54, last = 16\n"
     ]
    }
   ],
   "source": [
    "# 1) Even-sum with skips and cap\n",
    "# Write a loop that adds even numbers from 1 to N to a running total.\n",
    "# Skip numbers divisible by 3 using continue.\n",
    "# Stop the loop (break) as soon as the running total exceeds a target T.\n",
    "# Print the final sum and the last number processed.\n",
    "# Example: N=20, T=50 → output might be: sum=56, last=14.\n",
    "\n",
    "T = 50\n",
    "sum = 0\n",
    "last = None\n",
    "for i in range(1,21):\n",
    "    if i % 2 != 0:\n",
    "        continue\n",
    "    if i % 3 == 0:\n",
    "        continue\n",
    "    \n",
    "    sum = sum+i\n",
    "    last = i\n",
    " \n",
    "    if(sum > T):\n",
    "        break\n",
    "       \n",
    "\n",
    "print(f\"sum = {sum}\" ,f\" last = {last}\" )\n",
    "# N = 20\n",
    "# T = 50\n",
    "# total = 0\n",
    "# last = None\n",
    "\n",
    "# for i in range(1, N + 1):\n",
    "#     if i % 2 != 0:  # skip odd numbers\n",
    "#         continue\n",
    "#     if i % 3 == 0:  # skip numbers divisible by 3\n",
    "#         continue\n",
    "    \n",
    "#     total += i\n",
    "#     last = i\n",
    "    \n",
    "#     if total > T:  # stop if sum exceeds target\n",
    "#         break\n",
    "\n",
    "# print(f\"sum = {total}, last = {last}\")\n",
    "\n"
   ]
  },
  {
   "cell_type": "code",
   "execution_count": 26,
   "id": "0d98fd30",
   "metadata": {},
   "outputs": [
    {
     "name": "stdout",
     "output_type": "stream",
     "text": [
      "PyTorch at index 2\n"
     ]
    }
   ],
   "source": [
    "# 2) Find the first matching string\n",
    "# Given a list items containing mixed types, scan left to right:\n",
    "# • Skip non-strings with continue.\n",
    "# • On the first string that contains the substring \"py\" (case-insensitive), print the string and its\n",
    "# index, then break.\n",
    "# • If no such string is found, print \"not found\".\n",
    "# Example: items=[10,\"Java\",\"PyTorch\",None,\"ruby\"] → prints PyTorch at index 2.\n",
    "\n",
    "\n",
    "\n",
    "items=[10,\"Java\",\"PyTorch\",None,\"ruby\"]\n",
    "\n",
    "for idx, item in enumerate(items):\n",
    "    if type(item) != str:\n",
    "        continue\n",
    "\n",
    "    if item.lower().startswith(\"py\"):\n",
    "        print(f\"{item} at index {idx}\")\n",
    "        break\n",
    "\n",
    "else:\n",
    "    print(\"Not found\")\n"
   ]
  },
  {
   "cell_type": "code",
   "execution_count": 33,
   "id": "7d66d67d",
   "metadata": {},
   "outputs": [
    {
     "name": "stdout",
     "output_type": "stream",
     "text": [
      "4 ERROR disk full\n"
     ]
    }
   ],
   "source": [
    "# 3) Log scanner\n",
    "# You’re given a list of log lines.\n",
    "# • Skip any line that is blank or starts with # (a comment) using continue.\n",
    "# • When you encounter the first line containing the word \"ERROR\" (exact substring), print the\n",
    "# 0-based line number and the line, then break.\n",
    "# • If no error exists, print \"clean\".\n",
    "# Example: [\"# header\",\"\", \"INFO ok\", \"WARN low\", \"ERROR disk full\"] → prints 3 ERROR disk\n",
    "# full.\n",
    "\n",
    "Example = [\"# header\",\"\", \"INFO ok\", \"WARN low\", \"ERROR disk full\"]\n",
    "\n",
    "for idx , list in enumerate(Example):\n",
    "    if list.startswith(\"#\") or not list:\n",
    "        continue\n",
    "    if(list.startswith(\"ERROR\")):\n",
    "        print(f\"{idx} {list}\")\n",
    "        break\n",
    "else:\n",
    "    print(\"clean\")"
   ]
  },
  {
   "cell_type": "code",
   "execution_count": 66,
   "id": "e85a7c30",
   "metadata": {},
   "outputs": [
    {
     "name": "stdout",
     "output_type": "stream",
     "text": [
      "[1, 2, 6]\n"
     ]
    }
   ],
   "source": [
    "# 4) 2-D search with nested loops\n",
    "# Given a 2-D list (matrix) of integers and a threshold X:\n",
    "# • Iterate row by row. If a row contains any negative number, skip the entire row using continue.\n",
    "# • Within a valid row, scan columns left to right; on the first element > X, print its (row_index,\n",
    "# col_index, value) and break the inner loop.\n",
    "# • After finding such an element in any row, also break the outer loop so the search stops\n",
    "# immediately.\n",
    "# • If nothing is found, print \"no match\".\n",
    "# Example: matrix=[[1, -2, 3],[4,5,6],[1,2,10]], X=6 → prints (1, 2, 6) or (2, 2, 10) depending on\n",
    "# scan order—require inner break + outer break.\n",
    "# Tip: Prefer clear variable names and minimal prints. Aim to handle edge cases (e.g., empty lists,\n",
    "# small N, T).\n",
    "\n",
    "matrix=[[1, -2, 3],[4,5,6],[1,2,10]]\n",
    "x=6\n",
    "found = False\n",
    "for idxr,row in enumerate(matrix):\n",
    "    if any(num< 0 for num in row):\n",
    "        continue\n",
    "    for idxc ,col in enumerate(row):\n",
    "        if(col == x ):\n",
    "            print( [idxr, idxc , col])\n",
    "            found = True\n",
    "            break\n",
    "            \n",
    "\n",
    "    if(found):\n",
    "        break\n",
    "\n",
    "else:\n",
    "    print(\"No match\")\n",
    "\n",
    "    \n",
    "    "
   ]
  },
  {
   "cell_type": "code",
   "execution_count": null,
   "id": "269b6f76",
   "metadata": {},
   "outputs": [],
   "source": []
  },
  {
   "cell_type": "code",
   "execution_count": null,
   "id": "299f8d40",
   "metadata": {},
   "outputs": [],
   "source": []
  },
  {
   "cell_type": "code",
   "execution_count": null,
   "id": "532fad02",
   "metadata": {},
   "outputs": [],
   "source": []
  }
 ],
 "metadata": {
  "kernelspec": {
   "display_name": "Python 3",
   "language": "python",
   "name": "python3"
  },
  "language_info": {
   "codemirror_mode": {
    "name": "ipython",
    "version": 3
   },
   "file_extension": ".py",
   "mimetype": "text/x-python",
   "name": "python",
   "nbconvert_exporter": "python",
   "pygments_lexer": "ipython3",
   "version": "3.13.5"
  }
 },
 "nbformat": 4,
 "nbformat_minor": 5
}
