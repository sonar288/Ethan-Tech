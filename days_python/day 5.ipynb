{
 "cells": [
  {
   "cell_type": "code",
   "execution_count": 2,
   "id": "776acf44",
   "metadata": {},
   "outputs": [
    {
     "name": "stdout",
     "output_type": "stream",
     "text": [
      "eligible to Vote\n"
     ]
    }
   ],
   "source": [
    "age = int(input(\"enter your age\"))\n",
    "if age>18:\n",
    "    print(\"eligible to Vote\")\n",
    "else:\n",
    "    print(\"Not elgible to vote\")   "
   ]
  },
  {
   "cell_type": "code",
   "execution_count": 7,
   "id": "c46df0fa",
   "metadata": {},
   "outputs": [
    {
     "name": "stdout",
     "output_type": "stream",
     "text": [
      "Cold\n"
     ]
    }
   ],
   "source": [
    "temp = int(input(\"enter the temprature\"))\n",
    "\n",
    "if temp>=40:\n",
    "    print(\"very Hot\")\n",
    "elif temp<40 and temp >= 30:\n",
    "    print(\"Hot\")\n",
    "elif temp<30 and temp >= 20:\n",
    "    print(\"Warm\")\n",
    "elif temp<20 and temp >= 10:\n",
    "    print(\"COOL\")\n",
    "else:\n",
    "    print(\"Cold\")    "
   ]
  },
  {
   "cell_type": "code",
   "execution_count": 10,
   "id": "f20d5af3",
   "metadata": {},
   "outputs": [
    {
     "name": "stdout",
     "output_type": "stream",
     "text": [
      "senior Citizen\n"
     ]
    }
   ],
   "source": [
    "age = int(input(\"Enter the age\"))\n",
    "if age >= 59:\n",
    "    print(\"senior Citizen\")\n",
    "elif (age < 59) & (age >= 20):\n",
    "    print(\"Adult\")\n",
    "elif (age < 20) & (age >= 13 ):\n",
    "    print(\"teen\")\n",
    "elif (age < 12) & (age > 0):\n",
    "    print(\"child\")    "
   ]
  },
  {
   "cell_type": "markdown",
   "id": "a54da524",
   "metadata": {},
   "source": [
    "Q1: Check if a number is positive."
   ]
  },
  {
   "cell_type": "code",
   "execution_count": 11,
   "id": "25a7f8d8",
   "metadata": {},
   "outputs": [
    {
     "name": "stdout",
     "output_type": "stream",
     "text": [
      "number is postive\n"
     ]
    }
   ],
   "source": [
    "num = 10\n",
    "if num> 0: \n",
    "    print(\"number is postive\")\n",
    "else: \n",
    "    print(\"number is negative\")    "
   ]
  },
  {
   "cell_type": "markdown",
   "id": "d08b7942",
   "metadata": {},
   "source": [
    "Q2: Check if a number is zero or not."
   ]
  },
  {
   "cell_type": "code",
   "execution_count": 13,
   "id": "4f5000b5",
   "metadata": {},
   "outputs": [
    {
     "name": "stdout",
     "output_type": "stream",
     "text": [
      "Number is not Zero\n"
     ]
    }
   ],
   "source": [
    "num = 10\n",
    "if num == 0:\n",
    "    print(\"number is Zero\")\n",
    "else: \n",
    "    print(\"Number is not Zero\")"
   ]
  },
  {
   "cell_type": "markdown",
   "id": "54ad51a3",
   "metadata": {},
   "source": [
    "Q3: Check if two numbers are equal."
   ]
  },
  {
   "cell_type": "code",
   "execution_count": 15,
   "id": "85845625",
   "metadata": {},
   "outputs": [
    {
     "name": "stdout",
     "output_type": "stream",
     "text": [
      "Number are not equal\n"
     ]
    }
   ],
   "source": [
    "num1 =10\n",
    "num2 = 11\n",
    "if num1 == num2:\n",
    "    print(\"Both the numbers are equal\")\n",
    "else:\n",
    "    print(\"Number are not equal\")"
   ]
  },
  {
   "cell_type": "markdown",
   "id": "9c88231f",
   "metadata": {},
   "source": [
    "Q4: Check if age is greater than or equal to 18 (eligible to vote)."
   ]
  },
  {
   "cell_type": "code",
   "execution_count": null,
   "id": "b24883f9",
   "metadata": {},
   "outputs": [],
   "source": [
    "age = int(input(\"enter your age\"))\n",
    "if age>18:\n",
    "    print(\"eligible to Vote\")\n",
    "else:\n",
    "    print(\"Not elgible to vote\")   "
   ]
  },
  {
   "cell_type": "markdown",
   "id": "fc99bcc7",
   "metadata": {},
   "source": [
    "Q5: Check whether a number is even or odd."
   ]
  },
  {
   "cell_type": "code",
   "execution_count": 16,
   "metadata": {},
   "outputs": [
    {
     "name": "stdout",
     "output_type": "stream",
     "text": [
      "number is even number\n"
     ]
    }
   ],
   "source": [
    "num1 = 10\n",
    "if(num1%2 == 0):\n",
    "    print(\"number is even number\")\n",
    "else:\n",
    "    print(\"number is odd\")\n"
   ]
  },
  {
   "cell_type": "markdown",
   "id": "06149c61",
   "metadata": {},
   "source": [
    "Q6: Check if a character is a vowel or consonant."
   ]
  },
  {
   "cell_type": "code",
   "execution_count": 50,
   "id": "a8d61ed1",
   "metadata": {},
   "outputs": [
    {
     "name": "stdout",
     "output_type": "stream",
     "text": [
      "Consonant\n"
     ]
    }
   ],
   "source": [
    "char = input(\"Enter a character: \")\n",
    "\n",
    "if char.lower() in ('a', 'e', 'i', 'o', 'u'):\n",
    "    print(\"Vowel\")\n",
    "else:\n",
    "    print(\"Consonant\")"
   ]
  },
  {
   "cell_type": "markdown",
   "id": "bf5ce5c0",
   "metadata": {},
   "source": [
    "Q7: Compare two numbers and print the greater one"
   ]
  },
  {
   "cell_type": "code",
   "execution_count": 26,
   "id": "cce873e0",
   "metadata": {},
   "outputs": [
    {
     "name": "stdout",
     "output_type": "stream",
     "text": [
      "12\n"
     ]
    }
   ],
   "source": [
    "num1 =12\n",
    "num2 = 11\n",
    "if num1 > num2:\n",
    "    print(num1)\n",
    "else:\n",
    "    print(num2)"
   ]
  },
  {
   "cell_type": "markdown",
   "id": "5093da49",
   "metadata": {},
   "source": []
  },
  {
   "cell_type": "markdown",
   "id": "5fe0e5ca",
   "metadata": {},
   "source": [
    "Q8: Check if a number lies between 10 and 20."
   ]
  },
  {
   "cell_type": "code",
   "execution_count": 28,
   "id": "dad34fe1",
   "metadata": {},
   "outputs": [
    {
     "name": "stdout",
     "output_type": "stream",
     "text": [
      "No\n"
     ]
    }
   ],
   "source": [
    "num1 = 10\n",
    "if num1<20 and num1>10:\n",
    "    print (\"numeber lies between 10 ad 20\")\n",
    "else:\n",
    "    print(\"No\")"
   ]
  },
  {
   "cell_type": "markdown",
   "id": "66a2b215",
   "metadata": {},
   "source": [
    "Q9: Print grade based on marks:\n",
    "- 90+ → A\n",
    "- 75+ → B\n",
    "- 60+ → C\n",
    "- Else → Fail"
   ]
  },
  {
   "cell_type": "code",
   "execution_count": 29,
   "id": "92025d12",
   "metadata": {},
   "outputs": [
    {
     "name": "stdout",
     "output_type": "stream",
     "text": [
      "c\n"
     ]
    }
   ],
   "source": [
    "marks = 70\n",
    "if marks >=90:\n",
    " print(\"A\")\n",
    "elif marks >=75:\n",
    " print(\"B\")\n",
    "elif marks >=60:\n",
    " print(\"c\")\n",
    "else:\n",
    " print(\"fail\")\n"
   ]
  },
  {
   "cell_type": "markdown",
   "id": "d908dee9",
   "metadata": {},
   "source": [
    "Q10: Check if a number is divisible by 3 and 5."
   ]
  },
  {
   "cell_type": "code",
   "execution_count": 31,
   "id": "a730e893",
   "metadata": {},
   "outputs": [
    {
     "name": "stdout",
     "output_type": "stream",
     "text": [
      "False\n"
     ]
    }
   ],
   "source": [
    "num1 = 12\n",
    "if (num1%3==0) & (num1%5 == 0):\n",
    "    print(True)\n",
    "else:\n",
    "    print(False)    "
   ]
  },
  {
   "cell_type": "markdown",
   "id": "7603b1e3",
   "metadata": {},
   "source": [
    "Q11: Check if a year is a century year (ends with 00)."
   ]
  },
  {
   "cell_type": "code",
   "execution_count": 33,
   "id": "08b7b46c",
   "metadata": {},
   "outputs": [
    {
     "name": "stdout",
     "output_type": "stream",
     "text": [
      "False\n"
     ]
    }
   ],
   "source": [
    "year = 2010\n",
    "if year% 100 == 0:\n",
    "    print(True)\n",
    "else:\n",
    "    print(False)"
   ]
  },
  {
   "cell_type": "markdown",
   "id": "a490d4be",
   "metadata": {},
   "source": [
    "Q12: Check if a string is empty or not."
   ]
  },
  {
   "cell_type": "code",
   "execution_count": null,
   "id": "7f2e591a",
   "metadata": {},
   "outputs": [
    {
     "name": "stdout",
     "output_type": "stream",
     "text": [
      "string is empty\n"
     ]
    }
   ],
   "source": [
    "str1 = \"\"\n",
    "if not str1:\n",
    "    print(\"string is empty\")\n",
    "else:\n",
    "    print(\"string is not empty\")\n"
   ]
  },
  {
   "cell_type": "markdown",
   "id": "e8cf2c8c",
   "metadata": {},
   "source": [
    "Q13: Check login credentials (dummy values)"
   ]
  },
  {
   "cell_type": "code",
   "execution_count": 48,
   "id": "ea0e4444",
   "metadata": {},
   "outputs": [
    {
     "name": "stdout",
     "output_type": "stream",
     "text": [
      "False\n"
     ]
    }
   ],
   "source": [
    "Opassword = \"Rahul@288\"\n",
    "\n",
    "password = input(\"enter the password\")\n",
    "\n",
    "if(Opassword == password):\n",
    "    print(True)\n",
    "else:\n",
    "    print(False)"
   ]
  },
  {
   "cell_type": "markdown",
   "id": "bb7db315",
   "metadata": {},
   "source": [
    "Q14: Check which among three numbers is the greatest."
   ]
  },
  {
   "cell_type": "code",
   "execution_count": 41,
   "id": "1e235e07",
   "metadata": {},
   "outputs": [
    {
     "name": "stdout",
     "output_type": "stream",
     "text": [
      "2000\n"
     ]
    }
   ],
   "source": [
    "num1, num2, num3 = 100,2000,30\n",
    "if(num1> num2):\n",
    "    if(num1 >num3):\n",
    "        print(num1)\n",
    "    else:\n",
    "        print(num3)\n",
    "elif(num2> num3):\n",
    "    print(num2)\n",
    "else: \n",
    "    print(num3)            "
   ]
  },
  {
   "cell_type": "markdown",
   "id": "394fe540",
   "metadata": {},
   "source": [
    "Q15: Check if the input number is positive, negative, or zero."
   ]
  },
  {
   "cell_type": "code",
   "execution_count": 46,
   "id": "86c2442a",
   "metadata": {},
   "outputs": [
    {
     "name": "stdout",
     "output_type": "stream",
     "text": [
      "number is zero\n"
     ]
    }
   ],
   "source": [
    "num1 = 0\n",
    "if(num1 > 0):\n",
    "    print(\"number is postive\")\n",
    "elif(num1<0):\n",
    "    print(\"number is negative\")\n",
    "else:\n",
    "    print(\"number is zero\")    "
   ]
  },
  {
   "cell_type": "code",
   "execution_count": null,
   "id": "24e1ca02",
   "metadata": {},
   "outputs": [],
   "source": []
  }
 ],
 "metadata": {
  "kernelspec": {
   "display_name": "Python 3",
   "language": "python",
   "name": "python3"
  },
  "language_info": {
   "codemirror_mode": {
    "name": "ipython",
    "version": 3
   },
   "file_extension": ".py",
   "mimetype": "text/x-python",
   "name": "python",
   "nbconvert_exporter": "python",
   "pygments_lexer": "ipython3",
   "version": "3.13.5"
  }
 },
 "nbformat": 4,
 "nbformat_minor": 5
}
