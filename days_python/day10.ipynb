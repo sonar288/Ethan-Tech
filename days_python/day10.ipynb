{
 "cells": [
  {
   "cell_type": "code",
   "execution_count": 1,
   "id": "14d5b818",
   "metadata": {},
   "outputs": [],
   "source": [
    "def adder(*args):\n",
    "    print (sum(args))"
   ]
  },
  {
   "cell_type": "code",
   "execution_count": 2,
   "id": "f036cd0b",
   "metadata": {},
   "outputs": [
    {
     "name": "stdout",
     "output_type": "stream",
     "text": [
      "18\n"
     ]
    }
   ],
   "source": [
    "adder(1,2,3,4,5,3)"
   ]
  },
  {
   "cell_type": "code",
   "execution_count": 3,
   "id": "e8b423b5",
   "metadata": {},
   "outputs": [],
   "source": [
    "def adder(**kwargs):\n",
    "    a=kwargs[\"a\"]\n",
    "    b=kwargs[\"b\"]\n",
    "    operation=kwargs[\"operation\"]\n",
    "    \n",
    "    print(eval(f\"{a}{operation}{b}\"))"
   ]
  },
  {
   "cell_type": "code",
   "execution_count": 4,
   "id": "5ab81ab5",
   "metadata": {},
   "outputs": [
    {
     "name": "stdout",
     "output_type": "stream",
     "text": [
      "0.5\n"
     ]
    }
   ],
   "source": [
    "adder(a=1, b=2, operation=\"/\")"
   ]
  },
  {
   "cell_type": "markdown",
   "id": "5de005ce",
   "metadata": {},
   "source": [
    "# lamda function - one liner function\n",
    "#### syntax \n",
    "### fucntion_name = lambda (parameter) : process"
   ]
  },
  {
   "cell_type": "code",
   "execution_count": 9,
   "id": "9a9ddb46",
   "metadata": {},
   "outputs": [],
   "source": [
    "lambda_f = lambda string : string.upper()"
   ]
  },
  {
   "cell_type": "code",
   "execution_count": 10,
   "id": "b5905bdd",
   "metadata": {},
   "outputs": [
    {
     "data": {
      "text/plain": [
       "'HEY THERE'"
      ]
     },
     "execution_count": 10,
     "metadata": {},
     "output_type": "execute_result"
    }
   ],
   "source": [
    "lambda_f(string=\"hey There\")"
   ]
  },
  {
   "cell_type": "code",
   "execution_count": 11,
   "id": "c9ff44d8",
   "metadata": {},
   "outputs": [],
   "source": [
    "subString = lambda a,b: a in b"
   ]
  },
  {
   "cell_type": "code",
   "execution_count": 13,
   "id": "5186580c",
   "metadata": {},
   "outputs": [
    {
     "data": {
      "text/plain": [
       "True"
      ]
     },
     "execution_count": 13,
     "metadata": {},
     "output_type": "execute_result"
    }
   ],
   "source": [
    "subString(\"hey\",\"hey there\")"
   ]
  },
  {
   "cell_type": "markdown",
   "id": "0e2c4dbe",
   "metadata": {},
   "source": [
    "##### Map and filter\n"
   ]
  },
  {
   "cell_type": "code",
   "execution_count": 16,
   "id": "741fc90a",
   "metadata": {},
   "outputs": [],
   "source": [
    "def even_odd(num):\n",
    "    if num % 2 ==0:\n",
    "        return(\"even\")\n",
    "    else:\n",
    "        return(\"odd\")"
   ]
  },
  {
   "cell_type": "code",
   "execution_count": 17,
   "id": "4fee0bb5",
   "metadata": {},
   "outputs": [
    {
     "data": {
      "text/plain": [
       "['even', 'odd', 'even', 'odd', 'even', 'odd', 'even', 'odd', 'even', 'odd']"
      ]
     },
     "execution_count": 17,
     "metadata": {},
     "output_type": "execute_result"
    }
   ],
   "source": [
    "list(map(even_odd,range(10)))"
   ]
  },
  {
   "cell_type": "code",
   "execution_count": 19,
   "id": "15af88f3",
   "metadata": {},
   "outputs": [
    {
     "data": {
      "text/plain": [
       "['even', 'odd', 'even', 'odd', 'even', 'odd', 'even', 'odd', 'even', 'odd']"
      ]
     },
     "execution_count": 19,
     "metadata": {},
     "output_type": "execute_result"
    }
   ],
   "source": [
    "list(map(lambda num:\"even\"if(num % 2 ==0) else \"odd\",range(10)))"
   ]
  },
  {
   "cell_type": "code",
   "execution_count": 20,
   "id": "58fa6ac8",
   "metadata": {},
   "outputs": [],
   "source": [
    "squares = lambda x : x**2"
   ]
  },
  {
   "cell_type": "code",
   "execution_count": 21,
   "id": "e2d74fef",
   "metadata": {},
   "outputs": [
    {
     "data": {
      "text/plain": [
       "100"
      ]
     },
     "execution_count": 21,
     "metadata": {},
     "output_type": "execute_result"
    }
   ],
   "source": [
    "squares(10)"
   ]
  },
  {
   "cell_type": "code",
   "execution_count": 22,
   "id": "3cc04497",
   "metadata": {},
   "outputs": [],
   "source": [
    "g = lambda x: x > 5"
   ]
  },
  {
   "cell_type": "code",
   "execution_count": 26,
   "id": "8ae5ee01",
   "metadata": {},
   "outputs": [
    {
     "data": {
      "text/plain": [
       "[6, 7, 8, 9]"
      ]
     },
     "execution_count": 26,
     "metadata": {},
     "output_type": "execute_result"
    }
   ],
   "source": [
    "list(filter(lambda x: x > 5,range(10)))"
   ]
  },
  {
   "cell_type": "code",
   "execution_count": 28,
   "id": "1c4f49fe",
   "metadata": {},
   "outputs": [],
   "source": [
    "fruits = [\"apple\",\"chreey\",\"Apricote\"]"
   ]
  },
  {
   "cell_type": "code",
   "execution_count": 29,
   "id": "687bb7b4",
   "metadata": {},
   "outputs": [
    {
     "data": {
      "text/plain": [
       "['apple', 'Apricote']"
      ]
     },
     "execution_count": 29,
     "metadata": {},
     "output_type": "execute_result"
    }
   ],
   "source": [
    "list(filter(lambda x: x[0].lower()==\"a\", fruits))"
   ]
  },
  {
   "cell_type": "code",
   "execution_count": 33,
   "id": "33dbfa55",
   "metadata": {},
   "outputs": [],
   "source": [
    "def factorial2(num):\n",
    "    if num == 1:\n",
    "        return(1)\n",
    "    else:\n",
    "        return num* factorial2(num-1)"
   ]
  },
  {
   "cell_type": "code",
   "execution_count": 38,
   "id": "4103badd",
   "metadata": {},
   "outputs": [
    {
     "data": {
      "text/plain": [
       "3628800"
      ]
     },
     "execution_count": 38,
     "metadata": {},
     "output_type": "execute_result"
    }
   ],
   "source": [
    "factorial2(10)"
   ]
  },
  {
   "cell_type": "markdown",
   "id": "8817c986",
   "metadata": {},
   "source": [
    "# opps"
   ]
  },
  {
   "cell_type": "code",
   "execution_count": 44,
   "id": "6fb35506",
   "metadata": {},
   "outputs": [],
   "source": [
    "class Student():\n",
    "    #### class varibles - constant across all object\n",
    "    school_name = \"ABC\"\n",
    "    address = \"DEF\"\n",
    "    ####\n",
    "    def __init__(self,name,age):\n",
    "        \n",
    "        self.name=name\n",
    "        self.age = age\n",
    "\n",
    "        pass\n",
    "    #### method\n",
    "    def attendence(self):\n",
    "        print('present')"
   ]
  },
  {
   "cell_type": "code",
   "execution_count": 45,
   "id": "1d297ae3",
   "metadata": {},
   "outputs": [],
   "source": [
    "Rahul = Student(name=\"Rahul\",age=\"17\")"
   ]
  },
  {
   "cell_type": "code",
   "execution_count": 47,
   "id": "07d36f06",
   "metadata": {},
   "outputs": [
    {
     "data": {
      "text/plain": [
       "'Rahul'"
      ]
     },
     "execution_count": 47,
     "metadata": {},
     "output_type": "execute_result"
    }
   ],
   "source": [
    "Rahul.name"
   ]
  },
  {
   "cell_type": "code",
   "execution_count": null,
   "id": "7390b91c",
   "metadata": {},
   "outputs": [],
   "source": []
  },
  {
   "cell_type": "code",
   "execution_count": null,
   "id": "bd7fd936",
   "metadata": {},
   "outputs": [],
   "source": []
  },
  {
   "cell_type": "code",
   "execution_count": null,
   "id": "76a774e8",
   "metadata": {},
   "outputs": [],
   "source": []
  }
 ],
 "metadata": {
  "kernelspec": {
   "display_name": "Python 3",
   "language": "python",
   "name": "python3"
  },
  "language_info": {
   "codemirror_mode": {
    "name": "ipython",
    "version": 3
   },
   "file_extension": ".py",
   "mimetype": "text/x-python",
   "name": "python",
   "nbconvert_exporter": "python",
   "pygments_lexer": "ipython3",
   "version": "3.13.5"
  }
 },
 "nbformat": 4,
 "nbformat_minor": 5
}
