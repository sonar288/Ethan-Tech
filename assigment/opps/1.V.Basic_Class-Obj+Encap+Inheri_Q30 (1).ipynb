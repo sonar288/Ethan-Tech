{
 "cells": [
  {
   "cell_type": "markdown",
   "metadata": {},
   "source": [
    "# Practice Questions: Introduction to OOP in Python\n",
    "\n",
    "**Instructions:** Solve the following 30 questions. This set is a very basic introduction to Object-Oriented Programming, covering Classes, Objects, Encapsulation, and Inheritance."
   ]
  },
  {
   "cell_type": "markdown",
   "metadata": {},
   "source": [
    "### Part 1: Basic Classes and Objects (The Blueprint)\n",
    "*Focus: Defining a class, creating an object, using `__init__` and `self`.*"
   ]
  },
  {
   "cell_type": "markdown",
   "metadata": {},
   "source": [
    "**Q1:** Define a simple class called `Car`."
   ]
  },
  {
   "cell_type": "code",
   "execution_count": 10,
   "metadata": {},
   "outputs": [],
   "source": [
    "# Your code here\n",
    "class Car():\n",
    "    no_of_wheels = 4\n",
    "    no_of_windows = 6\n",
    "\n",
    "    def __init__ (self,car_manufacture,car_model):\n",
    "        self.car_manufacture = car_manufacture\n",
    "        self.car_model = car_model\n",
    "\n"
   ]
  },
  {
   "cell_type": "markdown",
   "metadata": {},
   "source": [
    "**Q2:** Create an object (an instance) of the `Car` class you just defined. Assign it to a variable called `my_car`."
   ]
  },
  {
   "cell_type": "code",
   "execution_count": 11,
   "metadata": {},
   "outputs": [],
   "source": [
    "my_car = Car(car_manufacture=\"Tata\", car_model=\"XUV 900\")\n",
    "\n",
    "# Your code here"
   ]
  },
  {
   "cell_type": "markdown",
   "metadata": {},
   "source": [
    "**Q3:** Define a class `Book`. Inside the `__init__` method, add a single attribute `title` and set its value to \"The Hobbit\"."
   ]
  },
  {
   "cell_type": "code",
   "execution_count": 15,
   "metadata": {},
   "outputs": [],
   "source": [
    "class Book():\n",
    "    def __init__(self,title):\n",
    "        self.title = title\n",
    "\n",
    "book = Book(title=\"The Hobbit\")\n",
    "    "
   ]
  },
  {
   "cell_type": "markdown",
   "metadata": {},
   "source": [
    "**Q4:** Create an object of the `Book` class from Q3 and print its `title` attribute."
   ]
  },
  {
   "cell_type": "code",
   "execution_count": 16,
   "metadata": {},
   "outputs": [
    {
     "data": {
      "text/plain": [
       "'The Hobbit'"
      ]
     },
     "execution_count": 16,
     "metadata": {},
     "output_type": "execute_result"
    }
   ],
   "source": [
    "book.title"
   ]
  },
  {
   "cell_type": "markdown",
   "metadata": {},
   "source": [
    "**Q5:** Define a class `Student` that takes a `name` as an argument in its `__init__` method and assigns it to a `name` attribute."
   ]
  },
  {
   "cell_type": "code",
   "execution_count": 22,
   "metadata": {},
   "outputs": [],
   "source": [
    "class Student():\n",
    "\n",
    "    def __init__(self, name):\n",
    "        self.name = name\n",
    "    \n",
    "    def get_name(self):\n",
    "        return self.name\n"
   ]
  },
  {
   "cell_type": "markdown",
   "metadata": {},
   "source": [
    "**Q6:** Create a `Student` object with the name \"Priya\" and print the object's `name`."
   ]
  },
  {
   "cell_type": "code",
   "execution_count": null,
   "metadata": {},
   "outputs": [
    {
     "name": "stdout",
     "output_type": "stream",
     "text": [
      "Priya\n"
     ]
    }
   ],
   "source": [
    "student = Student(name= \"Priya\")\n",
    "\n",
    "print(student.get_name())\n",
    "\n"
   ]
  },
  {
   "cell_type": "markdown",
   "metadata": {},
   "source": [
    "**Q7:** Define a class `Dog` with a `name` attribute. Add a method called `bark` that prints \"Woof!\""
   ]
  },
  {
   "cell_type": "code",
   "execution_count": 28,
   "metadata": {},
   "outputs": [],
   "source": [
    "class Dog():\n",
    "    def __init__(self,name):\n",
    "        self.name= name\n",
    "\n",
    "    def bark(self):\n",
    "        print(\"Woof\")"
   ]
  },
  {
   "cell_type": "code",
   "execution_count": null,
   "id": "ed95b6ee",
   "metadata": {},
   "outputs": [
    {
     "name": "stdout",
     "output_type": "stream",
     "text": [
      "Woof\n"
     ]
    }
   ],
   "source": []
  },
  {
   "cell_type": "markdown",
   "metadata": {},
   "source": [
    "**Q8:** Create a `Dog` object named \"Buddy\" and call its `bark` method."
   ]
  },
  {
   "cell_type": "code",
   "execution_count": 30,
   "metadata": {},
   "outputs": [
    {
     "name": "stdout",
     "output_type": "stream",
     "text": [
      "Woof\n"
     ]
    }
   ],
   "source": [
    "Buddy = Dog(name=\"German Sheffed\")\n",
    "\n",
    "Buddy.bark()"
   ]
  },
  {
   "cell_type": "markdown",
   "metadata": {},
   "source": [
    "**Q9:** Define a class `Circle` that takes a `radius` in its `__init__` method. Calculate the area (`3.14 * radius * radius`) and store it in an attribute called `area`."
   ]
  },
  {
   "cell_type": "code",
   "execution_count": 31,
   "metadata": {},
   "outputs": [],
   "source": [
    "class Circle():\n",
    "\n",
    "    def __init__(self,radius):\n",
    "        self.radius = radius\n",
    "\n",
    "    def area(self):\n",
    "        r = self.radius\n",
    "        return ( 3.14*r*r)"
   ]
  },
  {
   "cell_type": "markdown",
   "metadata": {},
   "source": [
    "**Q10:** Create a `Circle` object with a radius of 5 and print its `area` attribute."
   ]
  },
  {
   "cell_type": "code",
   "execution_count": 32,
   "metadata": {},
   "outputs": [
    {
     "data": {
      "text/plain": [
       "78.5"
      ]
     },
     "execution_count": 32,
     "metadata": {},
     "output_type": "execute_result"
    }
   ],
   "source": [
    "circle = Circle(radius=5)\n",
    "\n",
    "circle.area()"
   ]
  },
  {
   "cell_type": "markdown",
   "metadata": {},
   "source": [
    "### Part 2: Encapsulation (Getters & Setters)\n",
    "*Focus: Using `__` for private attributes and methods to safely get and set their values.*"
   ]
  },
  {
   "cell_type": "markdown",
   "metadata": {},
   "source": [
    "**Q11:** Define a `BankAccount` class with a private attribute `__balance` initialized to 0 in the `__init__` method."
   ]
  },
  {
   "cell_type": "code",
   "execution_count": 47,
   "metadata": {},
   "outputs": [],
   "source": [
    "class BankAccount():\n",
    "    def __init__(self):\n",
    "        self.__balance = 0\n",
    "\n",
    "account = BankAccount()\n"
   ]
  },
  {
   "cell_type": "markdown",
   "metadata": {},
   "source": [
    "**Q12:** Create an object of the `BankAccount` class. Try to print the `__balance` directly (e.g., `my_account.__balance`). What happens?"
   ]
  },
  {
   "cell_type": "code",
   "execution_count": 35,
   "metadata": {},
   "outputs": [
    {
     "ename": "AttributeError",
     "evalue": "'BankAccount' object has no attribute '__balance'",
     "output_type": "error",
     "traceback": [
      "\u001b[31m---------------------------------------------------------------------------\u001b[39m",
      "\u001b[31mAttributeError\u001b[39m                            Traceback (most recent call last)",
      "\u001b[36mCell\u001b[39m\u001b[36m \u001b[39m\u001b[32mIn[35]\u001b[39m\u001b[32m, line 2\u001b[39m\n\u001b[32m      1\u001b[39m \u001b[38;5;66;03m# (This will raise an AttributeError, which is the point of this question)\u001b[39;00m\n\u001b[32m----> \u001b[39m\u001b[32m2\u001b[39m \u001b[43maccount\u001b[49m\u001b[43m.\u001b[49m\u001b[43m__balance\u001b[49m\n",
      "\u001b[31mAttributeError\u001b[39m: 'BankAccount' object has no attribute '__balance'"
     ]
    }
   ],
   "source": [
    "# (This will raise an AttributeError, which is the point of this question)\n",
    "account.__balance"
   ]
  },
  {
   "cell_type": "markdown",
   "metadata": {},
   "source": [
    "**Q13:** In the `BankAccount` class, add a **getter** method called `get_balance()` that returns the value of the `__balance`."
   ]
  },
  {
   "cell_type": "code",
   "execution_count": null,
   "metadata": {},
   "outputs": [
    {
     "data": {
      "text/plain": [
       "0"
      ]
     },
     "execution_count": 50,
     "metadata": {},
     "output_type": "execute_result"
    }
   ],
   "source": [
    "class BanksAccount():\n",
    "\n",
    "    def __init__(self):\n",
    "        self.__balance = 0\n",
    "\n",
    "    def get_balance(self):\n",
    "        return self.__balance\n",
    "    \n"
   ]
  },
  {
   "cell_type": "markdown",
   "metadata": {},
   "source": [
    "**Q14:** Create a `BankAccount` object and use the `get_balance()` method to print the balance."
   ]
  },
  {
   "cell_type": "code",
   "execution_count": 51,
   "metadata": {},
   "outputs": [
    {
     "data": {
      "text/plain": [
       "0"
      ]
     },
     "execution_count": 51,
     "metadata": {},
     "output_type": "execute_result"
    }
   ],
   "source": [
    "\n",
    "my_account = BanksAccount()\n",
    "\n",
    "my_account.get_balance()"
   ]
  },
  {
   "cell_type": "markdown",
   "metadata": {},
   "source": [
    "**Q15:** In the `BankAccount` class, add a method `deposit(amount)` that adds the amount to the `__balance`. Only add the amount if it is positive."
   ]
  },
  {
   "cell_type": "code",
   "execution_count": 59,
   "metadata": {},
   "outputs": [
    {
     "data": {
      "text/plain": [
       "202000"
      ]
     },
     "execution_count": 59,
     "metadata": {},
     "output_type": "execute_result"
    }
   ],
   "source": [
    "class BankAccount():\n",
    "\n",
    "    def __init__(self):\n",
    "        self.__balance = 0\n",
    "\n",
    "    def deposit(self, amount=2000):\n",
    "        self.__balance += amount\n",
    "\n",
    "\n",
    "    def get_balance(self):\n",
    "        return self.__balance\n",
    "    \n",
    "my_account = BankAccount()\n",
    "\n",
    "my_account.deposit(200000)\n",
    "my_account.deposit()\n",
    "my_account.get_balance()"
   ]
  },
  {
   "cell_type": "markdown",
   "metadata": {},
   "source": [
    "**Q16:** Define a class `Employee` with a private attribute `__salary`. Add a **getter** `get_salary()` and a **setter** `set_salary(new_salary)`."
   ]
  },
  {
   "cell_type": "code",
   "execution_count": null,
   "metadata": {},
   "outputs": [
    {
     "data": {
      "text/plain": [
       "5050000"
      ]
     },
     "execution_count": 64,
     "metadata": {},
     "output_type": "execute_result"
    }
   ],
   "source": [
    "class Employee():\n",
    "    __salary = 500000\n",
    "\n",
    "    def get_salary(self):\n",
    "        return self.__salary\n",
    "    \n",
    "    def set_salary(self,new_salary):\n",
    "        self.__salary = new_salary\n",
    "\n",
    "\n"
   ]
  },
  {
   "cell_type": "markdown",
   "metadata": {},
   "source": [
    "**Q17:** Create an `Employee` object. Use the `set_salary()` method to set a salary, then use `get_salary()` to print it."
   ]
  },
  {
   "cell_type": "code",
   "execution_count": 65,
   "metadata": {},
   "outputs": [
    {
     "data": {
      "text/plain": [
       "5050000"
      ]
     },
     "execution_count": 65,
     "metadata": {},
     "output_type": "execute_result"
    }
   ],
   "source": [
    "my_employee = Employee()\n",
    "my_employee.set_salary(5050000)\n",
    "my_employee.get_salary()"
   ]
  },
  {
   "cell_type": "markdown",
   "metadata": {},
   "source": [
    "**Q18:** In the `Employee` class, modify the `set_salary(new_salary)` method so it only sets the salary if `new_salary` is greater than 0."
   ]
  },
  {
   "cell_type": "code",
   "execution_count": 66,
   "metadata": {},
   "outputs": [],
   "source": [
    "class Employee():\n",
    "    __salary = 500000\n",
    "\n",
    "    def get_salary(self):\n",
    "        return self.__salary\n",
    "    \n",
    "    def set_salary(self,new_salary):\n",
    "        if new_salary > 0:\n",
    "            self.__salary = new_salary"
   ]
  },
  {
   "cell_type": "markdown",
   "metadata": {},
   "source": [
    "**Q19:** Define a class `Temperature` with a private attribute `__celsius`. Add a getter `get_celsius()` and a setter `set_celsius(temp)`."
   ]
  },
  {
   "cell_type": "code",
   "execution_count": null,
   "metadata": {},
   "outputs": [],
   "source": [
    "class Temperature():\n",
    "    __celsius = 0\n",
    "\n",
    "    def get_celsius(self):\n",
    "        return self.__celsius\n",
    "    def set_celsius(self,temp):\n",
    "\n",
    "        self.__celsius = temp\n",
    "        \n"
   ]
  },
  {
   "cell_type": "markdown",
   "metadata": {},
   "source": [
    "**Q20:** In the `Temperature` class, add a new getter `get_fahrenheit()` that converts the `__celsius` temperature to Fahrenheit and returns it. The formula is `(celsius * 9/5) + 32`."
   ]
  },
  {
   "cell_type": "code",
   "execution_count": 69,
   "metadata": {},
   "outputs": [
    {
     "data": {
      "text/plain": [
       "32.0"
      ]
     },
     "execution_count": 69,
     "metadata": {},
     "output_type": "execute_result"
    }
   ],
   "source": [
    "class Temperature():\n",
    "    __celsius = 0\n",
    "\n",
    "    def get_celsius(self):\n",
    "        return self.__celsius\n",
    "    def set_celsius(self,temp):\n",
    "\n",
    "        self.__celsius = temp\n",
    "\n",
    "    def get_fahrenheit(self):\n",
    "        cel = self.__celsius\n",
    "\n",
    "        return ( (cel* (9/5))+ 32)\n",
    "    \n",
    "cel_temp = Temperature()\n",
    "\n",
    "cel_temp.get_fahrenheit()"
   ]
  },
  {
   "cell_type": "markdown",
   "metadata": {},
   "source": [
    "### Part 3: Basic Inheritance (Family Traits)\n",
    "*Focus: Creating a parent class and a child class that inherits from it.*"
   ]
  },
  {
   "cell_type": "markdown",
   "metadata": {},
   "source": [
    "**Q21:** Create a parent class `Animal` with a method `eat()` that prints \"This animal is eating.\""
   ]
  },
  {
   "cell_type": "code",
   "execution_count": 71,
   "metadata": {},
   "outputs": [],
   "source": [
    "class Animal():\n",
    "    def eat():\n",
    "        print(\"This Animal is eating\")"
   ]
  },
  {
   "cell_type": "markdown",
   "metadata": {},
   "source": [
    "**Q22:** Create a child class `Dog` that inherits from the `Animal` class."
   ]
  },
  {
   "cell_type": "code",
   "execution_count": 72,
   "metadata": {},
   "outputs": [],
   "source": [
    "# Your code here\n",
    "\n",
    "class Dog(Animal):\n",
    "    pass"
   ]
  },
  {
   "cell_type": "markdown",
   "metadata": {},
   "source": [
    "**Q23:** Create an object of the `Dog` class and call the `eat()` method. Notice that `Dog` can use the method from `Animal`."
   ]
  },
  {
   "cell_type": "code",
   "execution_count": 73,
   "metadata": {},
   "outputs": [
    {
     "name": "stdout",
     "output_type": "stream",
     "text": [
      "This Animal is eating\n"
     ]
    }
   ],
   "source": [
    "Dog.eat()"
   ]
  },
  {
   "cell_type": "markdown",
   "metadata": {},
   "source": [
    "**Q24:** Add a new method `bark()` to the `Dog` class that prints \"Woof!\""
   ]
  },
  {
   "cell_type": "code",
   "execution_count": 75,
   "metadata": {},
   "outputs": [
    {
     "name": "stdout",
     "output_type": "stream",
     "text": [
      "Woof\n"
     ]
    }
   ],
   "source": [
    "class Dog(Animal):\n",
    "    def bark():\n",
    "        print(\"Woof\")\n",
    "\n",
    "Dog.bark()"
   ]
  },
  {
   "cell_type": "markdown",
   "metadata": {},
   "source": [
    "**Q25:** Create a parent class `Vehicle` with an attribute `max_speed`. Create a child class `Car` that inherits from `Vehicle`."
   ]
  },
  {
   "cell_type": "code",
   "execution_count": null,
   "metadata": {},
   "outputs": [],
   "source": [
    "class Vehicle():\n",
    "    max_speed = int\n",
    "\n",
    "class Car(Vehicle):\n",
    "    pass"
   ]
  },
  {
   "cell_type": "markdown",
   "metadata": {},
   "source": [
    "**Q26:** Create an object of the `Car` class with a `max_speed` of 120 and print its `max_speed`."
   ]
  },
  {
   "cell_type": "code",
   "execution_count": 77,
   "metadata": {},
   "outputs": [
    {
     "data": {
      "text/plain": [
       "120"
      ]
     },
     "execution_count": 77,
     "metadata": {},
     "output_type": "execute_result"
    }
   ],
   "source": [
    "class Car(Vehicle):\n",
    "    max_speed = 120\n",
    "\n",
    "my_car = Car()\n",
    "\n",
    "my_car.max_speed\n"
   ]
  },
  {
   "cell_type": "markdown",
   "metadata": {},
   "source": [
    "**Q27:** Create a parent class `Person` with an `__init__` that takes a `name`. Create a child class `Student` that also inherits from `Person`."
   ]
  },
  {
   "cell_type": "code",
   "execution_count": 1,
   "metadata": {},
   "outputs": [],
   "source": [
    "class person():\n",
    "\n",
    "    def __init__(self, name):\n",
    "        self.name = name\n",
    "        print(name)\n",
    "\n"
   ]
  },
  {
   "cell_type": "markdown",
   "metadata": {},
   "source": [
    "**Q28:** In the `Student` class, add its own `__init__` method that takes `name` and `grade`. It should call the parent's `__init__` method using `super().__init__(name)` to set the name."
   ]
  },
  {
   "cell_type": "code",
   "execution_count": 83,
   "metadata": {},
   "outputs": [
    {
     "name": "stdout",
     "output_type": "stream",
     "text": [
      "Rahul\n",
      "Student __init__ called: Setting grade to 'B'\n"
     ]
    },
    {
     "data": {
      "text/plain": [
       "'Rahul'"
      ]
     },
     "execution_count": 83,
     "metadata": {},
     "output_type": "execute_result"
    }
   ],
   "source": [
    "class Student(person):\n",
    "    def __init__(self, name, grade):\n",
    "        super().__init__(name)\n",
    "        self.grade = grade\n",
    "        print(f\"Student __init__ called: Setting grade to '{self.grade}'\")\n",
    "\n",
    "my_student = Student(name=\"Rahul\", grade=\"B\")\n",
    "my_student.name"
   ]
  },
  {
   "cell_type": "markdown",
   "metadata": {},
   "source": [
    "**Q29:** The `Animal` class has a method `make_sound()` that prints \"Generic animal sound\". Create a child class `Cat` that inherits from `Animal` but **overrides** the `make_sound()` method to print \"Meow\" instead."
   ]
  },
  {
   "cell_type": "code",
   "execution_count": 89,
   "metadata": {},
   "outputs": [],
   "source": [
    "class Animal:\n",
    "    def make_sound(self):\n",
    "        print(\"Generic animal sound\")\n",
    "\n",
    "# Your code here\n",
    "class Cat(Animal):\n",
    "    def make_sound(self):\n",
    "        print(\"meow\")"
   ]
  },
  {
   "cell_type": "markdown",
   "metadata": {},
   "source": [
    "**Q30:** Create an object of the `Cat` class and call its `make_sound()` method to see the overridden behavior."
   ]
  },
  {
   "cell_type": "code",
   "execution_count": 90,
   "metadata": {},
   "outputs": [
    {
     "name": "stdout",
     "output_type": "stream",
     "text": [
      "meow\n"
     ]
    }
   ],
   "source": [
    "cat = Cat()\n",
    "\n",
    "cat.make_sound()"
   ]
  },
  {
   "cell_type": "code",
   "execution_count": null,
   "id": "902c0166",
   "metadata": {},
   "outputs": [],
   "source": []
  }
 ],
 "metadata": {
  "kernelspec": {
   "display_name": "Python 3",
   "language": "python",
   "name": "python3"
  },
  "language_info": {
   "codemirror_mode": {
    "name": "ipython",
    "version": 3
   },
   "file_extension": ".py",
   "mimetype": "text/x-python",
   "name": "python",
   "nbconvert_exporter": "python",
   "pygments_lexer": "ipython3",
   "version": "3.13.5"
  }
 },
 "nbformat": 4,
 "nbformat_minor": 5
}
