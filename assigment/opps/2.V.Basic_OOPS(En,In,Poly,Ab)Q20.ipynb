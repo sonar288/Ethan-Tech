{
 "cells": [
  {
   "cell_type": "markdown",
   "metadata": {},
   "source": [
    "# Practice Questions: The Four Pillars of OOP\n",
    "\n",
    "**Instructions:** Solve the following 20 questions. This set is a very basic introduction to Encapsulation, Inheritance, Polymorphism, and Abstraction."
   ]
  },
  {
   "cell_type": "markdown",
   "metadata": {},
   "source": [
    "### Part 1: Encapsulation (Protecting Data)\n",
    "*Focus: Using `__` for private attributes and methods (getters/setters) to control access.*"
   ]
  },
  {
   "cell_type": "markdown",
   "metadata": {},
   "source": [
    "**Q1:** Define a class `Student` with a private attribute `__name`. In the `__init__` method, set the name."
   ]
  },
  {
   "cell_type": "code",
   "execution_count": 12,
   "metadata": {},
   "outputs": [],
   "source": [
    "class Student():\n",
    "    def __init__(self, name):\n",
    "        self.__name = name\n",
    "    def get_name(self):\n",
    "        return self.__name \n",
    "    \n",
    "    def set_name(self,new_name):\n",
    "        self.__name = new_name\n"
   ]
  },
  {
   "cell_type": "markdown",
   "metadata": {},
   "source": [
    "**Q2:** In the `Student` class, add a **getter** method `get_name()` that returns the value of `__name`."
   ]
  },
  {
   "cell_type": "code",
   "execution_count": null,
   "metadata": {},
   "outputs": [],
   "source": [
    "def get_name(self):\n",
    "    return self.__name "
   ]
  },
  {
   "cell_type": "markdown",
   "metadata": {},
   "source": [
    "**Q3:** In the `Student` class, add a **setter** method `set_name(new_name)` that changes the value of `__name`."
   ]
  },
  {
   "cell_type": "code",
   "execution_count": null,
   "metadata": {},
   "outputs": [],
   "source": [
    "def set_name(self,new_name):\n",
    "    self.__name = new_name"
   ]
  },
  {
   "cell_type": "markdown",
   "metadata": {},
   "source": [
    "**Q4:** Create a `Student` object with the name \"Raj\". Use the `set_name()` method to change the name to \"Ravi\", then use `get_name()` to print the new name."
   ]
  },
  {
   "cell_type": "code",
   "execution_count": 15,
   "metadata": {},
   "outputs": [
    {
     "name": "stdout",
     "output_type": "stream",
     "text": [
      "Raj\n",
      "Ravi\n"
     ]
    }
   ],
   "source": [
    "raj = Student(name = \"Raj\")\n",
    "print(raj.get_name())\n",
    "\n",
    "raj.set_name(new_name=\"Ravi\")\n",
    "\n",
    "print(raj.get_name())"
   ]
  },
  {
   "cell_type": "markdown",
   "metadata": {},
   "source": [
    "**Q5:** Define a class `Car` with a private attribute `__speed` initialized to 0. Add a method `get_speed()` that returns the speed."
   ]
  },
  {
   "cell_type": "code",
   "execution_count": 17,
   "metadata": {},
   "outputs": [
    {
     "data": {
      "text/plain": [
       "10"
      ]
     },
     "execution_count": 17,
     "metadata": {},
     "output_type": "execute_result"
    }
   ],
   "source": [
    "class Car():\n",
    "    __speed = 10\n",
    "\n",
    "    def get_speed(self):\n",
    "        return self.__speed\n",
    "    \n",
    "\n",
    "my_car = Car()\n",
    "\n",
    "my_car.get_speed()"
   ]
  },
  {
   "cell_type": "markdown",
   "metadata": {},
   "source": [
    "### Part 2: Inheritance (Reusing Code)\n",
    "*Focus: Creating a parent class and a child class that inherits its features.*"
   ]
  },
  {
   "cell_type": "markdown",
   "metadata": {},
   "source": [
    "**Q6:** Create a parent class `Person` with a method `speak()` that prints \"I can speak.\""
   ]
  },
  {
   "cell_type": "code",
   "execution_count": 18,
   "metadata": {},
   "outputs": [],
   "source": [
    "class Person():\n",
    "    def speak(self):\n",
    "        print(\"I can speak\")"
   ]
  },
  {
   "cell_type": "markdown",
   "metadata": {},
   "source": [
    "**Q7:** Create a child class `Student` that inherits from the `Person` class."
   ]
  },
  {
   "cell_type": "code",
   "execution_count": 19,
   "metadata": {},
   "outputs": [],
   "source": [
    "class Person:\n",
    "    def speak(self):\n",
    "        print(\"I can speak.\")\n",
    "\n",
    "# Your code here\n",
    "class Student(Person):\n",
    "    pass\n",
    "\n",
    "\n"
   ]
  },
  {
   "cell_type": "markdown",
   "metadata": {},
   "source": [
    "**Q8:** Create an object of the `Student` class and call the `speak()` method to show it inherited the method from `Person`."
   ]
  },
  {
   "cell_type": "code",
   "execution_count": 20,
   "metadata": {},
   "outputs": [
    {
     "name": "stdout",
     "output_type": "stream",
     "text": [
      "I can speak.\n"
     ]
    }
   ],
   "source": [
    "my_stu = Student()\n",
    "my_stu.speak()"
   ]
  },
  {
   "cell_type": "markdown",
   "metadata": {},
   "source": [
    "**Q9:** Create a parent class `Vehicle` with an `__init__` that sets an attribute `brand`. Create a child class `Car` that inherits from `Vehicle` and has its own `__init__` that calls the parent's `__init__` using `super()`."
   ]
  },
  {
   "cell_type": "code",
   "execution_count": 28,
   "metadata": {},
   "outputs": [],
   "source": [
    "class Vehicle():\n",
    "    def __init__(self,brand):\n",
    "        self.brand = brand\n",
    "\n",
    "class Car(Vehicle):\n",
    "    def __init__(self,brand):\n",
    "        super().__init__(brand)\n",
    "\n",
    "    def get_car(self):\n",
    "        return self.brand\n",
    "    \n",
    "    def set_car(self,new_brand):\n",
    "\n",
    "        self.brand = new_brand\n",
    "\n"
   ]
  },
  {
   "cell_type": "markdown",
   "metadata": {},
   "source": [
    "**Q10:** Create a `Car` object with the brand \"Tata\" and print its `brand` attribute."
   ]
  },
  {
   "cell_type": "code",
   "execution_count": 30,
   "metadata": {},
   "outputs": [
    {
     "data": {
      "text/plain": [
       "'Hundai'"
      ]
     },
     "execution_count": 30,
     "metadata": {},
     "output_type": "execute_result"
    }
   ],
   "source": [
    "my_Car = Car(brand= \"Tata\")\n",
    "my_Car.get_car()\n",
    "my_Car.set_car(new_brand=\"Hundai\")\n",
    "my_Car.get_car()"
   ]
  },
  {
   "cell_type": "markdown",
   "metadata": {},
   "source": [
    "### Part 3: Polymorphism (Many Forms)\n",
    "*Focus: Different classes can have methods with the same name but different behaviors.*"
   ]
  },
  {
   "cell_type": "markdown",
   "metadata": {},
   "source": [
    "**Q11:** Define a class `Dog` with a method `make_sound()` that prints \"Woof!\""
   ]
  },
  {
   "cell_type": "code",
   "execution_count": 39,
   "metadata": {},
   "outputs": [],
   "source": [
    "class Dog():\n",
    "    def make_sound(self):\n",
    "        print(\"Woof!\")"
   ]
  },
  {
   "cell_type": "markdown",
   "metadata": {},
   "source": [
    "**Q12:** Define a class `Cat` with a method `make_sound()` that prints \"Meow!\""
   ]
  },
  {
   "cell_type": "code",
   "execution_count": 38,
   "metadata": {},
   "outputs": [],
   "source": [
    "class Cat():\n",
    "    def make_sound(self):\n",
    "        print(\"Meow!\")"
   ]
  },
  {
   "cell_type": "markdown",
   "metadata": {},
   "source": [
    "**Q13:** Create a `Dog` object and a `Cat` object. Call the `make_sound()` method on both to see the different outputs."
   ]
  },
  {
   "cell_type": "code",
   "execution_count": 40,
   "metadata": {},
   "outputs": [
    {
     "name": "stdout",
     "output_type": "stream",
     "text": [
      "Woof!\n",
      "Meow!\n"
     ]
    }
   ],
   "source": [
    "my_dog = Dog()\n",
    "my_cat = Cat()\n",
    "\n",
    "my_dog.make_sound()\n",
    "my_cat.make_sound()"
   ]
  },
  {
   "cell_type": "markdown",
   "metadata": {},
   "source": [
    "**Q14:** Define a class `Bird` with a method `fly()` that prints \"The bird is flying.\". Define another class `Airplane` with a method `fly()` that prints \"The airplane is flying.\""
   ]
  },
  {
   "cell_type": "code",
   "execution_count": 43,
   "metadata": {},
   "outputs": [],
   "source": [
    "class Bird():\n",
    "    def fly(self):\n",
    "        print(\"The bird can fly\")\n",
    "\n",
    "class Airplane():\n",
    "    def fly(self):\n",
    "        print(\"The Airplane can fly\")"
   ]
  },
  {
   "cell_type": "markdown",
   "metadata": {},
   "source": [
    "**Q15:** Create a `Bird` object and an `Airplane` object. Put them in a list and loop through the list, calling the `fly()` method on each object to demonstrate polymorphism."
   ]
  },
  {
   "cell_type": "code",
   "execution_count": null,
   "metadata": {},
   "outputs": [
    {
     "name": "stdout",
     "output_type": "stream",
     "text": [
      "The bird can fly\n",
      "The Airplane can fly\n",
      "None\n",
      "None\n"
     ]
    }
   ],
   "source": [
    "my_bird = Bird()\n",
    "my_airplane = Airplane()\n",
    "my_lis = [my_bird.fly(),my_airplane.fly()]\n",
    "\n",
    "for i in my_lis:\n",
    "    print(i)"
   ]
  },
  {
   "cell_type": "markdown",
   "metadata": {},
   "source": [
    "### Part 4: Abstraction (Hiding Complexity)\n",
    "*Focus: Defining a template (abstract class) that other classes must follow.*"
   ]
  },
  {
   "cell_type": "markdown",
   "metadata": {},
   "source": [
    "**Q16:** Import `ABC` and `abstractmethod` from the `abc` module. Define an abstract class `Shape` that inherits from `ABC`."
   ]
  },
  {
   "cell_type": "code",
   "execution_count": 45,
   "metadata": {},
   "outputs": [],
   "source": [
    "from abc import ABC, abstractmethod\n",
    "\n",
    "# Your code here\n",
    "class Shape(ABC):\n",
    "    pass"
   ]
  },
  {
   "cell_type": "markdown",
   "metadata": {},
   "source": [
    "**Q17:** In the `Shape` class, define an abstract method called `calculate_area()`."
   ]
  },
  {
   "cell_type": "code",
   "execution_count": 50,
   "metadata": {},
   "outputs": [],
   "source": [
    "from abc import ABC, abstractmethod\n",
    "\n",
    "class Shape(ABC):\n",
    "    # Your code here\n",
    "    @abstractmethod\n",
    "    def calculate_area(self):\n",
    "        pass"
   ]
  },
  {
   "cell_type": "markdown",
   "metadata": {},
   "source": [
    "**Q18:** Create a child class `Rectangle` that inherits from `Shape`. Implement the `calculate_area()` method to print \"Calculating area of a rectangle.\""
   ]
  },
  {
   "cell_type": "code",
   "execution_count": 51,
   "metadata": {},
   "outputs": [],
   "source": [
    "\n",
    "class Reactangle(Shape):\n",
    "\n",
    "    def calculate_area(self):\n",
    "        print(\"Calculating area of a rectangle\")"
   ]
  },
  {
   "cell_type": "markdown",
   "metadata": {},
   "source": [
    "**Q19:** Create another child class `Circle` that also inherits from `Shape`. Implement the `calculate_area()` method to print \"Calculating area of a circle.\""
   ]
  },
  {
   "cell_type": "code",
   "execution_count": 58,
   "metadata": {},
   "outputs": [],
   "source": [
    "class Circle(Shape):\n",
    "\n",
    "    def calculate_area(self):\n",
    "        print(\"Calculating area of the circle \")"
   ]
  },
  {
   "cell_type": "markdown",
   "metadata": {},
   "source": [
    "**Q20:** Create a `Rectangle` object and a `Circle` object. Call the `calculate_area()` method on both to show that they have implemented the required method from the abstract class."
   ]
  },
  {
   "cell_type": "code",
   "execution_count": 59,
   "metadata": {},
   "outputs": [
    {
     "name": "stdout",
     "output_type": "stream",
     "text": [
      "Calculating area of a rectangle\n",
      "Calculating area of the circle \n"
     ]
    }
   ],
   "source": [
    "my_reactangle = Reactangle()\n",
    "my_circle = Circle()\n",
    "\n",
    "my_reactangle.calculate_area()\n",
    "my_circle.calculate_area()"
   ]
  },
  {
   "cell_type": "code",
   "execution_count": null,
   "id": "679df1d8",
   "metadata": {},
   "outputs": [],
   "source": []
  }
 ],
 "metadata": {
  "kernelspec": {
   "display_name": "Python 3",
   "language": "python",
   "name": "python3"
  },
  "language_info": {
   "codemirror_mode": {
    "name": "ipython",
    "version": 3
   },
   "file_extension": ".py",
   "mimetype": "text/x-python",
   "name": "python",
   "nbconvert_exporter": "python",
   "pygments_lexer": "ipython3",
   "version": "3.13.5"
  }
 },
 "nbformat": 4,
 "nbformat_minor": 5
}
