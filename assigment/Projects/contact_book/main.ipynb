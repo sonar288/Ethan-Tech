{
 "cells": [
  {
   "cell_type": "code",
   "execution_count": null,
   "id": "4b180ab9",
   "metadata": {},
   "outputs": [],
   "source": []
  },
  {
   "cell_type": "code",
   "execution_count": 1,
   "id": "56cecd73",
   "metadata": {},
   "outputs": [],
   "source": [
    "contacts = [\n",
    "    {\"name\": \"Rahul Sonar\", \"contact\": 9022358452}, {\"name\": \"Prathmesh Patil\", \"contact\": 1234567890}, {\"name\": \"Sneha Kulkarni\", \"contact\": 9876543210},\n",
    "    {\"name\": \"Amit Joshi\", \"contact\": 8765432109}, {\"name\": \"Pooja Deshmukh\", \"contact\": 7654321098}, {\"name\": \"Karan Sharma\", \"contact\": 6543210987},\n",
    "    {\"name\": \"Anjali Verma\", \"contact\": 9123456780}, {\"name\": \"Rohan Shinde\", \"contact\": 8899776655}, {\"name\": \"Meena Jadhav\", \"contact\": 9988776655},\n",
    "    {\"name\": \"Suresh Pawar\", \"contact\": 9090909090}, {\"name\": \"Priya Chavan\", \"contact\": 9191919191}, {\"name\": \"Manoj Patankar\", \"contact\": 9292929292},\n",
    "    {\"name\": \"Neha Bhosale\", \"contact\": 9393939393}, {\"name\": \"Vikas Kadam\", \"contact\": 9494949494}, {\"name\": \"Alok Rane\", \"contact\": 9595959595},\n",
    "    {\"name\": \"Shweta Naik\", \"contact\": 9696969696}, {\"name\": \"Deepak More\", \"contact\": 9797979797}, {\"name\": \"Ritika Gokhale\", \"contact\": 9898989898},\n",
    "    {\"name\": \"Sameer Gaikwad\", \"contact\": 9999999999}, {\"name\": \"Komal Salunkhe\", \"contact\": 9098765432},{\"name\":\"Rahul Wagh\" ,\"contact\": 9098765433}\n",
    "]"
   ]
  },
  {
   "cell_type": "code",
   "execution_count": 3,
   "id": "94b63bab",
   "metadata": {},
   "outputs": [],
   "source": [
    "def add_new_contact():\n",
    "    print(\"to create new contact provide name and contact number:\\n\")\n",
    "\n",
    "    user_name = input(\"Name: \")\n",
    "    user_no = input(\"Phone No.: \")\n",
    "    \n",
    "    contacts.append({\"name\":user_name,\"contact\":int(user_no)})\n",
    "\n",
    "    print(f\"\\nname:{user_name}\\nPhone number:{user_no}\\n is added to your contact\")"
   ]
  },
  {
   "cell_type": "code",
   "execution_count": 4,
   "id": "d967f831",
   "metadata": {},
   "outputs": [
    {
     "name": "stdout",
     "output_type": "stream",
     "text": [
      "to create new contact provide name and contact number:\n",
      "\n",
      "\n",
      "name:Shruti \n",
      "Phone number:1234567890\n",
      " is added to your contact\n"
     ]
    }
   ],
   "source": [
    "add_new_contact()"
   ]
  },
  {
   "cell_type": "code",
   "execution_count": 5,
   "id": "427b287e",
   "metadata": {},
   "outputs": [
    {
     "data": {
      "text/plain": [
       "[{'name': 'Rahul Sonar', 'contact': 9022358452},\n",
       " {'name': 'Prathmesh Patil', 'contact': 1234567890},\n",
       " {'name': 'Sneha Kulkarni', 'contact': 9876543210},\n",
       " {'name': 'Amit Joshi', 'contact': 8765432109},\n",
       " {'name': 'Pooja Deshmukh', 'contact': 7654321098},\n",
       " {'name': 'Karan Sharma', 'contact': 6543210987},\n",
       " {'name': 'Anjali Verma', 'contact': 9123456780},\n",
       " {'name': 'Rohan Shinde', 'contact': 8899776655},\n",
       " {'name': 'Meena Jadhav', 'contact': 9988776655},\n",
       " {'name': 'Suresh Pawar', 'contact': 9090909090},\n",
       " {'name': 'Priya Chavan', 'contact': 9191919191},\n",
       " {'name': 'Manoj Patankar', 'contact': 9292929292},\n",
       " {'name': 'Neha Bhosale', 'contact': 9393939393},\n",
       " {'name': 'Vikas Kadam', 'contact': 9494949494},\n",
       " {'name': 'Alok Rane', 'contact': 9595959595},\n",
       " {'name': 'Shweta Naik', 'contact': 9696969696},\n",
       " {'name': 'Deepak More', 'contact': 9797979797},\n",
       " {'name': 'Ritika Gokhale', 'contact': 9898989898},\n",
       " {'name': 'Sameer Gaikwad', 'contact': 9999999999},\n",
       " {'name': 'Komal Salunkhe', 'contact': 9098765432},\n",
       " {'name': 'Rahul Wagh', 'contact': 9098765433},\n",
       " {'name': 'Shruti ', 'contact': 1234567890}]"
      ]
     },
     "execution_count": 5,
     "metadata": {},
     "output_type": "execute_result"
    }
   ],
   "source": [
    "contacts"
   ]
  },
  {
   "cell_type": "code",
   "execution_count": 1,
   "id": "e0b43d49",
   "metadata": {},
   "outputs": [
    {
     "name": "stdout",
     "output_type": "stream",
     "text": [
      "<class 'str'>\n"
     ]
    }
   ],
   "source": [
    "with open(\"contact.py\",\"r\") as contact:\n",
    "    con = contact.read()\n",
    "    print(type(con))\n"
   ]
  },
  {
   "cell_type": "code",
   "execution_count": 10,
   "id": "0f36d08f",
   "metadata": {},
   "outputs": [
    {
     "name": "stdout",
     "output_type": "stream",
     "text": [
      "<class 'dict'>\n"
     ]
    }
   ],
   "source": [
    "import ast\n",
    "\n",
    "with open(\"contact.py\", \"r\") as f:\n",
    "    data = f.read()\n",
    "    contact = ast.literal_eval(data)  # safely convert string → list\n",
    "    print(type(contact[0]))"
   ]
  },
  {
   "cell_type": "code",
   "execution_count": 15,
   "id": "64048be0",
   "metadata": {},
   "outputs": [
    {
     "name": "stdout",
     "output_type": "stream",
     "text": [
      "<class 'list'>\n",
      "[{'name': 'Rahul Sonar', 'contact': 9022358452}, {'name': 'Prathmesh Patil', 'contact': 1234567890}, {'name': 'Sneha Kulkarni', 'contact': 9876543210}, {'name': 'Amit Joshi', 'contact': 8765432109}, {'name': 'Pooja Deshmukh', 'contact': 7654321098}, {'name': 'Karan Sharma', 'contact': 6543210987}, {'name': 'Anjali Verma', 'contact': 9123456780}, {'name': 'Rohan Shinde', 'contact': 8899776655}, {'name': 'Meena Jadhav', 'contact': 9988776655}, {'name': 'Suresh Pawar', 'contact': 9090909090}, {'name': 'Priya Chavan', 'contact': 9191919191}, {'name': 'Manoj Patankar', 'contact': 9292929292}, {'name': 'Neha Bhosale', 'contact': 9393939393}, {'name': 'Vikas Kadam', 'contact': 9494949494}, {'name': 'Alok Rane', 'contact': 9595959595}, {'name': 'Shweta Naik', 'contact': 9696969696}, {'name': 'Deepak More', 'contact': 9797979797}, {'name': 'Ritika Gokhale', 'contact': 9898989898}, {'name': 'Sameer Gaikwad', 'contact': 9999999999}, {'name': 'Komal Salunkhe', 'contact': 9098765432}, {'name': 'Rahul Wagh', 'contact': 9098765433}]\n"
     ]
    }
   ],
   "source": [
    "from contact import contacts\n",
    "\n",
    "print(type(contacts))  # <class 'list'>\n",
    "print(contacts)     # {'name': 'Rahul Sonar', 'contact': 9022358452}\n"
   ]
  },
  {
   "cell_type": "code",
   "execution_count": 18,
   "id": "1460120d",
   "metadata": {},
   "outputs": [],
   "source": [
    "contact.append({'name': 'Rajesh Sonar', 'contact': 9022358452})\n",
    "with open(\"contact.py\", \"w\") as f:\n",
    "    f.write(\"contacts = \" + str(contacts))"
   ]
  },
  {
   "cell_type": "code",
   "execution_count": 19,
   "id": "a7c197b3",
   "metadata": {},
   "outputs": [
    {
     "name": "stdout",
     "output_type": "stream",
     "text": [
      "Before adding: [{'name': 'Rahul Sonar', 'contact': 9022358452}, {'name': 'Prathmesh Patil', 'contact': 1234567890}, {'name': 'Sneha Kulkarni', 'contact': 9876543210}, {'name': 'Amit Joshi', 'contact': 8765432109}, {'name': 'Pooja Deshmukh', 'contact': 7654321098}, {'name': 'Karan Sharma', 'contact': 6543210987}, {'name': 'Anjali Verma', 'contact': 9123456780}, {'name': 'Rohan Shinde', 'contact': 8899776655}, {'name': 'Meena Jadhav', 'contact': 9988776655}, {'name': 'Suresh Pawar', 'contact': 9090909090}, {'name': 'Priya Chavan', 'contact': 9191919191}, {'name': 'Manoj Patankar', 'contact': 9292929292}, {'name': 'Neha Bhosale', 'contact': 9393939393}, {'name': 'Vikas Kadam', 'contact': 9494949494}, {'name': 'Alok Rane', 'contact': 9595959595}, {'name': 'Shweta Naik', 'contact': 9696969696}, {'name': 'Deepak More', 'contact': 9797979797}, {'name': 'Ritika Gokhale', 'contact': 9898989898}, {'name': 'Sameer Gaikwad', 'contact': 9999999999}, {'name': 'Komal Salunkhe', 'contact': 9098765432}, {'name': 'Rahul Wagh', 'contact': 9098765433}]\n",
      "After adding (in memory): [{'name': 'Rahul Sonar', 'contact': 9022358452}, {'name': 'Prathmesh Patil', 'contact': 1234567890}, {'name': 'Sneha Kulkarni', 'contact': 9876543210}, {'name': 'Amit Joshi', 'contact': 8765432109}, {'name': 'Pooja Deshmukh', 'contact': 7654321098}, {'name': 'Karan Sharma', 'contact': 6543210987}, {'name': 'Anjali Verma', 'contact': 9123456780}, {'name': 'Rohan Shinde', 'contact': 8899776655}, {'name': 'Meena Jadhav', 'contact': 9988776655}, {'name': 'Suresh Pawar', 'contact': 9090909090}, {'name': 'Priya Chavan', 'contact': 9191919191}, {'name': 'Manoj Patankar', 'contact': 9292929292}, {'name': 'Neha Bhosale', 'contact': 9393939393}, {'name': 'Vikas Kadam', 'contact': 9494949494}, {'name': 'Alok Rane', 'contact': 9595959595}, {'name': 'Shweta Naik', 'contact': 9696969696}, {'name': 'Deepak More', 'contact': 9797979797}, {'name': 'Ritika Gokhale', 'contact': 9898989898}, {'name': 'Sameer Gaikwad', 'contact': 9999999999}, {'name': 'Komal Salunkhe', 'contact': 9098765432}, {'name': 'Rahul Wagh', 'contact': 9098765433}, {'name': 'Sneha Kulkarni', 'contact': 9876543210}]\n"
     ]
    }
   ],
   "source": [
    "from contact import contacts   # import the list from file\n",
    "\n",
    "print(\"Before adding:\", contacts)\n",
    "\n",
    "# Step 1: Add a new contact in memory\n",
    "new_contact = {\"name\": \"Sneha Kulkarni\", \"contact\": 9876543210}\n",
    "contacts.append(new_contact)\n",
    "\n",
    "print(\"After adding (in memory):\", contacts)\n",
    "\n",
    "# Step 2: Save the updated list back to contact.py\n",
    "with open(\"contact.py\", \"w\") as f:\n",
    "    f.write(\"contacts = \" + str(contacts))\n"
   ]
  },
  {
   "cell_type": "code",
   "execution_count": null,
   "id": "58ea0931",
   "metadata": {},
   "outputs": [
    {
     "name": "stdout",
     "output_type": "stream",
     "text": [
      "Before adding: [{'name': 'Rahul Sonar', 'contact': 9022358452}, {'name': 'Prathmesh Patil', 'contact': 1234567890}, {'name': 'Amit Joshi', 'contact': 8765432109}, {'name': 'Pooja Deshmukh', 'contact': 7654321098}, {'name': 'Karan Sharma', 'contact': 6543210987}, {'name': 'Anjali Verma', 'contact': 9123456780}, {'name': 'Rohan Shinde', 'contact': 8899776655}, {'name': 'Meena Jadhav', 'contact': 9988776655}, {'name': 'Suresh Pawar', 'contact': 9090909090}, {'name': 'Priya Chavan', 'contact': 9191919191}, {'name': 'Manoj Patankar', 'contact': 9292929292}, {'name': 'Neha Bhosale', 'contact': 9393939393}, {'name': 'Vikas Kadam', 'contact': 9494949494}, {'name': 'Alok Rane', 'contact': 9595959595}, {'name': 'Shweta Naik', 'contact': 9696969696}, {'name': 'Deepak More', 'contact': 9797979797}, {'name': 'Ritika Gokhale', 'contact': 9898989898}, {'name': 'Sameer Gaikwad', 'contact': 9999999999}, {'name': 'Komal Salunkhe', 'contact': 9098765432}, {'name': 'Rahul Wagh', 'contact': 9098765433}]\n"
     ]
    },
    {
     "ename": "ValueError",
     "evalue": "list.remove(x): x not in list",
     "output_type": "error",
     "traceback": [
      "\u001b[31m---------------------------------------------------------------------------\u001b[39m",
      "\u001b[31mValueError\u001b[39m                                Traceback (most recent call last)",
      "\u001b[36mCell\u001b[39m\u001b[36m \u001b[39m\u001b[32mIn[22]\u001b[39m\u001b[32m, line 3\u001b[39m\n\u001b[32m      1\u001b[39m \u001b[38;5;28mprint\u001b[39m(\u001b[33m\"\u001b[39m\u001b[33mBefore adding:\u001b[39m\u001b[33m\"\u001b[39m, contacts)\n\u001b[32m      2\u001b[39m new_contact = {\u001b[33m\"\u001b[39m\u001b[33mname\u001b[39m\u001b[33m\"\u001b[39m: \u001b[33m\"\u001b[39m\u001b[33mSneha Kulkarni\u001b[39m\u001b[33m\"\u001b[39m, \u001b[33m\"\u001b[39m\u001b[33mcontact\u001b[39m\u001b[33m\"\u001b[39m: \u001b[32m9876543210\u001b[39m}\n\u001b[32m----> \u001b[39m\u001b[32m3\u001b[39m \u001b[43mcontacts\u001b[49m\u001b[43m.\u001b[49m\u001b[43mremove\u001b[49m\u001b[43m(\u001b[49m\u001b[43mnew_contact\u001b[49m\u001b[43m)\u001b[49m\n\u001b[32m      5\u001b[39m \u001b[38;5;28mprint\u001b[39m(\u001b[33m\"\u001b[39m\u001b[33mAfter adding (in memory):\u001b[39m\u001b[33m\"\u001b[39m, contacts)\n\u001b[32m      7\u001b[39m \u001b[38;5;66;03m# Step 2: Save the updated list back to contact.py\u001b[39;00m\n",
      "\u001b[31mValueError\u001b[39m: list.remove(x): x not in list"
     ]
    }
   ],
   "source": [
    "# print(\"Before adding:\", contacts)\n",
    "# new_contact = {\"name\": \"Sneha Kulkarni\", \"contact\": 9876543210}\n",
    "# contacts.remove(new_contact)\n",
    "\n",
    "# print(\"After adding (in memory):\", contacts)\n",
    "\n",
    "# # Step 2: Save the updated list back to contact.py\n",
    "# with open(\"contact.py\", \"w\") as f:\n",
    "#     f.write(\"contacts = \" + str(contacts))"
   ]
  },
  {
   "cell_type": "code",
   "execution_count": null,
   "id": "9ac59899",
   "metadata": {},
   "outputs": [
    {
     "name": "stdout",
     "output_type": "stream",
     "text": [
      "no such user found\n"
     ]
    }
   ],
   "source": [
    "\n"
   ]
  },
  {
   "cell_type": "code",
   "execution_count": null,
   "id": "be2991ce",
   "metadata": {},
   "outputs": [],
   "source": [
    "# Sample contacts list for testing\n",
    "contacts = [\n",
    "    {\"name\": \"Rahul Sonar\", \"contact\": 9022358452}, \n",
    "    {\"name\": \"Prathmesh Patil\", \"contact\": 1234567890}, \n",
    "    {\"name\": \"Sneha Kulkarni\", \"contact\": 9876543210},\n",
    "    {\"name\": \"Amit Joshi\", \"contact\": 8765432109}\n",
    "]\n",
    "\n",
    "def update_contact_fixed():\n",
    "    \"\"\"Fixed version of your update contact function\"\"\"\n",
    "    try:\n",
    "        if not contacts:\n",
    "            print(\"No contacts available!\")\n",
    "            return False\n",
    "            \n",
    "        print(\"Select the username you want to change\")\n",
    "        user_name1 = input(\"Name: \").strip()\n",
    "        \n",
    "        if not user_name1:\n",
    "            print(\"Error: Name cannot be empty\")\n",
    "            return False\n",
    "        \n",
    "        # Find the contact\n",
    "        contact_found = False\n",
    "        target_contact = None\n",
    "        contact_index = -1\n",
    "        \n",
    "        for i, contact in enumerate(contacts):\n",
    "            if contact[\"name\"].lower() == user_name1.lower():\n",
    "                target_contact = contact\n",
    "                contact_index = i\n",
    "                contact_found = True\n",
    "                break\n",
    "        \n",
    "        if not contact_found:\n",
    "            print(f\"Error: Contact '{user_name1}' not found!\")\n",
    "            return False\n",
    "        \n",
    "        # Show current contact\n",
    "        print(f\"Found contact: {target_contact}\")\n",
    "        print(\"Update the User:\")\n",
    "        \n",
    "        # Get new name\n",
    "        user_name = input(\"New Name: \").strip()\n",
    "        if not user_name:\n",
    "            print(\"Error: Name cannot be empty\")\n",
    "            return False\n",
    "        \n",
    "        # Get new phone number\n",
    "        user_no = input(\"New Phone No.: \").strip()\n",
    "        if not user_no:\n",
    "            print(\"Error: Phone number cannot be empty\")\n",
    "            return False\n",
    "        \n",
    "        # Clean and validate phone number\n",
    "        cleaned_number = user_no.replace(\"-\", \"\").replace(\" \", \"\").replace(\"(\", \"\").replace(\")\", \"\")\n",
    "        \n",
    "        if not cleaned_number.isdigit():\n",
    "            print(\"Error: Please enter only numbers\")\n",
    "            return False\n",
    "        \n",
    "        if len(cleaned_number) < 10:\n",
    "            print(\"Error: Phone number should be at least 10 digits\")\n",
    "            return False\n",
    "        \n",
    "        # Check for duplicate name (excluding current contact)\n",
    "        for i, contact in enumerate(contacts):\n",
    "            if i != contact_index and contact[\"name\"].lower() == user_name.lower():\n",
    "                print(f\"Error: Contact name '{user_name}' already exists!\")\n",
    "                return False\n",
    "        \n",
    "        # Check for duplicate phone number (excluding current contact)\n",
    "        for i, contact in enumerate(contacts):\n",
    "            if i != contact_index and contact[\"contact\"] == int(cleaned_number):\n",
    "                print(f\"Error: Phone number '{cleaned_number}' already exists!\")\n",
    "                return False\n",
    "        \n",
    "        # Update the contact\n",
    "        old_name = target_contact[\"name\"]\n",
    "        old_contact = target_contact[\"contact\"]\n",
    "        \n",
    "        contacts[contact_index].update({\"name\": user_name, \"contact\": int(cleaned_number)})\n",
    "        \n",
    "        print(f\"✓ Contact updated successfully!\")\n",
    "        print(f\"  Name: {old_name} → {user_name}\")\n",
    "        print(f\"  Phone: {old_contact} → {cleaned_number}\")\n",
    "        \n",
    "        # Save to file (optional)\n",
    "        try:\n",
    "            with open(\"contact.py\", \"w\") as f:\n",
    "                f.write(\"contacts = \" + str(contacts))\n",
    "            print(\"✓ Contacts saved to file!\")\n",
    "        except Exception as file_error:\n",
    "            print(f\"Warning: Could not save to file: {file_error}\")\n",
    "        \n",
    "        return True\n",
    "        \n",
    "    except Exception as e:\n",
    "        print(f\"Error: {e}\")\n",
    "        return False\n",
    "\n",
    "\n",
    "\n"
   ]
  },
  {
   "cell_type": "code",
   "execution_count": 44,
   "id": "43a11502",
   "metadata": {},
   "outputs": [
    {
     "name": "stdout",
     "output_type": "stream",
     "text": [
      "Select the username you want to change\n",
      "Found contact: {'name': 'rahul sonar', 'contact': 9022358458}\n",
      "Update the User:\n",
      "✓ Contact updated successfully!\n",
      "  Name: rahul sonar → rahul Sonar\n",
      "  Phone: 9022358458 → 9022358456\n",
      "✓ Contacts saved to file!\n"
     ]
    },
    {
     "data": {
      "text/plain": [
       "True"
      ]
     },
     "execution_count": 44,
     "metadata": {},
     "output_type": "execute_result"
    }
   ],
   "source": [
    "my_update = update_contact_fixed()\n",
    "my_update"
   ]
  },
  {
   "cell_type": "code",
   "execution_count": null,
   "id": "ca66f69b",
   "metadata": {},
   "outputs": [],
   "source": [
    "\n",
    "\n",
    "    try:\n",
    "        if not contacts:\n",
    "            print(\"No contacts available!\")\n",
    "            return False\n",
    "        \n",
    "        # Show all contacts first\n",
    "        print(\"\\n=== CURRENT CONTACTS ===\")\n",
    "        for i, contact in enumerate(contacts, 1):\n",
    "            print(f\"{i}. {contact['name']} - {contact['contact']}\")\n",
    "        print(\"=\" * 30)\n",
    "        \n",
    "        print(\"\\nSelect the contact you want to update:\")\n",
    "        user_name1 = input(\"Enter name: \").strip()\n",
    "        \n",
    "        if not user_name1:\n",
    "            print(\"Error: Name cannot be empty\")\n",
    "            return False\n",
    "        \n",
    "        # Search for contacts (partial match)\n",
    "        matching_contacts = []\n",
    "        for i, contact in enumerate(contacts):\n",
    "            if user_name1.lower() in contact[\"name\"].lower():\n",
    "                matching_contacts.append((i, contact))\n",
    "        \n",
    "        if not matching_contacts:\n",
    "            print(f\"Error: No contacts found matching '{user_name1}'\")\n",
    "            return False\n",
    "        \n",
    "        # If multiple matches, let user choose\n",
    "        if len(matching_contacts) > 1:\n",
    "            print(f\"\\nFound {len(matching_contacts)} matching contacts:\")\n",
    "            for i, (original_index, contact) in enumerate(matching_contacts, 1):\n",
    "                print(f\"{i}. {contact['name']} - {contact['contact']}\")\n",
    "            \n",
    "            try:\n",
    "                choice = int(input(\"Select contact number: \")) - 1\n",
    "                if choice < 0 or choice >= len(matching_contacts):\n",
    "                    print(\"Invalid selection!\")\n",
    "                    return False\n",
    "                contact_index, target_contact = matching_contacts[choice]\n",
    "            except ValueError:\n",
    "                print(\"Please enter a valid number!\")\n",
    "                return False\n",
    "        else:\n",
    "            contact_index, target_contact = matching_contacts[0]\n",
    "        \n",
    "        # Show current contact details\n",
    "        print(f\"\\n=== CURRENT CONTACT ===\")\n",
    "        print(f\"Name: {target_contact['name']}\")\n",
    "        print(f\"Phone: {target_contact['contact']}\")\n",
    "        \n",
    "        print(f\"\\n=== UPDATE CONTACT ===\")\n",
    "        \n",
    "        # Get new name\n",
    "        new_name = input(f\"New Name (current: {target_contact['name']}): \").strip()\n",
    "        if not new_name:\n",
    "            print(\"Error: Name cannot be empty\")\n",
    "            return False\n",
    "        \n",
    "        # Get new phone number\n",
    "        new_phone = input(f\"New Phone (current: {target_contact['contact']}): \").strip()\n",
    "        if not new_phone:\n",
    "            print(\"Error: Phone number cannot be empty\")\n",
    "            return False\n",
    "        \n",
    "        # Clean and validate phone number\n",
    "        cleaned_number = new_phone.replace(\"-\", \"\").replace(\" \", \"\").replace(\"(\", \"\").replace(\")\", \"\").replace(\"+\", \"\")\n",
    "        \n",
    "        if not cleaned_number.isdigit():\n",
    "            print(\"Error: Phone number should contain only digits\")\n",
    "            return False\n",
    "        \n",
    "        if len(cleaned_number) < 10 or len(cleaned_number) > 15:\n",
    "            print(\"Error: Phone number should be between 10-15 digits\")\n",
    "            return False\n",
    "        \n",
    "        # Check for duplicates (excluding current contact)\n",
    "        for i, contact in enumerate(contacts):\n",
    "            if i != contact_index:\n",
    "                if contact[\"name\"].lower() == new_name.lower():\n",
    "                    print(f\"Error: Contact name '{new_name}' already exists!\")\n",
    "                    return False\n",
    "                if str(contact[\"contact\"]) == cleaned_number:\n",
    "                    print(f\"Error: Phone number '{cleaned_number}' already exists!\")\n",
    "                    return False\n",
    "        \n",
    "        # Confirm update\n",
    "        print(f\"\\n=== CONFIRM UPDATE ===\")\n",
    "        print(f\"Name: {target_contact['name']} → {new_name}\")\n",
    "        print(f\"Phone: {target_contact['contact']} → {cleaned_number}\")\n",
    "        \n",
    "        confirm = input(\"Confirm update? (y/n): \").strip().lower()\n",
    "        if confirm not in ['y', 'yes']:\n",
    "            print(\"Update cancelled.\")\n",
    "            return False\n",
    "        \n",
    "        # Update the contact\n",
    "        old_name = target_contact[\"name\"]\n",
    "        old_phone = target_contact[\"contact\"]\n",
    "        \n",
    "        contacts[contact_index][\"name\"] = new_name\n",
    "        contacts[contact_index][\"contact\"] = int(cleaned_number)\n",
    "        \n",
    "        print(f\"\\n✓ Contact updated successfully!\")\n",
    "        print(f\"Updated contact: {contacts[contact_index]}\")\n",
    "        \n",
    "        # Save to file with better formatting\n",
    "        try:\n",
    "            import json\n",
    "            with open(\"contacts.json\", \"w\") as f:\n",
    "                json.dump(contacts, f, indent=2)\n",
    "            print(\"✓ Contacts saved to contacts.json!\")\n",
    "        except Exception as file_error:\n",
    "            # Fallback to Python format\n",
    "            try:\n",
    "                with open(\"contact.py\", \"w\") as f:\n",
    "                    f.write(\"contacts = [\\n\")\n",
    "                    for contact in contacts:\n",
    "                        f.write(f\"    {contact},\\n\")\n",
    "                    f.write(\"]\\n\")\n",
    "                print(\"✓ Contacts saved to contact.py!\")\n",
    "            except Exception as backup_error:\n",
    "                print(f\"Warning: Could not save to file: {backup_error}\")\n",
    "        \n",
    "        return True\n",
    "        \n",
    "    except Exception as e:\n",
    "        print(f\"Unexpected error: {e}\")\n",
    "        return False"
   ]
  },
  {
   "cell_type": "code",
   "execution_count": null,
   "id": "8fac36a9",
   "metadata": {},
   "outputs": [],
   "source": []
  },
  {
   "cell_type": "code",
   "execution_count": null,
   "id": "1a04589e",
   "metadata": {},
   "outputs": [],
   "source": []
  },
  {
   "cell_type": "code",
   "execution_count": null,
   "id": "1f479024",
   "metadata": {},
   "outputs": [],
   "source": []
  },
  {
   "cell_type": "code",
   "execution_count": null,
   "id": "2f5bb378",
   "metadata": {},
   "outputs": [],
   "source": []
  },
  {
   "cell_type": "code",
   "execution_count": null,
   "id": "195f7177",
   "metadata": {},
   "outputs": [],
   "source": []
  },
  {
   "cell_type": "code",
   "execution_count": null,
   "id": "2ae1dd97",
   "metadata": {},
   "outputs": [],
   "source": []
  },
  {
   "cell_type": "code",
   "execution_count": null,
   "id": "3b0cad47",
   "metadata": {},
   "outputs": [],
   "source": []
  },
  {
   "cell_type": "code",
   "execution_count": null,
   "id": "85fcff99",
   "metadata": {},
   "outputs": [],
   "source": []
  }
 ],
 "metadata": {
  "kernelspec": {
   "display_name": "Python 3",
   "language": "python",
   "name": "python3"
  },
  "language_info": {
   "codemirror_mode": {
    "name": "ipython",
    "version": 3
   },
   "file_extension": ".py",
   "mimetype": "text/x-python",
   "name": "python",
   "nbconvert_exporter": "python",
   "pygments_lexer": "ipython3",
   "version": "3.13.5"
  }
 },
 "nbformat": 4,
 "nbformat_minor": 5
}
