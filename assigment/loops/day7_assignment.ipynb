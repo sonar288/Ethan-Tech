{
 "cells": [
  {
   "cell_type": "markdown",
   "id": "534ca875",
   "metadata": {
    "id": "534ca875"
   },
   "source": [
    "# Python Iterations — 50 Practice Assignments (No Functions) + Examples\n",
    "Prepared on **2025-08-13**\n",
    "\n",
    "These problems are ordered from easy → hard. They are designed to drill:\n",
    "- `for` and `while` loops\n",
    "- `break`, `continue`, and `for/while ... else`\n",
    "- nested loops\n",
    "- edge case handling\n",
    "\n",
    "**How to use this notebook**\n",
    "- Each task has a markdown description with a **Sample Input** and **Expected Output**, followed by an **empty code cell** where you write your solution directly.\n",
    "- You do not need to create functions. Just write the loop logic in the code cell.\n",
    "- Use the provided sample input as a quick test, then try your own.\n",
    "\n",
    "**Difficulty bands**\n",
    "- Q1–Q12: Warm-up loops\n",
    "- Q13–Q24: Controlling flow with `break`/`continue`/`else`\n",
    "- Q25–Q36: Nested loops and patterns\n",
    "- Q37–Q50: Advanced loop challenges\n"
   ]
  },
  {
   "cell_type": "markdown",
   "id": "71ee7dd5",
   "metadata": {
    "id": "71ee7dd5"
   },
   "source": [
    "## Q1. Print 1…N\n",
    "\n",
    "Given `n>0`, print numbers from 1 to n in one line separated by spaces using a `for` loop.\n",
    "\n",
    "**Sample Input**\n",
    "```python\n",
    "n = 5\n",
    "```\n",
    "**Expected Output**\n",
    "```\n",
    "1 2 3 4 5\n",
    "```"
   ]
  },
  {
   "cell_type": "code",
   "execution_count": 10,
   "id": "6dfe0c5f",
   "metadata": {
    "id": "6dfe0c5f"
   },
   "outputs": [
    {
     "name": "stdout",
     "output_type": "stream",
     "text": [
      "1 2 3 4 5 "
     ]
    },
    {
     "data": {
      "text/plain": [
       "[1, 2, 3, 4, 5]"
      ]
     },
     "execution_count": 10,
     "metadata": {},
     "output_type": "execute_result"
    }
   ],
   "source": [
    "# Write your code here\n",
    "for i in range(1,6):\n",
    "    print(i ,end= \" \")\n",
    "\n",
    "[ i  for i in range(1,6)]\n"
   ]
  },
  {
   "cell_type": "markdown",
   "id": "4fc802b6",
   "metadata": {
    "id": "4fc802b6"
   },
   "source": [
    "## Q2. Sum 1…N (no sum())\n",
    "\n",
    "Print the sum of integers from 1 to `n` using a loop only.\n",
    "\n",
    "**Sample Input**\n",
    "```python\n",
    "n = 6\n",
    "```\n",
    "**Expected Output**\n",
    "```\n",
    "21\n",
    "```"
   ]
  },
  {
   "cell_type": "code",
   "execution_count": 148,
   "id": "a5224c50",
   "metadata": {
    "id": "a5224c50"
   },
   "outputs": [
    {
     "name": "stdout",
     "output_type": "stream",
     "text": [
      "21\n"
     ]
    }
   ],
   "source": [
    "# Write your code here\n",
    "n = 6\n",
    "sum1 =0\n",
    "for i in range(1 , n+1):\n",
    "    sum1 = sum1 + i\n",
    "print(sum1)\n",
    "# [sum1 for i  in range(1,7) sum1 +=i]"
   ]
  },
  {
   "cell_type": "markdown",
   "id": "1f22bd49",
   "metadata": {
    "id": "1f22bd49"
   },
   "source": [
    "## Q3. Count vowels in a string\n",
    "\n",
    "Count vowels `a,e,i,o,u` (case-insensitive) in a string using a loop and print the count.\n",
    "\n",
    "**Sample Input**\n",
    "```python\n",
    "s = 'Hello World'\n",
    "```\n",
    "**Expected Output**\n",
    "```\n",
    "3\n",
    "```"
   ]
  },
  {
   "cell_type": "code",
   "execution_count": 23,
   "id": "1d5c24fb",
   "metadata": {
    "id": "1d5c24fb"
   },
   "outputs": [
    {
     "name": "stdout",
     "output_type": "stream",
     "text": [
      "3\n"
     ]
    }
   ],
   "source": [
    "# Write your code here\n",
    "s = \"Hello World\"\n",
    "vowels = [\"a\",\"e\",\"i\",\"o\",\"u\"]\n",
    "count = 0\n",
    "for i in s:\n",
    "    if  i.lower() in vowels:\n",
    "        count +=1\n",
    "print(count)"
   ]
  },
  {
   "cell_type": "markdown",
   "id": "8b589e1a",
   "metadata": {
    "id": "8b589e1a"
   },
   "source": [
    "## Q4. Reverse a string (no slicing/reversed)\n",
    "\n",
    "Print the reverse of `s` by iterating over characters.\n",
    "\n",
    "**Sample Input**\n",
    "```python\n",
    "s = 'python'\n",
    "```\n",
    "**Expected Output**\n",
    "```\n",
    "nohtyp\n",
    "```"
   ]
  },
  {
   "cell_type": "code",
   "execution_count": null,
   "id": "54f4f3e8",
   "metadata": {
    "id": "54f4f3e8"
   },
   "outputs": [
    {
     "name": "stdout",
     "output_type": "stream",
     "text": [
      "nohtyp\n"
     ]
    }
   ],
   "source": [
    "# Write your code here\n",
    "s =\"python\"\n",
    "\n",
    "reverse =\"\"\n",
    "\n",
    "for i in s:\n",
    "    reverse = i + reverse\n",
    "\n",
    "print(reverse)\n",
    "\n"
   ]
  },
  {
   "cell_type": "markdown",
   "id": "6d5b4880",
   "metadata": {
    "id": "6d5b4880"
   },
   "source": [
    "## Q5. Find minimum (no min())\n",
    "\n",
    "Find and print the minimum element of a list using a loop.\n",
    "\n",
    "**Sample Input**\n",
    "```python\n",
    "nums = [4, 2, 9, -1, 5]\n",
    "```\n",
    "**Expected Output**\n",
    "```\n",
    "-1\n",
    "```"
   ]
  },
  {
   "cell_type": "code",
   "execution_count": 48,
   "id": "1b632b10",
   "metadata": {
    "id": "1b632b10"
   },
   "outputs": [
    {
     "name": "stdout",
     "output_type": "stream",
     "text": [
      "-1\n"
     ]
    }
   ],
   "source": [
    "# Write your code here\n",
    "min = float(\"inf\")\n",
    "nums = [4, 2, 9, -1, 5]\n",
    "for i in nums:\n",
    "    if i < min:\n",
    "        min = i\n",
    "print(min)"
   ]
  },
  {
   "cell_type": "markdown",
   "id": "d6a5afd7",
   "metadata": {
    "id": "d6a5afd7"
   },
   "source": [
    "## Q6. Count evens (use continue)\n",
    "\n",
    "Count how many numbers in a list are even using `continue`.\n",
    "\n",
    "**Sample Input**\n",
    "```python\n",
    "nums = [3, 6, 7, 10, 12, 15]\n",
    "```\n",
    "**Expected Output**\n",
    "```\n",
    "3\n",
    "```"
   ]
  },
  {
   "cell_type": "code",
   "execution_count": 35,
   "id": "fda48947",
   "metadata": {
    "id": "fda48947"
   },
   "outputs": [
    {
     "name": "stdout",
     "output_type": "stream",
     "text": [
      "3\n"
     ]
    }
   ],
   "source": [
    "# Write your code here\n",
    "nums = [3, 6, 7, 10, 12, 15]\n",
    "count =0\n",
    "\n",
    "for i in nums:\n",
    "    if i %2 != 0:\n",
    "        continue\n",
    "    count +=1\n",
    "print(count)\n",
    "    \n"
   ]
  },
  {
   "cell_type": "markdown",
   "id": "e717ab3b",
   "metadata": {
    "id": "e717ab3b"
   },
   "source": [
    "## Q7. Times table for N\n",
    "\n",
    "Print the multiplication table for N from 1 to 10. One line per product.\n",
    "\n",
    "**Sample Input**\n",
    "```python\n",
    "N = 3\n",
    "```\n",
    "**Expected Output**\n",
    "```\n",
    "3 x 1 = 3\n",
    "3 x 2 = 6\n",
    "3 x 3 = 9\n",
    "3 x 4 = 12\n",
    "3 x 5 = 15\n",
    "3 x 6 = 18\n",
    "3 x 7 = 21\n",
    "3 x 8 = 24\n",
    "3 x 9 = 27\n",
    "3 x 10 = 30\n",
    "```"
   ]
  },
  {
   "cell_type": "code",
   "execution_count": 45,
   "id": "28bc64bd",
   "metadata": {
    "id": "28bc64bd"
   },
   "outputs": [
    {
     "name": "stdout",
     "output_type": "stream",
     "text": [
      "10 X 1 = 10\n",
      "10 X 2 = 20\n",
      "10 X 3 = 30\n",
      "10 X 4 = 40\n",
      "10 X 5 = 50\n",
      "10 X 6 = 60\n",
      "10 X 7 = 70\n",
      "10 X 8 = 80\n",
      "10 X 9 = 90\n",
      "10 X 10 = 100\n",
      "['10 X 1 = 10', '10 X 2 = 20', '10 X 3 = 30', '10 X 4 = 40', '10 X 5 = 50', '10 X 6 = 60', '10 X 7 = 70', '10 X 8 = 80', '10 X 9 = 90', '10 X 10 = 100']\n"
     ]
    }
   ],
   "source": [
    "# Write your code here\n",
    "n = 10\n",
    "\n",
    "for i in range(1,11):\n",
    "    print(f\"{n} X {i} = {n*i}\")\n",
    "\n",
    "print([f\"{n} X {i} = {n*i}\" for i in range(1,11)])"
   ]
  },
  {
   "cell_type": "markdown",
   "id": "30f937ad",
   "metadata": {
    "id": "30f937ad"
   },
   "source": [
    "## Q8. Factorial with while\n",
    "\n",
    "Compute `n!` using a `while` loop.\n",
    "\n",
    "**Sample Input**\n",
    "```python\n",
    "n = 5\n",
    "```\n",
    "**Expected Output**\n",
    "```\n",
    "120\n",
    "```"
   ]
  },
  {
   "cell_type": "code",
   "execution_count": 37,
   "id": "5f09eacf",
   "metadata": {
    "id": "5f09eacf"
   },
   "outputs": [
    {
     "name": "stdout",
     "output_type": "stream",
     "text": [
      "120\n"
     ]
    }
   ],
   "source": [
    "# Write your code here\n",
    "n = 1\n",
    "i = 1\n",
    "while  i<=5:\n",
    "    n = n*i\n",
    "    i+=1\n",
    "print(n)"
   ]
  },
  {
   "cell_type": "markdown",
   "id": "19203d07",
   "metadata": {
    "id": "19203d07"
   },
   "source": [
    "## Q9. Sum of digits\n",
    "\n",
    "Find and print the sum of digits of a non-negative integer.\n",
    "\n",
    "**Sample Input**\n",
    "```python\n",
    "n = 90721\n",
    "```\n",
    "**Expected Output**\n",
    "```\n",
    "19\n",
    "```"
   ]
  },
  {
   "cell_type": "code",
   "execution_count": 149,
   "id": "634cefdc",
   "metadata": {
    "id": "634cefdc"
   },
   "outputs": [
    {
     "name": "stdout",
     "output_type": "stream",
     "text": [
      "19\n"
     ]
    }
   ],
   "source": [
    "# Write your code here\n",
    "n = 90721\n",
    "sum2 = 0\n",
    "while n> 0:\n",
    "   sum2 += n%10\n",
    "   n = n//10\n",
    "print(sum2)"
   ]
  },
  {
   "cell_type": "markdown",
   "id": "0bcf8aed",
   "metadata": {
    "id": "0bcf8aed"
   },
   "source": [
    "## Q10. First N Fibonacci (iterative)\n",
    "\n",
    "Print the first `n` Fibonacci numbers on one line separated by spaces (starting 0, 1).\n",
    "\n",
    "**Sample Input**\n",
    "```python\n",
    "n = 7\n",
    "```\n",
    "**Expected Output**\n",
    "```\n",
    "0 1 1 2 3 5 8\n",
    "```"
   ]
  },
  {
   "cell_type": "code",
   "execution_count": 56,
   "id": "df05a25f",
   "metadata": {
    "id": "df05a25f"
   },
   "outputs": [
    {
     "name": "stdout",
     "output_type": "stream",
     "text": [
      "[0, 1, 1, 2, 3, 5, 8, 13]\n",
      "[0, 1, 1, 2, 3, 5, 8, 13]\n"
     ]
    }
   ],
   "source": [
    "# Write your code here\n",
    "n = 7\n",
    "fib = [0,1]\n",
    "for i in range(n-1):\n",
    "\n",
    "    fib.append(fib[i]+fib[i+1])\n",
    "print(fib)\n",
    "[ fib[i]+fib[i+1] for i in range(n) ]\n",
    "print(fib)"
   ]
  },
  {
   "cell_type": "markdown",
   "id": "d86fdbc2",
   "metadata": {
    "id": "d86fdbc2"
   },
   "source": [
    "## Q11. First index (use for…else)\n",
    "\n",
    "Find and print the **index** of target in list using `for…else` or print `-1` if not found.\n",
    "\n",
    "**Sample Input**\n",
    "```python\n",
    "nums = [10, 20, 30, 20]; target = 20\n",
    "```\n",
    "**Expected Output**\n",
    "```\n",
    "1\n",
    "```"
   ]
  },
  {
   "cell_type": "code",
   "execution_count": null,
   "id": "f7704d8b",
   "metadata": {
    "id": "f7704d8b"
   },
   "outputs": [
    {
     "name": "stdout",
     "output_type": "stream",
     "text": [
      "1\n"
     ]
    },
    {
     "data": {
      "text/plain": [
       "[1, 3]"
      ]
     },
     "execution_count": 60,
     "metadata": {},
     "output_type": "execute_result"
    }
   ],
   "source": [
    "# Write your code here\n",
    "nums = [10, 20, 30, 20]\n",
    "target = 20\n",
    " \n",
    "for idx,i in enumerate(nums):\n",
    "    if target == i:\n",
    "        print(idx)\n",
    "        break\n",
    "else:\n",
    "    print(-1)\n",
    "\n",
    "[idx for idx,i in enumerate(nums) if target==i]"
   ]
  },
  {
   "cell_type": "markdown",
   "id": "76d02144",
   "metadata": {
    "id": "76d02144"
   },
   "source": [
    "## Q12. Manual word count (no split)\n",
    "\n",
    "Count and print words in a string without using `.split()` (words separated by one or more spaces).\n",
    "\n",
    "**Sample Input**\n",
    "```python\n",
    "s = '  Data   Science   with  Python  '\n",
    "```\n",
    "**Expected Output**\n",
    "```\n",
    "4\n",
    "```"
   ]
  },
  {
   "cell_type": "code",
   "execution_count": null,
   "id": "373985ba",
   "metadata": {
    "id": "373985ba"
   },
   "outputs": [
    {
     "name": "stdout",
     "output_type": "stream",
     "text": [
      "4\n"
     ]
    }
   ],
   "source": [
    "# Write your code here\n",
    "s = '  Data   Science   with  Python  '\n",
    "in_word = False\n",
    "count = 0\n",
    "for ch in s:\n",
    "    if ch != ' ' and not in_word:\n",
    "        count += 1\n",
    "        in_word = True\n",
    "    elif ch == ' ':\n",
    "        in_word = False\n",
    "\n",
    "print(count)"
   ]
  },
  {
   "cell_type": "markdown",
   "id": "1620475b",
   "metadata": {
    "id": "1620475b"
   },
   "source": [
    "## Q13. Stop when sum exceeds T (use break)\n",
    "\n",
    "Accumulate numbers until sum would exceed T, then stop. Print final sum and last number added.\n",
    "\n",
    "**Sample Input**\n",
    "```python\n",
    "nums = [5, 11, 14, 7]; T = 20\n",
    "```\n",
    "**Expected Output**\n",
    "```\n",
    "20 14\n",
    "```"
   ]
  },
  {
   "cell_type": "code",
   "execution_count": 151,
   "id": "7949cee4",
   "metadata": {
    "id": "7949cee4"
   },
   "outputs": [
    {
     "name": "stdout",
     "output_type": "stream",
     "text": [
      "10 4\n"
     ]
    }
   ],
   "source": [
    "# Write your code here\n",
    "nums = [5, 11, 14, 7,44]\n",
    "T = 20\n",
    "sum3 = 0\n",
    "last = None\n",
    "for  i,idx in enumerate(nums):\n",
    "    sum3 += i\n",
    "    if sum3 >= T:\n",
    "        last = idx\n",
    "        break\n",
    "print(sum3,i)\n"
   ]
  },
  {
   "cell_type": "markdown",
   "id": "bd18397f",
   "metadata": {
    "id": "bd18397f"
   },
   "source": [
    "## Q14. First prime in list (use for…else)\n",
    "\n",
    "Find and print the first prime number in list or `None` if none found.\n",
    "\n",
    "**Sample Input**\n",
    "```python\n",
    "nums = [1, 8, 12, 15, 17, 21]\n",
    "```\n",
    "**Expected Output**\n",
    "```\n",
    "17\n",
    "```"
   ]
  },
  {
   "cell_type": "code",
   "execution_count": 97,
   "id": "d72645b6",
   "metadata": {
    "id": "d72645b6"
   },
   "outputs": [
    {
     "name": "stdout",
     "output_type": "stream",
     "text": [
      "17\n"
     ]
    }
   ],
   "source": [
    "# Write your code here\n",
    "nums = [1, 8, 12, 15, 17, 21]\n",
    "\n",
    "last = 0\n",
    "\n",
    "for i in nums:\n",
    "    for j in range(2,i//2):\n",
    "        if i % j == 0:\n",
    "           break\n",
    "    else:\n",
    "        last = i\n",
    "else:\n",
    "    print(last)\n",
    "\n",
    "\n",
    "\n"
   ]
  },
  {
   "cell_type": "markdown",
   "id": "f67c39c9",
   "metadata": {
    "id": "f67c39c9"
   },
   "source": [
    "## Q15. Skip digits (use continue)\n",
    "\n",
    "Remove digits from a string and print the result.\n",
    "\n",
    "**Sample Input**\n",
    "```python\n",
    "s = 'a1b2c3x9y'\n",
    "```\n",
    "**Expected Output**\n",
    "```\n",
    "abcxy\n",
    "```"
   ]
  },
  {
   "cell_type": "code",
   "execution_count": 101,
   "id": "04d91fad",
   "metadata": {
    "id": "04d91fad"
   },
   "outputs": [
    {
     "name": "stdout",
     "output_type": "stream",
     "text": [
      "abcxy\n"
     ]
    }
   ],
   "source": [
    "# Write your code here\n",
    "s = 'a1b2c3x9y'\n",
    "str1 = \"\"\n",
    "for i in s:\n",
    "    if i.isdigit():\n",
    "        continue\n",
    "    else:\n",
    "        str1 = str1 + i\n",
    "\n",
    "print(str1)\n"
   ]
  },
  {
   "cell_type": "markdown",
   "id": "1c6559ed",
   "metadata": {
    "id": "1c6559ed"
   },
   "source": [
    "## Q16. First repeated element\n",
    "\n",
    "Find the **index of the second occurrence** of the first repeating element and print it; otherwise `-1`.\n",
    "\n",
    "**Sample Input**\n",
    "```python\n",
    "nums = [4, 2, 9, 2, 4, 2]\n",
    "```\n",
    "**Expected Output**\n",
    "```\n",
    "3\n",
    "```"
   ]
  },
  {
   "cell_type": "code",
   "execution_count": 103,
   "id": "8da81e1a",
   "metadata": {
    "id": "8da81e1a"
   },
   "outputs": [
    {
     "name": "stdout",
     "output_type": "stream",
     "text": [
      "3\n"
     ]
    }
   ],
   "source": [
    "# Write your code here\n",
    "\n",
    "nums = [4, 2, 9, 2, 4, 2]\n",
    "sets = set()\n",
    "\n",
    "for idx,i in enumerate(nums):\n",
    "    if i in sets:\n",
    "        print(idx)\n",
    "        break\n",
    "    else:\n",
    "        sets.add(i)\n",
    "\n"
   ]
  },
  {
   "cell_type": "markdown",
   "id": "9ac40a60",
   "metadata": {
    "id": "9ac40a60"
   },
   "source": [
    "## Q17. Password attempts (while + break/else)\n",
    "\n",
    "Given correct password and attempts list, print attempt number (1-based) when it succeeds, else `-1`.\n",
    "\n",
    "**Sample Input**\n",
    "```python\n",
    "correct = 'open-sesame'; attempts = ['test', 'nope', 'open-sesame', 'later']\n",
    "```\n",
    "**Expected Output**\n",
    "```\n",
    "3\n",
    "```"
   ]
  },
  {
   "cell_type": "code",
   "execution_count": 108,
   "id": "0bda14df",
   "metadata": {
    "id": "0bda14df"
   },
   "outputs": [
    {
     "name": "stdout",
     "output_type": "stream",
     "text": [
      "4\n"
     ]
    }
   ],
   "source": [
    "# Write your code here\n",
    "correct = 'open-sesame'; attempts = ['test', 'nope',\"sdadsads\", 'open-sesame', 'later']\n",
    "\n",
    "# for idx, i in enumerate(attempts):\n",
    "#     if i == correct:\n",
    "#         print(idx+1)\n",
    "#         break\n",
    "# else:\n",
    "#     print(-1)\n",
    "\n",
    "a = 0\n",
    "\n",
    "while a < len(attempts):\n",
    "     if attempts[a] == correct:\n",
    "        print(a+1)\n",
    "        break\n",
    "     else:\n",
    "         a += 1\n",
    "else:\n",
    "    print(-1)"
   ]
  },
  {
   "cell_type": "markdown",
   "id": "5da5577f",
   "metadata": {
    "id": "5da5577f"
   },
   "source": [
    "## Q18. Remove consecutive duplicates\n",
    "\n",
    "Print list without consecutive duplicates.\n",
    "\n",
    "**Sample Input**\n",
    "```python\n",
    "nums = [1,1,2,2,2,3,2,2,4]\n",
    "```\n",
    "**Expected Output**\n",
    "```\n",
    "[1, 2, 3, 2, 4]\n",
    "```"
   ]
  },
  {
   "cell_type": "code",
   "execution_count": 112,
   "id": "f6ef33ff",
   "metadata": {
    "id": "f6ef33ff"
   },
   "outputs": [
    {
     "name": "stdout",
     "output_type": "stream",
     "text": [
      "[1, 2, 3, 2, 4]\n"
     ]
    }
   ],
   "source": [
    "# Write your code here\n",
    "nums = [1,1,2,2,2,3,2,2,4]\n",
    "list1 = []\n",
    "prev = None\n",
    "\n",
    "for i in nums:\n",
    "    if i == prev :\n",
    "        continue\n",
    "    else:\n",
    "        list1.append(i)\n",
    "        prev = i\n",
    "print(list1)"
   ]
  },
  {
   "cell_type": "markdown",
   "id": "22edbdf3",
   "metadata": {
    "id": "22edbdf3"
   },
   "source": [
    "## Q19. Unique char count (no set)\n",
    "\n",
    "Count and print unique characters in string without using set.\n",
    "\n",
    "**Sample Input**\n",
    "```python\n",
    "s = 'mississippi'\n",
    "```\n",
    "**Expected Output**\n",
    "```\n",
    "4\n",
    "```"
   ]
  },
  {
   "cell_type": "code",
   "execution_count": 115,
   "id": "032b5d91",
   "metadata": {
    "id": "032b5d91"
   },
   "outputs": [
    {
     "name": "stdout",
     "output_type": "stream",
     "text": [
      "4 misp\n"
     ]
    }
   ],
   "source": [
    "# Write your code here\n",
    "s = 'mississippi'\n",
    "count = 0\n",
    "str1 = \"\"\n",
    "for i in s:\n",
    "    if i not in str1:\n",
    "       str1 += i\n",
    "       count += 1\n",
    "    else:\n",
    "        continue\n",
    "print(count, str1)"
   ]
  },
  {
   "cell_type": "markdown",
   "id": "d2c609bf",
   "metadata": {
    "id": "d2c609bf"
   },
   "source": [
    "## Q20. Words starting with vowel (use continue)\n",
    "\n",
    "Count how many words start with a vowel (a,e,i,o,u).\n",
    "\n",
    "**Sample Input**\n",
    "```python\n",
    "s = 'apple egg ball orange ink up cat'\n",
    "```\n",
    "**Expected Output**\n",
    "```\n",
    "6\n",
    "```"
   ]
  },
  {
   "cell_type": "code",
   "execution_count": 120,
   "id": "15361cb1",
   "metadata": {
    "id": "15361cb1"
   },
   "outputs": [
    {
     "name": "stdout",
     "output_type": "stream",
     "text": [
      "5\n"
     ]
    }
   ],
   "source": [
    "# Write your code here\n",
    "s = 'apple egg ball orange ink up cat'\n",
    "vowels = 'aeiou'\n",
    "count = 0\n",
    "\n",
    "for word in s.split():\n",
    "    if word[0].lower() not in vowels:\n",
    "        continue\n",
    "    count += 1\n",
    "\n",
    "print(count)\n"
   ]
  },
  {
   "cell_type": "markdown",
   "id": "8e09d581",
   "metadata": {
    "id": "8e09d581"
   },
   "source": [
    "## Q21. Dot product (no sum/zip)\n",
    "\n",
    "Compute dot product of two equal-length lists using a loop.\n",
    "\n",
    "**Sample Input**\n",
    "```python\n",
    "a = [1, 3, -2]; b = [4, 0, -1]\n",
    "```\n",
    "**Expected Output**\n",
    "```\n",
    "6\n",
    "```"
   ]
  },
  {
   "cell_type": "code",
   "execution_count": 123,
   "id": "f47bf496",
   "metadata": {
    "id": "f47bf496"
   },
   "outputs": [
    {
     "name": "stdout",
     "output_type": "stream",
     "text": [
      "6\n"
     ]
    }
   ],
   "source": [
    "# Write your code here\n",
    "a = [1, 3, -2]; b = [4, 0, -1]\n",
    "sum = 0\n",
    "for i in range(len(a)):\n",
    "     sum += a[i]*b[i]\n",
    "\n",
    "print(sum)"
   ]
  },
  {
   "cell_type": "markdown",
   "id": "700385d8",
   "metadata": {
    "id": "700385d8"
   },
   "source": [
    "## Q22. Stop on first negative (use break)\n",
    "\n",
    "Print numbers from the start until the first negative number appears (exclude the negative).\n",
    "\n",
    "**Sample Input**\n",
    "```python\n",
    "nums = [2, 5, 7, -3, 9]\n",
    "```\n",
    "**Expected Output**\n",
    "```\n",
    "2 5 7\n",
    "```"
   ]
  },
  {
   "cell_type": "code",
   "execution_count": 3,
   "id": "ba7e5d96",
   "metadata": {
    "id": "ba7e5d96"
   },
   "outputs": [
    {
     "name": "stdout",
     "output_type": "stream",
     "text": [
      "2 5 7 "
     ]
    }
   ],
   "source": [
    "# Write your code here\n",
    "nums = [2, 5, 7, -3, 9]\n",
    "for i in nums:\n",
    "    if i < 0 :\n",
    "        break\n",
    "    else: \n",
    "        print(i, end=\" \")"
   ]
  },
  {
   "cell_type": "markdown",
   "id": "f4942730",
   "metadata": {
    "id": "f4942730"
   },
   "source": [
    "## Q23. Square dict values\n",
    "\n",
    "Given a dict with int values, print a new dict with squared values.\n",
    "\n",
    "**Sample Input**\n",
    "```python\n",
    "d = {'a': 2, 'b': -3, 'c': 0}\n",
    "```\n",
    "**Expected Output**\n",
    "```\n",
    "{'a': 4, 'b': 9, 'c': 0}\n",
    "```"
   ]
  },
  {
   "cell_type": "code",
   "execution_count": 22,
   "id": "7b3b1987",
   "metadata": {
    "id": "7b3b1987"
   },
   "outputs": [
    {
     "name": "stdout",
     "output_type": "stream",
     "text": [
      "{'a': 4, 'b': 9, 'c': 0}\n",
      "{'a': 4, 'b': 9, 'c': 0}\n"
     ]
    }
   ],
   "source": [
    "# Write your code here\n",
    "d = {'a': 2, 'b': -3, 'c': 0}\n",
    "new = {}\n",
    "for k,i in d.items():\n",
    "    new[k] = i**2\n",
    "\n",
    "print(new)\n",
    " \n",
    "new = {k:i**2 for k,i in d.items()} \n",
    "print(new)\n"
   ]
  },
  {
   "cell_type": "markdown",
   "id": "d0eb3444",
   "metadata": {
    "id": "d0eb3444"
   },
   "source": [
    "## Q24. Row sums of a matrix\n",
    "\n",
    "Given a 2D list (matrix), print the sum of each row (one number per line).\n",
    "\n",
    "**Sample Input**\n",
    "```python\n",
    "matrix = [[1,2,3],[4,5,6],[7,8,9]]\n",
    "```\n",
    "**Expected Output**\n",
    "```\n",
    "6\n",
    "15\n",
    "24\n",
    "```"
   ]
  },
  {
   "cell_type": "code",
   "execution_count": 28,
   "id": "ff8479f6",
   "metadata": {
    "id": "ff8479f6"
   },
   "outputs": [
    {
     "name": "stdout",
     "output_type": "stream",
     "text": [
      "6\n",
      "15\n",
      "24\n"
     ]
    }
   ],
   "source": [
    "matrix = [[1,2,3],[4,5,6],[7,8,9]]\n",
    "# Write your code here\n",
    "\n",
    "for r in matrix:\n",
    "    sum =0\n",
    "    for c in r:\n",
    "        sum +=c\n",
    "    print(sum)"
   ]
  },
  {
   "cell_type": "markdown",
   "id": "498db416",
   "metadata": {
    "id": "498db416"
   },
   "source": [
    "## Q25. Right triangle of stars\n",
    "\n",
    "Given height `h`, print a right triangle (row i has i stars).\n",
    "\n",
    "**Sample Input**\n",
    "```python\n",
    "h = 4\n",
    "```\n",
    "**Expected Output**\n",
    "```\n",
    "*\n",
    "**\n",
    "***\n",
    "****\n",
    "```"
   ]
  },
  {
   "cell_type": "code",
   "execution_count": null,
   "id": "38b1e5f4",
   "metadata": {
    "id": "38b1e5f4"
   },
   "outputs": [
    {
     "name": "stdout",
     "output_type": "stream",
     "text": [
      "*\n",
      "**\n",
      "***\n",
      "****\n"
     ]
    }
   ],
   "source": [
    "# Write your code here\n",
    "n = 4\n",
    "for i in range(1,n+1):\n",
    "    print(\"*\"*i)\n",
    "    "
   ]
  },
  {
   "cell_type": "markdown",
   "id": "a0bf9ff9",
   "metadata": {
    "id": "a0bf9ff9"
   },
   "source": [
    "## Q26. Multiplication grid\n",
    "\n",
    "Given `n`, print an `n×n` multiplication table (rows on separate lines, values space-separated).\n",
    "\n",
    "**Sample Input**\n",
    "```python\n",
    "n = 3\n",
    "```\n",
    "**Expected Output**\n",
    "```\n",
    "1 2 3\n",
    "2 4 6\n",
    "3 6 9\n",
    "```"
   ]
  },
  {
   "cell_type": "code",
   "execution_count": 91,
   "id": "11c61017",
   "metadata": {
    "id": "11c61017"
   },
   "outputs": [
    {
     "name": "stdout",
     "output_type": "stream",
     "text": [
      "1 2 3 4 5 \n",
      "2 4 6 8 10 \n",
      "3 6 9 12 15 \n",
      "4 8 12 16 20 \n",
      "5 10 15 20 25 \n",
      "[[1, 2, 3, 4, 5], [2, 4, 6, 8, 10], [3, 6, 9, 12, 15], [4, 8, 12, 16, 20], [5, 10, 15, 20, 25]]\n"
     ]
    }
   ],
   "source": [
    "# Write your code here\n",
    "n= 5\n",
    "for i in range(1,n+1):\n",
    "    for j in range(1,n+1):\n",
    "        print(i*j, end=\" \")\n",
    "    print(\"\")   \n",
    "\n",
    "print([[i*j for i in range(1,n+1)] for j in range(1,n+1) ])"
   ]
  },
  {
   "cell_type": "markdown",
   "id": "7ad56df9",
   "metadata": {
    "id": "7ad56df9"
   },
   "source": [
    "## Q27. Transpose a matrix (no zip)\n",
    "\n",
    "Print the transpose of a 2D list.\n",
    "\n",
    "**Sample Input**\n",
    "```python\n",
    "m = [[1,2,3],[4,5,6]]\n",
    "```\n",
    "**Expected Output**\n",
    "```\n",
    "1 4\n",
    "2 5\n",
    "3 6\n",
    "```"
   ]
  },
  {
   "cell_type": "code",
   "execution_count": 89,
   "id": "ccb28cd9",
   "metadata": {
    "id": "ccb28cd9"
   },
   "outputs": [
    {
     "name": "stdout",
     "output_type": "stream",
     "text": [
      "1 4  \n",
      "2 5  \n",
      "3 6  \n",
      "[[1, 4], [2, 5], [3, 6]]\n"
     ]
    }
   ],
   "source": [
    "# Write your code here\n",
    "m = [[1,2,3],[4,5,6]]\n",
    "row =len(m)\n",
    "col = len(m[0])\n",
    "for j in range(col):\n",
    "    for i in range(row):\n",
    "        print(m[i][j],end =\" \")\n",
    "    print(\" \")\n",
    "    \n",
    "print([[m[i][j] for i in range(row)] for j in range(col) ])\n"
   ]
  },
  {
   "cell_type": "markdown",
   "id": "2a0cf5d4",
   "metadata": {
    "id": "2a0cf5d4"
   },
   "source": [
    "## Q28. Count pairs summing to K\n",
    "\n",
    "Count pairs `(i,j)` with `i<j` where `nums[i]+nums[j]==K` using nested loops.\n",
    "\n",
    "**Sample Input**\n",
    "```python\n",
    "nums = [1, 5, 7, -1, 5]; K = 6\n",
    "```\n",
    "**Expected Output**\n",
    "```\n",
    "3\n",
    "```"
   ]
  },
  {
   "cell_type": "code",
   "execution_count": 86,
   "id": "4699feba",
   "metadata": {
    "id": "4699feba"
   },
   "outputs": [
    {
     "name": "stdout",
     "output_type": "stream",
     "text": [
      "3\n"
     ]
    },
    {
     "data": {
      "text/plain": [
       "3"
      ]
     },
     "execution_count": 86,
     "metadata": {},
     "output_type": "execute_result"
    }
   ],
   "source": [
    "# Write your code here\n",
    "nums = [1, 5, 7, -1, 5]\n",
    "K = 6\n",
    "count = 0\n",
    "for i in range(len(nums)):\n",
    "    for j in  range(i + 1,len(nums)):\n",
    "        if nums[i] + nums[j] == K:\n",
    "            count += 1\n",
    "\n",
    "print(count)\n",
    "counts = [(i,j) for i in range(len(nums)) for j in  range(i + 1,len(nums)) if nums[i] + nums[j] == K ]\n",
    "\n",
    "len(counts)"
   ]
  },
  {
   "cell_type": "markdown",
   "id": "8725b1e8",
   "metadata": {
    "id": "8725b1e8"
   },
   "source": [
    "## Q29. All substrings of a string\n",
    "\n",
    "Print all substrings of `s` (one per line) using nested loops.\n",
    "\n",
    "**Sample Input**\n",
    "```python\n",
    "s = 'abc'\n",
    "```\n",
    "**Expected Output**\n",
    "```\n",
    "a\n",
    "ab\n",
    "abc\n",
    "b\n",
    "bc\n",
    "c\n",
    "```"
   ]
  },
  {
   "cell_type": "code",
   "execution_count": 5,
   "id": "3ecc0a79",
   "metadata": {
    "id": "3ecc0a79"
   },
   "outputs": [
    {
     "name": "stdout",
     "output_type": "stream",
     "text": [
      "a\n",
      "ab\n",
      "abc\n",
      "b\n",
      "bc\n",
      "c\n"
     ]
    }
   ],
   "source": [
    "# Write your code here\n",
    "s=\"abc\"\n",
    "\n",
    "for i in range(len(s)):\n",
    "    for j in range(i + 1, len(s) + 1):\n",
    "        print(s[i:j])"
   ]
  },
  {
   "cell_type": "markdown",
   "id": "61b4f419",
   "metadata": {
    "id": "61b4f419"
   },
   "source": [
    "## Q30. Primes up to N (for…else inner)\n",
    "\n",
    "Print all primes `≤ N` separated by spaces.\n",
    "\n",
    "**Sample Input**\n",
    "```python\n",
    "N = 15\n",
    "```\n",
    "**Expected Output**\n",
    "```\n",
    "2 3 5 7 11 13\n",
    "```"
   ]
  },
  {
   "cell_type": "code",
   "execution_count": 29,
   "id": "06dc852b",
   "metadata": {
    "id": "06dc852b"
   },
   "outputs": [
    {
     "name": "stdout",
     "output_type": "stream",
     "text": [
      "2 3 5 7 11 13 "
     ]
    }
   ],
   "source": [
    "# Write your code here\n",
    "N =15\n",
    "\n",
    "for i in range(2,N+1):\n",
    "    for j in range(2, int(i**0.5)+1):\n",
    "        if i % j == 0:\n",
    "            break\n",
    "    else:\n",
    "        print(i, end=\" \")\n",
    "\n"
   ]
  },
  {
   "cell_type": "markdown",
   "id": "677866e3",
   "metadata": {
    "id": "677866e3"
   },
   "source": [
    "## Q31. Matrix symmetry check\n",
    "\n",
    "Print `True` if a square matrix is symmetric, else `False`.\n",
    "\n",
    "**Sample Input**\n",
    "```python\n",
    "m = [[1,2,3],[2,5,6],[3,6,9]]\n",
    "```\n",
    "**Expected Output**\n",
    "```\n",
    "True\n",
    "```"
   ]
  },
  {
   "cell_type": "code",
   "execution_count": 56,
   "id": "af2b5ed4",
   "metadata": {
    "id": "af2b5ed4"
   },
   "outputs": [
    {
     "name": "stdout",
     "output_type": "stream",
     "text": [
      "True\n"
     ]
    }
   ],
   "source": [
    "# Write your code here\n",
    "m = [[1,2,3],[2,5,2,4],[3,6,9]]\n",
    "n = len(m)\n",
    "sym = True\n",
    "for i in range(n):\n",
    "    for j in range(n):\n",
    "        if m[i][j] != m[j][i]:\n",
    "            sym = False\n",
    "            break\n",
    "\n",
    "print(True)\n"
   ]
  },
  {
   "cell_type": "markdown",
   "id": "a2559e7b",
   "metadata": {
    "id": "a2559e7b"
   },
   "source": [
    "## Q32. Merge two sorted lists (while)\n",
    "\n",
    "Merge two sorted lists into one sorted list and print it.\n",
    "\n",
    "**Sample Input**\n",
    "```python\n",
    "a = [1,4,7]; b = [2,3,6,8]\n",
    "```\n",
    "**Expected Output**\n",
    "```\n",
    "[1, 2, 3, 4, 6, 7, 8]\n",
    "```"
   ]
  },
  {
   "cell_type": "code",
   "execution_count": null,
   "id": "d853c057",
   "metadata": {
    "id": "d853c057"
   },
   "outputs": [
    {
     "name": "stdout",
     "output_type": "stream",
     "text": [
      "[1, 4, 7, 2, 3, 6, 8]\n"
     ]
    }
   ],
   "source": [
    "# Write your code here\n",
    "a = [1,4,7]; b = [2,3,6,8]\n",
    "i=0\n",
    "j=0\n",
    "sorted_list = []\n",
    "\n",
    "while(i < len(a) and j < len(b)):\n",
    "    if a[i] < b[j]:\n",
    "        sorted_list.append(a[i])\n",
    "        i+=1\n",
    "    else:\n",
    "        sorted_list.append(b[j])\n",
    "        j+=1\n",
    "sorted_list.extend(a[i:])\n",
    "sorted_list.extend(b[j:])\n",
    "print(sorted_list)\n",
    "\n"
   ]
  },
  {
   "cell_type": "markdown",
   "id": "db6f7932",
   "metadata": {
    "id": "db6f7932"
   },
   "source": [
    "## Q33. Rotate list right by k (no slicing)\n",
    "\n",
    "Print a **new** list rotated right by `k` positions using loops only.\n",
    "\n",
    "**Sample Input**\n",
    "```python\n",
    "nums = [10, 20, 30, 40, 50]; k = 2\n",
    "```\n",
    "**Expected Output**\n",
    "```\n",
    "[40, 50, 10, 20, 30]\n",
    "```"
   ]
  },
  {
   "cell_type": "code",
   "execution_count": 99,
   "id": "eb78ad71",
   "metadata": {
    "id": "eb78ad71"
   },
   "outputs": [
    {
     "name": "stdout",
     "output_type": "stream",
     "text": [
      "[20, 30, 40, 50, 60, 10]\n"
     ]
    }
   ],
   "source": [
    "# Write your code here\n",
    "# nums = [10, 20, 30, 40, 50,60]; k =6\n",
    "# nums1 = [0]*len(nums)\n",
    "# for i in range(len(nums)):\n",
    "#     if(i+k > len(nums)-1):\n",
    "#         nums1[(i+k)-len(nums)] = nums[i]\n",
    "#     else:\n",
    "#         nums1[i+k] = nums[i]\n",
    "\n",
    "# print(nums1)\n",
    "\n",
    "nums = [10, 20, 30, 40, 50, 60]\n",
    "k = 5\n",
    "n = len(nums)\n",
    "nums1 = [0] * n\n",
    "\n",
    "for i in range(n):\n",
    "    nums1[(i+k) % n] = nums[i]\n",
    "\n",
    "print(nums1)\n",
    "\n"
   ]
  },
  {
   "cell_type": "markdown",
   "id": "3867008d",
   "metadata": {
    "id": "3867008d"
   },
   "source": [
    "## Q34. Pascal's triangle\n",
    "\n",
    "Print the first `n` rows of Pascal's triangle (one row per line, values space-separated).\n",
    "\n",
    "**Sample Input**\n",
    "```python\n",
    "n = 5\n",
    "```\n",
    "**Expected Output**\n",
    "```\n",
    "1\n",
    "1 1\n",
    "1 2 1\n",
    "1 3 3 1\n",
    "1 4 6 4 1\n",
    "```"
   ]
  },
  {
   "cell_type": "code",
   "execution_count": 103,
   "id": "65043446",
   "metadata": {
    "id": "65043446"
   },
   "outputs": [
    {
     "name": "stdout",
     "output_type": "stream",
     "text": [
      "1 \n",
      "1 1 \n",
      "1 2 1 \n",
      "1 3 3 1 \n",
      "1 4 6 4 1 \n",
      "1 5 10 10 5 1 \n"
     ]
    }
   ],
   "source": [
    "# Write your code here\n",
    "\n",
    "def pascal_triangle(n):\n",
    "    for i in range(n):\n",
    "        # spacing for nice triangle shape\n",
    "        # print(\" \" * (n - i), end=\"\")  \n",
    "        num = 1\n",
    "        for j in range(i + 1):\n",
    "            print(num, end=\" \")\n",
    "            # Calculate next number in row\n",
    "            num = num * (i - j) // (j + 1)\n",
    "           \n",
    "        print()\n",
    "\n",
    "pascal_triangle(6)"
   ]
  },
  {
   "cell_type": "markdown",
   "id": "13140b17",
   "metadata": {
    "id": "13140b17"
   },
   "source": [
    "## Q35. Most frequent element (no Counter)\n",
    "\n",
    "Print the element with the highest frequency in `nums`. Break ties by first appearance.\n",
    "\n",
    "**Sample Input**\n",
    "```python\n",
    "nums = [3, 1, 3, 2, 2, 3, 1, 2, 2]\n",
    "```\n",
    "**Expected Output**\n",
    "```\n",
    "2\n",
    "```"
   ]
  },
  {
   "cell_type": "code",
   "execution_count": null,
   "id": "1635a269",
   "metadata": {
    "id": "1635a269"
   },
   "outputs": [
    {
     "name": "stdout",
     "output_type": "stream",
     "text": [
      "1\n"
     ]
    }
   ],
   "source": [
    "# Write your code here\n",
    "nums = [3, 1, 3, 2, 2, 3, 1, 2, 2, 5,5,1,1,1,1]\n",
    "dict_nums = {}\n",
    "intial_value = 0\n",
    "for i in nums:\n",
    "    if i in dict_nums:\n",
    "        dict_nums[i] +=1\n",
    "    else:\n",
    "        dict_nums[i] = 1 \n",
    "max = 0\n",
    "max_key = None\n",
    "for key,value in dict_nums.items():\n",
    "\n",
    "    if( value > max):\n",
    "        max = value\n",
    "        max_key = key\n",
    "\n",
    "print(max_key)\n"
   ]
  },
  {
   "cell_type": "markdown",
   "id": "88fc32e2",
   "metadata": {
    "id": "88fc32e2"
   },
   "source": [
    "## Q36. Flatten 2D list\n",
    "\n",
    "Given a 2D list of integers, print a single flat list.\n",
    "\n",
    "**Sample Input**\n",
    "```python\n",
    "matrix = [[1,2],[3,4,5],[6]]\n",
    "```\n",
    "**Expected Output**\n",
    "```\n",
    "[1, 2, 3, 4, 5, 6]\n",
    "```"
   ]
  },
  {
   "cell_type": "code",
   "execution_count": 131,
   "id": "2c7205f0",
   "metadata": {
    "id": "2c7205f0"
   },
   "outputs": [
    {
     "name": "stdout",
     "output_type": "stream",
     "text": [
      "[1, 2, 3, 4, 5, 6]\n"
     ]
    }
   ],
   "source": [
    "# Write your code here\n",
    "matrix = [[1,2],[3,4,5],[6]]\n",
    "\n",
    "list1 = [j for i in matrix for j in i]\n",
    "print(list1)"
   ]
  },
  {
   "cell_type": "markdown",
   "id": "6a6d1d6b",
   "metadata": {
    "id": "6a6d1d6b"
   },
   "source": [
    "## Q37. Max window sum of size k\n",
    "\n",
    "Given `nums` and window size `k`, print the maximum sum of any contiguous window of length `k`.\n",
    "\n",
    "**Sample Input**\n",
    "```python\n",
    "nums = [2, 1, 5, 1, 3, 2]; k = 3\n",
    "```\n",
    "**Expected Output**\n",
    "```\n",
    "9\n",
    "```"
   ]
  },
  {
   "cell_type": "code",
   "execution_count": 1,
   "id": "2e209592",
   "metadata": {
    "id": "2e209592"
   },
   "outputs": [
    {
     "name": "stdout",
     "output_type": "stream",
     "text": [
      "14\n"
     ]
    }
   ],
   "source": [
    "# Write your code here\n",
    "# nums = [2, 1, 5, 1, 3 , 2,9]; k = 3\n",
    "# max_sum = 0\n",
    "# for i in range((len(nums)-k)+1):\n",
    "#     sum1 = 0\n",
    "#     for j in range(i,i+k):\n",
    "#          sum1 += nums[j] \n",
    "#     print(sum1)\n",
    "#     if(sum1 > max_sum):\n",
    "#          max_sum = sum1\n",
    "    \n",
    "# print(max_sum)\n",
    "# above has n*k time complexity\n",
    "\n",
    "# these o(n) complexity  \n",
    "nums = [2, 1, 5, 1, 3, 2, 9]\n",
    "k = 3\n",
    "\n",
    "# Step 1: Find sum of first window\n",
    "window_sum = sum(nums[:k])   # works now, no conflict\n",
    "max_sum = window_sum\n",
    "\n",
    "# Step 2: Slide the window\n",
    "for i in range(k, len(nums)):\n",
    "    window_sum += nums[i] - nums[i - k]   # add new, remove old\n",
    "    max_sum = max(max_sum, window_sum)\n",
    "\n",
    "print(max_sum)\n",
    "\n",
    "\n"
   ]
  },
  {
   "cell_type": "markdown",
   "id": "b1c0c818",
   "metadata": {
    "id": "b1c0c818"
   },
   "source": [
    "## Q38. Longest run in a string\n",
    "\n",
    "Print `(char, length)` for the longest consecutive run of the same character in `s`. If `s` is empty, print `('', 0)`.\n",
    "\n",
    "**Sample Input**\n",
    "```python\n",
    "s = 'aaabbccccdde'\n",
    "```\n",
    "**Expected Output**\n",
    "```\n",
    "(c, 4)\n",
    "```"
   ]
  },
  {
   "cell_type": "code",
   "execution_count": 13,
   "id": "1d6ff321",
   "metadata": {
    "id": "1d6ff321"
   },
   "outputs": [
    {
     "name": "stdout",
     "output_type": "stream",
     "text": [
      "e 10\n"
     ]
    }
   ],
   "source": [
    "# Write your code here\n",
    "s=\"aaabbccccddeeeeeeeeee\"\n",
    "count = 1\n",
    "max_count = 0\n",
    "char =s[0] if s else \"\"\n",
    "\n",
    "for i in range(len(s)-1):\n",
    "    if s[i] == s[i+1]:\n",
    "        count+=1\n",
    "    else:\n",
    "        count = 1\n",
    "    if count > max_count:\n",
    "        max_count = count\n",
    "        char = s[i]\n",
    "print(char, max_count)"
   ]
  },
  {
   "cell_type": "markdown",
   "id": "59db3ab6",
   "metadata": {
    "id": "59db3ab6"
   },
   "source": [
    "## Q39. Run-length encoding (RLE)\n",
    "\n",
    "Print a list of tuples `(char, count)` representing the run-length encoding of `s`.\n",
    "\n",
    "**Sample Input**\n",
    "```python\n",
    "s = 'aaabbc'\n",
    "```\n",
    "**Expected Output**\n",
    "```\n",
    "[('a', 3), ('b', 2), ('c', 1)]\n",
    "```"
   ]
  },
  {
   "cell_type": "code",
   "execution_count": 19,
   "id": "c39fbbe9",
   "metadata": {
    "id": "c39fbbe9"
   },
   "outputs": [
    {
     "name": "stdout",
     "output_type": "stream",
     "text": [
      "[('a', 3), ('b', 2), ('c', 1), ('d', 2), ('e', 10)]\n"
     ]
    }
   ],
   "source": [
    "# Write your code here\n",
    "\n",
    "s=\"aaabbcddeeeeeeeeee\"\n",
    "count = 1\n",
    "char =s[0] if s else \"\"\n",
    "list_char = [ ]\n",
    "\n",
    "for i in range(len(s)-1):\n",
    "    char = s[i]\n",
    "    if s[i] == s[i+1]:\n",
    "        count+=1\n",
    "    else:\n",
    "        \n",
    "        list_char.append((char,count))\n",
    "        count = 1\n",
    "list_char.append((char,count))\n",
    "print(list_char)"
   ]
  },
  {
   "cell_type": "markdown",
   "id": "6f5906fd",
   "metadata": {
    "id": "6f5906fd"
   },
   "source": [
    "## Q40. 3-sum equals zero (O(n^3))\n",
    "\n",
    "Given a **small** list of ints, print `True` if any triple (i<j<k) sums to 0 using **three nested loops**, else `False`.\n",
    "\n",
    "**Sample Input**\n",
    "```python\n",
    "nums = [-1, 0, 1, 2, -1]\n",
    "```\n",
    "**Expected Output**\n",
    "```\n",
    "True\n",
    "```"
   ]
  },
  {
   "cell_type": "code",
   "execution_count": 32,
   "id": "ceddf6a5",
   "metadata": {
    "id": "ceddf6a5"
   },
   "outputs": [
    {
     "name": "stdout",
     "output_type": "stream",
     "text": [
      "True\n"
     ]
    }
   ],
   "source": [
    "# Write your code here\n",
    "nums = [-1, 0, 1, 2, -1]\n",
    "iszero = False\n",
    "for i in range(len(nums)):\n",
    "    for j in range(len(nums)):\n",
    "        for k in range(len(nums)):\n",
    "            if(nums[i] < nums[j] < nums[k]):\n",
    "                if(nums[i] + nums[j] +  nums[k] == 0):\n",
    "                    iszero =True\n",
    "                    \n",
    "print(iszero)\n",
    "\n"
   ]
  },
  {
   "cell_type": "markdown",
   "id": "8d8a3da3",
   "metadata": {
    "id": "8d8a3da3"
   },
   "source": [
    "# Q41. Matrix multiplication A(m×n) × B(n×p)\n",
    "\n",
    "Multiply matrices `A` and `B` using **three nested loops**; print the resulting matrix row-by-row (space-separated).\n",
    "\n",
    "**Sample Input**\n",
    "```python\n",
    "A = [[1,2],[3,4]]\n",
    "B = [[2,0],[1,2]]\n",
    "```\n",
    "**Expected Output**\n",
    "```\n",
    "4 4\n",
    "10 8\n",
    "```"
   ]
  },
  {
   "cell_type": "code",
   "execution_count": 8,
   "id": "b3c07585",
   "metadata": {
    "id": "b3c07585"
   },
   "outputs": [
    {
     "name": "stdout",
     "output_type": "stream",
     "text": [
      "4 4\n",
      "10 8\n"
     ]
    }
   ],
   "source": [
    "# Write your code here\n",
    "A = [[1,2],[3,4]]\n",
    "B = [[2,0],[1,2]]\n",
    "m,n = len(A) ,len(A[0])\n",
    "n,p = len(B), len(B[0])\n",
    "\n",
    "C = [[0]*p for _ in range(m)]\n",
    "\n",
    "for i in range(m):\n",
    "    for j in range(p):\n",
    "        for k in range(n):\n",
    "            C[i][j] += A[i][k] * B[k][j]\n",
    "\n",
    "for row in C:\n",
    "    print(*row)"
   ]
  },
  {
   "cell_type": "markdown",
   "id": "d4bc09c7",
   "metadata": {
    "id": "d4bc09c7"
   },
   "source": [
    "## Q42. Happy number detector\n",
    "\n",
    "Print `True` if `n` is a happy number, else `False`. (Sum of squares of digits eventually reaches 1).\n",
    "\n",
    "**Sample Input**\n",
    "```python\n",
    "n = 19\n",
    "```\n",
    "**Expected Output**\n",
    "```\n",
    "True\n",
    "```"
   ]
  },
  {
   "cell_type": "code",
   "execution_count": 21,
   "id": "575f59ec",
   "metadata": {
    "id": "575f59ec"
   },
   "outputs": [
    {
     "name": "stdout",
     "output_type": "stream",
     "text": [
      "True\n"
     ]
    }
   ],
   "source": [
    "# Write your code here\n",
    "n =19\n",
    "seen = set()\n",
    "while n!= 1 and n not in seen:\n",
    "    seen.add(n)\n",
    "    n = sum(int(digit)**2 for digit in str(n))\n",
    "    \n",
    "    if(n == 1):\n",
    "        print(True)"
   ]
  },
  {
   "cell_type": "markdown",
   "id": "7ab7d1cd",
   "metadata": {
    "id": "7ab7d1cd"
   },
   "source": [
    "## Q43. Elevator direction changes\n",
    "\n",
    "Given a list of floor visits, count how many times the **direction** changes (up→down or down→up). Skip equal consecutive floors using `continue`.\n",
    "\n",
    "**Sample Input**\n",
    "```python\n",
    "floors = [0, 2, 5, 5, 3, 1, 4, 4, 2]\n",
    "```\n",
    "**Expected Output**\n",
    "```\n",
    "3\n",
    "```"
   ]
  },
  {
   "cell_type": "code",
   "execution_count": 32,
   "id": "f707ea10",
   "metadata": {
    "id": "f707ea10"
   },
   "outputs": [
    {
     "name": "stdout",
     "output_type": "stream",
     "text": [
      "4\n"
     ]
    }
   ],
   "source": [
    "# Write your code here\n",
    "floors = [0, 2, 5, 5, 3, 1, 4, 4]\n",
    "count = 0\n",
    "last_floor =None\n",
    "\n",
    "for i in range(0, len(floors)-1):\n",
    "    if floors[i] == floors[i-1]:\n",
    "        continue\n",
    "\n",
    "    floor = \"up\" if floors[i] < floors[i+1] else \"down\"\n",
    "   \n",
    "\n",
    "    if last_floor == None  or floor != last_floor:\n",
    "        last_floor = floor\n",
    "        count+=1\n",
    "\n",
    "print(count)\n",
    "     \n"
   ]
  },
  {
   "cell_type": "markdown",
   "id": "34afbba3",
   "metadata": {
    "id": "34afbba3"
   },
   "source": [
    "## Q44. First time balance dips below 0 (use break/else)\n",
    "\n",
    "Given a list of transactions (positive/negative), print the **index** where the cumulative sum first becomes negative; if never, print `-1`.\n",
    "\n",
    "**Sample Input**\n",
    "```python\n",
    "txns = [5, -2, -1, -3, 2]\n",
    "```\n",
    "**Expected Output**\n",
    "```\n",
    "3\n",
    "```"
   ]
  },
  {
   "cell_type": "code",
   "execution_count": 34,
   "id": "9ffd6e53",
   "metadata": {
    "id": "9ffd6e53"
   },
   "outputs": [
    {
     "name": "stdout",
     "output_type": "stream",
     "text": [
      "3\n"
     ]
    }
   ],
   "source": [
    "# Write your code here\n",
    "txns = [5, -2, -1, -3, 2]\n",
    "count = 0\n",
    "sum = 0\n",
    "\n",
    "for idx,i in enumerate(txns):\n",
    "    sum += i\n",
    "    if(sum < 0):\n",
    "        print(idx)\n",
    "        break\n",
    "     \n",
    "else:\n",
    "    print(-1)\n"
   ]
  },
  {
   "cell_type": "markdown",
   "id": "185cfb18",
   "metadata": {
    "id": "185cfb18"
   },
   "source": [
    "## Q45. Robot moves (L/R/U/D)\n",
    "\n",
    "Given command string over `'L','R','U','D'`, starting at (0,0), print the final `(x,y)` after processing all commands.\n",
    "\n",
    "**Sample Input**\n",
    "```python\n",
    "cmds = 'UURDDL'\n",
    "```\n",
    "**Expected Output**\n",
    "```\n",
    "(0, 0)\n",
    "```"
   ]
  },
  {
   "cell_type": "code",
   "execution_count": 40,
   "id": "5fc2a749",
   "metadata": {
    "id": "5fc2a749"
   },
   "outputs": [
    {
     "name": "stdout",
     "output_type": "stream",
     "text": [
      "(0, 0)\n"
     ]
    }
   ],
   "source": [
    "# Write your code here\n",
    "cmds = 'UURDDL'\n",
    "coord = [0,0]\n",
    "for i in cmds:\n",
    "    if(i == \"U\"):\n",
    "        coord[1] += 1\n",
    "    elif(i == \"D\"):\n",
    "        coord[1] -=1\n",
    "    elif( i == \"R\"):\n",
    "        coord[0]+=1\n",
    "    else:\n",
    "        coord[0] -=1\n",
    "print(tuple(coord))"
   ]
  },
  {
   "cell_type": "markdown",
   "id": "b216bd44",
   "metadata": {
    "id": "b216bd44"
   },
   "source": [
    "## Q46. Spiral order traversal\n",
    "\n",
    "Given a matrix, print the elements in **spiral order** on one line separated by spaces.\n",
    "\n",
    "**Sample Input**\n",
    "```python\n",
    "m = [[1,2,3],[4,5,6],[7,8,9]]\n",
    "```\n",
    "**Expected Output**\n",
    "```\n",
    "1 2 3 6 9 8 7 4 5\n",
    "```"
   ]
  },
  {
   "cell_type": "code",
   "execution_count": 43,
   "id": "2bc9349d",
   "metadata": {
    "id": "2bc9349d"
   },
   "outputs": [
    {
     "name": "stdout",
     "output_type": "stream",
     "text": [
      "1 2 3 6 9 8 7 4 5\n"
     ]
    }
   ],
   "source": [
    "# Write your code here\n",
    "\n",
    "m = [[1,2,3],\n",
    "     [4,5,6],\n",
    "     [7,8,9]]\n",
    "\n",
    "rows, cols = len(m), len(m[0])\n",
    "top, bottom, left, right = 0, rows-1, 0, cols-1\n",
    "spiral = []\n",
    "\n",
    "while top <= bottom and left <= right:\n",
    "    # Traverse top row\n",
    "    for i in range(left, right+1):\n",
    "        spiral.append(m[top][i])\n",
    "    top += 1\n",
    "\n",
    "    # Traverse right column\n",
    "    for i in range(top, bottom+1):\n",
    "        spiral.append(m[i][right])\n",
    "    right -= 1\n",
    "\n",
    "    # Traverse bottom row (if still valid)\n",
    "    if top <= bottom:\n",
    "        for i in range(right, left-1, -1):\n",
    "            spiral.append(m[bottom][i])\n",
    "        bottom -= 1\n",
    "\n",
    "    # Traverse left column (if still valid)\n",
    "    if left <= right:\n",
    "        for i in range(bottom, top-1, -1):\n",
    "            spiral.append(m[i][left])\n",
    "        left += 1\n",
    "\n",
    "print(\" \".join(map(str, spiral)))\n"
   ]
  },
  {
   "cell_type": "markdown",
   "id": "f76a01f0",
   "metadata": {
    "id": "f76a01f0"
   },
   "source": [
    "## Q47. Row/column duplicate check (Sudoku-like)\n",
    "\n",
    "Given a 9×9 grid with zeros as blanks, print `True` if **no row and no column** contains duplicate nonzero digits; else `False`.\n",
    "\n",
    "**Sample Input**\n",
    "```python\n",
    "g = [\n",
    "[5,3,0, 0,7,0, 0,0,0],\n",
    "[6,0,0, 1,9,5, 0,0,0],\n",
    "[0,9,8, 0,0,0, 0,6,0],\n",
    "\n",
    "[8,0,0, 0,6,0, 0,0,3],\n",
    "[4,0,0, 8,0,3, 0,0,1],\n",
    "[7,0,0, 0,2,0, 0,0,6],\n",
    "\n",
    "[0,6,0, 0,0,0, 2,8,0],\n",
    "[0,0,0, 4,1,9, 0,0,5],\n",
    "[0,0,0, 0,8,0, 0,7,9]\n",
    "]\n",
    "```\n",
    "**Expected Output**\n",
    "```\n",
    "True\n",
    "```"
   ]
  },
  {
   "cell_type": "code",
   "execution_count": 70,
   "id": "6a2161e0",
   "metadata": {
    "id": "6a2161e0"
   },
   "outputs": [
    {
     "name": "stdout",
     "output_type": "stream",
     "text": [
      "True\n"
     ]
    }
   ],
   "source": [
    "# Write your code here\n",
    "g = [\n",
    "[5,3,0, 0,7,0, 0,0,0],\n",
    "[6,0,0, 1,9,5, 0,0,0],\n",
    "[0,9,8, 0,0,0, 0,6,0],\n",
    "\n",
    "[8,0,0, 0,6,0, 0,0,3],\n",
    "[4,0,0, 8,0,3, 0,0,1],\n",
    "[7,0,0, 0,2,0, 0,0,6],\n",
    "\n",
    "[0,6,0, 0,0,0, 2,8,0],\n",
    "[0,0,0, 4,1,9, 0,0,5],\n",
    "[0,0,0, 0,8,0, 0,7,9]\n",
    "]\n",
    "stooped = False\n",
    "for i in range(len(g)):\n",
    "    seenr = set()\n",
    "    seenc = set()\n",
    "    for j in range(len(g[i])):\n",
    "        if g[i][j] != 0 :\n",
    "            if g[i][j] in seenr:\n",
    "                print(False)\n",
    "                stooped =True\n",
    "                break\n",
    "            else:\n",
    "                seenr.add(g[i][j])\n",
    "\n",
    "        if  g[j][i] != 0:\n",
    "            if g[j][i] in seenc:\n",
    "                print(False)\n",
    "                stooped = True\n",
    "                break\n",
    "            else:\n",
    "                seenc.add(g[j][i])\n",
    "    if(stooped):\n",
    "        break        \n",
    "else:\n",
    "    print(True)\n",
    "\n"
   ]
  },
  {
   "cell_type": "markdown",
   "id": "1c16dc53",
   "metadata": {
    "id": "1c16dc53"
   },
   "source": [
    "## Q48. Conway's Game of Life — one step\n",
    "\n",
    "Given a binary grid, compute and print the next state using the standard Game of Life rules.\n",
    "\n",
    "**Sample Input**\n",
    "```python\n",
    "grid = [[0,1,0],[0,1,0],[0,1,0]]\n",
    "```\n",
    "**Expected Output**\n",
    "```\n",
    "[[0,0,0],[1,1,1],[0,0,0]]\n",
    "```"
   ]
  },
  {
   "cell_type": "code",
   "execution_count": null,
   "id": "9d6fad24",
   "metadata": {
    "id": "9d6fad24"
   },
   "outputs": [],
   "source": [
    "# Write your code here\n"
   ]
  },
  {
   "cell_type": "markdown",
   "id": "1474eb17",
   "metadata": {
    "id": "1474eb17"
   },
   "source": [
    "## Q49. Prime factorization (loop-based)\n",
    "\n",
    "Given an integer `n>1`, print its prime factors in non-decreasing order, space-separated, using loops only.\n",
    "\n",
    "**Sample Input**\n",
    "```python\n",
    "n = 84\n",
    "```\n",
    "**Expected Output**\n",
    "```\n",
    "2 2 3 7\n",
    "```"
   ]
  },
  {
   "cell_type": "code",
   "execution_count": null,
   "id": "d988744a",
   "metadata": {
    "id": "d988744a"
   },
   "outputs": [
    {
     "name": "stdout",
     "output_type": "stream",
     "text": [
      "113 "
     ]
    }
   ],
   "source": [
    "# Write your code here\n",
    "N = 5\n",
    "seen = []\n",
    "k = 0\n",
    "for i in range(2,N+1):\n",
    "    for j in range(2, int(i**0.5)+1):\n",
    "            if i % j == 0:\n",
    "                break\n",
    "    else:\n",
    "        seen.append(i)\n",
    "\n",
    "while  N  > 1 : \n",
    "    if N % seen[k] == 0:\n",
    "           print(seen[k], end=\" \")\n",
    "           \n",
    "           N = N //seen[k]\n",
    "           k = 0\n",
    "           continue \n",
    "    k +=1\n",
    "\n"
   ]
  },
  {
   "cell_type": "markdown",
   "id": "5527b030",
   "metadata": {
    "id": "5527b030"
   },
   "source": [
    "## Q50. Josephus problem (simulation)\n",
    "\n",
    "Given `n` people in a circle (labeled 1..n) and step `k`, eliminate every k-th person until one remains. Print the survivor label using loop simulation (no advanced data structures needed).\n",
    "\n",
    "**Sample Input**\n",
    "```python\n",
    "n = 7; k = 3\n",
    "```\n",
    "**Expected Output**\n",
    "```\n",
    "4\n",
    "```"
   ]
  },
  {
   "cell_type": "code",
   "execution_count": 117,
   "id": "e8601957",
   "metadata": {
    "id": "e8601957"
   },
   "outputs": [
    {
     "name": "stdout",
     "output_type": "stream",
     "text": [
      "1\n"
     ]
    }
   ],
   "source": [
    "# Write your code here\n",
    "n = 9\n",
    "k = 3\n",
    "\n",
    "people = list(range(1, n+1))  # [1,2,...,n]\n",
    "index = 0\n",
    "\n",
    "while len(people) > 1:\n",
    "    index = (index + k - 1) % len(people)  # move k-1 steps ahead\n",
    "    people.pop(index)  # eliminate that person\n",
    "\n",
    "print(people[0])  # survivor\n",
    "\n",
    "\n",
    "\n",
    "\n"
   ]
  },
  {
   "cell_type": "markdown",
   "id": "37e979a4",
   "metadata": {
    "id": "37e979a4"
   },
   "source": [
    "### Tips\n",
    "- Use print statements to debug.\n",
    "- Think step-by-step.\n",
    "- Practice without shortcuts to improve your loop logic.\n",
    "- After matching the **Expected Output** for the sample input, try new inputs to build confidence."
   ]
  }
 ],
 "metadata": {
  "colab": {
   "provenance": []
  },
  "kernelspec": {
   "display_name": "Python 3",
   "language": "python",
   "name": "python3"
  },
  "language_info": {
   "codemirror_mode": {
    "name": "ipython",
    "version": 3
   },
   "file_extension": ".py",
   "mimetype": "text/x-python",
   "name": "python",
   "nbconvert_exporter": "python",
   "pygments_lexer": "ipython3",
   "version": "3.13.5"
  }
 },
 "nbformat": 4,
 "nbformat_minor": 5
}
