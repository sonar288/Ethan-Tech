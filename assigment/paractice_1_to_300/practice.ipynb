{
 "cells": [
  {
   "cell_type": "code",
   "execution_count": 3,
   "id": "d066b088",
   "metadata": {},
   "outputs": [],
   "source": [
    "#  Q1: You have a variable `temperature`. If it's greater than 30, print \"It's a hot day!\"\n",
    "temperature = int(input(\"Enter the temp\"))\n",
    "\n",
    "if(temperature > 30 ):\n",
    "    print(\"It's a hot day!\")\n"
   ]
  },
  {
   "cell_type": "code",
   "execution_count": 6,
   "metadata": {},
   "outputs": [
    {
     "name": "stdout",
     "output_type": "stream",
     "text": [
      "Perfect score!\n"
     ]
    }
   ],
   "source": [
    "# Q2: You have a list of scores. Check if the first score is 100. If it is, print \"Perfect score!\"\n",
    "scores = [100, 78, 92, 88]\n",
    "if scores[0] == 100:\n",
    "    print(\"Perfect score!\")\n",
    "else:\n",
    "    print(\"good score\")    \n"
   ]
  },
  {
   "cell_type": "code",
   "execution_count": 9,
   "id": "9b498a74",
   "metadata": {},
   "outputs": [
    {
     "name": "stdout",
     "output_type": "stream",
     "text": [
      "User is online.\n"
     ]
    }
   ],
   "source": [
    "# Q3: A dictionary contains a user's status. If the user's `status` is \"active\", print \"User is online.\"\n",
    "user = {\"username\": \"dev_user\", \"status\": \"active\"}\n",
    "if(user[\"status\"] == \"active\"):\n",
    "  print(\"User is online.\")\n",
    "else:\n",
    "  print(\"user is offline\")"
   ]
  },
  {
   "cell_type": "code",
   "execution_count": null,
   "id": "8c2ed498",
   "metadata": {},
   "outputs": [
    {
     "name": "stdout",
     "output_type": "stream",
     "text": [
      "System is online\n"
     ]
    }
   ],
   "source": [
    "# Q4: Check if a given string `command` is exactly \"STOP\". If so, print \"System shutting down.\"\n",
    "command = \"STOP\"\n",
    "if command == \"STOP\":\n",
    "    print(\"System shutting down.\")\n",
    "else:\n",
    "    print(\"System is online\")"
   ]
  },
  {
   "cell_type": "code",
   "execution_count": null,
   "metadata": {},
   "outputs": [],
   "source": [
    "# Q5: You have a tuple of coordinates. If the second element (y-coordinate) is 0, print \"The point is on the x-axis.\"\n",
    "point = (10, 0)\n",
    "\n",
    "if point[1] == 0:\n",
    "    print(\"The point is on the x-axis.\")"
   ]
  },
  {
   "cell_type": "code",
   "execution_count": 22,
   "id": "e7a6a484",
   "metadata": {},
   "outputs": [
    {
     "name": "stdout",
     "output_type": "stream",
     "text": [
      "odd\n"
     ]
    }
   ],
   "source": [
    "# Q6: A number `n` is given. If it's an even number, print \"Even\". Otherwise, print \"Odd\".\n",
    "n = 1\n",
    "if(n % 2 == 0):\n",
    "    print(\"even\")\n",
    "else:\n",
    "    print(\"odd\")"
   ]
  },
  {
   "cell_type": "code",
   "execution_count": 20,
   "id": "7408a3e3",
   "metadata": {},
   "outputs": [
    {
     "name": "stdout",
     "output_type": "stream",
     "text": [
      "A magical adventure!\n"
     ]
    }
   ],
   "source": [
    "# Q7: You have a nested dictionary for a book. If the book's `genre` (inside `details`) is \"Fantasy\", print \"A magical adventure!\"\n",
    "book = {\"title\": \"The Final Empire\", \"author\": \"Brandon Sanderson\", \"details\": {\"pages\": 541, \"genre\": \"Fantasy\"}}\n",
    "if(book[\"details\"][\"genre\"]):\n",
    "    print(\"A magical adventure!\")"
   ]
  },
  {
   "cell_type": "code",
   "execution_count": 29,
   "id": "ea600854",
   "metadata": {},
   "outputs": [
    {
     "name": "stdout",
     "output_type": "stream",
     "text": [
      "List has 6 items.\n"
     ]
    }
   ],
   "source": [
    "# Q8: Check if the length of a list `items` is exactly 5. If it is, print \"List has 5 items.\"\n",
    "items = [\"pen\", \"pencil\", \"eraser\", \"ruler\", \"sharpener\",\"sas\"]\n",
    "if(len(items)==5):\n",
    "    print(\"List has 5 items.\")\n",
    "else:\n",
    "    print(\"List has \"+ str(len(items))+ \" items.\")"
   ]
  },
  {
   "cell_type": "code",
   "execution_count": 31,
   "id": "a59137d8",
   "metadata": {},
   "outputs": [
    {
     "name": "stdout",
     "output_type": "stream",
     "text": [
      "Access denied.\n"
     ]
    }
   ],
   "source": [
    "# Q9: A boolean `is_logged_in` is given. If it's `False`, print \"Access denied.\"\n",
    "is_logged_in = False\n",
    "if(not is_logged_in):\n",
    " print(\"Access denied.\")\n",
    "else:\n",
    " print(\"Access Acepted\")"
   ]
  },
  {
   "cell_type": "code",
   "execution_count": 43,
   "id": "d0bf2331",
   "metadata": {},
   "outputs": [
    {
     "name": "stdout",
     "output_type": "stream",
     "text": [
      "Python file detected.\n"
     ]
    }
   ],
   "source": [
    "# Q10: A string `file_name` is given. If it ends with \".py\", print \"Python file detected.\"\n",
    "file_name = \"script.py\"\n",
    "if(file_name[-3:] == \".py\"):\n",
    "    print(\"Python file detected.\")\n",
    "else:\n",
    "    print(\"Python file not detected.\")\n",
    "\n",
    "\n"
   ]
  },
  {
   "cell_type": "code",
   "execution_count": 46,
   "id": "f76bf2aa",
   "metadata": {},
   "outputs": [
    {
     "name": "stdout",
     "output_type": "stream",
     "text": [
      "Zero\n"
     ]
    }
   ],
   "source": [
    "# Q11: Check if a number `num` is positive, negative, or zero. Print the result.\n",
    "num = 0\n",
    "if(num > 0):\n",
    "    print(\"postive\")\n",
    "elif(num < 0):\n",
    "    print(\"Negative\")\n",
    "else:\n",
    "    print(\"Zero\")"
   ]
  },
  {
   "cell_type": "code",
   "execution_count": 48,
   "id": "72c2fd59",
   "metadata": {},
   "outputs": [
    {
     "name": "stdout",
     "output_type": "stream",
     "text": [
      "True\n"
     ]
    }
   ],
   "source": [
    "# Q12: You have a list of dictionaries representing students. Check if the `major` of the second student is \"Computer Science\".\n",
    "students = [{\"name\": \"Alice\", \"major\": \"Physics\"}, {\"name\": \"Bob\", \"major\": \"Computer Science\"}]\n",
    "if(students[1][\"major\"] ==\"Computer Science\"):\n",
    "    print(True) "
   ]
  },
  {
   "cell_type": "code",
   "execution_count": 51,
   "id": "bad0d0d1",
   "metadata": {},
   "outputs": [
    {
     "name": "stdout",
     "output_type": "stream",
     "text": [
      "Standard HTTP port.\n"
     ]
    }
   ],
   "source": [
    "# Q13: A dictionary `config` has a key 'port'. If the value is 80, print \"Standard HTTP port.\"\n",
    "config = {\"host\": \"localhost\", \"port\": 80}\n",
    "if(config[\"port\"]== 80):\n",
    "    print(\"Standard HTTP port.\")\n",
    "else:\n",
    "    print(\"Not Standard HTTP port.\")\n"
   ]
  },
  {
   "cell_type": "code",
   "execution_count": 55,
   "id": "ebcf061f",
   "metadata": {},
   "outputs": [
    {
     "name": "stdout",
     "output_type": "stream",
     "text": [
      "less than 3.\n"
     ]
    }
   ],
   "source": [
    "# Q14: Check if the number of keys in a dictionary `d` is less than 3.\n",
    "d = {\"a\": 1, \"b\": 2}\n",
    "if len(d.keys()) <3:\n",
    "    print(\"less than 3.\")"
   ]
  },
  {
   "cell_type": "code",
   "execution_count": 56,
   "id": "d9a1c738",
   "metadata": {},
   "outputs": [
    {
     "name": "stdout",
     "output_type": "stream",
     "text": [
      "True\n"
     ]
    }
   ],
   "source": [
    "# Q15: You have a list representing a row of data. Check if the third element is the string \"Completed\".\n",
    "data_row = [101, \"Task A\", \"Completed\"]\n",
    "if(data_row[2]==\"Completed\"):\n",
    "    print(True)"
   ]
  },
  {
   "cell_type": "code",
   "execution_count": 57,
   "id": "97974d5f",
   "metadata": {},
   "outputs": [
    {
     "name": "stdout",
     "output_type": "stream",
     "text": [
      "Maximum Red.\n"
     ]
    }
   ],
   "source": [
    "# Q16: You have a tuple of RGB color values. If the first value (Red) is 255, print \"Maximum Red.\"\n",
    "color = (255, 128, 0)\n",
    "if color[0] == 255:\n",
    "    print(\"Maximum Red.\")  "
   ]
  },
  {
   "cell_type": "code",
   "execution_count": null,
   "id": "2ae764b1",
   "metadata": {},
   "outputs": [
    {
     "name": "stdout",
     "output_type": "stream",
     "text": [
      "Password is too short.\n"
     ]
    }
   ],
   "source": [
    "# Q17: A string `password` is given. If its length is less than 8, print \"Password is too short.\"\n",
    "password = \"pass123\"\n",
    "if len(password) < 8:\n",
    "    print(\"Password is too short.\")"
   ]
  },
  {
   "cell_type": "code",
   "execution_count": null,
   "id": "b3251ad1",
   "metadata": {},
   "outputs": [
    {
     "name": "stdout",
     "output_type": "stream",
     "text": [
      "Password is too short.\n"
     ]
    }
   ],
   "source": [
    "# Q18: Given a dictionary `product`, check if the 'discount' key exists. If it does, print \"Discount available.\"\n",
    "product = {\"name\": \"Mouse\", \"price\": 1200, \"discount\": 0.1}\n",
    "if \"discount\" in product:\n",
    "    print(\"Discount available.\")"
   ]
  },
  {
   "cell_type": "code",
   "execution_count": null,
   "id": "513d7288",
   "metadata": {},
   "outputs": [
    {
     "name": "stdout",
     "output_type": "stream",
     "text": [
      "Last tag is featured.\n"
     ]
    }
   ],
   "source": [
    "# Q19: Check if the last element of a list `tags` is equal to \"featured\".\n",
    "\n",
    "tags = [\"python\", \"webdev\", \"featured\"]\n",
    "if tags[-1] == \"featured\":\n",
    "    print(\"Last tag is featured.\")"
   ]
  },
  {
   "cell_type": "code",
   "execution_count": null,
   "id": "266b4596",
   "metadata": {},
   "outputs": [
    {
     "name": "stdout",
     "output_type": "stream",
     "text": [
      "Email not provided.\n"
     ]
    }
   ],
   "source": [
    "# Q20 You have a variable `email`. If it is `None`, print \"Email not provided.\"\n",
    "\n",
    "email = None\n",
    "if email is None:\n",
    "    print(\"Email not provided.\")"
   ]
  },
  {
   "cell_type": "code",
   "execution_count": null,
   "id": "63424f54",
   "metadata": {},
   "outputs": [
    {
     "name": "stdout",
     "output_type": "stream",
     "text": [
      "False\n"
     ]
    }
   ],
   "source": [
    "# Q21: Given a list of lists `matrix`, check if the element at the second row, first column is 0.\n",
    "matrix = [[1, 2], [0, 4]]\n",
    "if(matrix[1][0]==0):\n",
    "    print(True)\n",
    "else:\n",
    "    print(False)\n"
   ]
  },
  {
   "cell_type": "code",
   "execution_count": 68,
   "id": "621d9672",
   "metadata": {},
   "outputs": [
    {
     "name": "stdout",
     "output_type": "stream",
     "text": [
      "No errors found.\n"
     ]
    }
   ],
   "source": [
    "# Q22: A dictionary `report` contains a list of errors. If the list of errors is empty, print \"No errors found.\"\n",
    "report = {\"status\": \"OK\", \"errors\": []}\n",
    "if(not report[\"errors\"]):\n",
    "    print(\"No errors found.\")\n",
    "else:\n",
    "    print(\"errors found.\")\n",
    "    \n",
    "\n"
   ]
  },
  {
   "cell_type": "code",
   "execution_count": 70,
   "id": "0e99fb35",
   "metadata": {},
   "outputs": [
    {
     "name": "stdout",
     "output_type": "stream",
     "text": [
      "True\n"
     ]
    }
   ],
   "source": [
    "# Q23: Check if the first character of a string `s` is a digit.\n",
    "s = \"1st Place\"\n",
    "if(s[0].isdigit):\n",
    "    print(True)\n",
    "else:\n",
    "    print(False)"
   ]
  },
  {
   "cell_type": "code",
   "execution_count": 71,
   "id": "091368eb",
   "metadata": {},
   "outputs": [
    {
     "name": "stdout",
     "output_type": "stream",
     "text": [
      "secound is greater than first\n"
     ]
    }
   ],
   "source": [
    "# Q24: You have a tuple with three numbers. Check if the second number is greater than the first.\n",
    "values = (10, 25, 5)\n",
    "if(values[0]>values[1]):\n",
    "    print(\"first is greater than secound\")\n",
    "else:\n",
    "    print(\"secound is greater than first\")"
   ]
  },
  {
   "cell_type": "code",
   "execution_count": 73,
   "id": "7571d555",
   "metadata": {},
   "outputs": [
    {
     "name": "stdout",
     "output_type": "stream",
     "text": [
      "Teenager\n"
     ]
    }
   ],
   "source": [
    "# Q25: A dictionary `person` is given. If the person's age is between 13 and 19 (inclusive), print \"Teenager.\"\n",
    "person = {\"name\": \"Alex\", \"age\": 16}\n",
    "if((person[\"age\"])>= 13& (person[\"age\"])<=19):\n",
    "    print(\"Teenager\")"
   ]
  },
  {
   "cell_type": "code",
   "execution_count": 74,
   "id": "59adfb5b",
   "metadata": {},
   "outputs": [
    {
     "name": "stdout",
     "output_type": "stream",
     "text": [
      "True\n"
     ]
    }
   ],
   "source": [
    "# Q26: Given a list `data`, check if the type of the first element is a string.\n",
    "data = [\"hello\", 1, True]\n",
    "if type(data[0]) == str:\n",
    "    print(True)"
   ]
  },
  {
   "cell_type": "code",
   "execution_count": null,
   "id": "7b9c1d03",
   "metadata": {},
   "outputs": [
    {
     "name": "stdout",
     "output_type": "stream",
     "text": [
      "true\n"
     ]
    }
   ],
   "source": [
    "# Q27: You have a dictionary with `details`. Check if the `is_premium` key is `True`.\n",
    "account = {\"id\": 123, \"details\": {\"is_premium\": True, \"tier\": \"Gold\"}}\n",
    "if(account[\"details\"][\"is_premium\"]):\n",
    "    print(True)\n"
   ]
  },
  {
   "cell_type": "code",
   "execution_count": 78,
   "id": "82d808e6",
   "metadata": {},
   "outputs": [
    {
     "name": "stdout",
     "output_type": "stream",
     "text": [
      "Administrator access granted.\n"
     ]
    }
   ],
   "source": [
    "# Q28: A tuple stores a name and a role. If the role is \"Admin\", print \"Administrator access granted.\"\n",
    "user_data = (\"s_kumar\", \"Admin\")\n",
    "if(user_data[1]== \"Admin\"):\n",
    "    print(\"Administrator access granted.\")\n"
   ]
  },
  {
   "cell_type": "code",
   "execution_count": 80,
   "id": "e8af4076",
   "metadata": {},
   "outputs": [
    {
     "name": "stdout",
     "output_type": "stream",
     "text": [
      "True\n"
     ]
    }
   ],
   "source": [
    "# Q29: Check if a string `text` contains the word \"error\" (case-insensitive).\n",
    "text = \"Status: OK. No Error found.\"\n",
    "if(\"error\" in text.lower()):\n",
    "    print(True)"
   ]
  },
  {
   "cell_type": "code",
   "execution_count": 82,
   "id": "6cf190a9",
   "metadata": {},
   "outputs": [
    {
     "name": "stdout",
     "output_type": "stream",
     "text": [
      "True\n"
     ]
    }
   ],
   "source": [
    "# Q30: Given a list of numbers, check if the third number is divisible by 3.\n",
    "numbers = [10, 20, 9, 40]\n",
    "if(numbers[2] % 3 == 0):\n",
    "    print(True)"
   ]
  },
  {
   "cell_type": "code",
   "execution_count": 84,
   "id": "3af18b38",
   "metadata": {},
   "outputs": [
    {
     "name": "stdout",
     "output_type": "stream",
     "text": [
      "True\n"
     ]
    }
   ],
   "source": [
    "# Q31: In a dictionary of scores, check if the \"Math\" score is greater than the \"Science\" score.\n",
    "scores = {\"Math\": 90, \"Science\": 85, \"History\": 75}\n",
    "if(scores[\"Math\"]> scores[\"Science\"]):\n",
    "    print(True)\n",
    "else:\n",
    "    print(False)\n"
   ]
  },
  {
   "cell_type": "code",
   "execution_count": null,
   "id": "ed0dee16",
   "metadata": {},
   "outputs": [],
   "source": [
    "# Q32: A list contains response codes. If the first code is 200, print \"OK\".\n",
    "response_codes = [200, 404, 500]\n",
    "if(response_codes[0] == 200):\n",
    "    print(True)\n",
    "else:\n",
    "    print(False)"
   ]
  },
  {
   "cell_type": "code",
   "execution_count": 85,
   "id": "bcf4bc6e",
   "metadata": {},
   "outputs": [
    {
     "name": "stdout",
     "output_type": "stream",
     "text": [
      "True\n"
     ]
    }
   ],
   "source": [
    "# Q33: Check if a string `name` is not empty.\n",
    "name = \"Ria\"\n",
    "if(name):\n",
    "    print(True)\n",
    "else:\n",
    "    print(False)"
   ]
  },
  {
   "cell_type": "code",
   "execution_count": 94,
   "id": "392d12ac",
   "metadata": {},
   "outputs": [
    {
     "name": "stdout",
     "output_type": "stream",
     "text": [
      "True\n"
     ]
    }
   ],
   "source": [
    "# Q34: You have a list of tuples. Check if the second element of the first tuple is a number.\n",
    "items = [(\"Apple\", 5), (\"Banana\", 3)]\n",
    "if(type(items[0][1])==int):\n",
    "    print(True)\n",
    "else:\n",
    "    print(False)\n",
    "\n",
    "\n"
   ]
  },
  {
   "cell_type": "code",
   "execution_count": 96,
   "id": "b3af8f09",
   "metadata": {},
   "outputs": [
    {
     "name": "stdout",
     "output_type": "stream",
     "text": [
      "False\n"
     ]
    }
   ],
   "source": [
    "# Q35: Given a dictionary `movie`, check if its `rating` is 8.5 or higher.\n",
    "movie = {\"title\": \"Inception\", \"director\": \"Christopher Nolan\", \"rating\": 8.}\n",
    "if(movie[\"rating\"] >=8.5):\n",
    "    print(True)\n",
    "else:\n",
    "    print(False)"
   ]
  },
  {
   "cell_type": "code",
   "execution_count": 100,
   "id": "c9dd1e04",
   "metadata": {},
   "outputs": [
    {
     "name": "stdout",
     "output_type": "stream",
     "text": [
      "True\n"
     ]
    }
   ],
   "source": [
    "# Q36: Check if a string is all uppercase.\n",
    "code = \"ALPHA-1\"\n",
    "if(not code.islower()):\n",
    "  print(True)\n",
    "else:\n",
    "    print(False)"
   ]
  },
  {
   "cell_type": "code",
   "execution_count": 104,
   "id": "d5e315cd",
   "metadata": {},
   "outputs": [
    {
     "name": "stdout",
     "output_type": "stream",
     "text": [
      "True\n"
     ]
    }
   ],
   "source": [
    "# Q37: You have a list of permissions. Check if the second permission is \"write\".\n",
    "permissions = [\"read\", \"write\", \"execute\"]\n",
    "if(permissions[1] == \"write\"):\n",
    "    print(True)\n",
    "else:\n",
    "    print(False)"
   ]
  },
  {
   "cell_type": "code",
   "execution_count": 106,
   "id": "d676adc8",
   "metadata": {},
   "outputs": [
    {
     "name": "stdout",
     "output_type": "stream",
     "text": [
      "False\n"
     ]
    }
   ],
   "source": [
    "# Q38: Given a dictionary of a file's properties, check if the `size_kb` is greater than 1024.\n",
    "file_props = {\"name\": \"data.csv\", \"size_kb\": 248, \"type\": \"text/csv\"}\n",
    "if(file_props[\"size_kb\"]>1024):\n",
    "    print(True)\n",
    "else:\n",
    "    print(False)"
   ]
  },
  {
   "cell_type": "code",
   "execution_count": 107,
   "id": "c3914a5c",
   "metadata": {},
   "outputs": [
    {
     "name": "stdout",
     "output_type": "stream",
     "text": [
      "Pune\n"
     ]
    }
   ],
   "source": [
    "# Q39: A tuple stores a city and its country. If the country is \"India\", print the city's name.\n",
    "location = (\"Pune\", \"India\")\n",
    "if location[1]== \"India\":\n",
    "    print(location[0])"
   ]
  },
  {
   "cell_type": "code",
   "execution_count": 108,
   "id": "e00be489",
   "metadata": {},
   "outputs": [
    {
     "name": "stdout",
     "output_type": "stream",
     "text": [
      "True\n"
     ]
    }
   ],
   "source": [
    "# Q40: Check if the length of a string `username` is exactly 8 characters.\n",
    "username = \"user1234\"\n",
    "if(len(username)==8):\n",
    "    print(True)\n",
    "else:\n",
    "    print(False)"
   ]
  },
  {
   "cell_type": "code",
   "execution_count": null,
   "id": "c61a185c",
   "metadata": {},
   "outputs": [
    {
     "name": "stdout",
     "output_type": "stream",
     "text": [
      "False\n"
     ]
    }
   ],
   "source": [
    "# Q41: You have a list of dictionaries. Check if the `price` of the first item is less than 500.\n",
    "products = [{\"item\": \"Keyboard\", \"price\": 1200}, {\"item\": \"Pen Drive\", \"price\": 450}]\n",
    "if(product[0][\"price\"]<500):\n",
    "    print(True)\n",
    "else:\n",
    "    print(False)\n"
   ]
  },
  {
   "cell_type": "code",
   "execution_count": 111,
   "id": "ecc396d1",
   "metadata": {},
   "outputs": [
    {
     "name": "stdout",
     "output_type": "stream",
     "text": [
      "True\n"
     ]
    }
   ],
   "source": [
    "# Q42: Check if a number `x` is not equal to `y`.\n",
    "x = 10\n",
    "y = 20\n",
    "if(x!=y):\n",
    "    print(True)\n",
    "else:\n",
    "    print(False)"
   ]
  },
  {
   "cell_type": "code",
   "execution_count": 112,
   "id": "051051de",
   "metadata": {},
   "outputs": [
    {
     "name": "stdout",
     "output_type": "stream",
     "text": [
      "True\n"
     ]
    }
   ],
   "source": [
    "# Q43: A dictionary has a list of `tags`. Check if the length of this list is greater than 0.\n",
    "post = {\"title\": \"My Post\", \"tags\": [\"tech\", \"code\"]}\n",
    "if(len(post[\"tags\"])>0):\n",
    "    print(True)\n",
    "else:\n",
    "    print(False)"
   ]
  },
  {
   "cell_type": "code",
   "execution_count": 114,
   "id": "c5d19141",
   "metadata": {},
   "outputs": [
    {
     "name": "stdout",
     "output_type": "stream",
     "text": [
      "True\n"
     ]
    }
   ],
   "source": [
    "# Q44: Check if a string `s` starts with \"https://\".\n",
    "s = \"https://google.com\"\n",
    "if(s[:8] ==\"https://\"):\n",
    "    print(True)\n",
    "else:\n",
    "    print(False)"
   ]
  },
  {
   "cell_type": "code",
   "execution_count": null,
   "id": "d3cfa1bb",
   "metadata": {},
   "outputs": [
    {
     "name": "stdout",
     "output_type": "stream",
     "text": [
      "False\n"
     ]
    }
   ],
   "source": [
    "# Q45: You have a tuple of three booleans. If the first one is `True`, print \"Condition met.\"\n",
    "flags = (True, False, True)\n",
    "if(flags[0]== True):\n",
    "    print(True)\n",
    "else:\n",
    "    print(False)"
   ]
  },
  {
   "cell_type": "code",
   "execution_count": 117,
   "id": "4ee1d674",
   "metadata": {},
   "outputs": [
    {
     "name": "stdout",
     "output_type": "stream",
     "text": [
      "True\n"
     ]
    }
   ],
   "source": [
    "# Q46: In a nested dictionary, check if the `street` is \"MG Road\".\n",
    "address = {\"city\": \"Pune\", \"details\": {\"street\": \"MG Road\", \"pincode\": 411001}}\n",
    "if(address[\"details\"][\"street\"]== \"MG Road\"):\n",
    "    print(True)\n",
    "else:\n",
    "    print(False)"
   ]
  },
  {
   "cell_type": "code",
   "execution_count": 118,
   "id": "96f1ba1e",
   "metadata": {},
   "outputs": [
    {
     "name": "stdout",
     "output_type": "stream",
     "text": [
      "True\n"
     ]
    }
   ],
   "source": [
    "# Q47: Check if a number is divisible by 10.\n",
    "num = 120\n",
    "if(num % 10==0):\n",
    "    print(True)\n",
    "else:\n",
    "    print(False)"
   ]
  },
  {
   "cell_type": "code",
   "execution_count": 121,
   "id": "811cae01",
   "metadata": {},
   "outputs": [
    {
     "name": "stdout",
     "output_type": "stream",
     "text": [
      "True\n"
     ]
    }
   ],
   "source": [
    "# Q48: Given a list, check if the second element is a list itself.\n",
    "nested_list = [1, [2, 3], 4]\n",
    "if(type(nested_list[1]) == list):\n",
    "    print(True)\n",
    "else:\n",
    "    print(False)"
   ]
  },
  {
   "cell_type": "code",
   "execution_count": 122,
   "id": "203a1a94",
   "metadata": {},
   "outputs": [
    {
     "name": "stdout",
     "output_type": "stream",
     "text": [
      "Account is verfied\n"
     ]
    }
   ],
   "source": [
    "# Q49: A dictionary holds a `verified` status. If it's `True`, print \"Account verified.\"\n",
    "account_status = {\"username\": \"testuser\", \"verified\": True}\n",
    "if(account_status[\"verified\"] == True):\n",
    "    print(\"Account is verfied\")"
   ]
  },
  {
   "cell_type": "code",
   "execution_count": 123,
   "id": "b9ecb039",
   "metadata": {},
   "outputs": [
    {
     "name": "stdout",
     "output_type": "stream",
     "text": [
      "True\n"
     ]
    }
   ],
   "source": [
    "\n",
    "# Q50: Check if the length of a tuple `data` is not equal to 3.\n",
    "data = (1, 2, 3, 4)\n",
    "if(len(data) !=3):\n",
    "    print(True)\n",
    "else:\n",
    "    print(False)"
   ]
  },
  {
   "cell_type": "code",
   "execution_count": 124,
   "id": "9d4a4f00",
   "metadata": {},
   "outputs": [
    {
     "name": "stdout",
     "output_type": "stream",
     "text": [
      "True\n"
     ]
    }
   ],
   "source": [
    "# Q51: Given a score, check if it's a passing grade (>= 40) but not an A-grade (>= 90).\n",
    "marks = 75\n",
    "if (marks >=40 and marks <=90):\n",
    "    print(True)\n",
    "else:\n",
    "    print(False)"
   ]
  },
  {
   "cell_type": "code",
   "execution_count": null,
   "id": "5be22ba2",
   "metadata": {},
   "outputs": [],
   "source": [
    "# Q52: In a list of employees, check if the role of the first employee is 'Manager'.\n",
    "employees = [{\"name\": \"Riya\", \"role\": \"Manager\"}, {\"name\": \"Sam\", \"role\": \"Developer\"}]\n"
   ]
  },
  {
   "cell_type": "code",
   "execution_count": 125,
   "id": "a4522dc5",
   "metadata": {},
   "outputs": [
    {
     "name": "stdout",
     "output_type": "stream",
     "text": [
      "True\n"
     ]
    }
   ],
   "source": [
    "# Q53: Check if a dictionary `d` is empty.\n",
    "d = {}\n",
    "if(not d):\n",
    "    print(True)\n",
    "else:\n",
    "    print(False)"
   ]
  },
  {
   "cell_type": "code",
   "execution_count": 134,
   "id": "c4bd3649",
   "metadata": {},
   "outputs": [
    {
     "name": "stdout",
     "output_type": "stream",
     "text": [
      "web protocol\n"
     ]
    }
   ],
   "source": [
    "# Q54: A string variable `protocol` is given. If it's \"http\" or \"https\", print \"Web protocol.\"\n",
    "protocol = \"https\"\n",
    "if(protocol == \"https\" or protocol == \"http\"):\n",
    "    print(\"web protocol\")\n",
    "else:\n",
    "    print(False)"
   ]
  },
  {
   "cell_type": "code",
   "execution_count": 136,
   "id": "86600b40",
   "metadata": {},
   "outputs": [
    {
     "name": "stdout",
     "output_type": "stream",
     "text": [
      "False\n"
     ]
    }
   ],
   "source": [
    "# Q55: You have a tuple of booleans. If the last element is `True`, print \"Final check passed.\"\n",
    "checks = (True, False, False)\n",
    "if(checks[len(checks)-1]):\n",
    "    print(True)\n",
    "else:\n",
    "    print(False)"
   ]
  },
  {
   "cell_type": "code",
   "execution_count": 139,
   "id": "8963b840",
   "metadata": {},
   "outputs": [
    {
     "name": "stdout",
     "output_type": "stream",
     "text": [
      "True\n"
     ]
    }
   ],
   "source": [
    "# Q56: In a nested dictionary `system`, check if the `monitor`'s `resolution` is \"1920x1080\".\n",
    "system = {\"cpu\": \"i7\", \"ram\": \"16GB\", \"monitor\": {\"size\": 24, \"resolution\": \"1920x1080\"}}\n",
    "if(system[\"monitor\"][\"resolution\"] == \"1920x1080\"):\n",
    "    print(True)\n",
    "else:\n",
    "    print(False)"
   ]
  },
  {
   "cell_type": "code",
   "execution_count": 141,
   "id": "1d7eb737",
   "metadata": {},
   "outputs": [
    {
     "name": "stdout",
     "output_type": "stream",
     "text": [
      "True\n"
     ]
    }
   ],
   "source": [
    "# Q57: Check if a number `age` is less than 18 or greater than 60.\n",
    "age = 65\n",
    "if(age<18 or age >60):\n",
    "    print(True)\n",
    "else:\n",
    "    print(False)"
   ]
  },
  {
   "cell_type": "code",
   "execution_count": 143,
   "id": "3bc70d57",
   "metadata": {},
   "outputs": [
    {
     "name": "stdout",
     "output_type": "stream",
     "text": [
      "True\n"
     ]
    }
   ],
   "source": [
    "# Q58: Check if the type of the second element in a list `mixed_data` is a boolean.\n",
    "mixed_data = [\"Text\", True, 42]\n",
    "if(type(mixed_data[1])== bool):\n",
    "    print(True)\n",
    "else:\n",
    "    print(False)"
   ]
  },
  {
   "cell_type": "code",
   "execution_count": null,
   "id": "10d8e266",
   "metadata": {},
   "outputs": [
    {
     "name": "stdout",
     "output_type": "stream",
     "text": [
      "Temperature in Celsius.\n"
     ]
    }
   ],
   "source": [
    "# Q59: A dictionary `weather` has a key 'unit'. If it's 'celsius', print \"Temperature in Celsius.\"\n",
    "weather = {\"temp\": 28, \"unit\": \"celsius\", \"humidity\": 70}\n",
    "if(weather[\"unit\"]==\"celsius\"):\n",
    "    print(\"Temperature in Celsius.\")\n",
    "else:\n",
    "    print(False)"
   ]
  },
  {
   "cell_type": "code",
   "execution_count": 153,
   "id": "1f3a1ba7",
   "metadata": {},
   "outputs": [
    {
     "name": "stdout",
     "output_type": "stream",
     "text": [
      "True\n"
     ]
    }
   ],
   "source": [
    "# Q60: Check if a string `value` contains only numbers.\n",
    "value = \"1235\"\n",
    "if(value.isdigit()):\n",
    "    print(True)\n",
    "else:\n",
    "    print(False)"
   ]
  },
  {
   "cell_type": "code",
   "execution_count": 155,
   "id": "59b82dd8",
   "metadata": {},
   "outputs": [
    {
     "name": "stdout",
     "output_type": "stream",
     "text": [
      "True\n"
     ]
    }
   ],
   "source": [
    "# Q61: Given a list of names, check if the third name is \"Charlie\".\n",
    "names = [\"Alice\", \"Bob\", \"Charlie\", \"David\"]\n",
    "if(names[2] == \"Charlie\" ):\n",
    "    print(True)\n",
    "else:\n",
    "    print(False)"
   ]
  },
  {
   "cell_type": "code",
   "execution_count": 158,
   "id": "8e3b9a85",
   "metadata": {},
   "outputs": [
    {
     "name": "stdout",
     "output_type": "stream",
     "text": [
      "True\n"
     ]
    }
   ],
   "source": [
    "# Q62: A dictionary has a list of `scores`. Check if the first score is greater than the second.\n",
    "player_scores = {\"name\": \"Player1\", \"scores\": [150, 120, 180]}\n",
    "if(player_scores[\"scores\"][0] >player_scores[\"scores\"][1]):\n",
    "    print(True)\n",
    "else:\n",
    "    print(False)"
   ]
  },
  {
   "cell_type": "code",
   "execution_count": 161,
   "id": "d03b3154",
   "metadata": {},
   "outputs": [
    {
     "name": "stdout",
     "output_type": "stream",
     "text": [
      "True\n"
     ]
    }
   ],
   "source": [
    "# Q63: Check if a string `word` is a palindrome by checking its first and last characters only.\n",
    "word = \"madam\"\n",
    "if(word == word[::-1]):\n",
    "    print(True)\n",
    "else:\n",
    "    print(False)\n"
   ]
  },
  {
   "cell_type": "code",
   "execution_count": 162,
   "id": "866e6618",
   "metadata": {},
   "outputs": [
    {
     "name": "stdout",
     "output_type": "stream",
     "text": [
      "True\n"
     ]
    }
   ],
   "source": [
    "# Q64: A tuple contains flight info. If the third element (status) is \"On Time\", print \"Flight is on time.\"\n",
    "flight_info = (\"AI202\", \"Pune\", \"On Time\")\n",
    "if(flight_info[2]==\"On Time\"):\n",
    "    print(True)\n",
    "else:\n",
    "    print(False)"
   ]
  },
  {
   "cell_type": "code",
   "execution_count": 175,
   "id": "8dc8b992",
   "metadata": {},
   "outputs": [
    {
     "name": "stdout",
     "output_type": "stream",
     "text": [
      "True\n"
     ]
    }
   ],
   "source": [
    "# Q65: Given a user dictionary, check if the `city` key exists in the nested `address` dictionary.\n",
    "user_profile = {\"name\": \"Priya\", \"address\": {\"city\": \"Mumbai\", \"country\": \"India\"}}\n",
    "if(\"city\" in user_profile[\"address\"]) :\n",
    "        print(True)\n",
    "else:\n",
    "    print(False)"
   ]
  },
  {
   "cell_type": "code",
   "execution_count": 176,
   "id": "bd8c64eb",
   "metadata": {},
   "outputs": [
    {
     "name": "stdout",
     "output_type": "stream",
     "text": [
      "True\n"
     ]
    }
   ],
   "source": [
    "# Q66: Check if a list is not empty.\n",
    "my_list = [1]\n",
    "if(my_list):\n",
    "        print(True)\n",
    "else:\n",
    "    print(False)"
   ]
  },
  {
   "cell_type": "code",
   "execution_count": null,
   "id": "f5d814d4",
   "metadata": {},
   "outputs": [],
   "source": []
  },
  {
   "cell_type": "code",
   "execution_count": null,
   "id": "141fe3e6",
   "metadata": {},
   "outputs": [],
   "source": []
  },
  {
   "cell_type": "code",
   "execution_count": null,
   "id": "b209c932",
   "metadata": {},
   "outputs": [],
   "source": []
  },
  {
   "cell_type": "code",
   "execution_count": null,
   "id": "098019ae",
   "metadata": {},
   "outputs": [],
   "source": []
  },
  {
   "cell_type": "code",
   "execution_count": null,
   "id": "87fe2d32",
   "metadata": {},
   "outputs": [],
   "source": []
  },
  {
   "cell_type": "code",
   "execution_count": null,
   "id": "177f8d88",
   "metadata": {},
   "outputs": [],
   "source": []
  },
  {
   "cell_type": "code",
   "execution_count": null,
   "id": "e85af203",
   "metadata": {},
   "outputs": [],
   "source": []
  },
  {
   "cell_type": "code",
   "execution_count": null,
   "id": "b599ba9b",
   "metadata": {},
   "outputs": [],
   "source": []
  },
  {
   "cell_type": "code",
   "execution_count": null,
   "id": "3279be06",
   "metadata": {},
   "outputs": [],
   "source": []
  },
  {
   "cell_type": "code",
   "execution_count": null,
   "id": "4c79ebb1",
   "metadata": {},
   "outputs": [],
   "source": []
  },
  {
   "cell_type": "code",
   "execution_count": null,
   "id": "ea94df51",
   "metadata": {},
   "outputs": [],
   "source": []
  },
  {
   "cell_type": "code",
   "execution_count": null,
   "id": "f99c3a5a",
   "metadata": {},
   "outputs": [],
   "source": []
  },
  {
   "cell_type": "code",
   "execution_count": null,
   "id": "2d58b3b4",
   "metadata": {},
   "outputs": [],
   "source": []
  },
  {
   "cell_type": "code",
   "execution_count": null,
   "id": "9bc0cf28",
   "metadata": {},
   "outputs": [],
   "source": []
  },
  {
   "cell_type": "code",
   "execution_count": null,
   "id": "056861c1",
   "metadata": {},
   "outputs": [],
   "source": []
  },
  {
   "cell_type": "code",
   "execution_count": null,
   "id": "30b94376",
   "metadata": {},
   "outputs": [],
   "source": []
  },
  {
   "cell_type": "code",
   "execution_count": null,
   "id": "4fa081ab",
   "metadata": {},
   "outputs": [],
   "source": []
  },
  {
   "cell_type": "code",
   "execution_count": null,
   "id": "43c81f97",
   "metadata": {},
   "outputs": [],
   "source": []
  },
  {
   "cell_type": "code",
   "execution_count": null,
   "id": "15926eef",
   "metadata": {},
   "outputs": [],
   "source": []
  },
  {
   "cell_type": "code",
   "execution_count": null,
   "id": "4d699606",
   "metadata": {},
   "outputs": [],
   "source": []
  },
  {
   "cell_type": "code",
   "execution_count": null,
   "id": "a03a6c2e",
   "metadata": {},
   "outputs": [],
   "source": []
  },
  {
   "cell_type": "code",
   "execution_count": null,
   "id": "881e3ef9",
   "metadata": {},
   "outputs": [],
   "source": []
  },
  {
   "cell_type": "code",
   "execution_count": null,
   "id": "7ac182b6",
   "metadata": {},
   "outputs": [],
   "source": []
  },
  {
   "cell_type": "code",
   "execution_count": null,
   "id": "80ba61a1",
   "metadata": {},
   "outputs": [],
   "source": []
  },
  {
   "cell_type": "code",
   "execution_count": null,
   "id": "408c30c8",
   "metadata": {},
   "outputs": [],
   "source": []
  },
  {
   "cell_type": "code",
   "execution_count": null,
   "id": "ab0b3c22",
   "metadata": {},
   "outputs": [],
   "source": []
  },
  {
   "cell_type": "code",
   "execution_count": null,
   "id": "467e21d3",
   "metadata": {},
   "outputs": [],
   "source": []
  },
  {
   "cell_type": "code",
   "execution_count": null,
   "id": "4d825c84",
   "metadata": {},
   "outputs": [],
   "source": []
  },
  {
   "cell_type": "code",
   "execution_count": null,
   "id": "994e30ba",
   "metadata": {},
   "outputs": [],
   "source": []
  },
  {
   "cell_type": "code",
   "execution_count": null,
   "id": "39908c9f",
   "metadata": {},
   "outputs": [],
   "source": []
  },
  {
   "cell_type": "code",
   "execution_count": null,
   "id": "bdba0e19",
   "metadata": {},
   "outputs": [],
   "source": []
  },
  {
   "cell_type": "code",
   "execution_count": null,
   "id": "35b070de",
   "metadata": {},
   "outputs": [],
   "source": []
  },
  {
   "cell_type": "code",
   "execution_count": null,
   "id": "e25d4665",
   "metadata": {},
   "outputs": [],
   "source": []
  },
  {
   "cell_type": "code",
   "execution_count": null,
   "id": "b6ee278f",
   "metadata": {},
   "outputs": [],
   "source": []
  },
  {
   "cell_type": "code",
   "execution_count": null,
   "id": "1a235889",
   "metadata": {},
   "outputs": [],
   "source": []
  }
 ],
 "metadata": {
  "kernelspec": {
   "display_name": "Python 3",
   "language": "python",
   "name": "python3"
  },
  "language_info": {
   "codemirror_mode": {
    "name": "ipython",
    "version": 3
   },
   "file_extension": ".py",
   "mimetype": "text/x-python",
   "name": "python",
   "nbconvert_exporter": "python",
   "pygments_lexer": "ipython3",
   "version": "3.13.5"
  }
 },
 "nbformat": 4,
 "nbformat_minor": 5
}
