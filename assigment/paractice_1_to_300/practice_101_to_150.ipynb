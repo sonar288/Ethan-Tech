{
 "cells": [
  {
   "cell_type": "markdown",
   "metadata": {},
   "source": [
    "# Advanced Practice: Data Types and Conditionals (Part 3: 101-150)\n",
    "\n",
    "**Instructions:** Solve the following 50 questions. These questions focus only on Python's basic data types and conditional logic (`if`, `elif`, `else`). There are no loops required. Write your code in the empty cell below each question."
   ]
  },
  {
   "cell_type": "markdown",
   "metadata": {},
   "source": [
    "**Q101:** A dictionary represents a file's metadata. If the 'owner' is 'root' or the 'group' is 'admin', print \"Privileged file access.\""
   ]
  },
  {
   "cell_type": "code",
   "execution_count": 1,
   "metadata": {},
   "outputs": [
    {
     "name": "stdout",
     "output_type": "stream",
     "text": [
      "Privileged file access\n"
     ]
    }
   ],
   "source": [
    "file_meta_101 = {'name': 'config.sys', 'owner': 'user', 'group': 'admin'}\n",
    "# Your code here\n",
    "if(file_meta_101[\"owner\"] == \"root\" or file_meta_101[\"group\"] == \"admin\"):\n",
    "    print(\"Privileged file access\")"
   ]
  },
  {
   "cell_type": "markdown",
   "metadata": {},
   "source": [
    "**Q102:** You have a list of tuples representing transactions `(amount, currency)`. If the currency of the first transaction is 'USD' and the amount is over 1000, print \"High value USD transaction.\""
   ]
  },
  {
   "cell_type": "code",
   "execution_count": 2,
   "metadata": {},
   "outputs": [
    {
     "name": "stdout",
     "output_type": "stream",
     "text": [
      "High value USD tracsaction\n"
     ]
    }
   ],
   "source": [
    "transactions_102 = [(1200, 'USD'), (500, 'EUR')]\n",
    "# Your code here\n",
    "if(transactions_102[0][1] == \"USD\" and transactions_102[0][0] > 1000 ):\n",
    "   print(\"High value USD tracsaction\") \n"
   ]
  },
  {
   "cell_type": "markdown",
   "metadata": {},
   "source": [
    "**Q103:** A string `device_id` is given. If it starts with 'SN-' and has a total length of 10 characters, print \"Valid Serial Number.\""
   ]
  },
  {
   "cell_type": "code",
   "execution_count": 15,
   "metadata": {},
   "outputs": [
    {
     "name": "stdout",
     "output_type": "stream",
     "text": [
      "valid serial number\n"
     ]
    }
   ],
   "source": [
    "device_id_103 = 'SN-A7B3C9Xdkd'\n",
    "# Your code here\n",
    "if(device_id_103[:3] == \"SN-\" and len(device_id_103[3:]) == 10):\n",
    "     print(\"valid serial number\")\n",
    "\n"
   ]
  },
  {
   "cell_type": "markdown",
   "metadata": {},
   "source": [
    "**Q104:** A dictionary contains a list of event timestamps. Check if the first timestamp is greater than the last timestamp, indicating an error in logging order."
   ]
  },
  {
   "cell_type": "code",
   "execution_count": 16,
   "metadata": {},
   "outputs": [
    {
     "name": "stdout",
     "output_type": "stream",
     "text": [
      "True\n"
     ]
    }
   ],
   "source": [
    "log_104 = {'event_id': 1, 'timestamps': [1668866460, 1668866400]}\n",
    "# Your code here\n",
    "if(log_104['timestamps'][0] > log_104['timestamps'][1]):\n",
    "    print(True)\n",
    "else:\n",
    "    print(False)"
   ]
  },
  {
   "cell_type": "markdown",
   "metadata": {},
   "source": [
    "**Q105:** A tuple stores a product's `(name, price, discount_percentage)`. If the final price `(price * (1 - discount_percentage / 100))` is less than 50, print \"Great deal!\""
   ]
  },
  {
   "cell_type": "code",
   "execution_count": null,
   "metadata": {},
   "outputs": [
    {
     "name": "stdout",
     "output_type": "stream",
     "text": [
      "True\n"
     ]
    },
    {
     "data": {
      "text/plain": [
       "48.0"
      ]
     },
     "execution_count": 34,
     "metadata": {},
     "output_type": "execute_result"
    }
   ],
   "source": [
    "product_105 = ('Mug', 60, 20)\n",
    "# Your code here\n",
    "price = product_105[1]\n",
    "discount = product_105[2]\n",
    "if(price*(1-discount/100) <50):\n",
    "     print(True)\n",
    "else:\n",
    "     print(False)\n",
    "\n",
    "\n",
    "\n",
    "    "
   ]
  },
  {
   "cell_type": "markdown",
   "metadata": {},
   "source": [
    "**Q106:** A nested dictionary holds API keys. Check if the `status` for the 'google' service is 'active'."
   ]
  },
  {
   "cell_type": "code",
   "execution_count": 1,
   "metadata": {},
   "outputs": [
    {
     "name": "stdout",
     "output_type": "stream",
     "text": [
      "Google API is active\n"
     ]
    }
   ],
   "source": [
    "api_keys_106 = {'services': {'google': {'key': 'G-123', 'status': 'active'}, 'aws': {'key': 'A-456', 'status': 'inactive'}}}\n",
    "# Your code here\n",
    "if(api_keys_106['services']['google']['status'] == 'active'):\n",
    "    print(\"Google API is active\")"
   ]
  },
  {
   "cell_type": "markdown",
   "metadata": {},
   "source": [
    "**Q107:** You have a list where the second element is a dictionary. Check if this dictionary has a key 'id'."
   ]
  },
  {
   "cell_type": "code",
   "execution_count": 4,
   "metadata": {},
   "outputs": [
    {
     "name": "stdout",
     "output_type": "stream",
     "text": [
      "True\n"
     ]
    }
   ],
   "source": [
    "data_107 = [\"item1\", {\"id\": 100, \"value\": 'A'}]\n",
    "# Your code here\n",
    "if(\"id\" in data_107[1]):\n",
    "    print(True)"
   ]
  },
  {
   "cell_type": "markdown",
   "metadata": {},
   "source": [
    "**Q108:** Check if a string `s` contains only alphabetic characters (no spaces, numbers, or symbols).\n"
   ]
  },
  {
   "cell_type": "code",
   "execution_count": 3,
   "metadata": {},
   "outputs": [
    {
     "name": "stdout",
     "output_type": "stream",
     "text": [
      "True\n"
     ]
    }
   ],
   "source": [
    "s_108 = 'HelloWorld'\n",
    "# Your code here\n",
    "if(s_108.isalpha()):\n",
    "    print(True)\n",
    "else:\n",
    "    print(False)\n",
    " "
   ]
  },
  {
   "cell_type": "markdown",
   "metadata": {},
   "source": [
    "**Q109:** A dictionary value is a tuple of booleans. If all three booleans in the tuple are `True`, print \"All checks passed.\""
   ]
  },
  {
   "cell_type": "code",
   "execution_count": 12,
   "metadata": {},
   "outputs": [
    {
     "name": "stdout",
     "output_type": "stream",
     "text": [
      "All checks passed\n"
     ]
    }
   ],
   "source": [
    "system_status_109 = {'checks': (True, True, True)}\n",
    "# Your code here\n",
    "if all(system_status_109['checks']):\n",
    "   print(\"All checks passed\")"
   ]
  },
  {
   "cell_type": "markdown",
   "metadata": {},
   "source": [
    "**Q110:** A list contains three numbers. Check if they are in strictly increasing order."
   ]
  },
  {
   "cell_type": "code",
   "execution_count": 14,
   "metadata": {},
   "outputs": [
    {
     "name": "stdout",
     "output_type": "stream",
     "text": [
      "in accednding order\n"
     ]
    }
   ],
   "source": [
    "numbers_110 = [10, 20, 30]\n",
    "# Your code here\n",
    "if numbers_110[0]< numbers_110[1] < numbers_110[2]:\n",
    "    print(\"in accednding order\")\n",
    "else:\n",
    "    print(False)"
   ]
  },
  {
   "cell_type": "markdown",
   "metadata": {},
   "source": [
    "**Q111:** Given a dictionary of a player's stats, if their `strength` is greater than their `intelligence`, print \"Might over Magic.\""
   ]
  },
  {
   "cell_type": "code",
   "execution_count": 17,
   "metadata": {},
   "outputs": [
    {
     "name": "stdout",
     "output_type": "stream",
     "text": [
      "Might over Magic\n"
     ]
    }
   ],
   "source": [
    "player_stats_111 = {'strength': 18, 'intelligence': 15, 'dexterity': 12}\n",
    "# Your code here\n",
    "if(player_stats_111['strength'] > player_stats_111['intelligence']):\n",
    "    print(\"Might over Magic\")"
   ]
  },
  {
   "cell_type": "markdown",
   "metadata": {},
   "source": [
    "**Q112:** A list of dictionaries represents an order. Check if the `product_id` of the first item is an integer."
   ]
  },
  {
   "cell_type": "code",
   "execution_count": 21,
   "metadata": {},
   "outputs": [
    {
     "name": "stdout",
     "output_type": "stream",
     "text": [
      "True\n"
     ]
    }
   ],
   "source": [
    "order_112 = [{'product_id': 123456789, 'quantity': 2}, {'product_id': 'AB-543', 'quantity': 1}]\n",
    "# Your code here\n",
    "if isinstance(order_112[0][\"product_id\"],int):\n",
    "    print(True)\n",
    "else:\n",
    "    print(False)"
   ]
  },
  {
   "cell_type": "markdown",
   "metadata": {},
   "source": [
    "**Q113:** Check if a string `s` is empty or just contains whitespace."
   ]
  },
  {
   "cell_type": "code",
   "execution_count": null,
   "metadata": {},
   "outputs": [
    {
     "name": "stdout",
     "output_type": "stream",
     "text": [
      "False\n",
      "False\n"
     ]
    }
   ],
   "source": [
    "s_113 = '    '\n",
    "# Your code here\n",
    "if(not s_113):\n",
    "    print(True)\n",
    "else:\n",
    "    print(False)\n",
    "if(s_113.isspace()):\n",
    "    print(True)\n",
    "else:\n",
    "    print(False)"
   ]
  },
  {
   "cell_type": "markdown",
   "metadata": {},
   "source": [
    "**Q114:** A tuple contains a list as its first element. Check if this list is empty."
   ]
  },
  {
   "cell_type": "code",
   "execution_count": null,
   "metadata": {},
   "outputs": [
    {
     "name": "stdout",
     "output_type": "stream",
     "text": [
      "False\n"
     ]
    }
   ],
   "source": [
    "data_114 = ([], 1, 2)\n",
    "# Your code here\n",
    "if(not data_114[0]):\n",
    "     print(True)\n",
    "else:\n",
    "    print(False)"
   ]
  },
  {
   "cell_type": "markdown",
   "metadata": {},
   "source": [
    "**Q115:** A dictionary has nested `config` data. If the `retries` value is less than the `max_retries` value, print \"Can retry.\""
   ]
  },
  {
   "cell_type": "code",
   "execution_count": 28,
   "metadata": {},
   "outputs": [
    {
     "name": "stdout",
     "output_type": "stream",
     "text": [
      "Can retry\n"
     ]
    }
   ],
   "source": [
    "job_115 = {'id': 'job-5', 'config': {'retries': 2, 'max_retries': 5}}\n",
    "# Your code here\n",
    "if job_115['config']['retries'] < job_115['config']['max_retries']:\n",
    "    print(\"Can retry\")"
   ]
  },
  {
   "cell_type": "markdown",
   "metadata": {},
   "source": [
    "**Q116:** Check if a number is not a multiple of 3."
   ]
  },
  {
   "cell_type": "code",
   "execution_count": 32,
   "metadata": {},
   "outputs": [
    {
     "name": "stdout",
     "output_type": "stream",
     "text": [
      "False\n"
     ]
    }
   ],
   "source": [
    "num_116 = 10\n",
    "# Your code here\n",
    "if num_116 % 3 ==0:\n",
    "    print(True)\n",
    "else:\n",
    "    print(False)"
   ]
  },
  {
   "cell_type": "markdown",
   "metadata": {},
   "source": [
    "**Q117:** A list contains three strings. Check if the second string is a substring of the first string."
   ]
  },
  {
   "cell_type": "code",
   "execution_count": 35,
   "metadata": {},
   "outputs": [
    {
     "name": "stdout",
     "output_type": "stream",
     "text": [
      "True\n"
     ]
    }
   ],
   "source": [
    "strings_117 = ['HelloWorld', 'World', 'Hello']\n",
    "# Your code here\n",
    "if strings_117[2] and strings_117[1] in strings_117[0]:\n",
    "    print(True)\n",
    "else:\n",
    "    print(False)"
   ]
  },
  {
   "cell_type": "markdown",
   "metadata": {},
   "source": [
    "**Q118:** A dictionary's value is a list of numbers. Check if the first number is positive and the second number is negative."
   ]
  },
  {
   "cell_type": "code",
   "execution_count": null,
   "metadata": {},
   "outputs": [],
   "source": [
    "data_118 = {'readings': [10, -5, 8]}\n",
    "# Your code here\n",
    "if(data_118['readings'][0] > 0 and data_118['readings'][1] < 0):\n",
    "    print(True)\n",
    "else:\n",
    "    print(False)\n"
   ]
  },
  {
   "cell_type": "markdown",
   "metadata": {},
   "source": [
    "**Q119:** Check if a string `s` has a length of 4 and is composed entirely of digits."
   ]
  },
  {
   "cell_type": "code",
   "execution_count": 36,
   "metadata": {},
   "outputs": [
    {
     "name": "stdout",
     "output_type": "stream",
     "text": [
      "True\n"
     ]
    }
   ],
   "source": [
    "s_119 = '1234'\n",
    "# Your code here\n",
    "if len(s_119) == 4 and s_119.isdigit():\n",
    "    print(True)\n",
    "else:\n",
    "    print(False)\n"
   ]
  },
  {
   "cell_type": "markdown",
   "metadata": {},
   "source": [
    "**Q120:** A tuple contains a dictionary. Check if this dictionary contains the key 'status'."
   ]
  },
  {
   "cell_type": "code",
   "execution_count": 40,
   "metadata": {},
   "outputs": [
    {
     "name": "stdout",
     "output_type": "stream",
     "text": [
      "True\n"
     ]
    }
   ],
   "source": [
    "data_120 = ({'id': 1, 'status': 'pending'}, 'meta-info')\n",
    "# Your code here\n",
    "if \"status\" in data_120[0] :\n",
    "    print(True)\n",
    "else:\n",
    "    print(False)"
   ]
  },
  {
   "cell_type": "markdown",
   "metadata": {},
   "source": [
    "**Q121:** In a nested dictionary, check if the `email` value contains a `.` (dot)."
   ]
  },
  {
   "cell_type": "code",
   "execution_count": 41,
   "metadata": {},
   "outputs": [
    {
     "name": "stdout",
     "output_type": "stream",
     "text": [
      "True\n"
     ]
    }
   ],
   "source": [
    "user_121 = {'id': 1, 'contact': {'email': 'user@example.com', 'phone': '9876543210'}}\n",
    "# Your code here\n",
    "if(\".\" in user_121[\"contact\"][\"email\"]):\n",
    "    print(True)\n",
    "else:\n",
    "    print(False)"
   ]
  },
  {
   "cell_type": "markdown",
   "metadata": {},
   "source": [
    "**Q122:** A list contains two dictionaries. Check if the `id` of the first dictionary is the same as the `id` of the second."
   ]
  },
  {
   "cell_type": "code",
   "execution_count": 42,
   "metadata": {},
   "outputs": [
    {
     "name": "stdout",
     "output_type": "stream",
     "text": [
      "False\n"
     ]
    }
   ],
   "source": [
    "items_122 = [{'id': 101, 'name': 'A'}, {'id': 102, 'name': 'B'}]\n",
    "# Your code here\n",
    "if items_122[0]['id'] == items_122[1]['id']:\n",
    "    print(True)\n",
    "else:\n",
    "    print(False)"
   ]
  },
  {
   "cell_type": "markdown",
   "metadata": {},
   "source": [
    "**Q123:** Check if a string `s` starts with a vowel (case-insensitive)."
   ]
  },
  {
   "cell_type": "code",
   "execution_count": 46,
   "metadata": {},
   "outputs": [
    {
     "name": "stdout",
     "output_type": "stream",
     "text": [
      "True\n"
     ]
    }
   ],
   "source": [
    "s_123 = 'Apple'\n",
    "# Your code here\n",
    "if(s_123.lower().startswith(\"a\"or\"e\"or\"i\"or\"o\"or\"u\")):\n",
    "    print(True)"
   ]
  },
  {
   "cell_type": "markdown",
   "metadata": {},
   "source": [
    "**Q124:** A tuple stores `(value, max_value)`. If `value` is less than `max_value`, print \"Within limits.\""
   ]
  },
  {
   "cell_type": "code",
   "execution_count": 49,
   "metadata": {},
   "outputs": [
    {
     "name": "stdout",
     "output_type": "stream",
     "text": [
      "Within limits\n"
     ]
    }
   ],
   "source": [
    "limit_124 = (95, 100)\n",
    "# Your code here\n",
    "if limit_124[0] < limit_124[1]:\n",
    "    print(\"Within limits\")\n",
    "else:\n",
    "    print(False)"
   ]
  },
  {
   "cell_type": "markdown",
   "metadata": {},
   "source": [
    "**Q125:** A dictionary `config` has a key `allowed_users`. Check if this list is not empty."
   ]
  },
  {
   "cell_type": "code",
   "execution_count": 50,
   "metadata": {},
   "outputs": [
    {
     "name": "stdout",
     "output_type": "stream",
     "text": [
      "True\n"
     ]
    }
   ],
   "source": [
    "config_125 = {'setting': 'A', 'allowed_users': ['admin', 'guest']}\n",
    "# Your code here\n",
    "if  config_125['allowed_users']:\n",
    "    print(True)\n",
    "else:\n",
    "    print(False)"
   ]
  },
  {
   "cell_type": "markdown",
   "metadata": {},
   "source": [
    "**Q126:** A number `x` is given. Check if its string representation has a length of 5."
   ]
  },
  {
   "cell_type": "code",
   "execution_count": 51,
   "metadata": {},
   "outputs": [
    {
     "name": "stdout",
     "output_type": "stream",
     "text": [
      "True\n"
     ]
    }
   ],
   "source": [
    "x_126 = 12345\n",
    "# Your code here\n",
    "if(len(str(x_126)) == 5):\n",
    "    print(True)\n",
    "else:\n",
    "    print(False)"
   ]
  },
  {
   "cell_type": "markdown",
   "metadata": {},
   "source": [
    "**Q127:** A list of lists is a tic-tac-toe board. Check if the center square is 'X'."
   ]
  },
  {
   "cell_type": "code",
   "execution_count": 52,
   "metadata": {},
   "outputs": [
    {
     "name": "stdout",
     "output_type": "stream",
     "text": [
      "True\n"
     ]
    }
   ],
   "source": [
    "board_127 = [['O', 'X', 'O'], ['X', 'X', 'O'], ['O', 'X', 'X']]\n",
    "# Your code here\n",
    "if(board_127[1][1] == 'X'):\n",
    "    print(True)\n",
    "else:\n",
    "    print(False)"
   ]
  },
  {
   "cell_type": "markdown",
   "metadata": {},
   "source": [
    "**Q128:** A dictionary's value is a list of strings. Check if the second string in the list is 'admin'."
   ]
  },
  {
   "cell_type": "code",
   "execution_count": 53,
   "metadata": {},
   "outputs": [
    {
     "name": "stdout",
     "output_type": "stream",
     "text": [
      "True\n"
     ]
    }
   ],
   "source": [
    "user_roles_128 = {'user_id': 1, 'roles': ['editor', 'admin']}\n",
    "# Your code here\n",
    "if 'admin' in user_roles_128['roles']:\n",
    "    print(True)"
   ]
  },
  {
   "cell_type": "markdown",
   "metadata": {},
   "source": [
    "**Q129:** Check if a string `s` has an odd number of characters."
   ]
  },
  {
   "cell_type": "code",
   "execution_count": 54,
   "metadata": {},
   "outputs": [
    {
     "name": "stdout",
     "output_type": "stream",
     "text": [
      "True\n"
     ]
    }
   ],
   "source": [
    "s_129 = 'oddlength'\n",
    "# Your code here\n",
    "if(len(s_129) % 2 != 0):\n",
    "    print(True)\n",
    "else:\n",
    "    print(False)"
   ]
  },
  {
   "cell_type": "markdown",
   "metadata": {},
   "source": [
    "**Q130:** A tuple contains a dictionary. Check if the value of the 'is_enabled' key in that dictionary is `True`."
   ]
  },
  {
   "cell_type": "code",
   "execution_count": 57,
   "metadata": {},
   "outputs": [
    {
     "name": "stdout",
     "output_type": "stream",
     "text": [
      "True\n"
     ]
    }
   ],
   "source": [
    "feature_flag_130 = ({'name': 'FeatureX', 'is_enabled': True},)\n",
    "# Your code here\n",
    "if feature_flag_130[0]['is_enabled']:\n",
    "    print(True)\n",
    "else:\n",
    "    print(False)\n"
   ]
  },
  {
   "cell_type": "markdown",
   "metadata": {},
   "source": [
    "**Q131:** In a nested dictionary, check if the `port` is either 80 or 8080."
   ]
  },
  {
   "cell_type": "code",
   "execution_count": 59,
   "metadata": {},
   "outputs": [
    {
     "name": "stdout",
     "output_type": "stream",
     "text": [
      "8080\n"
     ]
    }
   ],
   "source": [
    "server_131 = {'config': {'host': 'localhost', 'port': 8080}}\n",
    "# Your code here\n",
    "print(server_131['config']['port'])"
   ]
  },
  {
   "cell_type": "markdown",
   "metadata": {},
   "source": [
    "**Q132:** A list of dictionaries represents books. Check if the `author` of the first book is 'George Orwell'."
   ]
  },
  {
   "cell_type": "code",
   "execution_count": 61,
   "metadata": {},
   "outputs": [
    {
     "name": "stdout",
     "output_type": "stream",
     "text": [
      "True\n"
     ]
    }
   ],
   "source": [
    "books_132 = [{'title': '1984', 'author': 'George Orwell'}, {'title': 'Brave New World', 'author': 'Aldous Huxley'}]\n",
    "# Your code here\n",
    "if books_132[0][\"author\"] == \"George Orwell\":\n",
    "    print(True)\n",
    "else:\n",
    "    print(False)"
   ]
  },
  {
   "cell_type": "markdown",
   "metadata": {},
   "source": [
    "**Q133:** Check if a string `s` does not contain the letter 'x'."
   ]
  },
  {
   "cell_type": "code",
   "execution_count": 62,
   "metadata": {},
   "outputs": [
    {
     "name": "stdout",
     "output_type": "stream",
     "text": [
      "True\n"
     ]
    }
   ],
   "source": [
    "s_133 = 'testing'\n",
    "# Your code here\n",
    "if(not 'x' in s_133):\n",
    "    print(True)"
   ]
  },
  {
   "cell_type": "markdown",
   "metadata": {},
   "source": [
    "**Q134:** A tuple `(a, b, c)` is given. Check if `a*b` is equal to `c`."
   ]
  },
  {
   "cell_type": "code",
   "execution_count": 63,
   "metadata": {},
   "outputs": [
    {
     "name": "stdout",
     "output_type": "stream",
     "text": [
      "True\n"
     ]
    }
   ],
   "source": [
    "values_134 = (5, 4, 20)\n",
    "# Your code here\n",
    "if values_134[0]*values_134[1] == values_134[2]:\n",
    "    print(True)\n",
    "else:\n",
    "    print(False)"
   ]
  },
  {
   "cell_type": "markdown",
   "metadata": {},
   "source": [
    "**Q135:** A dictionary `data` has a list `values`. Check if the first value is an integer and the second is a string."
   ]
  },
  {
   "cell_type": "code",
   "execution_count": 65,
   "metadata": {},
   "outputs": [
    {
     "name": "stdout",
     "output_type": "stream",
     "text": [
      "True\n"
     ]
    }
   ],
   "source": [
    "data_135 = {'id': 'd1', 'values': [101, 'active']}\n",
    "# Your code here\n",
    "if isinstance(data_135['values'][0], int):\n",
    "    print(True)\n",
    "else:\n",
    "    print(False)"
   ]
  },
  {
   "cell_type": "markdown",
   "metadata": {},
   "source": [
    "**Q136:** Check if a number is negative or greater than 100."
   ]
  },
  {
   "cell_type": "code",
   "execution_count": 66,
   "metadata": {},
   "outputs": [
    {
     "name": "stdout",
     "output_type": "stream",
     "text": [
      "True\n"
     ]
    }
   ],
   "source": [
    "num_136 = 150\n",
    "# Your code here\n",
    "if num_136 > 0 or num_136 > 100:\n",
    "    print(True)\n",
    "else:\n",
    "    print(False)"
   ]
  },
  {
   "cell_type": "markdown",
   "metadata": {},
   "source": [
    "**Q137:** A list contains two tuples. Check if the first element of the first tuple is equal to the first element of the second tuple."
   ]
  },
  {
   "cell_type": "code",
   "execution_count": 67,
   "metadata": {},
   "outputs": [
    {
     "name": "stdout",
     "output_type": "stream",
     "text": [
      "True\n"
     ]
    }
   ],
   "source": [
    "points_137 = [(10, 20), (10, 30)]\n",
    "# Your code here\n",
    "if(points_137[0][0] == points_137[1][0]):\n",
    "    print(True)"
   ]
  },
  {
   "cell_type": "markdown",
   "metadata": {},
   "source": [
    "**Q138:** A dictionary's value is a list of strings. Check if the list contains more than 5 strings."
   ]
  },
  {
   "cell_type": "code",
   "execution_count": 68,
   "metadata": {},
   "outputs": [
    {
     "name": "stdout",
     "output_type": "stream",
     "text": [
      "True\n"
     ]
    }
   ],
   "source": [
    "team_138 = {'name': 'Eagles', 'members': ['A', 'B', 'C', 'D', 'E', 'F']}\n",
    "# Your code here\n",
    "if len(team_138['members'])>5:\n",
    "    print(True)\n",
    "else:\n",
    "    print(False)"
   ]
  },
  {
   "cell_type": "markdown",
   "metadata": {},
   "source": [
    "**Q139:** Check if a string `s`, after removing leading/trailing whitespace, is empty."
   ]
  },
  {
   "cell_type": "code",
   "execution_count": 73,
   "metadata": {},
   "outputs": [
    {
     "name": "stdout",
     "output_type": "stream",
     "text": [
      "False\n"
     ]
    }
   ],
   "source": [
    "s_139 = '  '\n",
    "# Your code here\n",
    "if(s_139.strip()):\n",
    "    print(True)\n",
    "else:\n",
    "    print(False)"
   ]
  },
  {
   "cell_type": "markdown",
   "metadata": {},
   "source": [
    "**Q140:** A tuple contains a dictionary. Check if the dictionary has exactly one key-value pair."
   ]
  },
  {
   "cell_type": "code",
   "execution_count": 78,
   "metadata": {},
   "outputs": [
    {
     "name": "stdout",
     "output_type": "stream",
     "text": [
      "True\n"
     ]
    }
   ],
   "source": [
    "data_140 = ({'status': 'done'},)\n",
    "# Your code here\n",
    "if len(data_140[0].keys()) ==1:\n",
    "    print(True)\n",
    "else:\n",
    "    print(False)"
   ]
  },
  {
   "cell_type": "markdown",
   "metadata": {},
   "source": [
    "**Q141:** A deeply nested dictionary. Check if the `id` of the first `item` in the `payload` is 'item-001'."
   ]
  },
  {
   "cell_type": "code",
   "execution_count": 79,
   "metadata": {},
   "outputs": [
    {
     "name": "stdout",
     "output_type": "stream",
     "text": [
      "True\n"
     ]
    }
   ],
   "source": [
    "response_141 = {'meta': {}, 'payload': {'items': [{'id': 'item-001', 'value': 10}]}}\n",
    "# Your code here\n",
    "if(response_141['payload']['items'][0]['id'] == 'item-001'):\n",
    "    print(True)\n",
    "else:\n",
    "    print(False)"
   ]
  },
  {
   "cell_type": "markdown",
   "metadata": {},
   "source": [
    "**Q142:** A list has three dictionaries. Check if the `value` of the second dictionary is a positive number."
   ]
  },
  {
   "cell_type": "code",
   "execution_count": 82,
   "metadata": {},
   "outputs": [
    {
     "name": "stdout",
     "output_type": "stream",
     "text": [
      "True\n"
     ]
    }
   ],
   "source": [
    "data_142 = [{'value': -1}, {'value': 10}, {'value': 5}]\n",
    "# Your code here\n",
    "if data_142[1][\"value\"]> 0:\n",
    "    print(True)\n",
    "else:\n",
    "    print(False)"
   ]
  },
  {
   "cell_type": "markdown",
   "metadata": {},
   "source": [
    "**Q143:** Check if a string `s` is a title (first letter of each word is capitalized)."
   ]
  },
  {
   "cell_type": "code",
   "execution_count": null,
   "metadata": {},
   "outputs": [
    {
     "name": "stdout",
     "output_type": "stream",
     "text": [
      "False\n"
     ]
    }
   ],
   "source": [
    "s_143 = 'This Is A Title'\n",
    "# Your code here\n",
    "if s_143.istitle():\n",
    "    print(True)\n",
    "else:\n",
    "    print(False)"
   ]
  },
  {
   "cell_type": "markdown",
   "metadata": {},
   "source": [
    "**Q144:** A tuple `(name, age, country)` is given. If the country is 'India' or 'USA', print \"Supported Country.\""
   ]
  },
  {
   "cell_type": "code",
   "execution_count": 93,
   "metadata": {},
   "outputs": [
    {
     "name": "stdout",
     "output_type": "stream",
     "text": [
      "Supported Coutry\n"
     ]
    }
   ],
   "source": [
    "user_data_144 = ('Ravi', 30, 'India')\n",
    "# Your code here\n",
    "if user_data_144[2] == 'India' or user_data_144[2] == 'USA':\n",
    "    print(\"Supported Coutry\")\n",
    "else:\n",
    "    print(False)"
   ]
  },
  {
   "cell_type": "markdown",
   "metadata": {},
   "source": [
    "**Q145:** A dictionary `d` has a `value` key. Check if the value is an integer and is less than 100."
   ]
  },
  {
   "cell_type": "code",
   "execution_count": 95,
   "metadata": {},
   "outputs": [
    {
     "name": "stdout",
     "output_type": "stream",
     "text": [
      "True\n"
     ]
    }
   ],
   "source": [
    "d_145 = {'value': 99}\n",
    "# Your code here\n",
    "if(isinstance(d_145['value'], int) and d_145['value'] < 100):\n",
    "    print(True)\n",
    "else:\n",
    "    print(False)"
   ]
  },
  {
   "cell_type": "markdown",
   "metadata": {},
   "source": [
    "**Q146:** A number `x` is given. Check if it is a 3-digit number."
   ]
  },
  {
   "cell_type": "code",
   "execution_count": 97,
   "metadata": {},
   "outputs": [
    {
     "name": "stdout",
     "output_type": "stream",
     "text": [
      "True\n"
     ]
    }
   ],
   "source": [
    "x_146 = 500\n",
    "# Your code here\n",
    "if len(str(x_146)) ==3 :\n",
    "    print(True)\n",
    "else:\n",
    "    print(False)"
   ]
  },
  {
   "cell_type": "markdown",
   "metadata": {},
   "source": [
    "**Q147:** A list has a nested dictionary. Check if the value of the `is_final` key is `False`."
   ]
  },
  {
   "cell_type": "code",
   "execution_count": 100,
   "metadata": {},
   "outputs": [
    {
     "name": "stdout",
     "output_type": "stream",
     "text": [
      "True\n"
     ]
    }
   ],
   "source": [
    "report_147 = ['report-A', {'version': 2, 'is_final': False}]\n",
    "# Your code here\n",
    "if not report_147[1][\"is_final\"]:\n",
    "    print(True)\n",
    "else:\n",
    "    print(False)"
   ]
  },
  {
   "cell_type": "markdown",
   "metadata": {},
   "source": [
    "**Q148:** A dictionary's value is a list of tuples. Check if the second element of the first tuple is 'admin'."
   ]
  },
  {
   "cell_type": "code",
   "execution_count": 101,
   "metadata": {},
   "outputs": [
    {
     "name": "stdout",
     "output_type": "stream",
     "text": [
      "True\n"
     ]
    }
   ],
   "source": [
    "permissions_148 = {'user_1': [('read', 'guest'), ('write', 'guest')], 'user_2': [('read', 'admin')]}\n",
    "# Your code here\n",
    "if(permissions_148['user_2'][0][1] == 'admin'):\n",
    "    print(True)\n",
    "else:\n",
    "    print(False)"
   ]
  },
  {
   "cell_type": "markdown",
   "metadata": {},
   "source": [
    "**Q149:** Check if a string `s`, when converted to lowercase, is 'python'."
   ]
  },
  {
   "cell_type": "code",
   "execution_count": 102,
   "metadata": {},
   "outputs": [
    {
     "name": "stdout",
     "output_type": "stream",
     "text": [
      "True\n"
     ]
    }
   ],
   "source": [
    "s_149 = 'Python'\n",
    "# Your code here\n",
    "if s_149.lower() == 'python':\n",
    "    print(True)\n",
    "else:\n",
    "    print(False)\n",
    "    "
   ]
  },
  {
   "cell_type": "markdown",
   "metadata": {},
   "source": [
    "**Q150:** A tuple contains a list and a dictionary. Check if the list is empty and the dictionary has a key 'error'."
   ]
  },
  {
   "cell_type": "code",
   "execution_count": 104,
   "metadata": {},
   "outputs": [
    {
     "name": "stdout",
     "output_type": "stream",
     "text": [
      "True\n"
     ]
    }
   ],
   "source": [
    "response_150 = ([], {'status': 'fail', 'error': 'timeout'})\n",
    "# Your code here\n",
    "if(not response_150[0] and \"error\" in response_150[1]):\n",
    "    print(True)\n",
    "else:\n",
    "    print(False)\n"
   ]
  },
  {
   "cell_type": "code",
   "execution_count": null,
   "id": "70c60774",
   "metadata": {},
   "outputs": [],
   "source": []
  }
 ],
 "metadata": {
  "kernelspec": {
   "display_name": "Python 3",
   "language": "python",
   "name": "python3"
  },
  "language_info": {
   "codemirror_mode": {
    "name": "ipython",
    "version": 3
   },
   "file_extension": ".py",
   "mimetype": "text/x-python",
   "name": "python",
   "nbconvert_exporter": "python",
   "pygments_lexer": "ipython3",
   "version": "3.13.5"
  }
 },
 "nbformat": 4,
 "nbformat_minor": 5
}
