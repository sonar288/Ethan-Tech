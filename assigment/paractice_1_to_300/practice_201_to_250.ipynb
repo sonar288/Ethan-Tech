{
 "cells": [
  {
   "cell_type": "markdown",
   "metadata": {},
   "source": [
    "# Advanced Practice: Data Types and Conditionals (Part 5: 201-250)\n",
    "\n",
    "**Instructions:** Solve the following 50 questions. These questions focus only on Python's basic data types and conditional logic (`if`, `elif`, `else`). There are no loops required. Write your code in the empty cell below each question."
   ]
  },
  {
   "cell_type": "markdown",
   "metadata": {},
   "source": [
    "**Q201:** A dictionary represents a weather report. If the `humidity` in `main` is over 90, print \"High humidity warning.\""
   ]
  },
  {
   "cell_type": "code",
   "execution_count": 1,
   "metadata": {},
   "outputs": [
    {
     "name": "stdout",
     "output_type": "stream",
     "text": [
      "High humidity\n"
     ]
    }
   ],
   "source": [
    "weather_201 = {'main': {'temp': 28, 'humidity': 92}, 'weather': [{'description': 'mist'}]}\n",
    "# Your code here\n",
    "if weather_201['main']['humidity'] > 90:\n",
    "    print(\"High humidity\")\n",
    "else:\n",
    "    print(False)"
   ]
  },
  {
   "cell_type": "markdown",
   "metadata": {},
   "source": [
    "**Q202:** You have a list of tuples `(event, timestamp)`. Check if the event of the last entry is 'shutdown'."
   ]
  },
  {
   "cell_type": "code",
   "execution_count": 2,
   "metadata": {},
   "outputs": [
    {
     "name": "stdout",
     "output_type": "stream",
     "text": [
      "True\n"
     ]
    }
   ],
   "source": [
    "log_202 = [('startup', 1668810000), ('error', 1668820000), ('shutdown', 1668830000)]\n",
    "# Your code here\n",
    "if log_202[len(log_202)-1][0] == 'shutdown':\n",
    "    print(True)\n",
    "else:\n",
    "    print(False)\n"
   ]
  },
  {
   "cell_type": "markdown",
   "metadata": {},
   "source": [
    "**Q203:** A string `booking_id` is given. If it starts with 'B' and ends with 'X', print \"Valid booking ID.\""
   ]
  },
  {
   "cell_type": "code",
   "execution_count": 3,
   "metadata": {},
   "outputs": [
    {
     "name": "stdout",
     "output_type": "stream",
     "text": [
      "True\n"
     ]
    }
   ],
   "source": [
    "booking_id_203 = 'B-12345-X'\n",
    "# Your code here\n",
    "if booking_id_203.startswith('B') and booking_id_203.endswith('X'):\n",
    "    print(True)\n",
    "else:\n",
    "    print(False)\n"
   ]
  },
  {
   "cell_type": "markdown",
   "metadata": {},
   "source": [
    "**Q204:** A dictionary has a list of `scores`. Check if the second score is a perfect 10."
   ]
  },
  {
   "cell_type": "code",
   "execution_count": 6,
   "metadata": {},
   "outputs": [
    {
     "name": "stdout",
     "output_type": "stream",
     "text": [
      "True\n"
     ]
    }
   ],
   "source": [
    "gymnast_204 = {'name': 'Elena', 'scores': [9.8, 10.0, 9.9]}\n",
    "# Your code here\n",
    "if  gymnast_204['scores'][1] == 10:\n",
    "    print(True)\n",
    "else:\n",
    "    print(False)\n"
   ]
  },
  {
   "cell_type": "markdown",
   "metadata": {},
   "source": [
    "**Q205:** A tuple stores a system status `(is_online, last_ping_ms)`. If the system is online and the ping is over 100ms, print \"High latency detected.\""
   ]
  },
  {
   "cell_type": "code",
   "execution_count": 7,
   "metadata": {},
   "outputs": [
    {
     "name": "stdout",
     "output_type": "stream",
     "text": [
      "High latency detected\n"
     ]
    }
   ],
   "source": [
    "system_status_205 = (True, 120)\n",
    "# Your code here\n",
    "if system_status_205[0] == True :\n",
    "    print(\"High latency detected\")\n",
    "else:\n",
    "    print(False)\n"
   ]
  },
  {
   "cell_type": "markdown",
   "metadata": {},
   "source": [
    "**Q206:** A nested dictionary holds a student's grades. Check if the 'science' grade is 'A'."
   ]
  },
  {
   "cell_type": "code",
   "execution_count": 8,
   "metadata": {},
   "outputs": [
    {
     "name": "stdout",
     "output_type": "stream",
     "text": [
      "True\n"
     ]
    }
   ],
   "source": [
    "student_206 = {'id': 'S206', 'grades': {'math': 'B', 'science': 'A'}}\n",
    "# Your code here\n",
    "if student_206['grades']['science'] == 'A':\n",
    "    print(True)\n",
    "else:\n",
    "    print(False)\n"
   ]
  },
  {
   "cell_type": "markdown",
   "metadata": {},
   "source": [
    "**Q207:** You have a list where the first element is a dictionary. Check if this dictionary's 'id' value is an integer."
   ]
  },
  {
   "cell_type": "code",
   "execution_count": 9,
   "metadata": {},
   "outputs": [
    {
     "name": "stdout",
     "output_type": "stream",
     "text": [
      "True\n"
     ]
    }
   ],
   "source": [
    "data_207 = [{'id': 123, 'name': 'A'}, 'meta']\n",
    "# Your code here\n",
    "if isinstance(data_207[0][\"id\"], int):\n",
    "    print(True)\n",
    "else:\n",
    "    print(False)\n"
   ]
  },
  {
   "cell_type": "markdown",
   "metadata": {},
   "source": [
    "**Q208:** Check if a string `s` has a length greater than 5 and contains the character 'a'."
   ]
  },
  {
   "cell_type": "code",
   "execution_count": 10,
   "metadata": {},
   "outputs": [
    {
     "name": "stdout",
     "output_type": "stream",
     "text": [
      "True\n"
     ]
    }
   ],
   "source": [
    "s_208 = 'banana'\n",
    "# Your code here\n",
    "if len(s_208)> 5 and 'a' in s_208:\n",
    "    print(True)\n",
    "else:\n",
    "    print(False)"
   ]
  },
  {
   "cell_type": "markdown",
   "metadata": {},
   "source": [
    "**Q209:** A dictionary's value is a tuple of strings. If the first string is 'error', print the second string in the tuple."
   ]
  },
  {
   "cell_type": "code",
   "execution_count": 11,
   "metadata": {},
   "outputs": [
    {
     "name": "stdout",
     "output_type": "stream",
     "text": [
      "Disk space low\n"
     ]
    }
   ],
   "source": [
    "log_entry_209 = {'level': ('error', 'Disk space low')}\n",
    "# Your code here\n",
    "if log_entry_209['level'][0] == 'error':\n",
    "    print(log_entry_209['level'][1])\n",
    "else:\n",
    "    print(False)\n"
   ]
  },
  {
   "cell_type": "markdown",
   "metadata": {},
   "source": [
    "**Q210:** A list contains three numbers. Check if the sum of all three is exactly 180 (like angles of a triangle)."
   ]
  },
  {
   "cell_type": "code",
   "execution_count": 12,
   "metadata": {},
   "outputs": [
    {
     "name": "stdout",
     "output_type": "stream",
     "text": [
      "True\n"
     ]
    }
   ],
   "source": [
    "angles_210 = [60, 60, 60]\n",
    "# Your code here\n",
    "if angles_210[0] +angles_210[1] + angles_210[2] == 180:\n",
    "    print(True)\n",
    "else:\n",
    "    print(False)\n"
   ]
  },
  {
   "cell_type": "markdown",
   "metadata": {},
   "source": [
    "**Q211:** A dictionary has a `discount` key. If the key exists and its value is not 0, print \"Discount is applied.\""
   ]
  },
  {
   "cell_type": "code",
   "execution_count": 13,
   "metadata": {},
   "outputs": [
    {
     "name": "stdout",
     "output_type": "stream",
     "text": [
      "Discount is applied\n"
     ]
    }
   ],
   "source": [
    "product_211 = {'price': 500, 'discount': 10}\n",
    "# Your code here\n",
    "if product_211['discount'] > 0:\n",
    "    print(\"Discount is applied\")\n",
    "else:\n",
    "    print(False)\n"
   ]
  },
  {
   "cell_type": "markdown",
   "metadata": {},
   "source": [
    "**Q212:** You have a list of dictionaries. Check if the `is_vegan` flag of the first item is `True`."
   ]
  },
  {
   "cell_type": "code",
   "execution_count": 15,
   "metadata": {},
   "outputs": [
    {
     "name": "stdout",
     "output_type": "stream",
     "text": [
      "True\n",
      "False\n"
     ]
    }
   ],
   "source": [
    "menu_212 = [{'item': 'Salad', 'is_vegan': True}, {'item': 'Steak', 'is_vegan': False}]\n",
    "# Your code here\n",
    "for dish in menu_212:\n",
    "    if dish['is_vegan']:\n",
    "        print(True)\n",
    "    else:\n",
    "        print(False)"
   ]
  },
  {
   "cell_type": "markdown",
   "metadata": {},
   "source": [
    "**Q213:** Check if a string `s`, after stripping whitespace, has a length of 0."
   ]
  },
  {
   "cell_type": "code",
   "execution_count": 16,
   "metadata": {},
   "outputs": [
    {
     "name": "stdout",
     "output_type": "stream",
     "text": [
      "True\n"
     ]
    }
   ],
   "source": [
    "s_213 = '  '\n",
    "# Your code here\n",
    "if s_213.strip() == '':\n",
    "    print(True)\n",
    "else:\n",
    "    print(False)\n"
   ]
  },
  {
   "cell_type": "markdown",
   "metadata": {},
   "source": [
    "**Q214:** A tuple contains a list as its first element. Check if the first and last elements of that list are the same."
   ]
  },
  {
   "cell_type": "code",
   "execution_count": 17,
   "metadata": {},
   "outputs": [
    {
     "name": "stdout",
     "output_type": "stream",
     "text": [
      "True\n"
     ]
    }
   ],
   "source": [
    "data_214 = ([10, 20, 10], 'info')\n",
    "# Your code here\n",
    "if data_214[0][0] == data_214[0][2]:\n",
    "    print(True)\n",
    "else:\n",
    "    print(False)\n"
   ]
  },
  {
   "cell_type": "markdown",
   "metadata": {},
   "source": [
    "**Q215:** A dictionary has nested `info`. If the `age` is over 60 or the `status` is 'retired', print \"Senior citizen benefits apply.\""
   ]
  },
  {
   "cell_type": "code",
   "execution_count": 18,
   "metadata": {},
   "outputs": [
    {
     "name": "stdout",
     "output_type": "stream",
     "text": [
      "False\n"
     ]
    }
   ],
   "source": [
    "person_215 = {'id': 'p-2', 'info': {'age': 65, 'status': 'working'}}\n",
    "# Your code here\n",
    "if person_215['info']['age'] > 60 and person_215['info']['status'] == 'retired':\n",
    "    print(\"Senior citizen benefits apply\")\n",
    "else:\n",
    "    print(False)\n"
   ]
  },
  {
   "cell_type": "markdown",
   "metadata": {},
   "source": [
    "**Q216:** Check if a number is divisible by 2 and 3, but not by 5."
   ]
  },
  {
   "cell_type": "code",
   "execution_count": 19,
   "metadata": {},
   "outputs": [
    {
     "name": "stdout",
     "output_type": "stream",
     "text": [
      "True\n"
     ]
    }
   ],
   "source": [
    "num_216 = 18\n",
    "# Your code here\n",
    "if num_216 % 2 == 0 and num_216 %3 == 0 and not num_216 % 5 == 0:\n",
    "    print(True)\n",
    "else:\n",
    "    print(False)\n"
   ]
  },
  {
   "cell_type": "markdown",
   "metadata": {},
   "source": [
    "**Q217:** A list contains two strings. Check if the second string is the reverse of the first string."
   ]
  },
  {
   "cell_type": "code",
   "execution_count": 20,
   "metadata": {},
   "outputs": [
    {
     "name": "stdout",
     "output_type": "stream",
     "text": [
      "True\n"
     ]
    }
   ],
   "source": [
    "words_217 = ['live', 'evil']\n",
    "# Your code here\n",
    "if words_217[0] == words_217[1][::-1]:\n",
    "    print(True)\n",
    "else:\n",
    "    print(False)\n"
   ]
  },
  {
   "cell_type": "markdown",
   "metadata": {},
   "source": [
    "**Q218:** A dictionary's value is a list of numbers. Check if the list has 4 elements and the last element is a float."
   ]
  },
  {
   "cell_type": "code",
   "execution_count": 21,
   "metadata": {},
   "outputs": [
    {
     "name": "stdout",
     "output_type": "stream",
     "text": [
      "True\n"
     ]
    }
   ],
   "source": [
    "data_218 = {'values': [1, 2, 3, 4.0]}\n",
    "# Your code here\n",
    "if isinstance(data_218['values'][3], float):\n",
    "    print(True)\n",
    "else:\n",
    "    print(False)\n"
   ]
  },
  {
   "cell_type": "markdown",
   "metadata": {},
   "source": [
    "**Q219:** Check if a string `s` has a length that is not equal to 10."
   ]
  },
  {
   "cell_type": "code",
   "execution_count": 22,
   "metadata": {},
   "outputs": [
    {
     "name": "stdout",
     "output_type": "stream",
     "text": [
      "True\n"
     ]
    }
   ],
   "source": [
    "s_219 = 'short'\n",
    "# Your code here\n",
    "if not len(s_219) == 10:\n",
    "    print(True)\n",
    "else:\n",
    "    print(False)\n"
   ]
  },
  {
   "cell_type": "markdown",
   "metadata": {},
   "source": [
    "**Q220:** A tuple contains a dictionary. Check if the dictionary has a key 'name' and its value is a string."
   ]
  },
  {
   "cell_type": "code",
   "execution_count": 23,
   "metadata": {},
   "outputs": [
    {
     "name": "stdout",
     "output_type": "stream",
     "text": [
      "True\n"
     ]
    }
   ],
   "source": [
    "data_220 = ({'name': 'Test', 'value': 1},)\n",
    "# Your code here\n",
    "if \"name\" in data_220[0] and isinstance(data_220[0]['name'], str):\n",
    "    print(True)\n",
    "else:\n",
    "    print(False)\n"
   ]
  },
  {
   "cell_type": "markdown",
   "metadata": {},
   "source": [
    "**Q221:** In a nested dictionary, check if the `street` in `address` is a string with length greater than 5."
   ]
  },
  {
   "cell_type": "code",
   "execution_count": 24,
   "metadata": {},
   "outputs": [
    {
     "name": "stdout",
     "output_type": "stream",
     "text": [
      "True\n"
     ]
    }
   ],
   "source": [
    "user_221 = {'id': 3, 'address': {'street': 'Main Street', 'city': 'Anytown'}}\n",
    "# Your code here\n",
    "if len(user_221['address']['street']) > 5:\n",
    "    print(True)\n",
    "else:\n",
    "    print(False)\n"
   ]
  },
  {
   "cell_type": "markdown",
   "metadata": {},
   "source": [
    "**Q222:** A list contains two dictionaries. Check if the `price` of the first is less than the `price` of the second."
   ]
  },
  {
   "cell_type": "code",
   "execution_count": 25,
   "metadata": {},
   "outputs": [
    {
     "name": "stdout",
     "output_type": "stream",
     "text": [
      "False\n"
     ]
    }
   ],
   "source": [
    "products_222 = [{'name': 'Pen', 'price': 10}, {'name': 'Book', 'price': 150}]\n",
    "# Your code here\n",
    "if products_222[0][\"price\"] > products_222[1][\"price\"]:\n",
    "    print(True)\n",
    "else:\n",
    "    print(False)\n"
   ]
  },
  {
   "cell_type": "markdown",
   "metadata": {},
   "source": [
    "**Q223:** Check if a string `s` has a '.' in the middle. (For odd length strings only)."
   ]
  },
  {
   "cell_type": "code",
   "execution_count": null,
   "metadata": {},
   "outputs": [
    {
     "name": "stdout",
     "output_type": "stream",
     "text": [
      " string is even\n"
     ]
    }
   ],
   "source": [
    "s_223 = 'v3.1'\n",
    "# Your code here\n",
    "if not len(s_223) % 2 == 0:\n",
    "    if s_223[len(s_223)//2] == \".\":\n",
    "        print(True)\n",
    "    else:\n",
    "        print(False)\n",
    "else:\n",
    "    print(\" string is even\")\n"
   ]
  },
  {
   "cell_type": "markdown",
   "metadata": {},
   "source": [
    "**Q224:** A tuple stores `(has_access, is_admin)`. If the user has access and is an admin, print \"Welcome, Admin!\""
   ]
  },
  {
   "cell_type": "code",
   "execution_count": 31,
   "metadata": {},
   "outputs": [
    {
     "name": "stdout",
     "output_type": "stream",
     "text": [
      "Welcome admin\n"
     ]
    }
   ],
   "source": [
    "user_role_224 = (True, True)\n",
    "# Your code here\n",
    "if user_role_224[0] and user_role_224[1]:\n",
    "    print(\"Welcome admin\")\n",
    "else:\n",
    "    print(\"Access denied\")\n"
   ]
  },
  {
   "cell_type": "markdown",
   "metadata": {},
   "source": [
    "**Q225:** A dictionary `data` has a list `items`. Check if the list contains at least one item."
   ]
  },
  {
   "cell_type": "code",
   "execution_count": 32,
   "metadata": {},
   "outputs": [
    {
     "name": "stdout",
     "output_type": "stream",
     "text": [
      "True\n"
     ]
    }
   ],
   "source": [
    "data_225 = {'id': 'd2', 'items': ['first_item']}\n",
    "# Your code here\n",
    "if data_225[\"items\"]:\n",
    "    print(True)\n",
    "else:\n",
    "    print(False)\n"
   ]
  },
  {
   "cell_type": "markdown",
   "metadata": {},
   "source": [
    "**Q226:** A number `x` is given. Check if its absolute value is 10."
   ]
  },
  {
   "cell_type": "code",
   "execution_count": 35,
   "metadata": {},
   "outputs": [
    {
     "name": "stdout",
     "output_type": "stream",
     "text": [
      "True\n"
     ]
    }
   ],
   "source": [
    "x_226 = -10\n",
    "# Your code here\n",
    "if abs(x_226) ==10:\n",
    "    print(True)\n",
    "else:\n",
    "    print(False)\n"
   ]
  },
  {
   "cell_type": "markdown",
   "metadata": {},
   "source": [
    "**Q227:** A list of lists is a path. Check if the first coordinate is the origin `[0, 0]`."
   ]
  },
  {
   "cell_type": "code",
   "execution_count": 36,
   "metadata": {},
   "outputs": [
    {
     "name": "stdout",
     "output_type": "stream",
     "text": [
      "True\n"
     ]
    }
   ],
   "source": [
    "path_227 = [[0, 0], [1, 2], [3, 4]]\n",
    "# Your code here\n",
    "if path_227[0] == [0, 0]:\n",
    "    print(True)\n",
    "else:\n",
    "    print(False)\n"
   ]
  },
  {
   "cell_type": "markdown",
   "metadata": {},
   "source": [
    "**Q228:** A dictionary's value is a list of strings. Check if the third string is 'DONE'."
   ]
  },
  {
   "cell_type": "code",
   "execution_count": 37,
   "metadata": {},
   "outputs": [
    {
     "name": "stdout",
     "output_type": "stream",
     "text": [
      "True\n"
     ]
    }
   ],
   "source": [
    "task_status_228 = {'task_id': 'T1', 'history': ['OPEN', 'IN_PROGRESS', 'DONE']}\n",
    "# Your code here\n",
    "if task_status_228['history'][-1] == 'DONE':\n",
    "    print(True)\n",
    "else:\n",
    "    print(False)\n"
   ]
  },
  {
   "cell_type": "markdown",
   "metadata": {},
   "source": [
    "**Q229:** Check if a string `s` is composed of only whitespace characters."
   ]
  },
  {
   "cell_type": "code",
   "execution_count": 38,
   "metadata": {},
   "outputs": [
    {
     "name": "stdout",
     "output_type": "stream",
     "text": [
      "True\n"
     ]
    }
   ],
   "source": [
    "s_229 = '   \\t\\n '\n",
    "# Your code here\n",
    "if s_229.isspace():\n",
    "    print(True)\n",
    "else:\n",
    "    print(False)\n"
   ]
  },
  {
   "cell_type": "markdown",
   "metadata": {},
   "source": [
    "**Q230:** A tuple contains a dictionary. Check if the `id` value in the dictionary is positive."
   ]
  },
  {
   "cell_type": "code",
   "execution_count": 39,
   "metadata": {},
   "outputs": [
    {
     "name": "stdout",
     "output_type": "stream",
     "text": [
      "True\n"
     ]
    }
   ],
   "source": [
    "data_230 = ('item', {'id': 1, 'value': 'A'})\n",
    "# Your code here\n",
    "if data_230[1][\"id\"] >0:\n",
    "    print(True)"
   ]
  },
  {
   "cell_type": "markdown",
   "metadata": {},
   "source": [
    "**Q231:** In a nested dictionary, check if the `port` is a valid known port (less than 1024)."
   ]
  },
  {
   "cell_type": "code",
   "execution_count": 40,
   "metadata": {},
   "outputs": [
    {
     "name": "stdout",
     "output_type": "stream",
     "text": [
      "secure port\n"
     ]
    }
   ],
   "source": [
    "service_231 = {'protocol': 'ssh', 'details': {'port': 22}}\n",
    "# Your code here\n",
    "if service_231['details']['port'] < 1024:\n",
    "    print(\"secure port\")\n",
    "else:\n",
    "    print(False)\n"
   ]
  },
  {
   "cell_type": "markdown",
   "metadata": {},
   "source": [
    "**Q232:** A list of dictionaries represents an order. Check if the `quantity` of the second item is greater than 0."
   ]
  },
  {
   "cell_type": "code",
   "execution_count": 41,
   "metadata": {},
   "outputs": [
    {
     "name": "stdout",
     "output_type": "stream",
     "text": [
      "Item B is in stock\n"
     ]
    }
   ],
   "source": [
    "order_232 = [{'item': 'A', 'quantity': 1}, {'item': 'B', 'quantity': 5}]\n",
    "# Your code here\n",
    "if order_232[1]['quantity']>0:\n",
    "    print(\"Item B is in stock\")\n",
    "else:\n",
    "    print(\"Item B is out of stock\")\n"
   ]
  },
  {
   "cell_type": "markdown",
   "metadata": {},
   "source": [
    "**Q233:** Check if a string `s` is a palindrome (reads the same forwards and backwards)."
   ]
  },
  {
   "cell_type": "code",
   "execution_count": 42,
   "metadata": {},
   "outputs": [
    {
     "name": "stdout",
     "output_type": "stream",
     "text": [
      "Palindrome\n"
     ]
    }
   ],
   "source": [
    "s_233 = 'level'\n",
    "# Your code here\n",
    "if s_233 == s_233[::-1]:\n",
    "    print(\"Palindrome\")\n",
    "else:\n",
    "    print(\"Not a palindrome\")\n"
   ]
  },
  {
   "cell_type": "markdown",
   "metadata": {},
   "source": [
    "**Q234:** A tuple `(grade, is_honors)` is given. If the grade is 'A' and `is_honors` is `True`, print \"High honors student.\""
   ]
  },
  {
   "cell_type": "code",
   "execution_count": 43,
   "metadata": {},
   "outputs": [
    {
     "name": "stdout",
     "output_type": "stream",
     "text": [
      "Student is active\n"
     ]
    }
   ],
   "source": [
    "student_status_234 = ('A', True)\n",
    "# Your code here\n",
    "if student_status_234[0] == 'A' and student_status_234[1]:\n",
    "    print(\"Student is active\")\n",
    "else:\n",
    "    print(\"Student is inactive\")\n"
   ]
  },
  {
   "cell_type": "markdown",
   "metadata": {},
   "source": [
    "**Q235:** A dictionary `d` has a `data` key. Check if the `data` is a list and it is not empty."
   ]
  },
  {
   "cell_type": "code",
   "execution_count": 44,
   "metadata": {},
   "outputs": [
    {
     "name": "stdout",
     "output_type": "stream",
     "text": [
      "True\n"
     ]
    }
   ],
   "source": [
    "d_235 = {'data': [1, 2, 3]}\n",
    "# Your code here\n",
    "if d_235['data']:\n",
    "    print(True)\n",
    "else:\n",
    "    print(False)"
   ]
  },
  {
   "cell_type": "markdown",
   "metadata": {},
   "source": [
    "**Q236:** A number `x` is given. Check if it is within the range [0, 100] but not equal to 50."
   ]
  },
  {
   "cell_type": "code",
   "execution_count": 45,
   "metadata": {},
   "outputs": [
    {
     "name": "stdout",
     "output_type": "stream",
     "text": [
      "True\n"
     ]
    }
   ],
   "source": [
    "x_236 = 75\n",
    "# Your code here\n",
    "if x_236 > 0 and x_236 < 100 and not x_236 == 50:\n",
    "    print(True)\n",
    "else:\n",
    "    print(False)"
   ]
  },
  {
   "cell_type": "markdown",
   "metadata": {},
   "source": [
    "**Q237:** A list has a nested dictionary. Check if the value of the 'name' key is a string."
   ]
  },
  {
   "cell_type": "code",
   "execution_count": 46,
   "metadata": {},
   "outputs": [
    {
     "name": "stdout",
     "output_type": "stream",
     "text": [
      "True\n"
     ]
    }
   ],
   "source": [
    "data_237 = [0, 1, {'id': 1, 'name': 'John'}]\n",
    "# Your code here\n",
    "if isinstance(data_237[2]['name'], str):\n",
    "    print(True)\n",
    "else:\n",
    "    print(False)"
   ]
  },
  {
   "cell_type": "markdown",
   "metadata": {},
   "source": [
    "**Q238:** A dictionary's value is a list of tuples. Check if the second element of the second tuple is a negative number."
   ]
  },
  {
   "cell_type": "code",
   "execution_count": 47,
   "metadata": {},
   "outputs": [
    {
     "name": "stdout",
     "output_type": "stream",
     "text": [
      "Negative Y coordinate found\n"
     ]
    }
   ],
   "source": [
    "data_238 = {'points': [(1, 2), (3, -4)]}\n",
    "# Your code here\n",
    "if data_238['points'][1][1] < 0:\n",
    "    print(\"Negative Y coordinate found\")\n",
    "else:\n",
    "    print(\"No negative Y coordinate found\")"
   ]
  },
  {
   "cell_type": "markdown",
   "metadata": {},
   "source": [
    "**Q239:** Check if a string `s`, when converted to an integer, is greater than 1000."
   ]
  },
  {
   "cell_type": "code",
   "execution_count": 48,
   "metadata": {},
   "outputs": [
    {
     "name": "stdout",
     "output_type": "stream",
     "text": [
      "Greater than 1000\n"
     ]
    }
   ],
   "source": [
    "s_239 = '1001'\n",
    "# Your code here\n",
    "if int(s_239) > 1000:\n",
    "     print(\"Greater than 1000\")\n",
    "else:\n",
    "     print(False)    "
   ]
  },
  {
   "cell_type": "markdown",
   "metadata": {},
   "source": [
    "**Q240:** A tuple contains two lists. Check if the length of the first list is greater than the length of the second list."
   ]
  },
  {
   "cell_type": "code",
   "execution_count": 49,
   "metadata": {},
   "outputs": [
    {
     "name": "stdout",
     "output_type": "stream",
     "text": [
      "True\n"
     ]
    }
   ],
   "source": [
    "data_240 = ([1, 2, 3], [4, 5])\n",
    "# Your code here\n",
    "if(len(data_240[0]) > 0 and len(data_240[1]) > 0):\n",
    "    print(True)\n",
    "else:\n",
    "    print(False)"
   ]
  },
  {
   "cell_type": "markdown",
   "metadata": {},
   "source": [
    "**Q241:** A deeply nested dictionary. Check if the `city` of the first `user` in the `data` list is 'Pune'."
   ]
  },
  {
   "cell_type": "code",
   "execution_count": 51,
   "metadata": {},
   "outputs": [
    {
     "name": "stdout",
     "output_type": "stream",
     "text": [
      "City is Pune\n"
     ]
    }
   ],
   "source": [
    "response_241 = {'data': [{'user': {'name': 'Raj', 'city': 'Pune'}}, {'user': {'name': 'Sia', 'city': 'Mumbai'}}]}\n",
    "# Your code here\n",
    "if response_241['data'][0][\"user\"][\"city\"] == \"Pune\":\n",
    "    print(\"City is Pune\")\n",
    "else:\n",
    "    print(\"City is not Pune\")"
   ]
  },
  {
   "cell_type": "markdown",
   "metadata": {},
   "source": [
    "**Q242:** A list has three dictionaries. Check if the `id` of the second dictionary is a string."
   ]
  },
  {
   "cell_type": "code",
   "execution_count": 52,
   "metadata": {},
   "outputs": [
    {
     "name": "stdout",
     "output_type": "stream",
     "text": [
      "ID is a string\n"
     ]
    }
   ],
   "source": [
    "items_242 = [{'id': 1}, {'id': 'B-02'}, {'id': 3}]\n",
    "# Your code here\n",
    "if isinstance(items_242[1][\"id\"], str):\n",
    "    print(\"ID is a string\")\n",
    "else:\n",
    "    print(\"ID is not a string\")"
   ]
  },
  {
   "cell_type": "markdown",
   "metadata": {},
   "source": [
    "**Q243:** Check if a string `s` starts with 'file_' and ends with '.txt'."
   ]
  },
  {
   "cell_type": "code",
   "execution_count": 53,
   "metadata": {},
   "outputs": [
    {
     "name": "stdout",
     "output_type": "stream",
     "text": [
      "True\n"
     ]
    }
   ],
   "source": [
    "s_243 = 'file_001.txt'\n",
    "# Your code here\n",
    "if s_243.endswith('.txt') and s_243.startswith('file_'):\n",
    "    print(True)\n",
    "else:\n",
    "    print(False)"
   ]
  },
  {
   "cell_type": "markdown",
   "metadata": {},
   "source": [
    "**Q244:** A tuple `(name, scores)` is given. Check if the first score in the list is 50."
   ]
  },
  {
   "cell_type": "code",
   "execution_count": 55,
   "metadata": {},
   "outputs": [
    {
     "name": "stdout",
     "output_type": "stream",
     "text": [
      "True\n"
     ]
    }
   ],
   "source": [
    "student_244 = ('Aisha', [50, 60, 70])\n",
    "# Your code here\n",
    "if student_244[1][0] == 50:\n",
    "    print(True)\n",
    "else:\n",
    "    print(False)\n"
   ]
  },
  {
   "cell_type": "markdown",
   "metadata": {},
   "source": [
    "**Q245:** A dictionary `d` has a `value`. Check if the value is `None` or an empty string."
   ]
  },
  {
   "cell_type": "code",
   "execution_count": 58,
   "metadata": {},
   "outputs": [
    {
     "name": "stdout",
     "output_type": "stream",
     "text": [
      "True\n"
     ]
    }
   ],
   "source": [
    "d_245 = {'value': ''}\n",
    "# Your code here\n",
    "if not d_245['value']:\n",
    "    print(True)\n",
    "else:\n",
    "    print(False)"
   ]
  },
  {
   "cell_type": "markdown",
   "metadata": {},
   "source": [
    "**Q246:** A number `x` is given. Check if it is a multiple of 100."
   ]
  },
  {
   "cell_type": "code",
   "execution_count": 59,
   "metadata": {},
   "outputs": [
    {
     "name": "stdout",
     "output_type": "stream",
     "text": [
      "True\n"
     ]
    }
   ],
   "source": [
    "x_246 = 2000\n",
    "# Your code here\n",
    "if x_246 % 100 == 0:\n",
    "    print(True)\n",
    "else:\n",
    "    print(False)"
   ]
  },
  {
   "cell_type": "markdown",
   "metadata": {},
   "source": [
    "**Q247:** A list has a nested dictionary. Check if the value of the `is_final` key is a boolean."
   ]
  },
  {
   "cell_type": "code",
   "execution_count": 65,
   "metadata": {},
   "outputs": [
    {
     "name": "stdout",
     "output_type": "stream",
     "text": [
      "True\n"
     ]
    }
   ],
   "source": [
    "data_247 = ['record', {'version': 3, 'is_final': True}]\n",
    "# Your code here\n",
    "if isinstance(data_247[1]['is_final'],bool)== True:\n",
    "    print(True)\n",
    "else:\n",
    "    print(False)"
   ]
  },
  {
   "cell_type": "markdown",
   "metadata": {},
   "source": [
    "**Q248:** A dictionary's value is a list of tuples. Check if the second element of the last tuple is 0."
   ]
  },
  {
   "cell_type": "code",
   "execution_count": 67,
   "metadata": {},
   "outputs": [
    {
     "name": "stdout",
     "output_type": "stream",
     "text": [
      "True\n"
     ]
    }
   ],
   "source": [
    "path_248 = {'points': [(0, 1), (5, 10), (10, 0)]}\n",
    "# Your code here\n",
    "if path_248['points'][2][1]== 0:\n",
    "    print(True)\n",
    "else:\n",
    "    print(False)\n"
   ]
  },
  {
   "cell_type": "markdown",
   "metadata": {},
   "source": [
    "**Q249:** Check if a string `s`, after converting to uppercase, is 'EXIT'."
   ]
  },
  {
   "cell_type": "code",
   "execution_count": 68,
   "metadata": {},
   "outputs": [
    {
     "name": "stdout",
     "output_type": "stream",
     "text": [
      "True\n"
     ]
    }
   ],
   "source": [
    "s_249 = 'exit'\n",
    "# Your code here\n",
    "if s_249.upper() == 'EXIT':\n",
    "    print(True)\n",
    "else:\n",
    "    print(False)\n"
   ]
  },
  {
   "cell_type": "markdown",
   "metadata": {},
   "source": [
    "**Q250:** A tuple contains a list and a dictionary. Check if the length of the list is 3 and the dictionary has a key 'id'."
   ]
  },
  {
   "cell_type": "code",
   "execution_count": 69,
   "metadata": {},
   "outputs": [
    {
     "name": "stdout",
     "output_type": "stream",
     "text": [
      "True\n"
     ]
    }
   ],
   "source": [
    "data_250 = ([1, 2, 3], {'id': 100, 'name': 'final'})\n",
    "# Your code here\n",
    "if len(data_250[0]) == 3 and \"id\" in data_250[1]:\n",
    "    print(True)\n",
    "else:\n",
    "    print(False)\n"
   ]
  },
  {
   "cell_type": "code",
   "execution_count": null,
   "id": "41976815",
   "metadata": {},
   "outputs": [],
   "source": []
  }
 ],
 "metadata": {
  "kernelspec": {
   "display_name": "Python 3",
   "language": "python",
   "name": "python3"
  },
  "language_info": {
   "codemirror_mode": {
    "name": "ipython",
    "version": 3
   },
   "file_extension": ".py",
   "mimetype": "text/x-python",
   "name": "python",
   "nbconvert_exporter": "python",
   "pygments_lexer": "ipython3",
   "version": "3.13.5"
  }
 },
 "nbformat": 4,
 "nbformat_minor": 5
}
