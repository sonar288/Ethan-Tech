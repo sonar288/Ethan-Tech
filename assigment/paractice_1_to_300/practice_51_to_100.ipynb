{
 "cells": [
  {
   "cell_type": "markdown",
   "metadata": {},
   "source": [
    "# Advanced Practice: Data Types and Conditionals (Part 2: 51-100)\n",
    "\n",
    "**Instructions:** Solve the following 50 questions. These questions focus only on Python's basic data types and conditional logic (`if`, `elif`, `else`). There are no loops required. Write your code in the empty cell below each question."
   ]
  },
  {
   "cell_type": "markdown",
   "metadata": {},
   "source": [
    "**Q51:** Check if the third element of a list is a tuple."
   ]
  },
  {
   "cell_type": "code",
   "execution_count": null,
   "metadata": {},
   "outputs": [
    {
     "name": "stdout",
     "output_type": "stream",
     "text": [
      "True\n"
     ]
    }
   ],
   "source": [
    "list_51 = [1, \"a\", (10, 20), True]\n",
    "# Your code here\n",
    "if(type(list_51[2])== tuple):\n",
    "    print(True)\n",
    "else:\n",
    "    print(False)"
   ]
  },
  {
   "cell_type": "markdown",
   "metadata": {},
   "source": [
    "**Q52:** A dictionary contains transaction details. If the `type` is \"credit\" and the `amount` is a float, print \"Valid credit transaction.\""
   ]
  },
  {
   "cell_type": "code",
   "execution_count": 4,
   "metadata": {},
   "outputs": [
    {
     "name": "stdout",
     "output_type": "stream",
     "text": [
      "True\n"
     ]
    }
   ],
   "source": [
    "transaction_52 = {\"id\": \"txn123\", \"type\": \"credit\", \"amount\": 150.75}\n",
    "# Your code here\n",
    "if(transaction_52[\"type\"]== \"credit\" and type(transaction_52[\"amount\"]) == float):\n",
    "         print(True)\n",
    "else:\n",
    "    print(False)"
   ]
  },
  {
   "cell_type": "markdown",
   "metadata": {},
   "source": [
    "**Q53:** Check if a string `id_code` starts with \"ID-\" and the part after it is a digit."
   ]
  },
  {
   "cell_type": "code",
   "execution_count": null,
   "metadata": {},
   "outputs": [
    {
     "name": "stdout",
     "output_type": "stream",
     "text": [
      "False\n"
     ]
    }
   ],
   "source": [
    "id_code_53 = \"ID-456\"\n",
    "# Your code here\n",
    "if(id_code_53[:3] == \"ID-\" and id_code_53[3:len(id_code_53)-1].isdigit()): \n",
    "    print(True)\n",
    "else:\n",
    "    print(False)\n"
   ]
  },
  {
   "cell_type": "markdown",
   "metadata": {},
   "source": [
    "**Q54:** You have a list of lists. Check if the first element of the first inner list is equal to the first element of the second inner list."
   ]
  },
  {
   "cell_type": "code",
   "execution_count": 16,
   "metadata": {},
   "outputs": [
    {
     "name": "stdout",
     "output_type": "stream",
     "text": [
      "True\n"
     ]
    }
   ],
   "source": [
    "data_54 = [[10, \"A\"], [10, \"B\"]]\n",
    "# Your code here\n",
    "if(data_54[0][0]== data_54[1][0]):\n",
    "         print(True)\n",
    "else:\n",
    "    print(False)"
   ]
  },
  {
   "cell_type": "markdown",
   "metadata": {},
   "source": [
    "**Q55:** A dictionary's value is a tuple `(width, height)`. Check if `width` is greater than `height`."
   ]
  },
  {
   "cell_type": "code",
   "execution_count": 19,
   "metadata": {},
   "outputs": [
    {
     "name": "stdout",
     "output_type": "stream",
     "text": [
      "True\n"
     ]
    }
   ],
   "source": [
    "dimensions_55 = {\"image1\": (1920, 1080)}\n",
    "# Your code here\n",
    "if(dimensions_55[\"image1\"][0] > dimensions_55[\"image1\"][1]):\n",
    "         print(True)\n",
    "else:\n",
    "    print(False)"
   ]
  },
  {
   "cell_type": "markdown",
   "metadata": {},
   "source": [
    "**Q56:** Check if a number is divisible by both 4 and 6."
   ]
  },
  {
   "cell_type": "code",
   "execution_count": 23,
   "metadata": {},
   "outputs": [
    {
     "name": "stdout",
     "output_type": "stream",
     "text": [
      "True\n"
     ]
    }
   ],
   "source": [
    "num_56 = 240\n",
    "# Your code here\n",
    "if(num_56 % 4 ==0 and num_56 % 6 == 0):\n",
    "         print(True)\n",
    "else:\n",
    "    print(False)"
   ]
  },
  {
   "cell_type": "markdown",
   "metadata": {},
   "source": [
    "**Q57:** You have a list of dictionaries. Check if the `city` of the second person is not \"Mumbai\"."
   ]
  },
  {
   "cell_type": "code",
   "execution_count": 28,
   "metadata": {},
   "outputs": [
    {
     "name": "stdout",
     "output_type": "stream",
     "text": [
      "True\n",
      "False\n"
     ]
    }
   ],
   "source": [
    "users_57 = [{\"name\": \"Arun\", \"city\": \"Mumbai\"}, {\"name\": \"Tara\", \"city\": \"Pune\"}]\n",
    "# Your code here\n",
    "for user in users_57:\n",
    "    if(user[\"city\"] != \"Mumbai\"):\n",
    "            print(True)\n",
    "else:\n",
    "    print(False) "
   ]
  },
  {
   "cell_type": "markdown",
   "metadata": {},
   "source": [
    "**Q58:** A tuple `(value, unit)` is given. If the `unit` is 'cm' and the `value` is greater than 100, print \"Longer than a meter.\""
   ]
  },
  {
   "cell_type": "code",
   "execution_count": 29,
   "metadata": {},
   "outputs": [
    {
     "name": "stdout",
     "output_type": "stream",
     "text": [
      "Longer Than meter\n"
     ]
    }
   ],
   "source": [
    "measurement_58 = (150, 'cm')\n",
    "# Your code here\n",
    "if(measurement_58[1] == \"cm\"):\n",
    "    if(measurement_58[0] > 100):\n",
    "        print(\"Longer Than meter\")"
   ]
  },
  {
   "cell_type": "markdown",
   "metadata": {},
   "source": [
    "**Q59:** Check if a dictionary `d` contains the key 'error' and its value is not `None`."
   ]
  },
  {
   "cell_type": "code",
   "execution_count": 30,
   "metadata": {},
   "outputs": [
    {
     "name": "stdout",
     "output_type": "stream",
     "text": [
      "error occured\n"
     ]
    }
   ],
   "source": [
    "d_59 = {\"data\": [1, 2], \"error\": \"An error occurred\"}\n",
    "# Your code here\n",
    "if(d_59[\"error\"]):\n",
    "    print(\"error occured\")"
   ]
  },
  {
   "cell_type": "markdown",
   "metadata": {},
   "source": [
    "**Q60:** Check if a string `s` has an even length and its first half is equal to its second half."
   ]
  },
  {
   "cell_type": "code",
   "execution_count": 44,
   "metadata": {},
   "outputs": [
    {
     "name": "stdout",
     "output_type": "stream",
     "text": [
      "True\n",
      "True\n"
     ]
    }
   ],
   "source": [
    "s_60 = \"abab\"\n",
    "# Your code here\n",
    "if(len(s_60)% 2 == 0):\n",
    "    print(True)\n",
    "if(s_60[:len(s_60)//2] == s_60[len(s_60)//2:len(s_60)]):\n",
    "    print(True)\n"
   ]
  },
  {
   "cell_type": "markdown",
   "metadata": {},
   "source": [
    "**Q61:** A dictionary `employee` has nested info. If the employee's `role` is 'Developer' and their `primary_skill` is 'Python', print \"Python Developer\"."
   ]
  },
  {
   "cell_type": "code",
   "execution_count": 45,
   "metadata": {},
   "outputs": [
    {
     "name": "stdout",
     "output_type": "stream",
     "text": [
      "Python Developer\n"
     ]
    }
   ],
   "source": [
    "employee_61 = {\"id\": 1, \"info\": {\"role\": \"Developer\", \"primary_skill\": \"Python\"}}\n",
    "# Your code here\n",
    "if(employee_61[\"info\"][\"role\"] == \"Developer\" and employee_61[\"info\"][\"primary_skill\"] == \"Python\"):\n",
    "    print(\"Python Developer\")"
   ]
  },
  {
   "cell_type": "markdown",
   "metadata": {},
   "source": [
    "**Q62:** A list contains a mix of types. Check if the third element is not an integer."
   ]
  },
  {
   "cell_type": "code",
   "execution_count": 46,
   "metadata": {},
   "outputs": [
    {
     "name": "stdout",
     "output_type": "stream",
     "text": [
      "True\n"
     ]
    }
   ],
   "source": [
    "mix_62 = [\"a\", 1, 3.14, True]\n",
    "# Your code here\n",
    "if(not isinstance( mix_62[2],int)):\n",
    "         print(True)\n",
    "else:\n",
    "    print(False)"
   ]
  },
  {
   "cell_type": "markdown",
   "metadata": {},
   "source": [
    "**Q63:** A dictionary represents a book. If the number of pages is greater than 300 or the `is_bestseller` flag is true, print \"Recommended read.\""
   ]
  },
  {
   "cell_type": "code",
   "execution_count": 49,
   "metadata": {},
   "outputs": [
    {
     "name": "stdout",
     "output_type": "stream",
     "text": [
      "Recommended read.\n"
     ]
    }
   ],
   "source": [
    "book_63 = {\"title\": \"A Great Book\", \"pages\": 250, \"is_bestseller\": True}\n",
    "# Your code here\n",
    "if(book_63[\"pages\"] > 300 or book_63[\"is_bestseller\"]):\n",
    "    print(\"Recommended read.\")\n"
   ]
  },
  {
   "cell_type": "markdown",
   "id": "d19bf899",
   "metadata": {},
   "source": [
    "**Q64:** A tuple contains 3 numbers. Check if the middle number is the average of the first and the last."
   ]
  },
  {
   "cell_type": "code",
   "execution_count": 56,
   "metadata": {},
   "outputs": [
    {
     "name": "stdout",
     "output_type": "stream",
     "text": [
      "True\n"
     ]
    }
   ],
   "source": [
    "series_64 = (10, 15, 20)\n",
    "# Your code here\n",
    "if((series_64[0]+series_64[2])//2 == series_64[1]):\n",
    "     print(True)\n",
    "else:\n",
    "    print(False)\n"
   ]
  },
  {
   "cell_type": "markdown",
   "metadata": {},
   "source": [
    "**Q65:** Check if a string starts and ends with the same character (and has a length of at least 2)."
   ]
  },
  {
   "cell_type": "code",
   "execution_count": 58,
   "metadata": {},
   "outputs": [
    {
     "name": "stdout",
     "output_type": "stream",
     "text": [
      "True\n"
     ]
    }
   ],
   "source": [
    "word_65 = \"rotor\"\n",
    "# Your code here\n",
    "if(word_65[0] == word_65[-1]):\n",
    "    print(True)\n",
    "else:\n",
    "    print(False)\n"
   ]
  },
  {
   "cell_type": "markdown",
   "metadata": {},
   "source": [
    "**Q66:** In a list of dictionaries, if the `country` of the first entry is \"India\", print its `capital`."
   ]
  },
  {
   "cell_type": "code",
   "execution_count": 59,
   "metadata": {},
   "outputs": [
    {
     "name": "stdout",
     "output_type": "stream",
     "text": [
      "New Delhi\n"
     ]
    }
   ],
   "source": [
    "countries_66 = [{\"country\": \"India\", \"capital\": \"New Delhi\"}, {\"country\": \"USA\", \"capital\": \"Washington D.C.\"}]\n",
    "# Your code here\n",
    "if(countries_66[0][\"country\"] == \"India\"):\n",
    "    print(countries_66[0][\"capital\"] )"
   ]
  },
  {
   "cell_type": "markdown",
   "metadata": {},
   "source": [
    "**Q67:** Check if a number `num` is a positive single-digit number (0-9)."
   ]
  },
  {
   "cell_type": "code",
   "execution_count": 60,
   "metadata": {},
   "outputs": [
    {
     "name": "stdout",
     "output_type": "stream",
     "text": [
      "True\n"
     ]
    }
   ],
   "source": [
    "num_67 = 7\n",
    "# Your code here\n",
    "if(num_67 > 0 and num_67 < 9 ):\n",
    "    print(True)\n",
    "else:\n",
    "    print(False)"
   ]
  },
  {
   "cell_type": "markdown",
   "metadata": {},
   "source": [
    "**Q68:** You have a dictionary with a list value. If the list has exactly two elements, print \"This is a pair.\""
   ]
  },
  {
   "cell_type": "code",
   "execution_count": 63,
   "metadata": {},
   "outputs": [
    {
     "name": "stdout",
     "output_type": "stream",
     "text": [
      "True\n"
     ]
    }
   ],
   "source": [
    "data_68 = {\"pair\": [10, 20]}\n",
    "# Your code here\n",
    "if(len(data_68[\"pair\"]) == 2):\n",
    "    print(True)\n",
    "else:\n",
    "    print(False)\n"
   ]
  },
  {
   "cell_type": "markdown",
   "metadata": {},
   "source": [
    "**Q69:** A string `s` is given. If it is not all uppercase and not all lowercase, print \"Mixed case.\""
   ]
  },
  {
   "cell_type": "code",
   "execution_count": 67,
   "metadata": {},
   "outputs": [
    {
     "name": "stdout",
     "output_type": "stream",
     "text": [
      "Mixed case\n"
     ]
    }
   ],
   "source": [
    "s_69 = \"Mixed\"\n",
    "# Your code here\n",
    "if(not s_69.islower() and not s_69.isupper()):\n",
    "    print(\"Mixed case\")\n",
    "else:\n",
    "    print(False)\n"
   ]
  },
  {
   "cell_type": "markdown",
   "metadata": {},
   "source": [
    "**Q70:** A tuple has `(status_code, message)`. If the code is not 200, print the message."
   ]
  },
  {
   "cell_type": "code",
   "execution_count": 68,
   "metadata": {},
   "outputs": [
    {
     "name": "stdout",
     "output_type": "stream",
     "text": [
      "True\n"
     ]
    }
   ],
   "source": [
    "response_70 = (404, \"Not Found\")\n",
    "# Your code here\n",
    "if(response_70[0] != 200):\n",
    "    print(True)\n",
    "else:\n",
    "    print(False)"
   ]
  },
  {
   "cell_type": "markdown",
   "metadata": {},
   "source": [
    "**Q71:** A dictionary holds a list of scores. Check if the last score is a perfect 100."
   ]
  },
  {
   "cell_type": "code",
   "execution_count": 69,
   "metadata": {},
   "outputs": [
    {
     "name": "stdout",
     "output_type": "stream",
     "text": [
      "True\n"
     ]
    }
   ],
   "source": [
    "scores_71 = {\"student_id\": \"S01\", \"scores\": [85, 90, 100]}\n",
    "# Your code here\n",
    "if(scores_71[\"scores\"][2] == 100):\n",
    "    print(True)\n",
    "else:\n",
    "    print(False)"
   ]
  },
  {
   "cell_type": "markdown",
   "metadata": {},
   "source": [
    "**Q72:** A list has nested tuples. Check if the first element of the second tuple is 'B'."
   ]
  },
  {
   "cell_type": "code",
   "execution_count": 70,
   "metadata": {},
   "outputs": [
    {
     "name": "stdout",
     "output_type": "stream",
     "text": [
      "True\n"
     ]
    }
   ],
   "source": [
    "nested_72 = [('X', 1), ('B', 2)]\n",
    "# Your code here\n",
    "if(nested_72[1][0] == \"B\"):\n",
    "    print(True)\n",
    "else:\n",
    "    print(False)"
   ]
  },
  {
   "cell_type": "markdown",
   "metadata": {},
   "source": [
    "**Q73:** A dictionary's value is another dictionary. Check if the inner dictionary has more than 2 keys."
   ]
  },
  {
   "cell_type": "code",
   "execution_count": 73,
   "metadata": {},
   "outputs": [
    {
     "name": "stdout",
     "output_type": "stream",
     "text": [
      "True\n"
     ]
    }
   ],
   "source": [
    "data_73 = {\"meta\": {\"id\": 1, \"ts\": \"2025-08-08\", \"source\": \"web\"}}\n",
    "# Your code here\n",
    "if len(data_73[\"meta\"]) > 2:\n",
    "    print(True)\n",
    "else:\n",
    "    print(False)\n",
    "    "
   ]
  },
  {
   "cell_type": "markdown",
   "metadata": {},
   "source": [
    "**Q74:** Check if a number is a two-digit number (10-99)."
   ]
  },
  {
   "cell_type": "code",
   "execution_count": 76,
   "metadata": {},
   "outputs": [
    {
     "name": "stdout",
     "output_type": "stream",
     "text": [
      "True\n"
     ]
    }
   ],
   "source": [
    "num_74 = 45\n",
    "# Your code here\n",
    "if num_74 >=10 and num_74 <= 99:\n",
    "    print(True)\n",
    "else:\n",
    "    print(False)"
   ]
  },
  {
   "cell_type": "markdown",
   "metadata": {},
   "source": [
    "**Q75:** A string `s` must contain '@' and '.' to be a valid email format. Check this."
   ]
  },
  {
   "cell_type": "code",
   "execution_count": 79,
   "metadata": {},
   "outputs": [
    {
     "name": "stdout",
     "output_type": "stream",
     "text": [
      "True\n"
     ]
    }
   ],
   "source": [
    "s_75 = \"test@example.com\"\n",
    "# Your code here\n",
    "if '@' and '.' in s_75:\n",
    "    print(True)\n",
    "else:\n",
    "    print(False)"
   ]
  },
  {
   "cell_type": "markdown",
   "metadata": {},
   "source": [
    "**Q76:** A list of dictionaries. If the `stock` of the first item is 0 and `is_available` is False, print \"Item out of stock.\""
   ]
  },
  {
   "cell_type": "code",
   "execution_count": 82,
   "metadata": {},
   "outputs": [
    {
     "name": "stdout",
     "output_type": "stream",
     "text": [
      "Item out of stock\n"
     ]
    }
   ],
   "source": [
    "inventory_76 = [{\"item\": \"Laptop\", \"stock\": 0, \"is_available\": False}]\n",
    "# Your code here\n",
    "if(inventory_76[0][\"stock\"] == 0 and inventory_76[0][\"is_available\"] == False):\n",
    "    print(\"Item out of stock\")"
   ]
  },
  {
   "cell_type": "markdown",
   "metadata": {},
   "source": [
    "**Q77:** A tuple contains three strings. Check if the length of the first string is the smallest of the three."
   ]
  },
  {
   "cell_type": "code",
   "execution_count": null,
   "metadata": {},
   "outputs": [
    {
     "name": "stdout",
     "output_type": "stream",
     "text": [
      "False\n"
     ]
    }
   ],
   "source": [
    "words_77 = (\"cat\", \"horse\", \"elephant\")\n",
    "# Your code here\n",
    "if len(words_77[0]) < len(words_77[1]) and len(words_77[2]):\n",
    "    print(True)\n",
    "else:\n",
    "    print(False)"
   ]
  },
  {
   "cell_type": "markdown",
   "metadata": {},
   "source": [
    "**Q78:** A dictionary has a `permissions` string. If it contains 'w' (write), print \"Write access is enabled.\""
   ]
  },
  {
   "cell_type": "code",
   "execution_count": 89,
   "metadata": {},
   "outputs": [
    {
     "name": "stdout",
     "output_type": "stream",
     "text": [
      "True\n"
     ]
    }
   ],
   "source": [
    "file_78 = {\"name\": \"doc.txt\", \"permissions\": \"rwx\"}\n",
    "# Your code here\n",
    "if \"w\" in  file_78[\"permissions\"]:\n",
    "    print(True)\n",
    "else:\n",
    "    print(False)\n"
   ]
  },
  {
   "cell_type": "markdown",
   "metadata": {},
   "source": [
    "**Q79:** Check if a number is not between 0 and 100."
   ]
  },
  {
   "cell_type": "code",
   "execution_count": 92,
   "metadata": {},
   "outputs": [
    {
     "name": "stdout",
     "output_type": "stream",
     "text": [
      "True\n"
     ]
    }
   ],
   "source": [
    "num_79 = 101\n",
    "# Your code here\n",
    "if not (num_79 > 0 and num_79 < 100):\n",
    "    print(True)\n",
    "else:\n",
    "    print(False) "
   ]
  },
  {
   "cell_type": "markdown",
   "metadata": {},
   "source": [
    "**Q80:** A list of lists is given. Check if the last element of the last inner list is a string."
   ]
  },
  {
   "cell_type": "code",
   "execution_count": 95,
   "metadata": {},
   "outputs": [
    {
     "name": "stdout",
     "output_type": "stream",
     "text": [
      "True\n"
     ]
    }
   ],
   "source": [
    "data_80 = [[1, 2], [3, \"end\"]]\n",
    "# Your code here\n",
    "if isinstance(data_80[1][1], str):\n",
    "    print(True)\n",
    "else:\n",
    "    print(False)"
   ]
  },
  {
   "cell_type": "markdown",
   "metadata": {},
   "source": [
    "**Q81:** A dictionary has a `config` dictionary. If `config`'s `debug_mode` is True, print \"Application is in debug mode.\""
   ]
  },
  {
   "cell_type": "code",
   "execution_count": 98,
   "metadata": {},
   "outputs": [
    {
     "name": "stdout",
     "output_type": "stream",
     "text": [
      "True\n"
     ]
    }
   ],
   "source": [
    "app_81 = {\"name\": \"My App\", \"config\": {\"debug_mode\": True, \"version\": \"1.1\"}}\n",
    "# Your code here\n",
    "if app_81[\"config\"][\"debug_mode\"]:\n",
    "    print(True)\n",
    "else:\n",
    "    print(False)"
   ]
  },
  {
   "cell_type": "markdown",
   "metadata": {},
   "source": [
    "**Q82:** A tuple stores `(id, is_active, tags)`. If the user is active and the first tag is 'priority', print \"High priority active user.\""
   ]
  },
  {
   "cell_type": "code",
   "execution_count": 100,
   "metadata": {},
   "outputs": [
    {
     "name": "stdout",
     "output_type": "stream",
     "text": [
      "High priority active user\n"
     ]
    }
   ],
   "source": [
    "user_82 = (123, True, [\"priority\", \"new\"])\n",
    "# Your code here\n",
    "if(user_82[2][0] == \"priority\"):\n",
    "    print(\"High priority active user\")\n",
    "else:\n",
    "    print(False)"
   ]
  },
  {
   "cell_type": "markdown",
   "metadata": {},
   "source": [
    "**Q83:** Check if a string is alphanumeric (contains only letters and numbers)."
   ]
  },
  {
   "cell_type": "code",
   "execution_count": 101,
   "metadata": {},
   "outputs": [
    {
     "name": "stdout",
     "output_type": "stream",
     "text": [
      "True\n"
     ]
    }
   ],
   "source": [
    "s_83 = \"User123\"\n",
    "# Your code here\n",
    "if s_83.isalnum():\n",
    "    print(True)\n",
    "else:\n",
    "    print(False)"
   ]
  },
  {
   "cell_type": "markdown",
   "metadata": {},
   "source": [
    "**Q84:** A list of dictionaries represents players. If the score of the second player is higher than the first, print the second player's name."
   ]
  },
  {
   "cell_type": "code",
   "execution_count": null,
   "metadata": {},
   "outputs": [
    {
     "name": "stdout",
     "output_type": "stream",
     "text": [
      "scound player's name\n"
     ]
    }
   ],
   "source": [
    "players_84 = [{\"name\": \"Player1\", \"score\": 150}, {\"name\": \"Player2\", \"score\": 180}]\n",
    "# Your code here\n",
    "if(players_84[1][\"score\"] > players_84[0][\"score\"]):\n",
    "    print(\"secound player's name\")\n",
    "else:\n",
    "    print(False)"
   ]
  },
  {
   "cell_type": "markdown",
   "metadata": {},
   "source": [
    "**Q85:** A dictionary contains a list of integers. Check if the sum of the first two integers is 100."
   ]
  },
  {
   "cell_type": "code",
   "execution_count": 104,
   "metadata": {},
   "outputs": [
    {
     "name": "stdout",
     "output_type": "stream",
     "text": [
      "True\n"
     ]
    }
   ],
   "source": [
    "data_85 = {\"values\": [40, 60, 80]}\n",
    "# Your code here\n",
    "if data_85[\"values\"][0] + data_85[\"values\"][1] ==100:\n",
    "    print(True)\n",
    "else:\n",
    "    print(False)"
   ]
  },
  {
   "cell_type": "markdown",
   "metadata": {},
   "source": [
    "**Q86:** Check if a string `s` has the same first and second character."
   ]
  },
  {
   "cell_type": "code",
   "execution_count": 105,
   "metadata": {},
   "outputs": [
    {
     "name": "stdout",
     "output_type": "stream",
     "text": [
      "True\n"
     ]
    }
   ],
   "source": [
    "s_86 = \"apple\"\n",
    "# Your code here\n",
    "if(s_86[1] == s_86[2]):\n",
    "    print(True)\n",
    "else:\n",
    "    print(False)"
   ]
  },
  {
   "cell_type": "markdown",
   "metadata": {},
   "source": [
    "**Q87:** A dictionary represents a rectangle. Check if it's a square (height equals width)."
   ]
  },
  {
   "cell_type": "code",
   "execution_count": 106,
   "metadata": {},
   "outputs": [
    {
     "name": "stdout",
     "output_type": "stream",
     "text": [
      "Square\n"
     ]
    }
   ],
   "source": [
    "rectangle_87 = {\"height\": 10, \"width\": 10, \"color\": \"blue\"}\n",
    "# Your code here\n",
    "if(rectangle_87[\"height\"]== rectangle_87[\"width\"]):\n",
    "    print(\"Square\")\n",
    "else:\n",
    "    print(False)"
   ]
  },
  {
   "cell_type": "markdown",
   "metadata": {},
   "source": [
    "**Q88:** Check if the type of the last element in a list is a dictionary."
   ]
  },
  {
   "cell_type": "code",
   "execution_count": 107,
   "metadata": {},
   "outputs": [
    {
     "name": "stdout",
     "output_type": "stream",
     "text": [
      "True\n"
     ]
    }
   ],
   "source": [
    "list_88 = [1, \"a\", {\"key\": \"value\"}]\n",
    "# Your code here\n",
    "if isinstance(list_88[2], dict):\n",
    "    print(True)\n",
    "else:\n",
    "    print(False)"
   ]
  },
  {
   "cell_type": "markdown",
   "metadata": {},
   "source": [
    "**Q89:** A tuple contains three strings. Check if all three strings have the same length."
   ]
  },
  {
   "cell_type": "code",
   "execution_count": 112,
   "metadata": {},
   "outputs": [
    {
     "name": "stdout",
     "output_type": "stream",
     "text": [
      "True\n"
     ]
    }
   ],
   "source": [
    "words_89 = (\"one\", \"two\", \"six\")\n",
    "# Your code here\n",
    "if len(words_89[0]) == len(words_89[1]) == len(words_89[2]):\n",
    "    print(True)\n",
    "else:\n",
    "    print(False)\n"
   ]
  },
  {
   "cell_type": "markdown",
   "metadata": {},
   "source": [
    "**Q90:** In a nested dictionary, if the `status` is \"success\", check if the `data` list is empty."
   ]
  },
  {
   "cell_type": "code",
   "execution_count": 113,
   "metadata": {},
   "outputs": [
    {
     "name": "stdout",
     "output_type": "stream",
     "text": [
      "True\n"
     ]
    }
   ],
   "source": [
    "response_90 = {\"status\": \"success\", \"data\": []}\n",
    "# Your code here\n",
    "if response_90[\"status\"] == \"success\":\n",
    "    print(True)\n",
    "else:\n",
    "    print(False)"
   ]
  },
  {
   "cell_type": "markdown",
   "metadata": {},
   "source": [
    "**Q91:** Check if a number is a perfect square of a single digit number (1, 4, 9, 16, 25, 36, 49, 64, 81)."
   ]
  },
  {
   "cell_type": "code",
   "execution_count": 120,
   "metadata": {},
   "outputs": [
    {
     "name": "stdout",
     "output_type": "stream",
     "text": [
      "True\n"
     ]
    }
   ],
   "source": [
    "num_91 = 49\n",
    "# Your code here\n",
    "for n in range(1,10):\n",
    "    if n**2 == num_91:\n",
    "        print(True)\n",
    "\n",
    "\n",
    " "
   ]
  },
  {
   "cell_type": "markdown",
   "metadata": {},
   "source": [
    "**Q92:** A list of tuples contains `(product, quantity)`. Check if the quantity of the first product is greater than 0."
   ]
  },
  {
   "cell_type": "code",
   "execution_count": 123,
   "metadata": {},
   "outputs": [
    {
     "name": "stdout",
     "output_type": "stream",
     "text": [
      "True\n"
     ]
    }
   ],
   "source": [
    "order_92 = [(\"Pen\", 5), (\"Book\", 0)]\n",
    "# Your code here\n",
    "if(order_92[0][1] >0):\n",
    "    print(True)\n",
    "else:\n",
    "    print(False)"
   ]
  },
  {
   "cell_type": "markdown",
   "metadata": {},
   "source": [
    "**Q93:** Check if a string `filename` has an extension of either '.jpg' or '.png'."
   ]
  },
  {
   "cell_type": "code",
   "execution_count": 124,
   "metadata": {},
   "outputs": [
    {
     "name": "stdout",
     "output_type": "stream",
     "text": [
      ".png\n"
     ]
    }
   ],
   "source": [
    "filename_93 = \"image.png\"\n",
    "# Your code here\n",
    "print(filename_93[-4:])"
   ]
  },
  {
   "cell_type": "markdown",
   "metadata": {},
   "source": [
    "**Q94:** A dictionary contains event details. If the `month` is \"August\" and the `day` is 8, print \"Special Day!\""
   ]
  },
  {
   "cell_type": "code",
   "execution_count": 126,
   "metadata": {},
   "outputs": [
    {
     "name": "stdout",
     "output_type": "stream",
     "text": [
      "True\n"
     ]
    }
   ],
   "source": [
    "event_94 = {\"event\": \"Anniversary\", \"day\": 8, \"month\": \"August\"}\n",
    "# Your code here\n",
    "if(event_94[\"day\"] == 8 and event_94[\"month\"] == \"August\"):\n",
    "    print(True)\n",
    "else:\n",
    "    print(False)"
   ]
  },
  {
   "cell_type": "markdown",
   "metadata": {},
   "source": [
    "**Q95:** Check if a number is positive and its string representation has a length of 3."
   ]
  },
  {
   "cell_type": "code",
   "execution_count": 127,
   "metadata": {},
   "outputs": [
    {
     "name": "stdout",
     "output_type": "stream",
     "text": [
      "True\n"
     ]
    }
   ],
   "source": [
    "num_95 = 123\n",
    "# Your code here\n",
    "if num_95 > 0 and len(str(num_95)) == 3:\n",
    "    print(True)\n",
    "else:\n",
    "    print(False)"
   ]
  },
  {
   "cell_type": "markdown",
   "metadata": {},
   "source": [
    "**Q96:** You have a dictionary with a list of tuples. Check if the first element of the first tuple is 'start'."
   ]
  },
  {
   "cell_type": "code",
   "execution_count": 129,
   "metadata": {},
   "outputs": [
    {
     "name": "stdout",
     "output_type": "stream",
     "text": [
      "True\n"
     ]
    }
   ],
   "source": [
    "data_96 = {\"log\": [('start', 1), ('process', 2), ('end', 3)]}\n",
    "# Your code here\n",
    "if data_96['log'][0][0] == \"start\":\n",
    "    print(True)\n",
    "else:\n",
    "    print(False)"
   ]
  },
  {
   "cell_type": "markdown",
   "metadata": {},
   "source": [
    "**Q97:** Check if a string `s` contains the character 'z' but does not start with it."
   ]
  },
  {
   "cell_type": "code",
   "execution_count": 130,
   "metadata": {},
   "outputs": [
    {
     "name": "stdout",
     "output_type": "stream",
     "text": [
      "True\n"
     ]
    }
   ],
   "source": [
    "s_97 = \"amazing\"\n",
    "# Your code here\n",
    "if \"z\" in s_97 and not \"z\" in s_97[0]:\n",
    "    print(True)\n",
    "else:\n",
    "    print(False)"
   ]
  },
  {
   "cell_type": "markdown",
   "metadata": {},
   "source": [
    "**Q98:** You have a list of dictionaries. If the `is_admin` flag of the first user is True, print their name."
   ]
  },
  {
   "cell_type": "code",
   "execution_count": 132,
   "metadata": {},
   "outputs": [
    {
     "name": "stdout",
     "output_type": "stream",
     "text": [
      "True\n"
     ]
    }
   ],
   "source": [
    "users_98 = [{\"name\": \"Yash\", \"is_admin\": True}, {\"name\": \"Ravi\", \"is_admin\": False}]\n",
    "# Your code here\n",
    "if users_98[0][\"is_admin\"]:\n",
    "    print(True)\n",
    "else:\n",
    "    print(False) "
   ]
  },
  {
   "cell_type": "markdown",
   "metadata": {},
   "source": [
    "**Q99:** Check if a number `n` is greater than 1000, and is also odd."
   ]
  },
  {
   "cell_type": "code",
   "execution_count": 134,
   "metadata": {},
   "outputs": [
    {
     "name": "stdout",
     "output_type": "stream",
     "text": [
      "True\n"
     ]
    }
   ],
   "source": [
    "n_99 = 1001\n",
    "# Your code here\n",
    "if n_99 > 1000 and not n % 2 == 0:\n",
    "    print(True)\n",
    "else:\n",
    "    print(False)"
   ]
  },
  {
   "cell_type": "markdown",
   "metadata": {},
   "source": [
    "**Q100:** A complex user profile is given. If the user's tier is \"gold\" and their first preference in the list is \"email\", print \"Gold member with email preference.\""
   ]
  },
  {
   "cell_type": "code",
   "execution_count": 135,
   "metadata": {},
   "outputs": [
    {
     "name": "stdout",
     "output_type": "stream",
     "text": [
      "True\n"
     ]
    }
   ],
   "source": [
    "user_profile_100 = {\"id\": \"u100\", \"tier\": \"gold\", \"preferences\": [\"email\", \"sms\"]}\n",
    "# Your code here\n",
    "if(user_profile_100[\"tier\"] == \"gold\" and user_profile_100[\"preferences\"][0] == \"email\"):\n",
    "    print(True)\n",
    "else:\n",
    "    print(False)"
   ]
  },
  {
   "cell_type": "code",
   "execution_count": null,
   "id": "75386298",
   "metadata": {},
   "outputs": [],
   "source": []
  }
 ],
 "metadata": {
  "kernelspec": {
   "display_name": "Python 3",
   "language": "python",
   "name": "python3"
  },
  "language_info": {
   "codemirror_mode": {
    "name": "ipython",
    "version": 3
   },
   "file_extension": ".py",
   "mimetype": "text/x-python",
   "name": "python",
   "nbconvert_exporter": "python",
   "pygments_lexer": "ipython3",
   "version": "3.13.5"
  }
 },
 "nbformat": 4,
 "nbformat_minor": 5
}
