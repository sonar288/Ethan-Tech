{
 "cells": [
  {
   "cell_type": "markdown",
   "metadata": {},
   "source": [
    "# Practice Questions: Intermediate Functions\n",
    "\n",
    "**Instructions:** Solve the following 25 questions. This set requires you to write functions that handle more complex data and logic, combining data types, conditionals, and loops. Write your code in the empty cell below each question."
   ]
  },
  {
   "cell_type": "markdown",
   "metadata": {},
   "source": [
    "**Q26:** Define a function `get_user_by_id(users_list, user_id)` that takes a list of user dictionaries and a `user_id`. It should loop through the list and **return** the entire dictionary of the user with the matching ID. If no user is found, it should return `None`."
   ]
  },
  {
   "cell_type": "code",
   "execution_count": 8,
   "metadata": {},
   "outputs": [
    {
     "name": "stdout",
     "output_type": "stream",
     "text": [
      "Priya\n"
     ]
    }
   ],
   "source": [
    "users = [{'id': 101, 'name': 'Raj'}, {'id': 102, 'name': 'Priya'}]\n",
    "# Your code here\n",
    "def get_user_by_id(users_list,user_id):\n",
    "    return next((users_list[i][\"name\"] for i in range(len(users)) if users_list[i][\"id\"]==user_id),None)\n",
    "\n",
    "print(get_user_by_id(users, 102))"
   ]
  },
  {
   "cell_type": "markdown",
   "metadata": {},
   "source": [
    "**Q27:** Define a function `categorize_numbers(numbers_list)` that takes a list of numbers. It should **return** a dictionary with two keys, 'evens' and 'odds', where the values are lists of the corresponding numbers."
   ]
  },
  {
   "cell_type": "code",
   "execution_count": 13,
   "metadata": {},
   "outputs": [
    {
     "name": "stdout",
     "output_type": "stream",
     "text": [
      "{1: 'odd', 2: 'even', 3: 'odd', 4: 'even', 5: 'odd', 6: 'even'}\n"
     ]
    }
   ],
   "source": [
    "data = [1, 2, 3, 4, 5, 6]\n",
    "# Your code here\n",
    "def categorize_numbers(numbers_list):\n",
    "    # is_even = {}\n",
    "    # for i in numbers_list:\n",
    "    #     if i % 2 ==0:\n",
    "    #         is_even[i] = \"even\"\n",
    "    #     else:\n",
    "    #         is_even[i] = \"odd\"\n",
    "    # return is_even\n",
    "\n",
    "    return { i:\"even\" if i % 2 ==0 else \"odd\" for i in numbers_list}\n",
    "\n",
    "print(categorize_numbers(data))"
   ]
  },
  {
   "cell_type": "markdown",
   "metadata": {},
   "source": [
    "**Q28:** Define a function `get_average_score(student_dict)` that takes a student's dictionary (which contains a list of scores) and **returns** their average score."
   ]
  },
  {
   "cell_type": "code",
   "execution_count": null,
   "metadata": {},
   "outputs": [
    {
     "data": {
      "text/plain": [
       "90"
      ]
     },
     "execution_count": 22,
     "metadata": {},
     "output_type": "execute_result"
    }
   ],
   "source": [
    "student = {'name': 'Amit', 'scores': [85, 90, 95]}\n",
    "# Your code here\n",
    "def get_average_score(student_dict):\n",
    "    # sum = 0\n",
    "    # for i in student_dict[\"scores\"]:\n",
    "    #      sum += i\n",
    "    \n",
    "    # return sum//len(student_dict[\"scores\"])\n",
    "    \n",
    "    return sum(student_dict[\"scores\"]) // len(student_dict[\"scores\"])\n",
    "\n",
    "get_average_score(student)"
   ]
  },
  {
   "cell_type": "markdown",
   "metadata": {},
   "source": [
    "**Q29:** Define a function `find_first_long_word(words_list)` that takes a list of words and **returns** the first word that has more than 7 characters. If no such word is found, return `None`."
   ]
  },
  {
   "cell_type": "code",
   "execution_count": 24,
   "metadata": {},
   "outputs": [
    {
     "data": {
      "text/plain": [
       "'computer'"
      ]
     },
     "execution_count": 24,
     "metadata": {},
     "output_type": "execute_result"
    }
   ],
   "source": [
    "words = ['apple', 'banana', 'computer', 'kiwi']\n",
    "# Your code here\n",
    "def find_first_long_word(words):\n",
    "    return next((i for i in words if len(i) > 7),None)\n",
    "\n",
    "find_first_long_word(words)\n",
    "\n",
    "\n"
   ]
  },
  {
   "cell_type": "markdown",
   "metadata": {},
   "source": [
    "**Q30:** Define a function `create_status_report(users_list)` that takes a list of user dictionaries. It should **return** a dictionary counting how many users are 'active' and how many are 'inactive'."
   ]
  },
  {
   "cell_type": "code",
   "execution_count": null,
   "metadata": {},
   "outputs": [
    {
     "data": {
      "text/plain": [
       "{'active': 2, 'Inactive': 1}"
      ]
     },
     "execution_count": 2,
     "metadata": {},
     "output_type": "execute_result"
    }
   ],
   "source": [
    "users = [{'status': 'active'}, {'status': 'inactive'}, {'status': 'active'}]\n",
    "# Your code here\n",
    "def create_status_report(users_list):\n",
    "    counta =0\n",
    "    counti = 0\n",
    "    for i in users_list:\n",
    "        if i[\"status\"] == \"active\":\n",
    "            counta+=1\n",
    "        else:\n",
    "            counti +=1\n",
    "    return {\"active\": counta , \"Inactive\": counti }\n",
    "# return {\n",
    "#     \"active\": sum(1 for user in users_list if user[\"status\"] == \"active\"),\n",
    "#     \"inactive\": sum(1 for user in users_list if user[\"status\"] != \"active\")\n",
    "# }\n",
    "    \n",
    "create_status_report(users)"
   ]
  },
  {
   "cell_type": "markdown",
   "metadata": {},
   "source": [
    "**Q31:** Define a function `get_full_name(person_dict)` that takes a dictionary with 'first_name' and 'last_name' keys and **returns** a single formatted string, e.g., \"Bhosle, Yashwant\"."
   ]
  },
  {
   "cell_type": "code",
   "execution_count": 4,
   "metadata": {},
   "outputs": [
    {
     "data": {
      "text/plain": [
       "'Yashwant, Bhosle'"
      ]
     },
     "execution_count": 4,
     "metadata": {},
     "output_type": "execute_result"
    }
   ],
   "source": [
    "person = {'first_name': 'Yashwant', 'last_name': 'Bhosle'}\n",
    "# Your code here\n",
    "def get_full_name(person):\n",
    "    return person[\"first_name\"] +\", \"+ person[\"last_name\"]\n",
    "get_full_name(person)"
   ]
  },
  {
   "cell_type": "markdown",
   "metadata": {},
   "source": [
    "**Q32:** Define a function `get_vowels_and_consonants(text)` that takes a string and **returns** a dictionary with the count of vowels and consonants."
   ]
  },
  {
   "cell_type": "code",
   "execution_count": null,
   "metadata": {},
   "outputs": [
    {
     "data": {
      "text/plain": [
       "{'vowel': 2, 'consonants': 3}"
      ]
     },
     "execution_count": 6,
     "metadata": {},
     "output_type": "execute_result"
    }
   ],
   "source": [
    "word = \"hello\"\n",
    "# Your code here\n",
    "def get_vowels_and_consonants(text):\n",
    "    vowele = [\"a\",\"e\",\"i\",\"o\",\"u\"]\n",
    "    countv = 0\n",
    "    countc = 0\n",
    "    for i in text.lower():\n",
    "        if i in vowele:\n",
    "            countv +=1\n",
    "        else:\n",
    "            countc +=1\n",
    "\n",
    "    return { \"vowel\":countv, \"consonants\":countc}\n",
    "\n",
    "get_vowels_and_consonants(word)\n"
   ]
  },
  {
   "cell_type": "markdown",
   "metadata": {},
   "source": [
    "**Q33:** Define a function `get_product_value(product_dict)` that takes a product dictionary and **returns** its total value (price * stock_quantity)."
   ]
  },
  {
   "cell_type": "code",
   "execution_count": 7,
   "metadata": {},
   "outputs": [
    {
     "data": {
      "text/plain": [
       "7500"
      ]
     },
     "execution_count": 7,
     "metadata": {},
     "output_type": "execute_result"
    }
   ],
   "source": [
    "product = {'name': 'Mouse', 'price': 750, 'stock_quantity': 10}\n",
    "# Your code here\n",
    "\n",
    "def get_product_value(product):\n",
    "    total_value = product[\"price\"] * product[\"stock_quantity\"]\n",
    "    return total_value\n",
    "get_product_value(product)"
   ]
  },
  {
   "cell_type": "markdown",
   "metadata": {},
   "source": [
    "**Q34:** Define a function `find_max_and_min(numbers_list)` that takes a list of numbers and **returns** a tuple containing the maximum and minimum numbers in the list."
   ]
  },
  {
   "cell_type": "code",
   "execution_count": 9,
   "metadata": {},
   "outputs": [
    {
     "data": {
      "text/plain": [
       "(25, 2)"
      ]
     },
     "execution_count": 9,
     "metadata": {},
     "output_type": "execute_result"
    }
   ],
   "source": [
    "data = [10, 5, 25, 2, 15]\n",
    "# Your code here\n",
    "def find_max_and_min(number_list):\n",
    "    return (max(number_list),min(number_list))\n",
    "\n",
    "find_max_and_min(data)"
   ]
  },
  {
   "cell_type": "markdown",
   "metadata": {},
   "source": [
    "**Q35:** Define a function `get_items_by_category(products_list, category_name)` that takes a list of products and a category name, and **returns** a new list of product names belonging to that category."
   ]
  },
  {
   "cell_type": "code",
   "execution_count": 14,
   "metadata": {},
   "outputs": [
    {
     "data": {
      "text/plain": [
       "['Mouse', 'Keyboard']"
      ]
     },
     "execution_count": 14,
     "metadata": {},
     "output_type": "execute_result"
    }
   ],
   "source": [
    "products = [\n",
    "    {'name': 'Mouse', 'category': 'Electronics'},\n",
    "    {'name': 'Book', 'category': 'Books'},\n",
    "    {'name': 'Keyboard', 'category': 'Electronics'}\n",
    "]\n",
    "# Your code here\n",
    "def get_items_by_category(products_list, category_name):\n",
    "    return [ i[\"name\"] for i in products_list if i[\"category\"] == category_name ]\n",
    "\n",
    "get_items_by_category(products,\"Electronics\")"
   ]
  },
  {
   "cell_type": "markdown",
   "metadata": {},
   "source": [
    "**Q36:** Define a function `has_special_char(text)` that takes a string and **returns** `True` if it contains a special character ('@', '#', '$', '%', '&'), and `False` otherwise."
   ]
  },
  {
   "cell_type": "code",
   "execution_count": 17,
   "metadata": {},
   "outputs": [
    {
     "data": {
      "text/plain": [
       "False"
      ]
     },
     "execution_count": 17,
     "metadata": {},
     "output_type": "execute_result"
    }
   ],
   "source": [
    "def has_special_char(text):\n",
    "    special_char =  ('@', '#', '$', '%', '&')\n",
    "    for i in text:\n",
    "        if i in special_char:\n",
    "            return True\n",
    "    else:\n",
    "        return False\n",
    "    \n",
    "has_special_char(\"fjfbjbfkjasd\")\n",
    "\n"
   ]
  },
  {
   "cell_type": "markdown",
   "metadata": {},
   "source": [
    "**Q37:** Define a function `get_grade(score)` that takes a score and **returns** a grade ('A' for 90+, 'B' for 80-89, 'C' for 70-79, 'F' for below 70)."
   ]
  },
  {
   "cell_type": "code",
   "execution_count": 21,
   "metadata": {},
   "outputs": [
    {
     "data": {
      "text/plain": [
       "'F'"
      ]
     },
     "execution_count": 21,
     "metadata": {},
     "output_type": "execute_result"
    }
   ],
   "source": [
    "def get_grade(score):\n",
    "    if score >=90:\n",
    "        return \"A\"\n",
    "    elif score >=80:\n",
    "        return \"B\"\n",
    "    elif score >=70:\n",
    "        return \"C\"\n",
    "    else:\n",
    "        return \"F\"\n",
    "get_grade(69)"
   ]
  },
  {
   "cell_type": "markdown",
   "metadata": {},
   "source": [
    "**Q38:** Define a function `unpack_and_format(records_list)` that takes a list of tuples `(name, age)`. The function should loop through the list and print a formatted string for each person, e.g., \"Name: Raj, Age: 30\"."
   ]
  },
  {
   "cell_type": "code",
   "execution_count": 28,
   "metadata": {},
   "outputs": [
    {
     "name": "stdout",
     "output_type": "stream",
     "text": [
      "Name: Raj, Age: 30\n",
      "Name: Sonia, Age: 25\n"
     ]
    }
   ],
   "source": [
    "records = [('Raj', 30), ('Sonia', 25)]\n",
    "# Your code here\n",
    "def unpack_and_format(records):\n",
    "    # for name,age in records:\n",
    "    #     return f\"Name: {name}, Age:{age}\"\n",
    "     for name, age in records:\n",
    "        print (f\"Name: {name}, Age: {age}\") \n",
    "\n",
    "unpack_and_format(records)"
   ]
  },
  {
   "cell_type": "markdown",
   "metadata": {},
   "source": [
    "**Q39:** Define a function `reverse_list(data_list)` that takes a list and **returns** a new list with the elements in reverse order, without using the built-in `reverse()` or `[::-1]` slicing."
   ]
  },
  {
   "cell_type": "code",
   "execution_count": null,
   "metadata": {},
   "outputs": [
    {
     "data": {
      "text/plain": [
       "[4, 3, 2, 1]"
      ]
     },
     "execution_count": 35,
     "metadata": {},
     "output_type": "execute_result"
    }
   ],
   "source": [
    "data = [1, 2, 3, 4]\n",
    "# Your code here\n",
    "def reverse_list(data):\n",
    "    # i =len(data)-1\n",
    "    # reverse_list = []\n",
    "    # while i >=0:\n",
    "    #     reverse_list.append(data[i])\n",
    "    #     i -= 1 \n",
    "    # return reverse_list\n",
    "    \n",
    "    return [ data[i] for i in range(len(data)-1,-1,-1) ]\n",
    "\n",
    "reverse_list(data)\n"
   ]
  },
  {
   "cell_type": "markdown",
   "metadata": {},
   "source": [
    "**Q40:** Define a function `get_name_and_city(user_dict)` that takes a nested user dictionary and **returns** a tuple containing the user's name and city."
   ]
  },
  {
   "cell_type": "code",
   "execution_count": 2,
   "metadata": {},
   "outputs": [
    {
     "data": {
      "text/plain": [
       "('Anjali', 'Mumbai')"
      ]
     },
     "execution_count": 2,
     "metadata": {},
     "output_type": "execute_result"
    }
   ],
   "source": [
    "user = {\"id\": 1, \"details\": {\"name\": \"Anjali\", \"address\": {\"city\": \"Mumbai\"}}}\n",
    "# Your code here\n",
    "def get_name_and_city(user_dict):\n",
    "    return (user_dict[\"details\"][\"name\"],user_dict[\"details\"][\"address\"][\"city\"])\n",
    "get_name_and_city(user)"
   ]
  },
  {
   "cell_type": "markdown",
   "metadata": {},
   "source": [
    "**Q41:** Define a function `count_word_lengths(sentence)` that takes a sentence and **returns** a dictionary where keys are words and values are their lengths."
   ]
  },
  {
   "cell_type": "code",
   "execution_count": 7,
   "metadata": {},
   "outputs": [
    {
     "data": {
      "text/plain": [
       "{'python': 6, 'is': 2, 'fun': 3}"
      ]
     },
     "execution_count": 7,
     "metadata": {},
     "output_type": "execute_result"
    }
   ],
   "source": [
    "\n",
    "sentence = \"python is fun\"\n",
    "# Your code here\n",
    "def count_word_lengths(sentence):\n",
    "    return{i: len(i) for i in sentence.split()}\n",
    "count_word_lengths(sentence)"
   ]
  },
  {
   "cell_type": "markdown",
   "metadata": {},
   "source": [
    "**Q42:** Define a function `filter_by_price(products_list, max_price)` that takes a list of products and a maximum price, and **returns** a new list of product names that are cheaper than or equal to the `max_price`."
   ]
  },
  {
   "cell_type": "code",
   "execution_count": 13,
   "metadata": {},
   "outputs": [
    {
     "data": {
      "text/plain": [
       "['Mouse', 'Mug']"
      ]
     },
     "execution_count": 13,
     "metadata": {},
     "output_type": "execute_result"
    }
   ],
   "source": [
    "products = [\n",
    "    {'name': 'Mouse', 'price': 750},\n",
    "    {'name': 'Book', 'price': 900},\n",
    "    {'name': 'Mug', 'price': 400}\n",
    "]\n",
    "# Your code here\n",
    "def filter_by_price(products_list, max_price):\n",
    "    return [i[\"name\"]  for i in products_list if i[\"price\"] <= max_price]\n",
    "\n",
    "filter_by_price(products,750)"
   ]
  },
  {
   "cell_type": "markdown",
   "metadata": {},
   "source": [
    "**Q43:** Define a function `is_palindrome(text)` that takes a string and **returns** `True` if it's a palindrome (reads the same forwards and backwards) and `False` otherwise."
   ]
  },
  {
   "cell_type": "code",
   "execution_count": 18,
   "metadata": {},
   "outputs": [
    {
     "data": {
      "text/plain": [
       "True"
      ]
     },
     "execution_count": 18,
     "metadata": {},
     "output_type": "execute_result"
    }
   ],
   "source": [
    "def is_palindrome(text):\n",
    "    return text.lower() == text[::-1].lower()\n",
    "is_palindrome(\"Madam\")"
   ]
  },
  {
   "cell_type": "markdown",
   "metadata": {},
   "source": [
    "**Q44:** Define a function `get_first_elements(nested_list)` that takes a list of lists and **returns** a new list containing only the first element of each inner list."
   ]
  },
  {
   "cell_type": "code",
   "execution_count": 19,
   "metadata": {},
   "outputs": [
    {
     "data": {
      "text/plain": [
       "[1, 3, 5]"
      ]
     },
     "execution_count": 19,
     "metadata": {},
     "output_type": "execute_result"
    }
   ],
   "source": [
    "data = [[1, 2], [3, 4], [5, 6]]\n",
    "# Your code here\n",
    "def get_first_elements(nested_list):\n",
    "    return [i[0] for i in nested_list]\n",
    "get_first_elements(data)"
   ]
  },
  {
   "cell_type": "markdown",
   "metadata": {},
   "source": [
    "**Q45:** Define a function `merge_dicts(dict1, dict2)` that takes two dictionaries and **returns** a new dictionary with all the key-value pairs from both."
   ]
  },
  {
   "cell_type": "code",
   "execution_count": null,
   "metadata": {},
   "outputs": [
    {
     "name": "stdout",
     "output_type": "stream",
     "text": [
      "{'a': 1, 'b': 2, 'c': 3, 'd': 4}\n"
     ]
    }
   ],
   "source": [
    "d1 = {'a': 1, 'b': 2},\n",
    "\n",
    "d2 = {'c': 3, 'd': 4}\n",
    "# Your code here\n",
    "def merge_dicts(dict1, dict2):\n",
    "      \n",
    "     return dict1 | dict2\n",
    "    \n",
    "\n",
    "print(merge_dicts(d1,d2))"
   ]
  },
  {
   "cell_type": "markdown",
   "metadata": {},
   "source": [
    "**Q46:** Define a function `get_unique_elements(data_list)` that takes a list and **returns** a new list with all duplicate elements removed."
   ]
  },
  {
   "cell_type": "code",
   "execution_count": null,
   "metadata": {},
   "outputs": [
    {
     "data": {
      "text/plain": [
       "[1, 2, 3, 4, 5]"
      ]
     },
     "execution_count": 34,
     "metadata": {},
     "output_type": "execute_result"
    }
   ],
   "source": [
    "data = [1, 2, 2, 3, 4, 3, 5]\n",
    "# Your code here (Hint: you can use a second list to track seen items)\n",
    "def get_unique_elements(data_list):\n",
    "    #1 return list(set(data_list))\n",
    "    #2 unique_list =[]\n",
    "    # for i in data_list:\n",
    "    #     if i not in unique_list:\n",
    "    #         unique_list.append(i)\n",
    "    # return unique_list\n",
    "    # 3\n",
    "    seen = set()\n",
    "    return [x for x in data_list if not (x in seen or seen.add(x))]\n",
    "\n",
    "get_unique_elements(data)"
   ]
  },
  {
   "cell_type": "markdown",
   "metadata": {},
   "source": [
    "**Q47:** Define a function `get_value_from_nested_list(data_list, index1, index2)` that takes a list of lists and two indices, and **returns** the element at that nested position."
   ]
  },
  {
   "cell_type": "code",
   "execution_count": 35,
   "metadata": {},
   "outputs": [
    {
     "name": "stdout",
     "output_type": "stream",
     "text": [
      "30\n"
     ]
    }
   ],
   "source": [
    "matrix = [[10, 20], [30, 40]]\n",
    "# Your code here\n",
    "def get_value_from_nested_list(data_list , idx1, idx2):\n",
    "    return data_list[idx1][idx2]\n",
    "print(get_value_from_nested_list(matrix, 1, 0)) # Should print 30"
   ]
  },
  {
   "cell_type": "markdown",
   "metadata": {},
   "source": [
    "**Q48:** Define a function `create_user_report(user_dict)` that takes a user dictionary and **returns** a formatted string: \"User [name] is [age] years old and lives in [city].\""
   ]
  },
  {
   "cell_type": "code",
   "execution_count": 36,
   "metadata": {},
   "outputs": [
    {
     "data": {
      "text/plain": [
       "'User Priya is 25 years old and lives in Pune.'"
      ]
     },
     "execution_count": 36,
     "metadata": {},
     "output_type": "execute_result"
    }
   ],
   "source": [
    "user = {'name': 'Priya', 'age': 25, 'city': 'Pune'}\n",
    "# Your code here\n",
    "def create_user_report(user_dict):\n",
    "    return f\"User {user_dict[\"name\"]} is {user_dict[\"age\"]} years old and lives in {user_dict[\"city\"]}.\"\n",
    "create_user_report(user)"
   ]
  },
  {
   "cell_type": "markdown",
   "metadata": {},
   "source": [
    "**Q49:** Define a function `find_key_by_value(data_dict, value_to_find)` that takes a dictionary and a value, and **returns** the first key that has that value."
   ]
  },
  {
   "cell_type": "code",
   "execution_count": 51,
   "metadata": {},
   "outputs": [
    {
     "data": {
      "text/plain": [
       "'Science'"
      ]
     },
     "execution_count": 51,
     "metadata": {},
     "output_type": "execute_result"
    }
   ],
   "source": [
    "grades = {\"Math\": \"A\", \"Science\": \"B\", \"History\": \"A\"}\n",
    "# Your code here\n",
    "def find_key_by_value(data_dict, value_to_find):\n",
    "    for key , value in data_dict.items():\n",
    "        if value == value_to_find:\n",
    "            return key\n",
    "    \n",
    "        \n",
    "find_key_by_value(grades,\"B\")\n",
    "\n",
    "\n",
    "\n"
   ]
  },
  {
   "cell_type": "markdown",
   "metadata": {},
   "source": [
    "**Q50:** Define a function `analyze_list(data_list)` that takes a list of mixed types and **returns** a dictionary with the count of integers, strings, and booleans in the list."
   ]
  },
  {
   "cell_type": "code",
   "execution_count": 55,
   "metadata": {},
   "outputs": [
    {
     "data": {
      "text/plain": [
       "{int: 2, str: 2, bool: 3}"
      ]
     },
     "execution_count": 55,
     "metadata": {},
     "output_type": "execute_result"
    }
   ],
   "source": [
    "data = [10, 'hello', True, 20, 'world', False, True]\n",
    "# Your code here\n",
    "def analyze_list(data_list):\n",
    "    data_dict = {}\n",
    "    for i in data_list:\n",
    "        if type(i) in data_dict:\n",
    "            data_dict[type(i)] +=1\n",
    "        else:\n",
    "            data_dict[type(i)] = 1\n",
    "    return data_dict\n",
    "analyze_list(data)"
   ]
  },
  {
   "cell_type": "code",
   "execution_count": null,
   "id": "36aee1fa",
   "metadata": {},
   "outputs": [],
   "source": []
  }
 ],
 "metadata": {
  "kernelspec": {
   "display_name": "Python 3",
   "language": "python",
   "name": "python3"
  },
  "language_info": {
   "codemirror_mode": {
    "name": "ipython",
    "version": 3
   },
   "file_extension": ".py",
   "mimetype": "text/x-python",
   "name": "python",
   "nbconvert_exporter": "python",
   "pygments_lexer": "ipython3",
   "version": "3.13.5"
  }
 },
 "nbformat": 4,
 "nbformat_minor": 5
}
