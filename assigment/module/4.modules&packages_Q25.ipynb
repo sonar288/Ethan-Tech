{
 "cells": [
  {
   "cell_type": "markdown",
   "metadata": {},
   "source": [
    "# Practice Questions: Python Modules and Packages (New Set)\n",
    "\n",
    "**Instructions:** Solve the following 25 questions. This is a practical exercise. You will need to create files and folders as instructed. All your import code should be written in the cells of this notebook."
   ]
  },
  {
   "cell_type": "markdown",
   "metadata": {},
   "source": [
    "### Part 1: Working with a Simple Module"
   ]
  },
  {
   "cell_type": "markdown",
   "metadata": {},
   "source": [
    "**Setup for Questions 1-8:**\n",
    "1. In the same directory as this notebook, create a new file named `text_analyzer.py`.\n",
    "2. Open `text_analyzer.py` and add the following code to it:\n",
    "```python\n",
    "# This is the content of text_analyzer.py\n",
    "\n",
    "VERSION = \"1.0\"\n",
    "\n",
    "def count_words(sentence):\n",
    "    return len(sentence.split())\n",
    "\n",
    "def count_chars(sentence):\n",
    "    return len(sentence)\n",
    "```\n",
    "3. Save the `text_analyzer.py` file."
   ]
  },
  {
   "cell_type": "markdown",
   "metadata": {},
   "source": [
    "**Q1:** Import the entire `text_analyzer` module."
   ]
  },
  {
   "cell_type": "code",
   "execution_count": 2,
   "id": "d29f2c4c",
   "metadata": {},
   "outputs": [],
   "source": [
    "import text_analyzer as txt\n"
   ]
  },
  {
   "cell_type": "markdown",
   "id": "9d20a95a",
   "metadata": {},
   "source": [
    "**Q2:** After importing `text_analyzer`, call the `count_words()` function with the sentence \"Python is fun\" and print the result."
   ]
  },
  {
   "cell_type": "code",
   "execution_count": 3,
   "id": "8acd51fa",
   "metadata": {},
   "outputs": [
    {
     "data": {
      "text/plain": [
       "3"
      ]
     },
     "execution_count": 3,
     "metadata": {},
     "output_type": "execute_result"
    }
   ],
   "source": [
    "txt.count_words(\"Python is fun\")"
   ]
  },
  {
   "cell_type": "markdown",
   "id": "5762c969",
   "metadata": {},
   "source": [
    "**Q3:** Call the `count_chars()` function from the `text_analyzer` module with the string \"hello\" and print the result."
   ]
  },
  {
   "cell_type": "code",
   "execution_count": 4,
   "id": "c645af1a",
   "metadata": {},
   "outputs": [
    {
     "data": {
      "text/plain": [
       "5"
      ]
     },
     "execution_count": 4,
     "metadata": {},
     "output_type": "execute_result"
    }
   ],
   "source": [
    "txt.count_chars(\"hello\")"
   ]
  },
  {
   "cell_type": "markdown",
   "id": "db0e9a58",
   "metadata": {},
   "source": [
    "**Q4:** Access and print the `VERSION` variable from the `text_analyzer` module."
   ]
  },
  {
   "cell_type": "code",
   "execution_count": 5,
   "id": "9e5bbb9a",
   "metadata": {},
   "outputs": [
    {
     "data": {
      "text/plain": [
       "'1.0'"
      ]
     },
     "execution_count": 5,
     "metadata": {},
     "output_type": "execute_result"
    }
   ],
   "source": [
    "txt.VERSION"
   ]
  },
  {
   "cell_type": "markdown",
   "id": "49d9221b",
   "metadata": {},
   "source": [
    "**Q5:** Import only the `count_words()` function from the `text_analyzer` module."
   ]
  },
  {
   "cell_type": "code",
   "execution_count": null,
   "id": "b7923128",
   "metadata": {},
   "outputs": [
    {
     "data": {
      "text/plain": [
       "2"
      ]
     },
     "execution_count": 7,
     "metadata": {},
     "output_type": "execute_result"
    }
   ],
   "source": [
    "from text_analyzer import count_words\n",
    "\n"
   ]
  },
  {
   "cell_type": "markdown",
   "id": "742629b1",
   "metadata": {},
   "source": [
    "**Q6:** After the import in Q5, call the `count_words()` function directly with the sentence \"This is a new sentence\"."
   ]
  },
  {
   "cell_type": "code",
   "execution_count": 8,
   "id": "6bc5fd29",
   "metadata": {},
   "outputs": [
    {
     "data": {
      "text/plain": [
       "4"
      ]
     },
     "execution_count": 8,
     "metadata": {},
     "output_type": "execute_result"
    }
   ],
   "source": [
    "count_words(\"This is new sentence\")"
   ]
  },
  {
   "cell_type": "markdown",
   "id": "3bdaef42",
   "metadata": {},
   "source": [
    "**Q7:** Import the `text_analyzer` module and give it an alias `ta`."
   ]
  },
  {
   "cell_type": "code",
   "execution_count": 9,
   "id": "cdd257d1",
   "metadata": {},
   "outputs": [],
   "source": [
    "import text_analyzer as ta"
   ]
  },
  {
   "cell_type": "markdown",
   "id": "0c07fcf7",
   "metadata": {},
   "source": [
    "**Q8:** Use the alias `ta` to call the `count_chars` function on the string \"aliasing is useful\" and print the result."
   ]
  },
  {
   "cell_type": "code",
   "execution_count": 10,
   "id": "b3420520",
   "metadata": {},
   "outputs": [
    {
     "data": {
      "text/plain": [
       "18"
      ]
     },
     "execution_count": 10,
     "metadata": {},
     "output_type": "execute_result"
    }
   ],
   "source": [
    "ta.count_chars(\"aliasing is useful\")"
   ]
  },
  {
   "cell_type": "markdown",
   "metadata": {},
   "source": [
    "### Part 2: Creating and Using a Simple Package"
   ]
  },
  {
   "cell_type": "markdown",
   "metadata": {},
   "source": [
    "**Setup for Questions 9-18:**\n",
    "1. In the same directory as this notebook, create a new **folder** called `my_utils`.\n",
    "2. Inside the `my_utils` folder, create a new, **empty** file named `__init__.py`.\n",
    "3. Inside the `my_utils` folder, create another file named `converters.py` and add this code:\n",
    "```python\n",
    "# This is the content of my_utils/converters.py\n",
    "def inches_to_cm(inches):\n",
    "    return inches * 2.54\n",
    "```\n",
    "4. Inside the `my_utils` folder, create one more file named `validators.py` and add this code:\n",
    "```python\n",
    "# This is the content of my_utils/validators.py\n",
    "def is_email(text):\n",
    "    return '@' in text\n",
    "```"
   ]
  },
  {
   "cell_type": "markdown",
   "metadata": {},
   "source": [
    "**Q9:** Import the `converters` module from your `my_utils` package."
   ]
  },
  {
   "cell_type": "code",
   "execution_count": 13,
   "metadata": {},
   "outputs": [],
   "source": [
    "import my_utils.converters as conv"
   ]
  },
  {
   "cell_type": "markdown",
   "metadata": {},
   "source": [
    "**Q10:** Use the `converters` module to convert 10 inches to centimeters and print the result."
   ]
  },
  {
   "cell_type": "code",
   "execution_count": 16,
   "metadata": {},
   "outputs": [
    {
     "name": "stdout",
     "output_type": "stream",
     "text": [
      "10 inches in centementer is 25.4\n"
     ]
    }
   ],
   "source": [
    "print(f\"10 inches in centementer is {conv.inches_to_cm(10)}\")"
   ]
  },
  {
   "cell_type": "markdown",
   "metadata": {},
   "source": [
    "**Q11:** Import the `validators` module from your `my_utils` package."
   ]
  },
  {
   "cell_type": "code",
   "execution_count": 18,
   "metadata": {},
   "outputs": [],
   "source": [
    "import my_utils.validators as valid"
   ]
  },
  {
   "cell_type": "markdown",
   "metadata": {},
   "source": [
    "**Q12:** Use the `validators` module to check if \"test@example.com\" is an email. Print the result."
   ]
  },
  {
   "cell_type": "code",
   "execution_count": 22,
   "metadata": {},
   "outputs": [
    {
     "name": "stdout",
     "output_type": "stream",
     "text": [
      "the flowing is email\n"
     ]
    }
   ],
   "source": [
    "print(\"the flowing is email\" if valid.is_email(\"test@example.com\") else \"Not the valid email\")"
   ]
  },
  {
   "cell_type": "markdown",
   "metadata": {},
   "source": [
    "**Q13:** From the `my_utils.converters` module, import the `inches_to_cm` function directly."
   ]
  },
  {
   "cell_type": "code",
   "execution_count": 23,
   "metadata": {},
   "outputs": [],
   "source": [
    "from my_utils.converters import inches_to_cm"
   ]
  },
  {
   "cell_type": "markdown",
   "metadata": {},
   "source": [
    "**Q14:** Call the `inches_to_cm` function directly to convert 20 inches."
   ]
  },
  {
   "cell_type": "code",
   "execution_count": 24,
   "metadata": {},
   "outputs": [
    {
     "data": {
      "text/plain": [
       "50.8"
      ]
     },
     "execution_count": 24,
     "metadata": {},
     "output_type": "execute_result"
    }
   ],
   "source": [
    "inches_to_cm(20)"
   ]
  },
  {
   "cell_type": "markdown",
   "metadata": {},
   "source": [
    "**Q15:** Import the `validators` module from `my_utils` using the alias `val`."
   ]
  },
  {
   "cell_type": "code",
   "execution_count": 25,
   "metadata": {},
   "outputs": [],
   "source": [
    "import my_utils.validators as val"
   ]
  },
  {
   "cell_type": "markdown",
   "metadata": {},
   "source": [
    "**Q16:** Use the alias `val` to check if the string \"not-an-email\" is a valid email."
   ]
  },
  {
   "cell_type": "code",
   "execution_count": 26,
   "metadata": {},
   "outputs": [
    {
     "name": "stdout",
     "output_type": "stream",
     "text": [
      "Not the valid email\n"
     ]
    }
   ],
   "source": [
    "print(\"the flowing is email\" if valid.is_email(\"not-an-email\") else \"Not the valid email\")"
   ]
  },
  {
   "cell_type": "markdown",
   "metadata": {},
   "source": [
    "**Q17:** From `my_utils.validators`, import the `is_email` function with the alias `validate_email`."
   ]
  },
  {
   "cell_type": "code",
   "execution_count": 27,
   "metadata": {},
   "outputs": [],
   "source": [
    "from my_utils.validators import is_email as validate_email"
   ]
  },
  {
   "cell_type": "markdown",
   "metadata": {},
   "source": [
    "**Q18:** Use the `validate_email` alias to check the string \"test@domain.com\"."
   ]
  },
  {
   "cell_type": "code",
   "execution_count": 28,
   "metadata": {},
   "outputs": [
    {
     "data": {
      "text/plain": [
       "True"
      ]
     },
     "execution_count": 28,
     "metadata": {},
     "output_type": "execute_result"
    }
   ],
   "source": [
    "validate_email(\"test@domain.com\")"
   ]
  },
  {
   "cell_type": "markdown",
   "metadata": {},
   "source": [
    "### Part 3: Using Built-in Modules"
   ]
  },
  {
   "cell_type": "markdown",
   "metadata": {},
   "source": [
    "**Q19:** Import the `sys` module."
   ]
  },
  {
   "cell_type": "code",
   "execution_count": 29,
   "metadata": {},
   "outputs": [],
   "source": [
    "import sys"
   ]
  },
  {
   "cell_type": "markdown",
   "metadata": {},
   "source": [
    "**Q20:** Use the `sys` module to print the path where your Python executable is located (`sys.executable`)."
   ]
  },
  {
   "cell_type": "code",
   "execution_count": 31,
   "metadata": {},
   "outputs": [
    {
     "data": {
      "text/plain": [
       "'c:\\\\Users\\\\Dell\\\\AppData\\\\Local\\\\Programs\\\\Python\\\\Python313\\\\python.exe'"
      ]
     },
     "execution_count": 31,
     "metadata": {},
     "output_type": "execute_result"
    }
   ],
   "source": [
    "sys.executable"
   ]
  },
  {
   "cell_type": "markdown",
   "metadata": {},
   "source": [
    "**Q21:** Import the `ceil` function from the `math` module."
   ]
  },
  {
   "cell_type": "code",
   "execution_count": 32,
   "metadata": {},
   "outputs": [],
   "source": [
    "from math import ceil"
   ]
  },
  {
   "cell_type": "markdown",
   "metadata": {},
   "source": [
    "**Q22:** Use the `ceil` function to round the number 9.2 up to the nearest integer and print it."
   ]
  },
  {
   "cell_type": "code",
   "execution_count": 33,
   "metadata": {},
   "outputs": [
    {
     "data": {
      "text/plain": [
       "10"
      ]
     },
     "execution_count": 33,
     "metadata": {},
     "output_type": "execute_result"
    }
   ],
   "source": [
    "ceil(9.2)"
   ]
  },
  {
   "cell_type": "markdown",
   "metadata": {},
   "source": [
    "**Q23:** Import the `platform` module with the alias `pf`."
   ]
  },
  {
   "cell_type": "code",
   "execution_count": 34,
   "metadata": {},
   "outputs": [],
   "source": [
    "import platform as pf"
   ]
  },
  {
   "cell_type": "markdown",
   "metadata": {},
   "source": [
    "**Q24:** Use the `pf` alias to print your computer's processor type (`pf.processor()`)."
   ]
  },
  {
   "cell_type": "code",
   "execution_count": 35,
   "metadata": {},
   "outputs": [
    {
     "data": {
      "text/plain": [
       "'Intel64 Family 6 Model 140 Stepping 1, GenuineIntel'"
      ]
     },
     "execution_count": 35,
     "metadata": {},
     "output_type": "execute_result"
    }
   ],
   "source": [
    "pf.processor()"
   ]
  },
  {
   "cell_type": "markdown",
   "metadata": {},
   "source": [
    "**Q25:** From the `random` module, import both the `randint` and `choice` functions in one line."
   ]
  },
  {
   "cell_type": "code",
   "execution_count": 36,
   "metadata": {},
   "outputs": [],
   "source": [
    "from random import randint,choice"
   ]
  },
  {
   "cell_type": "code",
   "execution_count": null,
   "id": "d7da09ba",
   "metadata": {},
   "outputs": [],
   "source": []
  }
 ],
 "metadata": {
  "kernelspec": {
   "display_name": "Python 3",
   "language": "python",
   "name": "python3"
  },
  "language_info": {
   "codemirror_mode": {
    "name": "ipython",
    "version": 3
   },
   "file_extension": ".py",
   "mimetype": "text/x-python",
   "name": "python",
   "nbconvert_exporter": "python",
   "pygments_lexer": "ipython3",
   "version": "3.13.5"
  }
 },
 "nbformat": 4,
 "nbformat_minor": 5
}
