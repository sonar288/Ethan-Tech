{
 "cells": [
  {
   "cell_type": "markdown",
   "id": "fGmvvbaaadfM",
   "metadata": {
    "id": "fGmvvbaaadfM"
   },
   "source": [
    "# Practice Questions: Python Fundamentals Review\n",
    "\n",
    "**Instructions:** Solve the following 50 questions. This set covers a range of topics from basic data types to OOP, with gradually increasing difficulty. Write your code in the empty cell below each question."
   ]
  },
  {
   "cell_type": "markdown",
   "id": "mCUursSDadfQ",
   "metadata": {
    "id": "mCUursSDadfQ"
   },
   "source": [
    "### Part 1: Data Types, Operators, and Conditionals"
   ]
  },
  {
   "cell_type": "markdown",
   "id": "-doIy2MDadfQ",
   "metadata": {
    "id": "-doIy2MDadfQ"
   },
   "source": [
    "**Q1:** The string `s` is given. Print the character at index 3."
   ]
  },
  {
   "cell_type": "code",
   "execution_count": null,
   "id": "g3ZzIzv6adfQ",
   "metadata": {
    "colab": {
     "base_uri": "https://localhost:8080/"
    },
    "executionInfo": {
     "elapsed": 30,
     "status": "ok",
     "timestamp": 1757051485568,
     "user": {
      "displayName": "Vaishnavi",
      "userId": "12180571362040260983"
     },
     "user_tz": -330
    },
    "id": "g3ZzIzv6adfQ",
    "outputId": "d0117c46-a78e-4314-dec8-21fa85fc3ca1"
   },
   "outputs": [],
   "source": [
    "s = \"Programming\"\n",
    "print(s[3])"
   ]
  },
  {
   "cell_type": "markdown",
   "id": "polOov41adfS",
   "metadata": {
    "id": "polOov41adfS"
   },
   "source": [
    "**Q2:** The list `numbers` is given. Print the last element using a negative index."
   ]
  },
  {
   "cell_type": "code",
   "execution_count": null,
   "id": "uflUJJoRadfS",
   "metadata": {
    "colab": {
     "base_uri": "https://localhost:8080/"
    },
    "executionInfo": {
     "elapsed": 13,
     "status": "ok",
     "timestamp": 1757051589949,
     "user": {
      "displayName": "Vaishnavi",
      "userId": "12180571362040260983"
     },
     "user_tz": -330
    },
    "id": "uflUJJoRadfS",
    "outputId": "6f12117a-6867-47a8-df60-24cecd52a519"
   },
   "outputs": [
    {
     "name": "stdout",
     "output_type": "stream",
     "text": [
      "40\n"
     ]
    }
   ],
   "source": [
    "numbers = [10, 20, 30, 40]\n",
    "print(numbers[-1])"
   ]
  },
  {
   "cell_type": "markdown",
   "id": "HaKRmJLCadfS",
   "metadata": {
    "id": "HaKRmJLCadfS"
   },
   "source": [
    "**Q3:** The string `s` is given. Use slicing to print the first 5 characters."
   ]
  },
  {
   "cell_type": "code",
   "execution_count": null,
   "id": "Kafu0aASadfT",
   "metadata": {
    "colab": {
     "base_uri": "https://localhost:8080/"
    },
    "executionInfo": {
     "elapsed": 20,
     "status": "ok",
     "timestamp": 1757051823747,
     "user": {
      "displayName": "Vaishnavi",
      "userId": "12180571362040260983"
     },
     "user_tz": -330
    },
    "id": "Kafu0aASadfT",
    "outputId": "256b1b34-a2c7-43c2-c679-fce401da50c0"
   },
   "outputs": [
    {
     "name": "stdout",
     "output_type": "stream",
     "text": [
      "Hello\n"
     ]
    }
   ],
   "source": [
    "s = \"Hello World\"\n",
    "print(s[:5])"
   ]
  },
  {
   "cell_type": "markdown",
   "id": "M7dmD_EladfT",
   "metadata": {
    "id": "M7dmD_EladfT"
   },
   "source": [
    "**Q4:** The tuple `data` is given. Use slicing to get a new tuple with the last two items."
   ]
  },
  {
   "cell_type": "code",
   "execution_count": null,
   "id": "YnAfQnrHadfT",
   "metadata": {
    "colab": {
     "base_uri": "https://localhost:8080/"
    },
    "executionInfo": {
     "elapsed": 42,
     "status": "ok",
     "timestamp": 1757052013710,
     "user": {
      "displayName": "Vaishnavi",
      "userId": "12180571362040260983"
     },
     "user_tz": -330
    },
    "id": "YnAfQnrHadfT",
    "outputId": "4356e1c1-5a36-45f7-e371-41b9ee08e19d"
   },
   "outputs": [
    {
     "name": "stdout",
     "output_type": "stream",
     "text": [
      "(4, 5)\n"
     ]
    }
   ],
   "source": [
    "data = (1, 2, 3, 4, 5)\n",
    "print(data[-2:])"
   ]
  },
  {
   "cell_type": "markdown",
   "id": "SMyjDxwDadfU",
   "metadata": {
    "id": "SMyjDxwDadfU"
   },
   "source": [
    "**Q5:** A variable `age` is given. Check if the age is 18 or greater and print \"Adult\" or \"Minor\"."
   ]
  },
  {
   "cell_type": "code",
   "execution_count": null,
   "id": "Pi6v3IqDadfU",
   "metadata": {
    "colab": {
     "base_uri": "https://localhost:8080/"
    },
    "executionInfo": {
     "elapsed": 13,
     "status": "ok",
     "timestamp": 1757052530696,
     "user": {
      "displayName": "Vaishnavi",
      "userId": "12180571362040260983"
     },
     "user_tz": -330
    },
    "id": "Pi6v3IqDadfU",
    "outputId": "369654ae-7972-4c2d-a8d0-2a4f8a6eb274"
   },
   "outputs": [
    {
     "name": "stdout",
     "output_type": "stream",
     "text": [
      "Adult\n"
     ]
    }
   ],
   "source": [
    "age = 25\n",
    "age=18\n",
    "if age >=18:\n",
    "  print('Adult')\n",
    "else:\n",
    "  print('Minor')"
   ]
  },
  {
   "cell_type": "markdown",
   "id": "Rv__ky6oadfU",
   "metadata": {
    "id": "Rv__ky6oadfU"
   },
   "source": [
    "**Q6:** A number `n` is given. Check if it is divisible by both 3 and 5."
   ]
  },
  {
   "cell_type": "code",
   "execution_count": 17,
   "id": "6W_hOwqHadfU",
   "metadata": {
    "colab": {
     "base_uri": "https://localhost:8080/"
    },
    "executionInfo": {
     "elapsed": 18,
     "status": "ok",
     "timestamp": 1757052741471,
     "user": {
      "displayName": "Vaishnavi",
      "userId": "12180571362040260983"
     },
     "user_tz": -330
    },
    "id": "6W_hOwqHadfU",
    "outputId": "085bbefe-3a36-40b5-ce76-f9538f15fcfe"
   },
   "outputs": [
    {
     "name": "stdout",
     "output_type": "stream",
     "text": [
      "Divisible by 3 and 5\n"
     ]
    }
   ],
   "source": [
    "n = 15\n",
    "if n%3==0 and n%5==0:\n",
    "  print('Divisible by 3 and 5')\n",
    "else:\n",
    "    print('Not divisible by 3 and 5')"
   ]
  },
  {
   "cell_type": "markdown",
   "id": "DuBXntqtadfU",
   "metadata": {
    "id": "DuBXntqtadfU"
   },
   "source": [
    "**Q7:** From the `student` dictionary, access and print the list of subjects."
   ]
  },
  {
   "cell_type": "code",
   "execution_count": 19,
   "id": "qFAlW8v6adfV",
   "metadata": {
    "colab": {
     "base_uri": "https://localhost:8080/"
    },
    "executionInfo": {
     "elapsed": 12,
     "status": "ok",
     "timestamp": 1757052840530,
     "user": {
      "displayName": "Vaishnavi",
      "userId": "12180571362040260983"
     },
     "user_tz": -330
    },
    "id": "qFAlW8v6adfV",
    "outputId": "7b0a243d-5409-4ae5-a5ae-7f19fe6824d2"
   },
   "outputs": [
    {
     "name": "stdout",
     "output_type": "stream",
     "text": [
      "['Math', 'Science']\n"
     ]
    }
   ],
   "source": [
    "student = {\"name\": \"Priya\", \"subjects\": [\"Math\", \"Science\"]}\n",
    "print(student[\"subjects\"])"
   ]
  },
  {
   "cell_type": "markdown",
   "id": "0PcEjAyradfV",
   "metadata": {
    "id": "0PcEjAyradfV"
   },
   "source": [
    "**Q8:** From the `student` dictionary above, access the second subject in the list (\"Science\")."
   ]
  },
  {
   "cell_type": "code",
   "execution_count": 21,
   "id": "D_TOTv5MadfV",
   "metadata": {
    "colab": {
     "base_uri": "https://localhost:8080/"
    },
    "executionInfo": {
     "elapsed": 21,
     "status": "ok",
     "timestamp": 1757052884830,
     "user": {
      "displayName": "Vaishnavi",
      "userId": "12180571362040260983"
     },
     "user_tz": -330
    },
    "id": "D_TOTv5MadfV",
    "outputId": "926acf4a-65e9-4097-af5c-c1e2a2f587ab"
   },
   "outputs": [
    {
     "name": "stdout",
     "output_type": "stream",
     "text": [
      "Science\n"
     ]
    }
   ],
   "source": [
    "student = {\"name\": \"Priya\", \"subjects\": [\"Math\", \"Science\"]}\n",
    "print(student[\"subjects\"][1])"
   ]
  },
  {
   "cell_type": "markdown",
   "id": "fs9iVUrcadfV",
   "metadata": {
    "id": "fs9iVUrcadfV"
   },
   "source": [
    "**Q9:** Check if the length of the string `word` is odd."
   ]
  },
  {
   "cell_type": "code",
   "execution_count": 2,
   "id": "HCqKSpPWadfV",
   "metadata": {
    "id": "HCqKSpPWadfV"
   },
   "outputs": [
    {
     "data": {
      "text/plain": [
       "6"
      ]
     },
     "execution_count": 2,
     "metadata": {},
     "output_type": "execute_result"
    }
   ],
   "source": [
    "word = \"Python\"\n",
    "# Your code here\n",
    "len(word)"
   ]
  },
  {
   "cell_type": "markdown",
   "id": "mvqVdb7IadfV",
   "metadata": {
    "id": "mvqVdb7IadfV"
   },
   "source": [
    "**Q10:** A `score` is given. Print \"Pass\" if the score is 40 or more, otherwise print \"Fail\"."
   ]
  },
  {
   "cell_type": "code",
   "execution_count": 23,
   "id": "m0Rnq21JadfV",
   "metadata": {
    "colab": {
     "base_uri": "https://localhost:8080/"
    },
    "executionInfo": {
     "elapsed": 12,
     "status": "ok",
     "timestamp": 1757053019331,
     "user": {
      "displayName": "Vaishnavi",
      "userId": "12180571362040260983"
     },
     "user_tz": -330
    },
    "id": "m0Rnq21JadfV",
    "outputId": "589d8743-8b52-493c-e673-888171c9e6de"
   },
   "outputs": [
    {
     "name": "stdout",
     "output_type": "stream",
     "text": [
      "Fail\n"
     ]
    }
   ],
   "source": [
    "score = 39\n",
    "if score == 40:\n",
    "  print('Pass')\n",
    "else:\n",
    "  print('Fail')"
   ]
  },
  {
   "cell_type": "markdown",
   "id": "m9ciagFHadfV",
   "metadata": {
    "id": "m9ciagFHadfV"
   },
   "source": [
    "### Part 2: Loops (for and while)"
   ]
  },
  {
   "cell_type": "markdown",
   "id": "OYsRNjppadfV",
   "metadata": {
    "id": "OYsRNjppadfV"
   },
   "source": [
    "**Q11:** Use a `for` loop to print each item in the `fruits` list."
   ]
  },
  {
   "cell_type": "code",
   "execution_count": 24,
   "id": "_nWma1LpadfV",
   "metadata": {
    "colab": {
     "base_uri": "https://localhost:8080/"
    },
    "executionInfo": {
     "elapsed": 20,
     "status": "ok",
     "timestamp": 1757053085647,
     "user": {
      "displayName": "Vaishnavi",
      "userId": "12180571362040260983"
     },
     "user_tz": -330
    },
    "id": "_nWma1LpadfV",
    "outputId": "2c4cab15-99aa-48dc-9147-a2d0ee871884"
   },
   "outputs": [
    {
     "name": "stdout",
     "output_type": "stream",
     "text": [
      "['apple', 'banana', 'cherry']\n",
      "['apple', 'banana', 'cherry']\n",
      "['apple', 'banana', 'cherry']\n"
     ]
    }
   ],
   "source": [
    "fruits = [\"apple\", \"banana\", \"cherry\"]\n",
    "for fruit in fruits:\n",
    "  print(fruits)"
   ]
  },
  {
   "cell_type": "markdown",
   "id": "X8S7_nNCadfW",
   "metadata": {
    "id": "X8S7_nNCadfW"
   },
   "source": [
    "**Q12:** Use a `for` loop to print numbers from 1 to 10 that are even."
   ]
  },
  {
   "cell_type": "code",
   "execution_count": 25,
   "id": "y9nxsxYIadfW",
   "metadata": {
    "colab": {
     "base_uri": "https://localhost:8080/"
    },
    "executionInfo": {
     "elapsed": 63,
     "status": "ok",
     "timestamp": 1757053200999,
     "user": {
      "displayName": "Vaishnavi",
      "userId": "12180571362040260983"
     },
     "user_tz": -330
    },
    "id": "y9nxsxYIadfW",
    "outputId": "12407a40-3e23-4887-f7a2-efdbbafbb678"
   },
   "outputs": [
    {
     "name": "stdout",
     "output_type": "stream",
     "text": [
      "2\n",
      "4\n",
      "6\n",
      "8\n",
      "10\n"
     ]
    }
   ],
   "source": [
    " for i in range(1, 11):\n",
    "    if i % 2 == 0:\n",
    "        print(i)"
   ]
  },
  {
   "cell_type": "markdown",
   "id": "rxUxeySGadfW",
   "metadata": {
    "id": "rxUxeySGadfW"
   },
   "source": [
    "**Q13:** Use a `while` loop to print numbers from 5 down to 1."
   ]
  },
  {
   "cell_type": "code",
   "execution_count": 27,
   "id": "RA-bCgYYadfW",
   "metadata": {
    "colab": {
     "base_uri": "https://localhost:8080/"
    },
    "executionInfo": {
     "elapsed": 11,
     "status": "ok",
     "timestamp": 1757053300369,
     "user": {
      "displayName": "Vaishnavi",
      "userId": "12180571362040260983"
     },
     "user_tz": -330
    },
    "id": "RA-bCgYYadfW",
    "outputId": "766187e2-a5fd-4809-9b4c-7181726a9cba"
   },
   "outputs": [
    {
     "name": "stdout",
     "output_type": "stream",
     "text": [
      "5\n",
      "4\n",
      "3\n",
      "2\n",
      "1\n"
     ]
    }
   ],
   "source": [
    "num=5\n",
    "while num >=1:\n",
    "  print(num)\n",
    "  num-=1\n"
   ]
  },
  {
   "cell_type": "markdown",
   "id": "uFNollgqadfW",
   "metadata": {
    "id": "uFNollgqadfW"
   },
   "source": [
    "**Q14:** The list `data` is given. Loop through it and print the items until you find the string \"stop\"."
   ]
  },
  {
   "cell_type": "code",
   "execution_count": 28,
   "id": "gC60P9CnadfW",
   "metadata": {
    "colab": {
     "base_uri": "https://localhost:8080/"
    },
    "executionInfo": {
     "elapsed": 9,
     "status": "ok",
     "timestamp": 1757053773278,
     "user": {
      "displayName": "Vaishnavi",
      "userId": "12180571362040260983"
     },
     "user_tz": -330
    },
    "id": "gC60P9CnadfW",
    "outputId": "c658808f-4a81-4c9b-a8f4-05e472892088"
   },
   "outputs": [
    {
     "name": "stdout",
     "output_type": "stream",
     "text": [
      "1\n",
      "5\n",
      "go\n"
     ]
    }
   ],
   "source": [
    "data = [1, 5, \"go\", \"stop\", 3, 4]\n",
    "for item in data:\n",
    "    if item == \"stop\":\n",
    "        break\n",
    "    print(item)\n"
   ]
  },
  {
   "cell_type": "markdown",
   "id": "cD2H7woXadfW",
   "metadata": {
    "id": "cD2H7woXadfW"
   },
   "source": [
    "**Q15:** The dictionary `scores` is given. Loop through it and print the subject if the score is greater than 80."
   ]
  },
  {
   "cell_type": "code",
   "execution_count": 35,
   "id": "67J7omXtadfW",
   "metadata": {
    "colab": {
     "base_uri": "https://localhost:8080/"
    },
    "executionInfo": {
     "elapsed": 12,
     "status": "ok",
     "timestamp": 1757054012695,
     "user": {
      "displayName": "Vaishnavi",
      "userId": "12180571362040260983"
     },
     "user_tz": -330
    },
    "id": "67J7omXtadfW",
    "outputId": "420804e6-6517-428e-e854-1fd9f205c06a"
   },
   "outputs": [
    {
     "name": "stdout",
     "output_type": "stream",
     "text": [
      "Math\n",
      "History\n"
     ]
    }
   ],
   "source": [
    "scores = {\"Math\": 95, \"Science\": 75, \"History\": 85}\n",
    "for subject in scores:\n",
    "  if scores[subject]>=80:\n",
    "    print(subject)\n",
    "\n"
   ]
  },
  {
   "cell_type": "markdown",
   "id": "_GTdxUdbadfW",
   "metadata": {
    "id": "_GTdxUdbadfW"
   },
   "source": [
    "**Q16:** Use a `for` loop and `range()` to create a list of the first 5 multiples of 10 (`[10, 20, 30, 40, 50]`)."
   ]
  },
  {
   "cell_type": "code",
   "execution_count": 31,
   "id": "sbgBccaFadfW",
   "metadata": {
    "colab": {
     "base_uri": "https://localhost:8080/"
    },
    "executionInfo": {
     "elapsed": 10,
     "status": "ok",
     "timestamp": 1757053853378,
     "user": {
      "displayName": "Vaishnavi",
      "userId": "12180571362040260983"
     },
     "user_tz": -330
    },
    "id": "sbgBccaFadfW",
    "outputId": "e10de5e6-9651-42ae-bf40-6c4a95f41678"
   },
   "outputs": [
    {
     "name": "stdout",
     "output_type": "stream",
     "text": [
      "10\n",
      "20\n",
      "30\n",
      "40\n",
      "50\n"
     ]
    }
   ],
   "source": [
    "for i in range(1,6):\n",
    " print(i*10)"
   ]
  },
  {
   "cell_type": "markdown",
   "id": "2mKV9RQjadfW",
   "metadata": {
    "id": "2mKV9RQjadfW"
   },
   "source": [
    "**Q17:** The list `words` is given. Create a new list containing only the words that have 4 or more characters."
   ]
  },
  {
   "cell_type": "code",
   "execution_count": 4,
   "id": "9-XNl37aadfW",
   "metadata": {
    "id": "9-XNl37aadfW"
   },
   "outputs": [
    {
     "data": {
      "text/plain": [
       "['lion', 'python']"
      ]
     },
     "execution_count": 4,
     "metadata": {},
     "output_type": "execute_result"
    }
   ],
   "source": [
    "words = [\"cat\", \"lion\", \"dog\", \"python\"]\n",
    "[i for i in words if len(i)>=4]"
   ]
  },
  {
   "cell_type": "markdown",
   "id": "_grz1kF-adfW",
   "metadata": {
    "id": "_grz1kF-adfW"
   },
   "source": [
    "**Q18:** The nested list `matrix` is given. Use a nested `for` loop to print each number."
   ]
  },
  {
   "cell_type": "code",
   "execution_count": 5,
   "id": "aHLiUT9kadfW",
   "metadata": {
    "id": "aHLiUT9kadfW"
   },
   "outputs": [
    {
     "data": {
      "text/plain": [
       "[1, 2, 3, 4]"
      ]
     },
     "execution_count": 5,
     "metadata": {},
     "output_type": "execute_result"
    }
   ],
   "source": [
    "matrix = [[1, 2], [3, 4]]\n",
    "# Your code here\n",
    "[j for i in matrix for j in i]"
   ]
  },
  {
   "cell_type": "markdown",
   "id": "jeYI0wh7adfd",
   "metadata": {
    "id": "jeYI0wh7adfd"
   },
   "source": [
    "**Q19:** Loop through the numbers from 1 to 10. Use the `continue` keyword to skip printing the multiples of 3."
   ]
  },
  {
   "cell_type": "code",
   "execution_count": 6,
   "id": "k1SXGWqbadfd",
   "metadata": {
    "id": "k1SXGWqbadfd"
   },
   "outputs": [
    {
     "name": "stdout",
     "output_type": "stream",
     "text": [
      "1\n",
      "2\n",
      "4\n",
      "5\n",
      "7\n",
      "8\n",
      "10\n"
     ]
    }
   ],
   "source": [
    "for i in range(11):\n",
    "    if i % 3 == 0:\n",
    "        continue\n",
    "    print(i)"
   ]
  },
  {
   "cell_type": "markdown",
   "id": "yWCjXfl0adfd",
   "metadata": {
    "id": "yWCjXfl0adfd"
   },
   "source": [
    "**Q20:** The list of dictionaries `users` is given. Print the name of each user who is an admin."
   ]
  },
  {
   "cell_type": "code",
   "execution_count": 7,
   "id": "ii5uzaFMadfd",
   "metadata": {
    "id": "ii5uzaFMadfd"
   },
   "outputs": [
    {
     "data": {
      "text/plain": [
       "['Raj']"
      ]
     },
     "execution_count": 7,
     "metadata": {},
     "output_type": "execute_result"
    }
   ],
   "source": [
    "users = [{\"name\": \"Raj\", \"admin\": True}, {\"name\": \"Priya\", \"admin\": False}]\n",
    "# Your code here\n",
    "[i[\"name\"] for i in users if i[\"admin\"]]"
   ]
  },
  {
   "cell_type": "markdown",
   "id": "OoW9ePfnadfd",
   "metadata": {
    "id": "OoW9ePfnadfd"
   },
   "source": [
    "### Part 3: Functions (Named and Lambda)"
   ]
  },
  {
   "cell_type": "markdown",
   "id": "TKzs3Z5Jadfd",
   "metadata": {
    "id": "TKzs3Z5Jadfd"
   },
   "source": [
    "**Q21:** Define a named function `multiply(a, b)` that returns the product of two numbers."
   ]
  },
  {
   "cell_type": "code",
   "execution_count": 8,
   "id": "3eHzx6S_adfd",
   "metadata": {
    "id": "3eHzx6S_adfd"
   },
   "outputs": [
    {
     "data": {
      "text/plain": [
       "6"
      ]
     },
     "execution_count": 8,
     "metadata": {},
     "output_type": "execute_result"
    }
   ],
   "source": [
    "x = lambda a,b : a*b\n",
    "\n",
    "x(2,3)"
   ]
  },
  {
   "cell_type": "markdown",
   "id": "esYeSVVdadfd",
   "metadata": {
    "id": "esYeSVVdadfd"
   },
   "source": [
    "**Q22:** Define a named function `is_adult(age)` that returns `True` if age is 18 or over, and `False` otherwise."
   ]
  },
  {
   "cell_type": "code",
   "execution_count": 12,
   "id": "wNPRQEKdadfd",
   "metadata": {
    "id": "wNPRQEKdadfd"
   },
   "outputs": [
    {
     "data": {
      "text/plain": [
       "False"
      ]
     },
     "execution_count": 12,
     "metadata": {},
     "output_type": "execute_result"
    }
   ],
   "source": [
    "is_adult = lambda age: True if age >=18 else False\n",
    "\n",
    "is_adult(15)"
   ]
  },
  {
   "cell_type": "markdown",
   "id": "omTQlhzeadfd",
   "metadata": {
    "id": "omTQlhzeadfd"
   },
   "source": [
    "**Q23:** Define a function `greet(name, greeting=\"Hello\")` that takes a name and an optional greeting, and returns a formatted string."
   ]
  },
  {
   "cell_type": "code",
   "execution_count": 14,
   "id": "xQgGcrKUadfe",
   "metadata": {
    "id": "xQgGcrKUadfe"
   },
   "outputs": [
    {
     "name": "stdout",
     "output_type": "stream",
     "text": [
      "Hello Rahul\n"
     ]
    }
   ],
   "source": [
    "greet = lambda name,greetings: print(f\"{greetings} {name}\")\n",
    "\n",
    "greet(\"Rahul\", \"Hello\")"
   ]
  },
  {
   "cell_type": "markdown",
   "id": "v532LgQQadfe",
   "metadata": {
    "id": "v532LgQQadfe"
   },
   "source": [
    "**Q24:** Create a lambda function `add_five` that takes a number and returns the number plus 5."
   ]
  },
  {
   "cell_type": "code",
   "execution_count": 15,
   "id": "VdZyD1ACadfe",
   "metadata": {
    "id": "VdZyD1ACadfe"
   },
   "outputs": [
    {
     "data": {
      "text/plain": [
       "10"
      ]
     },
     "execution_count": 15,
     "metadata": {},
     "output_type": "execute_result"
    }
   ],
   "source": [
    "add_five = lambda num : num + 5\n",
    "\n",
    "add_five(5)"
   ]
  },
  {
   "cell_type": "markdown",
   "id": "mO2902P6adfe",
   "metadata": {
    "id": "mO2902P6adfe"
   },
   "source": [
    "**Q25:** The list `numbers` is given. Use `map()` with a lambda function to create a new list where each number is squared."
   ]
  },
  {
   "cell_type": "code",
   "execution_count": 17,
   "id": "IrKKzATMadfe",
   "metadata": {
    "id": "IrKKzATMadfe"
   },
   "outputs": [
    {
     "data": {
      "text/plain": [
       "[1, 4, 9, 16]"
      ]
     },
     "execution_count": 17,
     "metadata": {},
     "output_type": "execute_result"
    }
   ],
   "source": [
    "numbers = [1, 2, 3, 4]\n",
    "# Your code here\n",
    "list(map((lambda x:x*x),numbers))"
   ]
  },
  {
   "cell_type": "markdown",
   "id": "qZ1bvZxOadfe",
   "metadata": {
    "id": "qZ1bvZxOadfe"
   },
   "source": [
    "**Q26:** The list `numbers` is given. Use `filter()` with a lambda to create a new list containing only numbers greater than 10."
   ]
  },
  {
   "cell_type": "code",
   "execution_count": 19,
   "id": "JgNIIY_uadfe",
   "metadata": {
    "id": "JgNIIY_uadfe"
   },
   "outputs": [
    {
     "data": {
      "text/plain": [
       "[12, 15]"
      ]
     },
     "execution_count": 19,
     "metadata": {},
     "output_type": "execute_result"
    }
   ],
   "source": [
    "numbers = [5, 12, 8, 15, 3]\n",
    "# Your code here\n",
    "list(filter((lambda x: x > 10),numbers))"
   ]
  },
  {
   "cell_type": "markdown",
   "id": "k2KWuAcgadfe",
   "metadata": {
    "id": "k2KWuAcgadfe"
   },
   "source": [
    "**Q27:** Define a function `calculate_sum(*args)` that takes a variable number of arguments and returns their sum."
   ]
  },
  {
   "cell_type": "code",
   "execution_count": 22,
   "id": "cLb2uhxIadfe",
   "metadata": {
    "id": "cLb2uhxIadfe"
   },
   "outputs": [
    {
     "data": {
      "text/plain": [
       "21"
      ]
     },
     "execution_count": 22,
     "metadata": {},
     "output_type": "execute_result"
    }
   ],
   "source": [
    "calculate_sum = lambda *args: sum(args)\n",
    "\n",
    "calculate_sum(1,2,3,4,5,6)"
   ]
  },
  {
   "cell_type": "markdown",
   "id": "tk-pAcgsadfe",
   "metadata": {
    "id": "tk-pAcgsadfe"
   },
   "source": [
    "**Q28:** The list `people` is given. Use `sorted()` with a lambda function to sort the list by age (the second element of the tuple)."
   ]
  },
  {
   "cell_type": "code",
   "execution_count": 26,
   "id": "zxRnUIsFadfe",
   "metadata": {
    "id": "zxRnUIsFadfe"
   },
   "outputs": [
    {
     "data": {
      "text/plain": [
       "[('Sonia', 22), ('Amit', 26), ('Raj', 30)]"
      ]
     },
     "execution_count": 26,
     "metadata": {},
     "output_type": "execute_result"
    }
   ],
   "source": [
    "people = [('Raj', 30), ('Sonia', 22), ('Amit', 26)]\n",
    "# Your code here\n",
    "people_sort = sorted(people,key= lambda x:x[1])\n",
    "\n",
    "people_sort"
   ]
  },
  {
   "cell_type": "markdown",
   "id": "g25RSZGladfe",
   "metadata": {
    "id": "g25RSZGladfe"
   },
   "source": [
    "**Q29:** Define a function `display_info(**kwargs)` that takes a variable number of keyword arguments and prints each key-value paiar."
   ]
  },
  {
   "cell_type": "code",
   "execution_count": 30,
   "id": "gTlYpeEVadfe",
   "metadata": {
    "id": "gTlYpeEVadfe"
   },
   "outputs": [
    {
     "data": {
      "text/plain": [
       "[' name: Alice', ' age: 25', ' city: New York']"
      ]
     },
     "execution_count": 30,
     "metadata": {},
     "output_type": "execute_result"
    }
   ],
   "source": [
    "# def display_info(**kwargs):\n",
    "#     for key, value in kwargs.items():\n",
    "#         print(f\"{key}: {value}\")\n",
    "\n",
    "display_info = lambda **kwargs: [f\" {key}: {value}\" for key,value in kwargs.items()]\n",
    "\n",
    "# Example usage\n",
    "display_info(name=\"Alice\", age=25, city=\"New York\")"
   ]
  },
  {
   "cell_type": "markdown",
   "id": "USnq7-wFadff",
   "metadata": {
    "id": "USnq7-wFadff"
   },
   "source": [
    "**Q30:** The list `students` is given. Use a list comprehension to create a list of names of students who have a score above 85."
   ]
  },
  {
   "cell_type": "code",
   "execution_count": 32,
   "id": "2FDb2Fjeadff",
   "metadata": {
    "id": "2FDb2Fjeadff"
   },
   "outputs": [
    {
     "data": {
      "text/plain": [
       "[{'name': 'Raj', 'score': 90}, {'name': 'Amit', 'score': 88}]"
      ]
     },
     "execution_count": 32,
     "metadata": {},
     "output_type": "execute_result"
    }
   ],
   "source": [
    "students = [{'name': 'Raj', 'score': 90}, {'name': 'Priya', 'score': 82}, {'name': 'Amit', 'score': 88}]\n",
    "# Your code here\n",
    "[i for i in students if i[\"score\"] > 85]"
   ]
  },
  {
   "cell_type": "markdown",
   "id": "eic2Rq3iadff",
   "metadata": {
    "id": "eic2Rq3iadff"
   },
   "source": [
    "### Part 4: Introduction to OOP"
   ]
  },
  {
   "cell_type": "markdown",
   "id": "R6HhwQfvadff",
   "metadata": {
    "id": "R6HhwQfvadff"
   },
   "source": [
    "**Q31:** Define a simple class called `Dog` with an `__init__` method that sets a `name` attribute."
   ]
  },
  {
   "cell_type": "code",
   "execution_count": 33,
   "id": "MNNOMd9radff",
   "metadata": {
    "id": "MNNOMd9radff"
   },
   "outputs": [],
   "source": [
    "class Dog():\n",
    "    def __init__(self,name):\n",
    "        self.name = name "
   ]
  },
  {
   "cell_type": "markdown",
   "id": "39aqMW2wadff",
   "metadata": {
    "id": "39aqMW2wadff"
   },
   "source": [
    "**Q32:** In the `Dog` class, add a method `bark()` that prints \"Woof!\""
   ]
  },
  {
   "cell_type": "code",
   "execution_count": 47,
   "id": "c1zSXq60adff",
   "metadata": {
    "id": "c1zSXq60adff"
   },
   "outputs": [],
   "source": [
    "class Dog():\n",
    "    def __init__(self,name):\n",
    "        self.name = name\n",
    "    def bark(self):\n",
    "        print(\"Woof\")\n",
    "    def eat(self):\n",
    "        print(\"Dog also eat\")"
   ]
  },
  {
   "cell_type": "markdown",
   "id": "-LDrcwEEadff",
   "metadata": {
    "id": "-LDrcwEEadff"
   },
   "source": [
    "**Q33:** Create an object of the `Dog` class with the name \"Buddy\" and call its `bark()` method."
   ]
  },
  {
   "cell_type": "code",
   "execution_count": 37,
   "id": "D9DPyEWxadff",
   "metadata": {
    "id": "D9DPyEWxadff"
   },
   "outputs": [
    {
     "name": "stdout",
     "output_type": "stream",
     "text": [
      "Woff\n"
     ]
    }
   ],
   "source": [
    "my_Dog = Dog(name= \"Buddy\")\n",
    "\n",
    "my_Dog.bark()"
   ]
  },
  {
   "cell_type": "markdown",
   "id": "Eq_yUICuadff",
   "metadata": {
    "id": "Eq_yUICuadff"
   },
   "source": [
    "**Q34:** Define a class `Rectangle` with `width` and `height` attributes. Add a method `calculate_area()` that returns the area."
   ]
  },
  {
   "cell_type": "code",
   "execution_count": 38,
   "id": "alAFfQpDadff",
   "metadata": {
    "id": "alAFfQpDadff"
   },
   "outputs": [],
   "source": [
    "class Rectangle():\n",
    "    def __init__(self,width,height):\n",
    "        self.width = width\n",
    "        self.height = height\n",
    "    def calculate_sum(self):\n",
    "        return self.height * self.width"
   ]
  },
  {
   "cell_type": "markdown",
   "id": "GmXGIXqyadff",
   "metadata": {
    "id": "GmXGIXqyadff"
   },
   "source": [
    "**Q35:** Create a `Rectangle` object with width 10 and height 5, and print its area."
   ]
  },
  {
   "cell_type": "code",
   "execution_count": 39,
   "id": "POMmLFJ8adff",
   "metadata": {
    "id": "POMmLFJ8adff"
   },
   "outputs": [
    {
     "data": {
      "text/plain": [
       "50"
      ]
     },
     "execution_count": 39,
     "metadata": {},
     "output_type": "execute_result"
    }
   ],
   "source": [
    "my_rectangle = Rectangle(width=10,height=5)\n",
    "\n",
    "my_rectangle.calculate_sum()"
   ]
  },
  {
   "cell_type": "markdown",
   "id": "WMmb0Abyadff",
   "metadata": {
    "id": "WMmb0Abyadff"
   },
   "source": [
    "**Q36:** Define a class `BankAccount` with a private attribute `__balance`. Add a getter `get_balance()` and a method `deposit(amount)`."
   ]
  },
  {
   "cell_type": "code",
   "execution_count": null,
   "id": "jL8DXdEPadff",
   "metadata": {
    "id": "jL8DXdEPadff"
   },
   "outputs": [
    {
     "name": "stdout",
     "output_type": "stream",
     "text": [
      "1000\n",
      "2000\n"
     ]
    }
   ],
   "source": [
    "class bankAccount():\n",
    "    def __init__(self,balance):\n",
    "        self.__balance = balance\n",
    "    \n",
    "    def get_balance(self):\n",
    "       return self.__balance\n",
    "    \n",
    "    def deposit(self,amount):\n",
    "        self.__balance += amount\n",
    "        \n",
    "\n",
    "my_account = bankAccount(balance=1000)\n",
    "\n",
    "print(my_account.get_balance())\n",
    "\n",
    "my_account.deposit(amount=1000)\n",
    "\n",
    "print(my_account.get_balance())\n",
    "\n",
    "\n",
    "\n"
   ]
  },
  {
   "cell_type": "markdown",
   "id": "v4gM9RuJadfg",
   "metadata": {
    "id": "v4gM9RuJadfg"
   },
   "source": [
    "**Q37:** Create a parent class `Animal` with a method `eat()`. Create a child class `Cat` that inherits from `Animal`."
   ]
  },
  {
   "cell_type": "code",
   "execution_count": 41,
   "id": "0XFKoTLFadfg",
   "metadata": {
    "id": "0XFKoTLFadfg"
   },
   "outputs": [],
   "source": [
    "class Animal():\n",
    "    def eat(self):\n",
    "        pass"
   ]
  },
  {
   "cell_type": "markdown",
   "id": "lHeZKTyxadfg",
   "metadata": {
    "id": "lHeZKTyxadfg"
   },
   "source": [
    "**Q38:** In the `Cat` class, override the `eat()` method to print \"The cat is eating.\""
   ]
  },
  {
   "cell_type": "code",
   "execution_count": 42,
   "id": "TPwxSBONadfg",
   "metadata": {
    "id": "TPwxSBONadfg"
   },
   "outputs": [],
   "source": [
    "class Cat(Animal):\n",
    "    def eat(self):\n",
    "        print(\"The cat is eating\")\n",
    "        "
   ]
  },
  {
   "cell_type": "markdown",
   "id": "gKdnqDEsadfg",
   "metadata": {
    "id": "gKdnqDEsadfg"
   },
   "source": [
    "**Q39:** Create a `Cat` object and a `Dog` object (from Q31). Write a function `feed_animal(animal)` that takes either object and calls its `eat()` method (assuming `Dog` also has an `eat` method)."
   ]
  },
  {
   "cell_type": "code",
   "execution_count": 48,
   "id": "QDSiILjuadfg",
   "metadata": {
    "id": "QDSiILjuadfg"
   },
   "outputs": [
    {
     "name": "stdout",
     "output_type": "stream",
     "text": [
      "The cat is eating\n",
      "Dog also eat\n"
     ]
    }
   ],
   "source": [
    "feed_animal = lambda x: x.eat()\n",
    "\n",
    "feed_animal(Cat())\n",
    "feed_animal(Dog(name=\"Buddy\"))"
   ]
  },
  {
   "cell_type": "markdown",
   "id": "y03fcpMeadfg",
   "metadata": {
    "id": "y03fcpMeadfg"
   },
   "source": [
    "**Q40:** Import `ABC` and `abstractmethod`. Define an abstract class `Vehicle` with an abstract method `start_engine()`."
   ]
  },
  {
   "cell_type": "code",
   "execution_count": 58,
   "id": "2asXOADkadfg",
   "metadata": {
    "id": "2asXOADkadfg"
   },
   "outputs": [],
   "source": [
    "\n",
    "\n",
    "from abc import ABC, abstractmethod\n",
    "class Vehicle(ABC):\n",
    "    @abstractmethod\n",
    "    def start_engine(self):\n",
    "        pass\n",
    "\n"
   ]
  },
  {
   "cell_type": "markdown",
   "id": "xLXjgklRadfg",
   "metadata": {
    "id": "xLXjgklRadfg"
   },
   "source": [
    "### Part 5: Putting It All Together"
   ]
  },
  {
   "cell_type": "markdown",
   "id": "vm7bcnhEadfg",
   "metadata": {
    "id": "vm7bcnhEadfg"
   },
   "source": [
    "**Q41:** Define a function that takes a list of numbers and returns a new list containing only the positive even numbers."
   ]
  },
  {
   "cell_type": "code",
   "execution_count": 2,
   "id": "Vnfxv3X4adfg",
   "metadata": {
    "id": "Vnfxv3X4adfg"
   },
   "outputs": [
    {
     "name": "stdout",
     "output_type": "stream",
     "text": [
      "[22, 8, 14]\n"
     ]
    }
   ],
   "source": [
    "# Define a function that takes a list of numbers and returns a new list containing only the positive even numbers\n",
    "\n",
    "def positive_even_numbers(numbers):\n",
    "    return [num for num in numbers if num > 0 and num % 2 == 0]\n",
    "\n",
    "# Example usage\n",
    "input_list = [-10, 15, 22, -3, 8, 0, -7, 14]\n",
    "output_list = positive_even_numbers(input_list)\n",
    "print(output_list)"
   ]
  },
  {
   "cell_type": "markdown",
   "id": "sVJUSiERadfg",
   "metadata": {
    "id": "sVJUSiERadfg"
   },
   "source": [
    "**Q42:** Define a function that takes a list of strings and returns a dictionary with the count of strings that start with 'a', 'b', and 'c'."
   ]
  },
  {
   "cell_type": "code",
   "execution_count": 4,
   "id": "a9bfb3a9",
   "metadata": {},
   "outputs": [
    {
     "name": "stdout",
     "output_type": "stream",
     "text": [
      "{'a': 3, 'b': 2, 'c': 1}\n"
     ]
    }
   ],
   "source": [
    "# **Q42:** Define a function that takes a list of strings and returns a dictionary with the count of strings that start with 'a', 'b', and 'c'.\n",
    "def count_strings_by_starting_letter(strings):\n",
    "    counts = {'a': 0, 'b': 0, 'c': 0}\n",
    "    for s in strings:\n",
    "        if s.startswith(('a', 'b', 'c')):\n",
    "            counts[s[0]] += 1\n",
    "    return counts\n",
    "\n",
    "# Example usage\n",
    "strings = [\"apple\", \"banana\", \"avocado\", \"cherry\", \"blueberry\", \"date\", \"apricot\"]\n",
    "result = count_strings_by_starting_letter(strings)\n",
    "print(result)"
   ]
  },
  {
   "cell_type": "markdown",
   "id": "65hfRccAadfg",
   "metadata": {
    "id": "65hfRccAadfg"
   },
   "source": [
    "**Q43:** Define a class `Course` with attributes `name` and `students` (a list of names). Add a method `add_student(name)`."
   ]
  },
  {
   "cell_type": "code",
   "execution_count": 6,
   "id": "TgS8-AB6adfg",
   "metadata": {
    "id": "TgS8-AB6adfg"
   },
   "outputs": [],
   "source": [
    "# **Q43:** Define a class `Course` with attributes `name` and `students` (a list of names). Add a method `add_student(name)`.\n",
    "class Course:\n",
    "    def __init__(self, name):\n",
    "        self.name = name\n",
    "        self.students = []\n",
    "    \n",
    "    def add_student(self, name):\n",
    "        self.students.append(name)\n"
   ]
  },
  {
   "cell_type": "markdown",
   "id": "Z5X8J3-_adfh",
   "metadata": {
    "id": "Z5X8J3-_adfh"
   },
   "source": [
    "**Q44:** In the `Course` class, add a method `get_student_count()` that returns the number of students."
   ]
  },
  {
   "cell_type": "code",
   "execution_count": 7,
   "id": "9keE8Unmadfh",
   "metadata": {
    "id": "9keE8Unmadfh"
   },
   "outputs": [],
   "source": [
    "# **Q44:** In the `Course` class, add a method `get_student_count()` that returns the number of students.\n",
    "class Course:\n",
    "    def __init__(self, name):\n",
    "        self.name = name\n",
    "        self.students = []\n",
    "\n",
    "    def add_student(self, name):\n",
    "        self.students.append(name)\n",
    "\n",
    "    def get_student_count(self):\n",
    "        return len(self.students)\n"
   ]
  },
  {
   "cell_type": "markdown",
   "id": "dfAFAXtLadfh",
   "metadata": {
    "id": "dfAFAXtLadfh"
   },
   "source": [
    "**Q45:** The `data` dictionary is given. Access the second element in the `points` list."
   ]
  },
  {
   "cell_type": "code",
   "execution_count": 8,
   "id": "mVdup9P7adfh",
   "metadata": {
    "id": "mVdup9P7adfh"
   },
   "outputs": [
    {
     "name": "stdout",
     "output_type": "stream",
     "text": [
      "20\n"
     ]
    }
   ],
   "source": [
    "data = {\"id\": \"A1\", \"points\": [10, 20, 30]}\n",
    "# Your code here\n",
    "second_element = data[\"points\"][1]\n",
    "print(second_element)"
   ]
  },
  {
   "cell_type": "markdown",
   "id": "g8pP_A3wadfh",
   "metadata": {
    "id": "g8pP_A3wadfh"
   },
   "source": [
    "**Q46:** Define a function that takes a list of dictionaries and returns the name of the person with the highest score."
   ]
  },
  {
   "cell_type": "code",
   "execution_count": 9,
   "id": "m3rWjzNaadfh",
   "metadata": {
    "id": "m3rWjzNaadfh"
   },
   "outputs": [
    {
     "name": "stdout",
     "output_type": "stream",
     "text": [
      "{'name': 'Priya', 'score': 91}\n"
     ]
    }
   ],
   "source": [
    "students = [{'name': 'Raj', 'score': 82}, {'name': 'Priya', 'score': 91}]\n",
    "# Your code here\n",
    "top_student = max(students, key=lambda x: x['score'])\n",
    "print(top_student)"
   ]
  },
  {
   "cell_type": "markdown",
   "id": "KJAtir-Radfh",
   "metadata": {
    "id": "KJAtir-Radfh"
   },
   "source": [
    "**Q47:** Define a function that takes a string and returns a new string with all vowels removed."
   ]
  },
  {
   "cell_type": "code",
   "execution_count": 10,
   "id": "plpdpsodadfh",
   "metadata": {
    "id": "plpdpsodadfh"
   },
   "outputs": [
    {
     "name": "stdout",
     "output_type": "stream",
     "text": [
      "Hll Wrld\n"
     ]
    }
   ],
   "source": [
    "remove_vowels = lambda s: ''.join([char for char in s if char.lower() not in 'aeiou'])\n",
    "print(remove_vowels(\"Hello World\"))"
   ]
  },
  {
   "cell_type": "markdown",
   "id": "gFv5wLG-adfh",
   "metadata": {
    "id": "gFv5wLG-adfh"
   },
   "source": [
    "**Q48:** Define a class `Book` with `title` and `author`. Implement the `__str__` method to return a string like `\"'The Hobbit' by J.R.R. Tolkien\"`."
   ]
  },
  {
   "cell_type": "code",
   "execution_count": 13,
   "id": "_wCYzEAOadfh",
   "metadata": {
    "id": "_wCYzEAOadfh"
   },
   "outputs": [
    {
     "name": "stdout",
     "output_type": "stream",
     "text": [
      "'The Hobbit' by J.R.R. Tolkien\n"
     ]
    }
   ],
   "source": [
    "# **Q48:** Define a class `Book` with `title` and `author`. Implement the `__str__` method to return a string like `\"'The Hobbit' by J.R.R. Tolkien\"`.\n",
    "class Book:\n",
    "    def __init__(self, title, author):\n",
    "        self.title = title\n",
    "        self.author = author\n",
    "\n",
    "    def __str__(self):\n",
    "        return f\"'{self.title}' by {self.author}\"\n",
    "my_book = Book(\"The Hobbit\", \"J.R.R. Tolkien\")\n",
    "print(my_book)"
   ]
  },
  {
   "cell_type": "markdown",
   "id": "JSZK9uxGadfh",
   "metadata": {
    "id": "JSZK9uxGadfh"
   },
   "source": [
    "**Q49:** Create a list comprehension that generates a list of numbers from 1 to 100 that are divisible by both 5 and 7."
   ]
  },
  {
   "cell_type": "code",
   "execution_count": 14,
   "id": "kNZi9X4Badfh",
   "metadata": {
    "id": "kNZi9X4Badfh"
   },
   "outputs": [
    {
     "data": {
      "text/plain": [
       "[0, 35, 70]"
      ]
     },
     "execution_count": 14,
     "metadata": {},
     "output_type": "execute_result"
    }
   ],
   "source": [
    "[i for i in range(101) if i % 5 == 0 and i % 7 == 0]\n"
   ]
  },
  {
   "cell_type": "markdown",
   "id": "V9cJPe0Nadfh",
   "metadata": {
    "id": "V9cJPe0Nadfh"
   },
   "source": [
    "**Q50:** Create a dictionary comprehension from the `words` list, where keys are the words and values are `True` if the word is a palindrome."
   ]
  },
  {
   "cell_type": "code",
   "execution_count": 15,
   "id": "kNPqUFYpadfh",
   "metadata": {
    "id": "kNPqUFYpadfh"
   },
   "outputs": [
    {
     "data": {
      "text/plain": [
       "{'level': True, 'cat': False, 'radar': True, 'dog': False, 'madam': True}"
      ]
     },
     "execution_count": 15,
     "metadata": {},
     "output_type": "execute_result"
    }
   ],
   "source": [
    "words = [\"level\", \"cat\", \"radar\", \"dog\", \"madam\"]\n",
    "# Your code here\n",
    "{i: True if i == i[::-1] else False for i in words}"
   ]
  },
  {
   "cell_type": "code",
   "execution_count": null,
   "id": "e14dc36b",
   "metadata": {},
   "outputs": [],
   "source": []
  }
 ],
 "metadata": {
  "colab": {
   "provenance": []
  },
  "kernelspec": {
   "display_name": "Python 3",
   "language": "python",
   "name": "python3"
  },
  "language_info": {
   "codemirror_mode": {
    "name": "ipython",
    "version": 3
   },
   "file_extension": ".py",
   "mimetype": "text/x-python",
   "name": "python",
   "nbconvert_exporter": "python",
   "pygments_lexer": "ipython3",
   "version": "3.13.5"
  }
 },
 "nbformat": 4,
 "nbformat_minor": 5
}
