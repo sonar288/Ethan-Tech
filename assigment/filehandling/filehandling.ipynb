{
 "cells": [
  {
   "cell_type": "markdown",
   "metadata": {},
   "source": [
    "# Practice Questions: Basic File Handling in Python\n",
    "\n",
    "**Instructions:** Solve the following 15 questions. This is a practical exercise. You will be creating and reading from text files. All your code should be written in the cells of this notebook. The files will be created in the same directory as this notebook."
   ]
  },
  {
   "cell_type": "markdown",
   "metadata": {},
   "source": [
    "### Part 1: Writing to Files"
   ]
  },
  {
   "cell_type": "markdown",
   "metadata": {},
   "source": [
    "**Q1:** Open a file named `greeting.txt` in write mode (`'w'`) and write the string \"Hello, Python!\" into it. **Make sure to close the file afterwards.**"
   ]
  },
  {
   "cell_type": "code",
   "execution_count": 1,
   "metadata": {},
   "outputs": [],
   "source": [
    "with open(\"greeting.txt\",\"w\") as gw:\n",
    "    gw.write(\"Hello, Python!\")\n"
   ]
  },
  {
   "cell_type": "markdown",
   "metadata": {},
   "source": [
    "**Q2:** Use the `with` statement (which is the recommended way) to open a new file named `info.txt` in write mode and write the string \"This is a test file.\" into it."
   ]
  },
  {
   "cell_type": "code",
   "execution_count": 2,
   "metadata": {},
   "outputs": [],
   "source": [
    "with open(\"info.txt\",\"w\") as gw:\n",
    "    gw.write(\"These is a test file\")"
   ]
  },
  {
   "cell_type": "markdown",
   "metadata": {},
   "source": [
    "**Q3:** Create a list of strings called `lines`. Use a `with` statement and a `for` loop to write each string from the list to a file named `lines.txt`, with each string on a new line."
   ]
  },
  {
   "cell_type": "code",
   "execution_count": 3,
   "metadata": {},
   "outputs": [],
   "source": [
    "lines = [\"First line\", \"Second line\", \"Third line\"]\n",
    "# Your code here (Hint: add '\\n' to each line)\n",
    "with open(\"lines.txt\",\"w\") as lw:\n",
    "    for i in lines:\n",
    "        lw.write(i+\"\\n\")\n"
   ]
  },
  {
   "cell_type": "markdown",
   "metadata": {},
   "source": [
    "**Q4:** Open the file `info.txt` (created in Q2) in **append mode** (`'a'`) and add the new line \"This is an appended line.\" to it."
   ]
  },
  {
   "cell_type": "code",
   "execution_count": null,
   "metadata": {},
   "outputs": [],
   "source": [
    "with open(\"info.txt\", \"a\") as ia:\n",
    "    ia.write(\"\\nthis is an appended line\")"
   ]
  },
  {
   "cell_type": "markdown",
   "metadata": {},
   "source": [
    "**Q5:** Create a file named `data.csv`. In the first line, write the header `\"Name,City\"`."
   ]
  },
  {
   "cell_type": "code",
   "execution_count": 8,
   "metadata": {},
   "outputs": [],
   "source": [
    "with open(\"data.csv\", \"w\") as da:\n",
    "    da.write(\"Name , City\")"
   ]
  },
  {
   "cell_type": "markdown",
   "metadata": {},
   "source": [
    "### Part 2: Reading from Files\n",
    "*These questions assume you have successfully run the code in Part 1.*"
   ]
  },
  {
   "cell_type": "markdown",
   "metadata": {},
   "source": [
    "**Q6:** Use a `with` statement to open `greeting.txt` in read mode (`'r'`) and use the `.read()` method to read the entire content. Print the content."
   ]
  },
  {
   "cell_type": "code",
   "execution_count": 10,
   "metadata": {},
   "outputs": [
    {
     "name": "stdout",
     "output_type": "stream",
     "text": [
      "Hello, Python!\n"
     ]
    }
   ],
   "source": [
    "with open(\"greeting.txt\",\"r\")as gr:\n",
    "    print(gr.read())\n"
   ]
  },
  {
   "cell_type": "markdown",
   "metadata": {},
   "source": [
    "**Q7:** Open the `lines.txt` file. Use the `.readlines()` method to read all lines into a list. Print the list."
   ]
  },
  {
   "cell_type": "code",
   "execution_count": 11,
   "metadata": {},
   "outputs": [
    {
     "name": "stdout",
     "output_type": "stream",
     "text": [
      "['First line\\n', 'Second line\\n', 'Third line\\n']\n"
     ]
    }
   ],
   "source": [
    "with open(\"lines.txt\", \"r\") as lr :\n",
    "    print(lr.readlines())"
   ]
  },
  {
   "cell_type": "markdown",
   "metadata": {},
   "source": [
    "**Q8:** Open the `lines.txt` file again. This time, use a `for` loop to read and print each line one by one."
   ]
  },
  {
   "cell_type": "code",
   "execution_count": 16,
   "metadata": {},
   "outputs": [
    {
     "name": "stdout",
     "output_type": "stream",
     "text": [
      "First line\n",
      "\n",
      "Second line\n",
      "\n",
      "Third line\n",
      "\n"
     ]
    }
   ],
   "source": [
    "with open(\"lines.txt\", \"r\") as lr :\n",
    "    for i in lr.readlines():\n",
    "        print(i)"
   ]
  },
  {
   "cell_type": "markdown",
   "metadata": {},
   "source": [
    "**Q9:** Open the `lines.txt` file and use the `.readline()` method to read and print only the first line."
   ]
  },
  {
   "cell_type": "code",
   "execution_count": 18,
   "metadata": {},
   "outputs": [
    {
     "name": "stdout",
     "output_type": "stream",
     "text": [
      "First line\n",
      "\n"
     ]
    }
   ],
   "source": [
    "with open(\"lines.txt\", \"r\") as lr:\n",
    "   print(lr.readline())\n",
    "    "
   ]
  },
  {
   "cell_type": "markdown",
   "metadata": {},
   "source": [
    "**Q10:** Open the `info.txt` file (which you appended to in Q4) and print its full content to see both the original and the appended lines."
   ]
  },
  {
   "cell_type": "code",
   "execution_count": 19,
   "metadata": {},
   "outputs": [
    {
     "name": "stdout",
     "output_type": "stream",
     "text": [
      "These is a test filethis is an appended line\n",
      " this is an appended line\n"
     ]
    }
   ],
   "source": [
    "with open(\"info.txt\",\"r\") as r:\n",
    "    print(r.read())"
   ]
  },
  {
   "cell_type": "markdown",
   "metadata": {},
   "source": [
    "### Part 3: Combined Operations"
   ]
  },
  {
   "cell_type": "markdown",
   "metadata": {},
   "source": [
    "**Q11:** Create a file named `numbers.txt`. Write the numbers 1, 2, and 3 into the file, each on a new line."
   ]
  },
  {
   "cell_type": "code",
   "execution_count": 24,
   "metadata": {},
   "outputs": [],
   "source": [
    "with open(\"numbers.txt\", \"w\") as num:\n",
    "    for i in range(1,4):\n",
    "        num.write(f\"{i}\"+\"\\n\")\n",
    "       \n"
   ]
  },
  {
   "cell_type": "markdown",
   "metadata": {},
   "source": [
    "**Q12:** Read the `numbers.txt` file. For each line, convert the number to an integer and add it to a running total. Print the final sum."
   ]
  },
  {
   "cell_type": "code",
   "execution_count": 28,
   "metadata": {},
   "outputs": [
    {
     "name": "stdout",
     "output_type": "stream",
     "text": [
      "6\n"
     ]
    }
   ],
   "source": [
    "total = 0\n",
    "with open(\"numbers.txt\", \"r\") as num:\n",
    "    for i in num:\n",
    "        total+= int(i.strip())\n",
    "print(total)"
   ]
  },
  {
   "cell_type": "markdown",
   "metadata": {},
   "source": [
    "**Q13:** The list `students` is given. Write each student's name to a file named `students.txt`, with each name on a new line."
   ]
  },
  {
   "cell_type": "code",
   "execution_count": 34,
   "metadata": {},
   "outputs": [],
   "source": [
    "students = [\"Raj\", \"Priya\", \"Amit\"]\n",
    "# Your code here\n",
    "with open(\"student.txt\", \"w\") as stu:\n",
    "    for i in students:\n",
    "        stu.write(i+\"\\n\")"
   ]
  },
  {
   "cell_type": "markdown",
   "metadata": {},
   "source": [
    "**Q14:** Open the `students.txt` file and count how many lines (i.e., how many students) are in it. Print the count."
   ]
  },
  {
   "cell_type": "code",
   "execution_count": 37,
   "metadata": {},
   "outputs": [
    {
     "name": "stdout",
     "output_type": "stream",
     "text": [
      "3\n"
     ]
    }
   ],
   "source": [
    "with open(\"student.txt\",\"r\")as stu:\n",
    "\n",
    "    print(len(stu.readlines()))"
   ]
  },
  {
   "cell_type": "markdown",
   "metadata": {},
   "source": [
    "**Q15:** Import the `os` module. Use `os.path.exists()` to check if the file `greeting.txt` exists and print the result (`True` or `False`)."
   ]
  },
  {
   "cell_type": "code",
   "execution_count": 38,
   "metadata": {},
   "outputs": [],
   "source": [
    "import os as os"
   ]
  },
  {
   "cell_type": "code",
   "execution_count": 40,
   "id": "d9a27e5b",
   "metadata": {},
   "outputs": [
    {
     "data": {
      "text/plain": [
       "True"
      ]
     },
     "execution_count": 40,
     "metadata": {},
     "output_type": "execute_result"
    }
   ],
   "source": [
    "os.path.exists(\"greeting.txt\")"
   ]
  },
  {
   "cell_type": "code",
   "execution_count": null,
   "id": "eaac98a9",
   "metadata": {},
   "outputs": [],
   "source": []
  }
 ],
 "metadata": {
  "kernelspec": {
   "display_name": "Python 3",
   "language": "python",
   "name": "python3"
  },
  "language_info": {
   "codemirror_mode": {
    "name": "ipython",
    "version": 3
   },
   "file_extension": ".py",
   "mimetype": "text/x-python",
   "name": "python",
   "nbconvert_exporter": "python",
   "pygments_lexer": "ipython3",
   "version": "3.13.5"
  }
 },
 "nbformat": 4,
 "nbformat_minor": 5
}
